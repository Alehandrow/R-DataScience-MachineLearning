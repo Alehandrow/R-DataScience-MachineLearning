{
 "cells": [
  {
   "cell_type": "markdown",
   "metadata": {},
   "source": [
    "# Data Frames mergen\n",
    "\n",
    "Lasst uns als nächstes lernen, wie wir Data Frames zusammenführen (en. merge) können."
   ]
  },
  {
   "cell_type": "code",
   "execution_count": 1,
   "metadata": {
    "collapsed": true
   },
   "outputs": [],
   "source": [
    "## Wir nutzen Zeichen, um eine sortierbare Datenbasis zu haben\n",
    "autoren <- data.frame(\n",
    "    nachname = I(c(\"Tukey\", \"Venables\", \"Tierney\", \"Ripley\", \"McNeil\")),\n",
    "    nation = c(\"US\", \"Australien\", \"US\", \"UK\", \"Australien\"),\n",
    "    verstorben = c(\"ja\", rep(\"nein\", 4)))"
   ]
  },
  {
   "cell_type": "code",
   "execution_count": 2,
   "metadata": {
    "collapsed": true
   },
   "outputs": [],
   "source": [
    "buecher <- data.frame(\n",
    "    name = I(c(\"Tukey\", \"Venables\", \"Tierney\",\n",
    "             \"Ripley\", \"Ripley\", \"McNeil\", \"R Core\")),\n",
    "    titel = c(\"Exploratory Data Analysis\",\n",
    "              \"Modern Applied Statistics ...\",\n",
    "              \"LISP-STAT\",\n",
    "              \"Spatial Statistics\", \"Stochastic Simulation\",\n",
    "              \"Interactive Data Analysis\",\n",
    "              \"An Introduction to R\"),\n",
    "    weiterer.autor = c(NA, \"Ripley\", NA, NA, NA, NA,\n",
    "                     \"Venables & Smith\"))"
   ]
  },
  {
   "cell_type": "code",
   "execution_count": 3,
   "metadata": {},
   "outputs": [
    {
     "data": {
      "text/html": [
       "<table>\n",
       "<thead><tr><th scope=col>nachname</th><th scope=col>nation</th><th scope=col>verstorben</th></tr></thead>\n",
       "<tbody>\n",
       "\t<tr><td>Tukey     </td><td>US        </td><td>ja        </td></tr>\n",
       "\t<tr><td>Venables  </td><td>Australien</td><td>nein      </td></tr>\n",
       "\t<tr><td>Tierney   </td><td>US        </td><td>nein      </td></tr>\n",
       "\t<tr><td>Ripley    </td><td>UK        </td><td>nein      </td></tr>\n",
       "\t<tr><td>McNeil    </td><td>Australien</td><td>nein      </td></tr>\n",
       "</tbody>\n",
       "</table>\n"
      ],
      "text/latex": [
       "\\begin{tabular}{r|lll}\n",
       " nachname & nation & verstorben\\\\\n",
       "\\hline\n",
       "\t Tukey      & US         & ja        \\\\\n",
       "\t Venables   & Australien & nein      \\\\\n",
       "\t Tierney    & US         & nein      \\\\\n",
       "\t Ripley     & UK         & nein      \\\\\n",
       "\t McNeil     & Australien & nein      \\\\\n",
       "\\end{tabular}\n"
      ],
      "text/markdown": [
       "\n",
       "nachname | nation | verstorben | \n",
       "|---|---|---|---|---|\n",
       "| Tukey      | US         | ja         | \n",
       "| Venables   | Australien | nein       | \n",
       "| Tierney    | US         | nein       | \n",
       "| Ripley     | UK         | nein       | \n",
       "| McNeil     | Australien | nein       | \n",
       "\n",
       "\n"
      ],
      "text/plain": [
       "  nachname nation     verstorben\n",
       "1 Tukey    US         ja        \n",
       "2 Venables Australien nein      \n",
       "3 Tierney  US         nein      \n",
       "4 Ripley   UK         nein      \n",
       "5 McNeil   Australien nein      "
      ]
     },
     "metadata": {},
     "output_type": "display_data"
    }
   ],
   "source": [
    "autoren"
   ]
  },
  {
   "cell_type": "code",
   "execution_count": 4,
   "metadata": {},
   "outputs": [
    {
     "data": {
      "text/html": [
       "<table>\n",
       "<thead><tr><th scope=col>name</th><th scope=col>titel</th><th scope=col>weiterer.autor</th></tr></thead>\n",
       "<tbody>\n",
       "\t<tr><td>Tukey                        </td><td>Exploratory Data Analysis    </td><td>NA                           </td></tr>\n",
       "\t<tr><td>Venables                     </td><td>Modern Applied Statistics ...</td><td>Ripley                       </td></tr>\n",
       "\t<tr><td>Tierney                      </td><td>LISP-STAT                    </td><td>NA                           </td></tr>\n",
       "\t<tr><td>Ripley                       </td><td>Spatial Statistics           </td><td>NA                           </td></tr>\n",
       "\t<tr><td>Ripley                       </td><td>Stochastic Simulation        </td><td>NA                           </td></tr>\n",
       "\t<tr><td>McNeil                       </td><td>Interactive Data Analysis    </td><td>NA                           </td></tr>\n",
       "\t<tr><td><span style=white-space:pre-wrap>R Core  </span>                     </td><td><span style=white-space:pre-wrap>An Introduction to R         </span></td><td>Venables &amp; Smith                                                 </td></tr>\n",
       "</tbody>\n",
       "</table>\n"
      ],
      "text/latex": [
       "\\begin{tabular}{r|lll}\n",
       " name & titel & weiterer.autor\\\\\n",
       "\\hline\n",
       "\t Tukey                         & Exploratory Data Analysis     & NA                           \\\\\n",
       "\t Venables                      & Modern Applied Statistics ... & Ripley                       \\\\\n",
       "\t Tierney                       & LISP-STAT                     & NA                           \\\\\n",
       "\t Ripley                        & Spatial Statistics            & NA                           \\\\\n",
       "\t Ripley                        & Stochastic Simulation         & NA                           \\\\\n",
       "\t McNeil                        & Interactive Data Analysis     & NA                           \\\\\n",
       "\t R Core                        & An Introduction to R          & Venables \\& Smith           \\\\\n",
       "\\end{tabular}\n"
      ],
      "text/markdown": [
       "\n",
       "name | titel | weiterer.autor | \n",
       "|---|---|---|---|---|---|---|\n",
       "| Tukey                         | Exploratory Data Analysis     | NA                            | \n",
       "| Venables                      | Modern Applied Statistics ... | Ripley                        | \n",
       "| Tierney                       | LISP-STAT                     | NA                            | \n",
       "| Ripley                        | Spatial Statistics            | NA                            | \n",
       "| Ripley                        | Stochastic Simulation         | NA                            | \n",
       "| McNeil                        | Interactive Data Analysis     | NA                            | \n",
       "| R Core                        | An Introduction to R          | Venables & Smith              | \n",
       "\n",
       "\n"
      ],
      "text/plain": [
       "  name     titel                         weiterer.autor  \n",
       "1 Tukey    Exploratory Data Analysis     NA              \n",
       "2 Venables Modern Applied Statistics ... Ripley          \n",
       "3 Tierney  LISP-STAT                     NA              \n",
       "4 Ripley   Spatial Statistics            NA              \n",
       "5 Ripley   Stochastic Simulation         NA              \n",
       "6 McNeil   Interactive Data Analysis     NA              \n",
       "7 R Core   An Introduction to R          Venables & Smith"
      ]
     },
     "metadata": {},
     "output_type": "display_data"
    }
   ],
   "source": [
    "buecher"
   ]
  },
  {
   "cell_type": "code",
   "execution_count": 5,
   "metadata": {},
   "outputs": [
    {
     "data": {
      "text/html": [
       "<table>\n",
       "<thead><tr><th scope=col>nachname</th><th scope=col>nation</th><th scope=col>verstorben</th><th scope=col>titel</th><th scope=col>weiterer.autor</th></tr></thead>\n",
       "<tbody>\n",
       "\t<tr><td>McNeil                       </td><td>Australien                   </td><td>nein                         </td><td>Interactive Data Analysis    </td><td>NA                           </td></tr>\n",
       "\t<tr><td>Ripley                       </td><td>UK                           </td><td>nein                         </td><td>Spatial Statistics           </td><td>NA                           </td></tr>\n",
       "\t<tr><td>Ripley                       </td><td>UK                           </td><td>nein                         </td><td>Stochastic Simulation        </td><td>NA                           </td></tr>\n",
       "\t<tr><td>Tierney                      </td><td>US                           </td><td>nein                         </td><td>LISP-STAT                    </td><td>NA                           </td></tr>\n",
       "\t<tr><td>Tukey                        </td><td>US                           </td><td>ja                           </td><td>Exploratory Data Analysis    </td><td>NA                           </td></tr>\n",
       "\t<tr><td>Venables                     </td><td>Australien                   </td><td>nein                         </td><td>Modern Applied Statistics ...</td><td>Ripley                       </td></tr>\n",
       "</tbody>\n",
       "</table>\n"
      ],
      "text/latex": [
       "\\begin{tabular}{r|lllll}\n",
       " nachname & nation & verstorben & titel & weiterer.autor\\\\\n",
       "\\hline\n",
       "\t McNeil                        & Australien                    & nein                          & Interactive Data Analysis     & NA                           \\\\\n",
       "\t Ripley                        & UK                            & nein                          & Spatial Statistics            & NA                           \\\\\n",
       "\t Ripley                        & UK                            & nein                          & Stochastic Simulation         & NA                           \\\\\n",
       "\t Tierney                       & US                            & nein                          & LISP-STAT                     & NA                           \\\\\n",
       "\t Tukey                         & US                            & ja                            & Exploratory Data Analysis     & NA                           \\\\\n",
       "\t Venables                      & Australien                    & nein                          & Modern Applied Statistics ... & Ripley                       \\\\\n",
       "\\end{tabular}\n"
      ],
      "text/markdown": [
       "\n",
       "nachname | nation | verstorben | titel | weiterer.autor | \n",
       "|---|---|---|---|---|---|\n",
       "| McNeil                        | Australien                    | nein                          | Interactive Data Analysis     | NA                            | \n",
       "| Ripley                        | UK                            | nein                          | Spatial Statistics            | NA                            | \n",
       "| Ripley                        | UK                            | nein                          | Stochastic Simulation         | NA                            | \n",
       "| Tierney                       | US                            | nein                          | LISP-STAT                     | NA                            | \n",
       "| Tukey                         | US                            | ja                            | Exploratory Data Analysis     | NA                            | \n",
       "| Venables                      | Australien                    | nein                          | Modern Applied Statistics ... | Ripley                        | \n",
       "\n",
       "\n"
      ],
      "text/plain": [
       "  nachname nation     verstorben titel                         weiterer.autor\n",
       "1 McNeil   Australien nein       Interactive Data Analysis     NA            \n",
       "2 Ripley   UK         nein       Spatial Statistics            NA            \n",
       "3 Ripley   UK         nein       Stochastic Simulation         NA            \n",
       "4 Tierney  US         nein       LISP-STAT                     NA            \n",
       "5 Tukey    US         ja         Exploratory Data Analysis     NA            \n",
       "6 Venables Australien nein       Modern Applied Statistics ... Ripley        "
      ]
     },
     "metadata": {},
     "output_type": "display_data"
    }
   ],
   "source": [
    "(m1 <- merge(autoren, buecher, by.x = \"nachname\", by.y = \"name\"))"
   ]
  },
  {
   "cell_type": "code",
   "execution_count": 6,
   "metadata": {},
   "outputs": [
    {
     "data": {
      "text/html": [
       "<table>\n",
       "<thead><tr><th scope=col>name</th><th scope=col>titel</th><th scope=col>weiterer.autor</th><th scope=col>nation</th><th scope=col>verstorben</th></tr></thead>\n",
       "<tbody>\n",
       "\t<tr><td>McNeil                       </td><td>Interactive Data Analysis    </td><td>NA                           </td><td>Australien                   </td><td>nein                         </td></tr>\n",
       "\t<tr><td>Ripley                       </td><td>Spatial Statistics           </td><td>NA                           </td><td>UK                           </td><td>nein                         </td></tr>\n",
       "\t<tr><td>Ripley                       </td><td>Stochastic Simulation        </td><td>NA                           </td><td>UK                           </td><td>nein                         </td></tr>\n",
       "\t<tr><td>Tierney                      </td><td>LISP-STAT                    </td><td>NA                           </td><td>US                           </td><td>nein                         </td></tr>\n",
       "\t<tr><td>Tukey                        </td><td>Exploratory Data Analysis    </td><td>NA                           </td><td>US                           </td><td>ja                           </td></tr>\n",
       "\t<tr><td>Venables                     </td><td>Modern Applied Statistics ...</td><td>Ripley                       </td><td>Australien                   </td><td>nein                         </td></tr>\n",
       "</tbody>\n",
       "</table>\n"
      ],
      "text/latex": [
       "\\begin{tabular}{r|lllll}\n",
       " name & titel & weiterer.autor & nation & verstorben\\\\\n",
       "\\hline\n",
       "\t McNeil                        & Interactive Data Analysis     & NA                            & Australien                    & nein                         \\\\\n",
       "\t Ripley                        & Spatial Statistics            & NA                            & UK                            & nein                         \\\\\n",
       "\t Ripley                        & Stochastic Simulation         & NA                            & UK                            & nein                         \\\\\n",
       "\t Tierney                       & LISP-STAT                     & NA                            & US                            & nein                         \\\\\n",
       "\t Tukey                         & Exploratory Data Analysis     & NA                            & US                            & ja                           \\\\\n",
       "\t Venables                      & Modern Applied Statistics ... & Ripley                        & Australien                    & nein                         \\\\\n",
       "\\end{tabular}\n"
      ],
      "text/markdown": [
       "\n",
       "name | titel | weiterer.autor | nation | verstorben | \n",
       "|---|---|---|---|---|---|\n",
       "| McNeil                        | Interactive Data Analysis     | NA                            | Australien                    | nein                          | \n",
       "| Ripley                        | Spatial Statistics            | NA                            | UK                            | nein                          | \n",
       "| Ripley                        | Stochastic Simulation         | NA                            | UK                            | nein                          | \n",
       "| Tierney                       | LISP-STAT                     | NA                            | US                            | nein                          | \n",
       "| Tukey                         | Exploratory Data Analysis     | NA                            | US                            | ja                            | \n",
       "| Venables                      | Modern Applied Statistics ... | Ripley                        | Australien                    | nein                          | \n",
       "\n",
       "\n"
      ],
      "text/plain": [
       "  name     titel                         weiterer.autor nation     verstorben\n",
       "1 McNeil   Interactive Data Analysis     NA             Australien nein      \n",
       "2 Ripley   Spatial Statistics            NA             UK         nein      \n",
       "3 Ripley   Stochastic Simulation         NA             UK         nein      \n",
       "4 Tierney  LISP-STAT                     NA             US         nein      \n",
       "5 Tukey    Exploratory Data Analysis     NA             US         ja        \n",
       "6 Venables Modern Applied Statistics ... Ripley         Australien nein      "
      ]
     },
     "metadata": {},
     "output_type": "display_data"
    },
    {
     "data": {
      "text/html": [
       "<table>\n",
       "<thead><tr><th scope=col>nachname</th><th scope=col>nation</th><th scope=col>verstorben</th><th scope=col>titel</th><th scope=col>weiterer.autor</th></tr></thead>\n",
       "<tbody>\n",
       "\t<tr><td>McNeil                       </td><td>Australien                   </td><td>nein                         </td><td>Interactive Data Analysis    </td><td>NA                           </td></tr>\n",
       "\t<tr><td><span style=white-space:pre-wrap>R Core  </span>                     </td><td><span style=white-space:pre-wrap>NA        </span>                   </td><td><span style=white-space:pre-wrap>NA  </span>                         </td><td><span style=white-space:pre-wrap>An Introduction to R         </span></td><td>Venables &amp; Smith                                                 </td></tr>\n",
       "\t<tr><td>Ripley                       </td><td>UK                           </td><td>nein                         </td><td>Spatial Statistics           </td><td>NA                           </td></tr>\n",
       "\t<tr><td>Ripley                       </td><td>UK                           </td><td>nein                         </td><td>Stochastic Simulation        </td><td>NA                           </td></tr>\n",
       "\t<tr><td>Tierney                      </td><td>US                           </td><td>nein                         </td><td>LISP-STAT                    </td><td>NA                           </td></tr>\n",
       "\t<tr><td>Tukey                        </td><td>US                           </td><td>ja                           </td><td>Exploratory Data Analysis    </td><td>NA                           </td></tr>\n",
       "\t<tr><td>Venables                     </td><td>Australien                   </td><td>nein                         </td><td>Modern Applied Statistics ...</td><td>Ripley                       </td></tr>\n",
       "</tbody>\n",
       "</table>\n"
      ],
      "text/latex": [
       "\\begin{tabular}{r|lllll}\n",
       " nachname & nation & verstorben & titel & weiterer.autor\\\\\n",
       "\\hline\n",
       "\t McNeil                        & Australien                    & nein                          & Interactive Data Analysis     & NA                           \\\\\n",
       "\t R Core                        & NA                            & NA                            & An Introduction to R          & Venables \\& Smith           \\\\\n",
       "\t Ripley                        & UK                            & nein                          & Spatial Statistics            & NA                           \\\\\n",
       "\t Ripley                        & UK                            & nein                          & Stochastic Simulation         & NA                           \\\\\n",
       "\t Tierney                       & US                            & nein                          & LISP-STAT                     & NA                           \\\\\n",
       "\t Tukey                         & US                            & ja                            & Exploratory Data Analysis     & NA                           \\\\\n",
       "\t Venables                      & Australien                    & nein                          & Modern Applied Statistics ... & Ripley                       \\\\\n",
       "\\end{tabular}\n"
      ],
      "text/markdown": [
       "\n",
       "nachname | nation | verstorben | titel | weiterer.autor | \n",
       "|---|---|---|---|---|---|---|\n",
       "| McNeil                        | Australien                    | nein                          | Interactive Data Analysis     | NA                            | \n",
       "| R Core                        | NA                            | NA                            | An Introduction to R          | Venables & Smith              | \n",
       "| Ripley                        | UK                            | nein                          | Spatial Statistics            | NA                            | \n",
       "| Ripley                        | UK                            | nein                          | Stochastic Simulation         | NA                            | \n",
       "| Tierney                       | US                            | nein                          | LISP-STAT                     | NA                            | \n",
       "| Tukey                         | US                            | ja                            | Exploratory Data Analysis     | NA                            | \n",
       "| Venables                      | Australien                    | nein                          | Modern Applied Statistics ... | Ripley                        | \n",
       "\n",
       "\n"
      ],
      "text/plain": [
       "  nachname nation     verstorben titel                         weiterer.autor  \n",
       "1 McNeil   Australien nein       Interactive Data Analysis     NA              \n",
       "2 R Core   NA         NA         An Introduction to R          Venables & Smith\n",
       "3 Ripley   UK         nein       Spatial Statistics            NA              \n",
       "4 Ripley   UK         nein       Stochastic Simulation         NA              \n",
       "5 Tierney  US         nein       LISP-STAT                     NA              \n",
       "6 Tukey    US         ja         Exploratory Data Analysis     NA              \n",
       "7 Venables Australien nein       Modern Applied Statistics ... Ripley          "
      ]
     },
     "metadata": {},
     "output_type": "display_data"
    },
    {
     "data": {
      "text/html": [
       "<table>\n",
       "<thead><tr><th scope=col>k1</th><th scope=col>k2</th><th scope=col>data.x</th><th scope=col>data.y</th></tr></thead>\n",
       "<tbody>\n",
       "\t<tr><td> 4</td><td> 4</td><td>4 </td><td>4 </td></tr>\n",
       "\t<tr><td> 5</td><td> 5</td><td>5 </td><td>5 </td></tr>\n",
       "\t<tr><td>NA</td><td>NA</td><td>2 </td><td>1 </td></tr>\n",
       "</tbody>\n",
       "</table>\n"
      ],
      "text/latex": [
       "\\begin{tabular}{r|llll}\n",
       " k1 & k2 & data.x & data.y\\\\\n",
       "\\hline\n",
       "\t  4 &  4 & 4  & 4 \\\\\n",
       "\t  5 &  5 & 5  & 5 \\\\\n",
       "\t NA & NA & 2  & 1 \\\\\n",
       "\\end{tabular}\n"
      ],
      "text/markdown": [
       "\n",
       "k1 | k2 | data.x | data.y | \n",
       "|---|---|---|\n",
       "|  4 |  4 | 4  | 4  | \n",
       "|  5 |  5 | 5  | 5  | \n",
       "| NA | NA | 2  | 1  | \n",
       "\n",
       "\n"
      ],
      "text/plain": [
       "  k1 k2 data.x data.y\n",
       "1  4  4 4      4     \n",
       "2  5  5 5      5     \n",
       "3 NA NA 2      1     "
      ]
     },
     "metadata": {},
     "output_type": "display_data"
    },
    {
     "data": {
      "text/html": [
       "<table>\n",
       "<thead><tr><th scope=col>k1</th><th scope=col>k2.x</th><th scope=col>data.x</th><th scope=col>k2.y</th><th scope=col>data.y</th></tr></thead>\n",
       "<tbody>\n",
       "\t<tr><td> 4</td><td> 4</td><td>4 </td><td> 4</td><td>4 </td></tr>\n",
       "\t<tr><td> 5</td><td> 5</td><td>5 </td><td> 5</td><td>5 </td></tr>\n",
       "\t<tr><td>NA</td><td> 1</td><td>1 </td><td>NA</td><td>1 </td></tr>\n",
       "\t<tr><td>NA</td><td> 1</td><td>1 </td><td> 3</td><td>3 </td></tr>\n",
       "\t<tr><td>NA</td><td>NA</td><td>2 </td><td>NA</td><td>1 </td></tr>\n",
       "\t<tr><td>NA</td><td>NA</td><td>2 </td><td> 3</td><td>3 </td></tr>\n",
       "</tbody>\n",
       "</table>\n"
      ],
      "text/latex": [
       "\\begin{tabular}{r|lllll}\n",
       " k1 & k2.x & data.x & k2.y & data.y\\\\\n",
       "\\hline\n",
       "\t  4 &  4 & 4  &  4 & 4 \\\\\n",
       "\t  5 &  5 & 5  &  5 & 5 \\\\\n",
       "\t NA &  1 & 1  & NA & 1 \\\\\n",
       "\t NA &  1 & 1  &  3 & 3 \\\\\n",
       "\t NA & NA & 2  & NA & 1 \\\\\n",
       "\t NA & NA & 2  &  3 & 3 \\\\\n",
       "\\end{tabular}\n"
      ],
      "text/markdown": [
       "\n",
       "k1 | k2.x | data.x | k2.y | data.y | \n",
       "|---|---|---|---|---|---|\n",
       "|  4 |  4 | 4  |  4 | 4  | \n",
       "|  5 |  5 | 5  |  5 | 5  | \n",
       "| NA |  1 | 1  | NA | 1  | \n",
       "| NA |  1 | 1  |  3 | 3  | \n",
       "| NA | NA | 2  | NA | 1  | \n",
       "| NA | NA | 2  |  3 | 3  | \n",
       "\n",
       "\n"
      ],
      "text/plain": [
       "  k1 k2.x data.x k2.y data.y\n",
       "1  4  4   4       4   4     \n",
       "2  5  5   5       5   5     \n",
       "3 NA  1   1      NA   1     \n",
       "4 NA  1   1       3   3     \n",
       "5 NA NA   2      NA   1     \n",
       "6 NA NA   2       3   3     "
      ]
     },
     "metadata": {},
     "output_type": "display_data"
    },
    {
     "data": {
      "text/html": [
       "<table>\n",
       "<thead><tr><th scope=col>k2</th><th scope=col>k1.x</th><th scope=col>data.x</th><th scope=col>k1.y</th><th scope=col>data.y</th></tr></thead>\n",
       "<tbody>\n",
       "\t<tr><td>4</td><td>4</td><td>4</td><td>4</td><td>4</td></tr>\n",
       "\t<tr><td>5</td><td>5</td><td>5</td><td>5</td><td>5</td></tr>\n",
       "</tbody>\n",
       "</table>\n"
      ],
      "text/latex": [
       "\\begin{tabular}{r|lllll}\n",
       " k2 & k1.x & data.x & k1.y & data.y\\\\\n",
       "\\hline\n",
       "\t 4 & 4 & 4 & 4 & 4\\\\\n",
       "\t 5 & 5 & 5 & 5 & 5\\\\\n",
       "\\end{tabular}\n"
      ],
      "text/markdown": [
       "\n",
       "k2 | k1.x | data.x | k1.y | data.y | \n",
       "|---|---|\n",
       "| 4 | 4 | 4 | 4 | 4 | \n",
       "| 5 | 5 | 5 | 5 | 5 | \n",
       "\n",
       "\n"
      ],
      "text/plain": [
       "  k2 k1.x data.x k1.y data.y\n",
       "1 4  4    4      4    4     \n",
       "2 5  5    5      5    5     "
      ]
     },
     "metadata": {},
     "output_type": "display_data"
    }
   ],
   "source": [
    "(m2 <- merge(buecher, autoren, by.x = \"name\", by.y = \"nachname\"))\n",
    "stopifnot(as.character(m1[, 1]) == as.character(m2[, 1]),\n",
    "          all.equal(m1[, -1], m2[, -1][ names(m1)[-1] ]),\n",
    "          dim(merge(m1, m2, by = integer(0))) == c(36, 10))\n",
    "\n",
    "## \"R core\" fehlt bei den Autoren:\n",
    "merge(autoren, buecher, by.x = \"nachname\", by.y = \"name\", all = TRUE)\n",
    "\n",
    "## Beispiel für die Verwendung von 'incomparables'\n",
    "x <- data.frame(k1 = c(NA,NA,3,4,5), k2 = c(1,NA,NA,4,5), data = 1:5)\n",
    "y <- data.frame(k1 = c(NA,2,NA,4,5), k2 = c(NA,NA,3,4,5), data = 1:5)\n",
    "merge(x, y, by = c(\"k1\",\"k2\")) # NA's Übereinstimmung\n",
    "merge(x, y, by = \"k1\") # NA's Übereinstimmung, also 6 Zeilen\n",
    "merge(x, y, by = \"k2\", incomparables = NA) # 2 Zeilen"
   ]
  }
 ],
 "metadata": {
  "kernelspec": {
   "display_name": "R",
   "language": "R",
   "name": "ir"
  },
  "language_info": {
   "codemirror_mode": "r",
   "file_extension": ".r",
   "mimetype": "text/x-r-source",
   "name": "R",
   "pygments_lexer": "r",
   "version": "3.4.2"
  }
 },
 "nbformat": 4,
 "nbformat_minor": 1
}
