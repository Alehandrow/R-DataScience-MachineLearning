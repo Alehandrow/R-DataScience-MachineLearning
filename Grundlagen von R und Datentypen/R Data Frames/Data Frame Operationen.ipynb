{
 "cells": [
  {
   "cell_type": "markdown",
   "metadata": {},
   "source": [
    "# Data Frame Operationen\n",
    "\n",
    "Data Frames sind die Arbeitstiere von R, deshalb erstellen wir uns in dieser Lektion eine Art \"Cheatsheet\" der üblichsten Operationen. Dadurch wird diese Lektion extrem nützlich sein und uns im weiteren Verlauf des Kurses extrem viel Zeit sparen, da wir Data Frames bereits kennen und auf unser Cheatsheet zurückgreifen können. \n",
    "\n",
    "Wir werden uns eine Übersicht der folgenden typischen Operationen verschaffen:\n",
    "\n",
    "* Data Frames erstellen\n",
    "* Importieren und Exportieren von Daten\n",
    "* Informationen über die Data Frames erhalten\n",
    "* Bezug auf Zellen nehmen\n",
    "* Bezug auf Zeilen nehmen\n",
    "* Bezug auf Spalten nehmen\n",
    "* Zeilen hinzufügen\n",
    "* Spalten hinzufügen\n",
    "* Spaltennamen definieren\n",
    "* Merhere Zeilen auswählen\n",
    "* Mehrere Spalten auswählen\n",
    "* Mit fehlenden Werten umzugehen"
   ]
  },
  {
   "cell_type": "markdown",
   "metadata": {},
   "source": [
    "# Data Frames erstellen"
   ]
  },
  {
   "cell_type": "code",
   "execution_count": 1,
   "metadata": {
    "collapsed": true
   },
   "outputs": [],
   "source": [
    "leer <- data.frame() # Leerer Data Frame\n",
    "\n",
    "c1 <- 1:10 # Vektor von Zahlen\n",
    "\n",
    "c2 <- letters[1:10] # Verktor von Zeichen\n",
    "\n",
    "df <- data.frame(spalte.name.1=c1,spalte.name.2=c2)"
   ]
  },
  {
   "cell_type": "code",
   "execution_count": 2,
   "metadata": {
    "collapsed": false
   },
   "outputs": [
    {
     "data": {
      "text/html": [
       "<table>\n",
       "<thead><tr><th scope=col>spalte.name.1</th><th scope=col>spalte.name.2</th></tr></thead>\n",
       "<tbody>\n",
       "\t<tr><td> 1</td><td>a </td></tr>\n",
       "\t<tr><td> 2</td><td>b </td></tr>\n",
       "\t<tr><td> 3</td><td>c </td></tr>\n",
       "\t<tr><td> 4</td><td>d </td></tr>\n",
       "\t<tr><td> 5</td><td>e </td></tr>\n",
       "\t<tr><td> 6</td><td>f </td></tr>\n",
       "\t<tr><td> 7</td><td>g </td></tr>\n",
       "\t<tr><td> 8</td><td>h </td></tr>\n",
       "\t<tr><td> 9</td><td>i </td></tr>\n",
       "\t<tr><td>10</td><td>j </td></tr>\n",
       "</tbody>\n",
       "</table>\n"
      ],
      "text/latex": [
       "\\begin{tabular}{r|ll}\n",
       " spalte.name.1 & spalte.name.2\\\\\n",
       "\\hline\n",
       "\t  1 & a \\\\\n",
       "\t  2 & b \\\\\n",
       "\t  3 & c \\\\\n",
       "\t  4 & d \\\\\n",
       "\t  5 & e \\\\\n",
       "\t  6 & f \\\\\n",
       "\t  7 & g \\\\\n",
       "\t  8 & h \\\\\n",
       "\t  9 & i \\\\\n",
       "\t 10 & j \\\\\n",
       "\\end{tabular}\n"
      ],
      "text/markdown": [
       "\n",
       "spalte.name.1 | spalte.name.2 | \n",
       "|---|---|---|---|---|---|---|---|---|---|\n",
       "|  1 | a  | \n",
       "|  2 | b  | \n",
       "|  3 | c  | \n",
       "|  4 | d  | \n",
       "|  5 | e  | \n",
       "|  6 | f  | \n",
       "|  7 | g  | \n",
       "|  8 | h  | \n",
       "|  9 | i  | \n",
       "| 10 | j  | \n",
       "\n",
       "\n"
      ],
      "text/plain": [
       "   spalte.name.1 spalte.name.2\n",
       "1   1            a            \n",
       "2   2            b            \n",
       "3   3            c            \n",
       "4   4            d            \n",
       "5   5            e            \n",
       "6   6            f            \n",
       "7   7            g            \n",
       "8   8            h            \n",
       "9   9            i            \n",
       "10 10            j            "
      ]
     },
     "metadata": {},
     "output_type": "display_data"
    }
   ],
   "source": [
    "df"
   ]
  },
  {
   "cell_type": "markdown",
   "metadata": {},
   "source": [
    "# Import und Export von Daten"
   ]
  },
  {
   "cell_type": "code",
   "execution_count": null,
   "metadata": {
    "collapsed": true,
    "scrolled": true
   },
   "outputs": [],
   "source": [
    "d2 <- read.csv('ein.datei.name.csv')\n",
    "\n",
    "# Für Excel-Datein\n",
    "# Lade das readx1 Paket \n",
    "# dazu muss es evtl. noch installiert werden: install.packages(\"readxl\") \n",
    "# Der Umgang mit Packages werden wir allerdings später durchgehen\n",
    "library(readxl)\n",
    "# Rufe Info der Arbeitsblätter durch read.excel auf\n",
    "df <- read_excel('Beispiel-Verkaufs-Daten.xlsx',sheet='Sheet1')\n",
    "\n",
    "# Ausgabe zu CSV\n",
    "write.csv(df, file='ein.datei.name.csv') "
   ]
  },
  {
   "cell_type": "markdown",
   "metadata": {},
   "source": [
    "# Information über Data Frames erhalten"
   ]
  },
  {
   "cell_type": "code",
   "execution_count": 3,
   "metadata": {
    "collapsed": false
   },
   "outputs": [
    {
     "data": {
      "text/html": [
       "10"
      ],
      "text/latex": [
       "10"
      ],
      "text/markdown": [
       "10"
      ],
      "text/plain": [
       "[1] 10"
      ]
     },
     "metadata": {},
     "output_type": "display_data"
    },
    {
     "data": {
      "text/html": [
       "2"
      ],
      "text/latex": [
       "2"
      ],
      "text/markdown": [
       "2"
      ],
      "text/plain": [
       "[1] 2"
      ]
     },
     "metadata": {},
     "output_type": "display_data"
    }
   ],
   "source": [
    "# Zeilen und Spalten zählen\n",
    "nrow(df)\n",
    "ncol(df)"
   ]
  },
  {
   "cell_type": "code",
   "execution_count": 4,
   "metadata": {
    "collapsed": false
   },
   "outputs": [
    {
     "data": {
      "text/html": [
       "<ol class=list-inline>\n",
       "\t<li>'spalte.name.1'</li>\n",
       "\t<li>'spalte.name.2'</li>\n",
       "</ol>\n"
      ],
      "text/latex": [
       "\\begin{enumerate*}\n",
       "\\item 'spalte.name.1'\n",
       "\\item 'spalte.name.2'\n",
       "\\end{enumerate*}\n"
      ],
      "text/markdown": [
       "1. 'spalte.name.1'\n",
       "2. 'spalte.name.2'\n",
       "\n",
       "\n"
      ],
      "text/plain": [
       "[1] \"spalte.name.1\" \"spalte.name.2\""
      ]
     },
     "metadata": {},
     "output_type": "display_data"
    }
   ],
   "source": [
    "# Spalten Namen\n",
    "colnames(df)"
   ]
  },
  {
   "cell_type": "code",
   "execution_count": 5,
   "metadata": {
    "collapsed": false
   },
   "outputs": [
    {
     "data": {
      "text/html": [
       "<ol class=list-inline>\n",
       "\t<li>'1'</li>\n",
       "\t<li>'2'</li>\n",
       "\t<li>'3'</li>\n",
       "\t<li>'4'</li>\n",
       "\t<li>'5'</li>\n",
       "\t<li>'6'</li>\n",
       "\t<li>'7'</li>\n",
       "\t<li>'8'</li>\n",
       "\t<li>'9'</li>\n",
       "\t<li>'10'</li>\n",
       "</ol>\n"
      ],
      "text/latex": [
       "\\begin{enumerate*}\n",
       "\\item '1'\n",
       "\\item '2'\n",
       "\\item '3'\n",
       "\\item '4'\n",
       "\\item '5'\n",
       "\\item '6'\n",
       "\\item '7'\n",
       "\\item '8'\n",
       "\\item '9'\n",
       "\\item '10'\n",
       "\\end{enumerate*}\n"
      ],
      "text/markdown": [
       "1. '1'\n",
       "2. '2'\n",
       "3. '3'\n",
       "4. '4'\n",
       "5. '5'\n",
       "6. '6'\n",
       "7. '7'\n",
       "8. '8'\n",
       "9. '9'\n",
       "10. '10'\n",
       "\n",
       "\n"
      ],
      "text/plain": [
       " [1] \"1\"  \"2\"  \"3\"  \"4\"  \"5\"  \"6\"  \"7\"  \"8\"  \"9\"  \"10\""
      ]
     },
     "metadata": {},
     "output_type": "display_data"
    }
   ],
   "source": [
    "# Zeilen Namen (wobei auch nur der Index ausgegeben werden könnte)\n",
    "rownames(df)"
   ]
  },
  {
   "cell_type": "markdown",
   "metadata": {},
   "source": [
    "# Bezug auf Zellen nehmen\n",
    "\n",
    "Wir können uns unter den Grundlagen die Verwendung von zwei Klammer-Paaren vorstellen, um eine einzelne Zelle abzufragen. Und für mehrere Zellen verwenden wir ein einfaches Klammer-Paar. Ein Beispiel:"
   ]
  },
  {
   "cell_type": "code",
   "execution_count": 6,
   "metadata": {
    "collapsed": true
   },
   "outputs": [],
   "source": [
    "vec <- df[[5, 2]] # Erhalte die Zelle durch [[Zeile,Spalte]]\n",
    "\n",
    "dfneu <- df[1:5, 1:2] # Erhalte merhere Zeilen und Spalten für den neuen df\n",
    "\n",
    "df[[2, 'spalte.name.1']] <- 99999 # Einer Zelle einen neuen Wert zuteilen"
   ]
  },
  {
   "cell_type": "code",
   "execution_count": 7,
   "metadata": {
    "collapsed": false
   },
   "outputs": [
    {
     "data": {
      "text/html": [
       "<table>\n",
       "<thead><tr><th scope=col>spalte.name.1</th><th scope=col>spalte.name.2</th></tr></thead>\n",
       "<tbody>\n",
       "\t<tr><td>    1</td><td>a    </td></tr>\n",
       "\t<tr><td>99999</td><td>b    </td></tr>\n",
       "\t<tr><td>    3</td><td>c    </td></tr>\n",
       "\t<tr><td>    4</td><td>d    </td></tr>\n",
       "\t<tr><td>    5</td><td>e    </td></tr>\n",
       "\t<tr><td>    6</td><td>f    </td></tr>\n",
       "\t<tr><td>    7</td><td>g    </td></tr>\n",
       "\t<tr><td>    8</td><td>h    </td></tr>\n",
       "\t<tr><td>    9</td><td>i    </td></tr>\n",
       "\t<tr><td>   10</td><td>j    </td></tr>\n",
       "</tbody>\n",
       "</table>\n"
      ],
      "text/latex": [
       "\\begin{tabular}{r|ll}\n",
       " spalte.name.1 & spalte.name.2\\\\\n",
       "\\hline\n",
       "\t     1 & a    \\\\\n",
       "\t 99999 & b    \\\\\n",
       "\t     3 & c    \\\\\n",
       "\t     4 & d    \\\\\n",
       "\t     5 & e    \\\\\n",
       "\t     6 & f    \\\\\n",
       "\t     7 & g    \\\\\n",
       "\t     8 & h    \\\\\n",
       "\t     9 & i    \\\\\n",
       "\t    10 & j    \\\\\n",
       "\\end{tabular}\n"
      ],
      "text/markdown": [
       "\n",
       "spalte.name.1 | spalte.name.2 | \n",
       "|---|---|---|---|---|---|---|---|---|---|\n",
       "|     1 | a     | \n",
       "| 99999 | b     | \n",
       "|     3 | c     | \n",
       "|     4 | d     | \n",
       "|     5 | e     | \n",
       "|     6 | f     | \n",
       "|     7 | g     | \n",
       "|     8 | h     | \n",
       "|     9 | i     | \n",
       "|    10 | j     | \n",
       "\n",
       "\n"
      ],
      "text/plain": [
       "   spalte.name.1 spalte.name.2\n",
       "1      1         a            \n",
       "2  99999         b            \n",
       "3      3         c            \n",
       "4      4         d            \n",
       "5      5         e            \n",
       "6      6         f            \n",
       "7      7         g            \n",
       "8      8         h            \n",
       "9      9         i            \n",
       "10    10         j            "
      ]
     },
     "metadata": {},
     "output_type": "display_data"
    }
   ],
   "source": [
    "df"
   ]
  },
  {
   "cell_type": "markdown",
   "metadata": {},
   "source": [
    "# Bezug auf Zeilen nehmen\n",
    "\n",
    "Wir nutzen üblicherweise die [Zeile,] Notation"
   ]
  },
  {
   "cell_type": "code",
   "execution_count": 8,
   "metadata": {
    "collapsed": true
   },
   "outputs": [],
   "source": [
    "# Gibt einen df zurück, nicht einen Vektor\n",
    "zeilendf <- df[1, ]"
   ]
  },
  {
   "cell_type": "code",
   "execution_count": 9,
   "metadata": {
    "collapsed": false
   },
   "outputs": [
    {
     "data": {
      "text/html": [
       "<table>\n",
       "<thead><tr><th scope=col>spalte.name.1</th><th scope=col>spalte.name.2</th></tr></thead>\n",
       "<tbody>\n",
       "\t<tr><td>1</td><td>a</td></tr>\n",
       "</tbody>\n",
       "</table>\n"
      ],
      "text/latex": [
       "\\begin{tabular}{r|ll}\n",
       " spalte.name.1 & spalte.name.2\\\\\n",
       "\\hline\n",
       "\t 1 & a\\\\\n",
       "\\end{tabular}\n"
      ],
      "text/markdown": [
       "\n",
       "spalte.name.1 | spalte.name.2 | \n",
       "|---|\n",
       "| 1 | a | \n",
       "\n",
       "\n"
      ],
      "text/plain": [
       "  spalte.name.1 spalte.name.2\n",
       "1 1             a            "
      ]
     },
     "metadata": {},
     "output_type": "display_data"
    }
   ],
   "source": [
    "zeilendf"
   ]
  },
  {
   "cell_type": "code",
   "execution_count": 10,
   "metadata": {
    "collapsed": true
   },
   "outputs": [],
   "source": [
    "# Um eine Zeile zu einem Vektor zu machen schreiben wir folgendes\n",
    "vzeile <- as.numeric(as.vector(df[1,]))"
   ]
  },
  {
   "cell_type": "code",
   "execution_count": 11,
   "metadata": {
    "collapsed": false
   },
   "outputs": [
    {
     "data": {
      "text/html": [
       "<ol class=list-inline>\n",
       "\t<li>1</li>\n",
       "\t<li>1</li>\n",
       "</ol>\n"
      ],
      "text/latex": [
       "\\begin{enumerate*}\n",
       "\\item 1\n",
       "\\item 1\n",
       "\\end{enumerate*}\n"
      ],
      "text/markdown": [
       "1. 1\n",
       "2. 1\n",
       "\n",
       "\n"
      ],
      "text/plain": [
       "[1] 1 1"
      ]
     },
     "metadata": {},
     "output_type": "display_data"
    }
   ],
   "source": [
    "vzeile"
   ]
  },
  {
   "cell_type": "markdown",
   "metadata": {},
   "source": [
    "# Bezug auf Spalten nehmen\n",
    "\n",
    "Die meisten Spaltenbezüge geben einen Vektor zurück:"
   ]
  },
  {
   "cell_type": "code",
   "execution_count": 12,
   "metadata": {
    "collapsed": false
   },
   "outputs": [
    {
     "data": {
      "text/html": [
       "<table>\n",
       "<thead><tr><th></th><th scope=col>mpg</th><th scope=col>cyl</th><th scope=col>disp</th><th scope=col>hp</th><th scope=col>drat</th><th scope=col>wt</th><th scope=col>qsec</th><th scope=col>vs</th><th scope=col>am</th><th scope=col>gear</th><th scope=col>carb</th></tr></thead>\n",
       "<tbody>\n",
       "\t<tr><th scope=row>Mazda RX4</th><td>21.0 </td><td>6    </td><td>160  </td><td>110  </td><td>3.90 </td><td>2.620</td><td>16.46</td><td>0    </td><td>1    </td><td>4    </td><td>4    </td></tr>\n",
       "\t<tr><th scope=row>Mazda RX4 Wag</th><td>21.0 </td><td>6    </td><td>160  </td><td>110  </td><td>3.90 </td><td>2.875</td><td>17.02</td><td>0    </td><td>1    </td><td>4    </td><td>4    </td></tr>\n",
       "\t<tr><th scope=row>Datsun 710</th><td>22.8 </td><td>4    </td><td>108  </td><td> 93  </td><td>3.85 </td><td>2.320</td><td>18.61</td><td>1    </td><td>1    </td><td>4    </td><td>1    </td></tr>\n",
       "\t<tr><th scope=row>Hornet 4 Drive</th><td>21.4 </td><td>6    </td><td>258  </td><td>110  </td><td>3.08 </td><td>3.215</td><td>19.44</td><td>1    </td><td>0    </td><td>3    </td><td>1    </td></tr>\n",
       "\t<tr><th scope=row>Hornet Sportabout</th><td>18.7 </td><td>8    </td><td>360  </td><td>175  </td><td>3.15 </td><td>3.440</td><td>17.02</td><td>0    </td><td>0    </td><td>3    </td><td>2    </td></tr>\n",
       "\t<tr><th scope=row>Valiant</th><td>18.1 </td><td>6    </td><td>225  </td><td>105  </td><td>2.76 </td><td>3.460</td><td>20.22</td><td>1    </td><td>0    </td><td>3    </td><td>1    </td></tr>\n",
       "</tbody>\n",
       "</table>\n"
      ],
      "text/latex": [
       "\\begin{tabular}{r|lllllllllll}\n",
       "  & mpg & cyl & disp & hp & drat & wt & qsec & vs & am & gear & carb\\\\\n",
       "\\hline\n",
       "\tMazda RX4 & 21.0  & 6     & 160   & 110   & 3.90  & 2.620 & 16.46 & 0     & 1     & 4     & 4    \\\\\n",
       "\tMazda RX4 Wag & 21.0  & 6     & 160   & 110   & 3.90  & 2.875 & 17.02 & 0     & 1     & 4     & 4    \\\\\n",
       "\tDatsun 710 & 22.8  & 4     & 108   &  93   & 3.85  & 2.320 & 18.61 & 1     & 1     & 4     & 1    \\\\\n",
       "\tHornet 4 Drive & 21.4  & 6     & 258   & 110   & 3.08  & 3.215 & 19.44 & 1     & 0     & 3     & 1    \\\\\n",
       "\tHornet Sportabout & 18.7  & 8     & 360   & 175   & 3.15  & 3.440 & 17.02 & 0     & 0     & 3     & 2    \\\\\n",
       "\tValiant & 18.1  & 6     & 225   & 105   & 2.76  & 3.460 & 20.22 & 1     & 0     & 3     & 1    \\\\\n",
       "\\end{tabular}\n"
      ],
      "text/markdown": [
       "\n",
       "| <!--/--> | mpg | cyl | disp | hp | drat | wt | qsec | vs | am | gear | carb | \n",
       "|---|---|---|---|---|---|\n",
       "| Mazda RX4 | 21.0  | 6     | 160   | 110   | 3.90  | 2.620 | 16.46 | 0     | 1     | 4     | 4     | \n",
       "| Mazda RX4 Wag | 21.0  | 6     | 160   | 110   | 3.90  | 2.875 | 17.02 | 0     | 1     | 4     | 4     | \n",
       "| Datsun 710 | 22.8  | 4     | 108   |  93   | 3.85  | 2.320 | 18.61 | 1     | 1     | 4     | 1     | \n",
       "| Hornet 4 Drive | 21.4  | 6     | 258   | 110   | 3.08  | 3.215 | 19.44 | 1     | 0     | 3     | 1     | \n",
       "| Hornet Sportabout | 18.7  | 8     | 360   | 175   | 3.15  | 3.440 | 17.02 | 0     | 0     | 3     | 2     | \n",
       "| Valiant | 18.1  | 6     | 225   | 105   | 2.76  | 3.460 | 20.22 | 1     | 0     | 3     | 1     | \n",
       "\n",
       "\n"
      ],
      "text/plain": [
       "                  mpg  cyl disp hp  drat wt    qsec  vs am gear carb\n",
       "Mazda RX4         21.0 6   160  110 3.90 2.620 16.46 0  1  4    4   \n",
       "Mazda RX4 Wag     21.0 6   160  110 3.90 2.875 17.02 0  1  4    4   \n",
       "Datsun 710        22.8 4   108   93 3.85 2.320 18.61 1  1  4    1   \n",
       "Hornet 4 Drive    21.4 6   258  110 3.08 3.215 19.44 1  0  3    1   \n",
       "Hornet Sportabout 18.7 8   360  175 3.15 3.440 17.02 0  0  3    2   \n",
       "Valiant           18.1 6   225  105 2.76 3.460 20.22 1  0  3    1   "
      ]
     },
     "metadata": {},
     "output_type": "display_data"
    }
   ],
   "source": [
    "autos <- mtcars\n",
    "head(autos)"
   ]
  },
  {
   "cell_type": "code",
   "execution_count": 13,
   "metadata": {
    "collapsed": false
   },
   "outputs": [
    {
     "data": {
      "text/html": [
       "<ol class=list-inline>\n",
       "\t<li>21</li>\n",
       "\t<li>21</li>\n",
       "\t<li>22.8</li>\n",
       "\t<li>21.4</li>\n",
       "\t<li>18.7</li>\n",
       "\t<li>18.1</li>\n",
       "\t<li>14.3</li>\n",
       "\t<li>24.4</li>\n",
       "\t<li>22.8</li>\n",
       "\t<li>19.2</li>\n",
       "\t<li>17.8</li>\n",
       "\t<li>16.4</li>\n",
       "\t<li>17.3</li>\n",
       "\t<li>15.2</li>\n",
       "\t<li>10.4</li>\n",
       "\t<li>10.4</li>\n",
       "\t<li>14.7</li>\n",
       "\t<li>32.4</li>\n",
       "\t<li>30.4</li>\n",
       "\t<li>33.9</li>\n",
       "\t<li>21.5</li>\n",
       "\t<li>15.5</li>\n",
       "\t<li>15.2</li>\n",
       "\t<li>13.3</li>\n",
       "\t<li>19.2</li>\n",
       "\t<li>27.3</li>\n",
       "\t<li>26</li>\n",
       "\t<li>30.4</li>\n",
       "\t<li>15.8</li>\n",
       "\t<li>19.7</li>\n",
       "\t<li>15</li>\n",
       "\t<li>21.4</li>\n",
       "</ol>\n"
      ],
      "text/latex": [
       "\\begin{enumerate*}\n",
       "\\item 21\n",
       "\\item 21\n",
       "\\item 22.8\n",
       "\\item 21.4\n",
       "\\item 18.7\n",
       "\\item 18.1\n",
       "\\item 14.3\n",
       "\\item 24.4\n",
       "\\item 22.8\n",
       "\\item 19.2\n",
       "\\item 17.8\n",
       "\\item 16.4\n",
       "\\item 17.3\n",
       "\\item 15.2\n",
       "\\item 10.4\n",
       "\\item 10.4\n",
       "\\item 14.7\n",
       "\\item 32.4\n",
       "\\item 30.4\n",
       "\\item 33.9\n",
       "\\item 21.5\n",
       "\\item 15.5\n",
       "\\item 15.2\n",
       "\\item 13.3\n",
       "\\item 19.2\n",
       "\\item 27.3\n",
       "\\item 26\n",
       "\\item 30.4\n",
       "\\item 15.8\n",
       "\\item 19.7\n",
       "\\item 15\n",
       "\\item 21.4\n",
       "\\end{enumerate*}\n"
      ],
      "text/markdown": [
       "1. 21\n",
       "2. 21\n",
       "3. 22.8\n",
       "4. 21.4\n",
       "5. 18.7\n",
       "6. 18.1\n",
       "7. 14.3\n",
       "8. 24.4\n",
       "9. 22.8\n",
       "10. 19.2\n",
       "11. 17.8\n",
       "12. 16.4\n",
       "13. 17.3\n",
       "14. 15.2\n",
       "15. 10.4\n",
       "16. 10.4\n",
       "17. 14.7\n",
       "18. 32.4\n",
       "19. 30.4\n",
       "20. 33.9\n",
       "21. 21.5\n",
       "22. 15.5\n",
       "23. 15.2\n",
       "24. 13.3\n",
       "25. 19.2\n",
       "26. 27.3\n",
       "27. 26\n",
       "28. 30.4\n",
       "29. 15.8\n",
       "30. 19.7\n",
       "31. 15\n",
       "32. 21.4\n",
       "\n",
       "\n"
      ],
      "text/plain": [
       " [1] 21.0 21.0 22.8 21.4 18.7 18.1 14.3 24.4 22.8 19.2 17.8 16.4 17.3 15.2 10.4\n",
       "[16] 10.4 14.7 32.4 30.4 33.9 21.5 15.5 15.2 13.3 19.2 27.3 26.0 30.4 15.8 19.7\n",
       "[31] 15.0 21.4"
      ]
     },
     "metadata": {},
     "output_type": "display_data"
    },
    {
     "data": {
      "text/html": [
       "<ol class=list-inline>\n",
       "\t<li>21</li>\n",
       "\t<li>21</li>\n",
       "\t<li>22.8</li>\n",
       "\t<li>21.4</li>\n",
       "\t<li>18.7</li>\n",
       "\t<li>18.1</li>\n",
       "\t<li>14.3</li>\n",
       "\t<li>24.4</li>\n",
       "\t<li>22.8</li>\n",
       "\t<li>19.2</li>\n",
       "\t<li>17.8</li>\n",
       "\t<li>16.4</li>\n",
       "\t<li>17.3</li>\n",
       "\t<li>15.2</li>\n",
       "\t<li>10.4</li>\n",
       "\t<li>10.4</li>\n",
       "\t<li>14.7</li>\n",
       "\t<li>32.4</li>\n",
       "\t<li>30.4</li>\n",
       "\t<li>33.9</li>\n",
       "\t<li>21.5</li>\n",
       "\t<li>15.5</li>\n",
       "\t<li>15.2</li>\n",
       "\t<li>13.3</li>\n",
       "\t<li>19.2</li>\n",
       "\t<li>27.3</li>\n",
       "\t<li>26</li>\n",
       "\t<li>30.4</li>\n",
       "\t<li>15.8</li>\n",
       "\t<li>19.7</li>\n",
       "\t<li>15</li>\n",
       "\t<li>21.4</li>\n",
       "</ol>\n"
      ],
      "text/latex": [
       "\\begin{enumerate*}\n",
       "\\item 21\n",
       "\\item 21\n",
       "\\item 22.8\n",
       "\\item 21.4\n",
       "\\item 18.7\n",
       "\\item 18.1\n",
       "\\item 14.3\n",
       "\\item 24.4\n",
       "\\item 22.8\n",
       "\\item 19.2\n",
       "\\item 17.8\n",
       "\\item 16.4\n",
       "\\item 17.3\n",
       "\\item 15.2\n",
       "\\item 10.4\n",
       "\\item 10.4\n",
       "\\item 14.7\n",
       "\\item 32.4\n",
       "\\item 30.4\n",
       "\\item 33.9\n",
       "\\item 21.5\n",
       "\\item 15.5\n",
       "\\item 15.2\n",
       "\\item 13.3\n",
       "\\item 19.2\n",
       "\\item 27.3\n",
       "\\item 26\n",
       "\\item 30.4\n",
       "\\item 15.8\n",
       "\\item 19.7\n",
       "\\item 15\n",
       "\\item 21.4\n",
       "\\end{enumerate*}\n"
      ],
      "text/markdown": [
       "1. 21\n",
       "2. 21\n",
       "3. 22.8\n",
       "4. 21.4\n",
       "5. 18.7\n",
       "6. 18.1\n",
       "7. 14.3\n",
       "8. 24.4\n",
       "9. 22.8\n",
       "10. 19.2\n",
       "11. 17.8\n",
       "12. 16.4\n",
       "13. 17.3\n",
       "14. 15.2\n",
       "15. 10.4\n",
       "16. 10.4\n",
       "17. 14.7\n",
       "18. 32.4\n",
       "19. 30.4\n",
       "20. 33.9\n",
       "21. 21.5\n",
       "22. 15.5\n",
       "23. 15.2\n",
       "24. 13.3\n",
       "25. 19.2\n",
       "26. 27.3\n",
       "27. 26\n",
       "28. 30.4\n",
       "29. 15.8\n",
       "30. 19.7\n",
       "31. 15\n",
       "32. 21.4\n",
       "\n",
       "\n"
      ],
      "text/plain": [
       " [1] 21.0 21.0 22.8 21.4 18.7 18.1 14.3 24.4 22.8 19.2 17.8 16.4 17.3 15.2 10.4\n",
       "[16] 10.4 14.7 32.4 30.4 33.9 21.5 15.5 15.2 13.3 19.2 27.3 26.0 30.4 15.8 19.7\n",
       "[31] 15.0 21.4"
      ]
     },
     "metadata": {},
     "output_type": "display_data"
    },
    {
     "data": {
      "text/html": [
       "<ol class=list-inline>\n",
       "\t<li>21</li>\n",
       "\t<li>21</li>\n",
       "\t<li>22.8</li>\n",
       "\t<li>21.4</li>\n",
       "\t<li>18.7</li>\n",
       "\t<li>18.1</li>\n",
       "\t<li>14.3</li>\n",
       "\t<li>24.4</li>\n",
       "\t<li>22.8</li>\n",
       "\t<li>19.2</li>\n",
       "\t<li>17.8</li>\n",
       "\t<li>16.4</li>\n",
       "\t<li>17.3</li>\n",
       "\t<li>15.2</li>\n",
       "\t<li>10.4</li>\n",
       "\t<li>10.4</li>\n",
       "\t<li>14.7</li>\n",
       "\t<li>32.4</li>\n",
       "\t<li>30.4</li>\n",
       "\t<li>33.9</li>\n",
       "\t<li>21.5</li>\n",
       "\t<li>15.5</li>\n",
       "\t<li>15.2</li>\n",
       "\t<li>13.3</li>\n",
       "\t<li>19.2</li>\n",
       "\t<li>27.3</li>\n",
       "\t<li>26</li>\n",
       "\t<li>30.4</li>\n",
       "\t<li>15.8</li>\n",
       "\t<li>19.7</li>\n",
       "\t<li>15</li>\n",
       "\t<li>21.4</li>\n",
       "</ol>\n"
      ],
      "text/latex": [
       "\\begin{enumerate*}\n",
       "\\item 21\n",
       "\\item 21\n",
       "\\item 22.8\n",
       "\\item 21.4\n",
       "\\item 18.7\n",
       "\\item 18.1\n",
       "\\item 14.3\n",
       "\\item 24.4\n",
       "\\item 22.8\n",
       "\\item 19.2\n",
       "\\item 17.8\n",
       "\\item 16.4\n",
       "\\item 17.3\n",
       "\\item 15.2\n",
       "\\item 10.4\n",
       "\\item 10.4\n",
       "\\item 14.7\n",
       "\\item 32.4\n",
       "\\item 30.4\n",
       "\\item 33.9\n",
       "\\item 21.5\n",
       "\\item 15.5\n",
       "\\item 15.2\n",
       "\\item 13.3\n",
       "\\item 19.2\n",
       "\\item 27.3\n",
       "\\item 26\n",
       "\\item 30.4\n",
       "\\item 15.8\n",
       "\\item 19.7\n",
       "\\item 15\n",
       "\\item 21.4\n",
       "\\end{enumerate*}\n"
      ],
      "text/markdown": [
       "1. 21\n",
       "2. 21\n",
       "3. 22.8\n",
       "4. 21.4\n",
       "5. 18.7\n",
       "6. 18.1\n",
       "7. 14.3\n",
       "8. 24.4\n",
       "9. 22.8\n",
       "10. 19.2\n",
       "11. 17.8\n",
       "12. 16.4\n",
       "13. 17.3\n",
       "14. 15.2\n",
       "15. 10.4\n",
       "16. 10.4\n",
       "17. 14.7\n",
       "18. 32.4\n",
       "19. 30.4\n",
       "20. 33.9\n",
       "21. 21.5\n",
       "22. 15.5\n",
       "23. 15.2\n",
       "24. 13.3\n",
       "25. 19.2\n",
       "26. 27.3\n",
       "27. 26\n",
       "28. 30.4\n",
       "29. 15.8\n",
       "30. 19.7\n",
       "31. 15\n",
       "32. 21.4\n",
       "\n",
       "\n"
      ],
      "text/plain": [
       " [1] 21.0 21.0 22.8 21.4 18.7 18.1 14.3 24.4 22.8 19.2 17.8 16.4 17.3 15.2 10.4\n",
       "[16] 10.4 14.7 32.4 30.4 33.9 21.5 15.5 15.2 13.3 19.2 27.3 26.0 30.4 15.8 19.7\n",
       "[31] 15.0 21.4"
      ]
     },
     "metadata": {},
     "output_type": "display_data"
    },
    {
     "data": {
      "text/html": [
       "<ol class=list-inline>\n",
       "\t<li>21</li>\n",
       "\t<li>21</li>\n",
       "\t<li>22.8</li>\n",
       "\t<li>21.4</li>\n",
       "\t<li>18.7</li>\n",
       "\t<li>18.1</li>\n",
       "\t<li>14.3</li>\n",
       "\t<li>24.4</li>\n",
       "\t<li>22.8</li>\n",
       "\t<li>19.2</li>\n",
       "\t<li>17.8</li>\n",
       "\t<li>16.4</li>\n",
       "\t<li>17.3</li>\n",
       "\t<li>15.2</li>\n",
       "\t<li>10.4</li>\n",
       "\t<li>10.4</li>\n",
       "\t<li>14.7</li>\n",
       "\t<li>32.4</li>\n",
       "\t<li>30.4</li>\n",
       "\t<li>33.9</li>\n",
       "\t<li>21.5</li>\n",
       "\t<li>15.5</li>\n",
       "\t<li>15.2</li>\n",
       "\t<li>13.3</li>\n",
       "\t<li>19.2</li>\n",
       "\t<li>27.3</li>\n",
       "\t<li>26</li>\n",
       "\t<li>30.4</li>\n",
       "\t<li>15.8</li>\n",
       "\t<li>19.7</li>\n",
       "\t<li>15</li>\n",
       "\t<li>21.4</li>\n",
       "</ol>\n"
      ],
      "text/latex": [
       "\\begin{enumerate*}\n",
       "\\item 21\n",
       "\\item 21\n",
       "\\item 22.8\n",
       "\\item 21.4\n",
       "\\item 18.7\n",
       "\\item 18.1\n",
       "\\item 14.3\n",
       "\\item 24.4\n",
       "\\item 22.8\n",
       "\\item 19.2\n",
       "\\item 17.8\n",
       "\\item 16.4\n",
       "\\item 17.3\n",
       "\\item 15.2\n",
       "\\item 10.4\n",
       "\\item 10.4\n",
       "\\item 14.7\n",
       "\\item 32.4\n",
       "\\item 30.4\n",
       "\\item 33.9\n",
       "\\item 21.5\n",
       "\\item 15.5\n",
       "\\item 15.2\n",
       "\\item 13.3\n",
       "\\item 19.2\n",
       "\\item 27.3\n",
       "\\item 26\n",
       "\\item 30.4\n",
       "\\item 15.8\n",
       "\\item 19.7\n",
       "\\item 15\n",
       "\\item 21.4\n",
       "\\end{enumerate*}\n"
      ],
      "text/markdown": [
       "1. 21\n",
       "2. 21\n",
       "3. 22.8\n",
       "4. 21.4\n",
       "5. 18.7\n",
       "6. 18.1\n",
       "7. 14.3\n",
       "8. 24.4\n",
       "9. 22.8\n",
       "10. 19.2\n",
       "11. 17.8\n",
       "12. 16.4\n",
       "13. 17.3\n",
       "14. 15.2\n",
       "15. 10.4\n",
       "16. 10.4\n",
       "17. 14.7\n",
       "18. 32.4\n",
       "19. 30.4\n",
       "20. 33.9\n",
       "21. 21.5\n",
       "22. 15.5\n",
       "23. 15.2\n",
       "24. 13.3\n",
       "25. 19.2\n",
       "26. 27.3\n",
       "27. 26\n",
       "28. 30.4\n",
       "29. 15.8\n",
       "30. 19.7\n",
       "31. 15\n",
       "32. 21.4\n",
       "\n",
       "\n"
      ],
      "text/plain": [
       " [1] 21.0 21.0 22.8 21.4 18.7 18.1 14.3 24.4 22.8 19.2 17.8 16.4 17.3 15.2 10.4\n",
       "[16] 10.4 14.7 32.4 30.4 33.9 21.5 15.5 15.2 13.3 19.2 27.3 26.0 30.4 15.8 19.7\n",
       "[31] 15.0 21.4"
      ]
     },
     "metadata": {},
     "output_type": "display_data"
    }
   ],
   "source": [
    "spaltenv1 <- autos$mpg # Gibt einen Vektor zurück\n",
    "spaltenv1\n",
    "\n",
    "spaltenv2 <- autos[, 'mpg'] # Gibt einen Vektor zurück\n",
    "spaltenv2\n",
    "\n",
    "spaltenv3<- autos[, 1]\n",
    "spaltenv3\n",
    "\n",
    "spaltenv4 <- autos[['mpg']] # Gibt einen Vektor zurück\n",
    "spaltenv4"
   ]
  },
  {
   "cell_type": "code",
   "execution_count": 14,
   "metadata": {
    "collapsed": false
   },
   "outputs": [
    {
     "data": {
      "text/html": [
       "<table>\n",
       "<thead><tr><th></th><th scope=col>mpg</th></tr></thead>\n",
       "<tbody>\n",
       "\t<tr><th scope=row>Mazda RX4</th><td>21.0</td></tr>\n",
       "\t<tr><th scope=row>Mazda RX4 Wag</th><td>21.0</td></tr>\n",
       "\t<tr><th scope=row>Datsun 710</th><td>22.8</td></tr>\n",
       "\t<tr><th scope=row>Hornet 4 Drive</th><td>21.4</td></tr>\n",
       "\t<tr><th scope=row>Hornet Sportabout</th><td>18.7</td></tr>\n",
       "\t<tr><th scope=row>Valiant</th><td>18.1</td></tr>\n",
       "</tbody>\n",
       "</table>\n"
      ],
      "text/latex": [
       "\\begin{tabular}{r|l}\n",
       "  & mpg\\\\\n",
       "\\hline\n",
       "\tMazda RX4 & 21.0\\\\\n",
       "\tMazda RX4 Wag & 21.0\\\\\n",
       "\tDatsun 710 & 22.8\\\\\n",
       "\tHornet 4 Drive & 21.4\\\\\n",
       "\tHornet Sportabout & 18.7\\\\\n",
       "\tValiant & 18.1\\\\\n",
       "\\end{tabular}\n"
      ],
      "text/markdown": [
       "\n",
       "| <!--/--> | mpg | \n",
       "|---|---|---|---|---|---|\n",
       "| Mazda RX4 | 21.0 | \n",
       "| Mazda RX4 Wag | 21.0 | \n",
       "| Datsun 710 | 22.8 | \n",
       "| Hornet 4 Drive | 21.4 | \n",
       "| Hornet Sportabout | 18.7 | \n",
       "| Valiant | 18.1 | \n",
       "\n",
       "\n"
      ],
      "text/plain": [
       "                  mpg \n",
       "Mazda RX4         21.0\n",
       "Mazda RX4 Wag     21.0\n",
       "Datsun 710        22.8\n",
       "Hornet 4 Drive    21.4\n",
       "Hornet Sportabout 18.7\n",
       "Valiant           18.1"
      ]
     },
     "metadata": {},
     "output_type": "display_data"
    },
    {
     "data": {
      "text/html": [
       "<table>\n",
       "<thead><tr><th></th><th scope=col>mpg</th></tr></thead>\n",
       "<tbody>\n",
       "\t<tr><th scope=row>Mazda RX4</th><td>21.0</td></tr>\n",
       "\t<tr><th scope=row>Mazda RX4 Wag</th><td>21.0</td></tr>\n",
       "\t<tr><th scope=row>Datsun 710</th><td>22.8</td></tr>\n",
       "\t<tr><th scope=row>Hornet 4 Drive</th><td>21.4</td></tr>\n",
       "\t<tr><th scope=row>Hornet Sportabout</th><td>18.7</td></tr>\n",
       "\t<tr><th scope=row>Valiant</th><td>18.1</td></tr>\n",
       "</tbody>\n",
       "</table>\n"
      ],
      "text/latex": [
       "\\begin{tabular}{r|l}\n",
       "  & mpg\\\\\n",
       "\\hline\n",
       "\tMazda RX4 & 21.0\\\\\n",
       "\tMazda RX4 Wag & 21.0\\\\\n",
       "\tDatsun 710 & 22.8\\\\\n",
       "\tHornet 4 Drive & 21.4\\\\\n",
       "\tHornet Sportabout & 18.7\\\\\n",
       "\tValiant & 18.1\\\\\n",
       "\\end{tabular}\n"
      ],
      "text/markdown": [
       "\n",
       "| <!--/--> | mpg | \n",
       "|---|---|---|---|---|---|\n",
       "| Mazda RX4 | 21.0 | \n",
       "| Mazda RX4 Wag | 21.0 | \n",
       "| Datsun 710 | 22.8 | \n",
       "| Hornet 4 Drive | 21.4 | \n",
       "| Hornet Sportabout | 18.7 | \n",
       "| Valiant | 18.1 | \n",
       "\n",
       "\n"
      ],
      "text/plain": [
       "                  mpg \n",
       "Mazda RX4         21.0\n",
       "Mazda RX4 Wag     21.0\n",
       "Datsun 710        22.8\n",
       "Hornet 4 Drive    21.4\n",
       "Hornet Sportabout 18.7\n",
       "Valiant           18.1"
      ]
     },
     "metadata": {},
     "output_type": "display_data"
    }
   ],
   "source": [
    "# Wege um Data Frames zu erzeugen\n",
    "mpgdf <- autos['mpg'] # Erzeugt einen df mit einer Spalte\n",
    "head(mpgdf)\n",
    "\n",
    "mpgdf2 <- autos[1] # Erzeugt einen df mit einer Spalte\n",
    "head(mpgdf2)"
   ]
  },
  {
   "cell_type": "markdown",
   "metadata": {},
   "source": [
    "# Zeilen hinzufügen"
   ]
  },
  {
   "cell_type": "code",
   "execution_count": 15,
   "metadata": {
    "collapsed": false
   },
   "outputs": [
    {
     "data": {
      "text/html": [
       "<table>\n",
       "<thead><tr><th scope=col>spalte.name.1</th><th scope=col>spalte.name.2</th></tr></thead>\n",
       "<tbody>\n",
       "\t<tr><td>2000</td><td>neu </td></tr>\n",
       "</tbody>\n",
       "</table>\n"
      ],
      "text/latex": [
       "\\begin{tabular}{r|ll}\n",
       " spalte.name.1 & spalte.name.2\\\\\n",
       "\\hline\n",
       "\t 2000 & neu \\\\\n",
       "\\end{tabular}\n"
      ],
      "text/markdown": [
       "\n",
       "spalte.name.1 | spalte.name.2 | \n",
       "|---|\n",
       "| 2000 | neu  | \n",
       "\n",
       "\n"
      ],
      "text/plain": [
       "  spalte.name.1 spalte.name.2\n",
       "1 2000          neu          "
      ]
     },
     "metadata": {},
     "output_type": "display_data"
    }
   ],
   "source": [
    "# Beide Argumente sind Data Frames\n",
    "df2 <- data.frame(spalte.name.1=2000,spalte.name.2='neu' )\n",
    "df2\n",
    "\n",
    "# Nutze rbind, um eine neue Zeile zu erstellen!\n",
    "dfneu <- rbind(df,df2)"
   ]
  },
  {
   "cell_type": "code",
   "execution_count": 16,
   "metadata": {
    "collapsed": false
   },
   "outputs": [
    {
     "data": {
      "text/html": [
       "<table>\n",
       "<thead><tr><th scope=col>spalte.name.1</th><th scope=col>spalte.name.2</th></tr></thead>\n",
       "<tbody>\n",
       "\t<tr><td>    1</td><td>a    </td></tr>\n",
       "\t<tr><td>99999</td><td>b    </td></tr>\n",
       "\t<tr><td>    3</td><td>c    </td></tr>\n",
       "\t<tr><td>    4</td><td>d    </td></tr>\n",
       "\t<tr><td>    5</td><td>e    </td></tr>\n",
       "\t<tr><td>    6</td><td>f    </td></tr>\n",
       "\t<tr><td>    7</td><td>g    </td></tr>\n",
       "\t<tr><td>    8</td><td>h    </td></tr>\n",
       "\t<tr><td>    9</td><td>i    </td></tr>\n",
       "\t<tr><td>   10</td><td>j    </td></tr>\n",
       "\t<tr><td> 2000</td><td>neu  </td></tr>\n",
       "</tbody>\n",
       "</table>\n"
      ],
      "text/latex": [
       "\\begin{tabular}{r|ll}\n",
       " spalte.name.1 & spalte.name.2\\\\\n",
       "\\hline\n",
       "\t     1 & a    \\\\\n",
       "\t 99999 & b    \\\\\n",
       "\t     3 & c    \\\\\n",
       "\t     4 & d    \\\\\n",
       "\t     5 & e    \\\\\n",
       "\t     6 & f    \\\\\n",
       "\t     7 & g    \\\\\n",
       "\t     8 & h    \\\\\n",
       "\t     9 & i    \\\\\n",
       "\t    10 & j    \\\\\n",
       "\t  2000 & neu  \\\\\n",
       "\\end{tabular}\n"
      ],
      "text/markdown": [
       "\n",
       "spalte.name.1 | spalte.name.2 | \n",
       "|---|---|---|---|---|---|---|---|---|---|---|\n",
       "|     1 | a     | \n",
       "| 99999 | b     | \n",
       "|     3 | c     | \n",
       "|     4 | d     | \n",
       "|     5 | e     | \n",
       "|     6 | f     | \n",
       "|     7 | g     | \n",
       "|     8 | h     | \n",
       "|     9 | i     | \n",
       "|    10 | j     | \n",
       "|  2000 | neu   | \n",
       "\n",
       "\n"
      ],
      "text/plain": [
       "   spalte.name.1 spalte.name.2\n",
       "1      1         a            \n",
       "2  99999         b            \n",
       "3      3         c            \n",
       "4      4         d            \n",
       "5      5         e            \n",
       "6      6         f            \n",
       "7      7         g            \n",
       "8      8         h            \n",
       "9      9         i            \n",
       "10    10         j            \n",
       "11  2000         neu          "
      ]
     },
     "metadata": {},
     "output_type": "display_data"
    }
   ],
   "source": [
    "dfneu"
   ]
  },
  {
   "cell_type": "markdown",
   "metadata": {},
   "source": [
    "# Spalten hinzufügen"
   ]
  },
  {
   "cell_type": "code",
   "execution_count": 17,
   "metadata": {
    "collapsed": false
   },
   "outputs": [
    {
     "data": {
      "text/html": [
       "<table>\n",
       "<thead><tr><th scope=col>spalte.name.1</th><th scope=col>spalte.name.2</th><th scope=col>neuespalte</th></tr></thead>\n",
       "<tbody>\n",
       "\t<tr><td>    1</td><td>a    </td><td>NA   </td></tr>\n",
       "\t<tr><td>99999</td><td>b    </td><td>NA   </td></tr>\n",
       "\t<tr><td>    3</td><td>c    </td><td>NA   </td></tr>\n",
       "\t<tr><td>    4</td><td>d    </td><td>NA   </td></tr>\n",
       "\t<tr><td>    5</td><td>e    </td><td>NA   </td></tr>\n",
       "\t<tr><td>    6</td><td>f    </td><td>NA   </td></tr>\n",
       "\t<tr><td>    7</td><td>g    </td><td>NA   </td></tr>\n",
       "\t<tr><td>    8</td><td>h    </td><td>NA   </td></tr>\n",
       "\t<tr><td>    9</td><td>i    </td><td>NA   </td></tr>\n",
       "\t<tr><td>   10</td><td>j    </td><td>NA   </td></tr>\n",
       "</tbody>\n",
       "</table>\n"
      ],
      "text/latex": [
       "\\begin{tabular}{r|lll}\n",
       " spalte.name.1 & spalte.name.2 & neuespalte\\\\\n",
       "\\hline\n",
       "\t     1 & a     & NA   \\\\\n",
       "\t 99999 & b     & NA   \\\\\n",
       "\t     3 & c     & NA   \\\\\n",
       "\t     4 & d     & NA   \\\\\n",
       "\t     5 & e     & NA   \\\\\n",
       "\t     6 & f     & NA   \\\\\n",
       "\t     7 & g     & NA   \\\\\n",
       "\t     8 & h     & NA   \\\\\n",
       "\t     9 & i     & NA   \\\\\n",
       "\t    10 & j     & NA   \\\\\n",
       "\\end{tabular}\n"
      ],
      "text/markdown": [
       "\n",
       "spalte.name.1 | spalte.name.2 | neuespalte | \n",
       "|---|---|---|---|---|---|---|---|---|---|\n",
       "|     1 | a     | NA    | \n",
       "| 99999 | b     | NA    | \n",
       "|     3 | c     | NA    | \n",
       "|     4 | d     | NA    | \n",
       "|     5 | e     | NA    | \n",
       "|     6 | f     | NA    | \n",
       "|     7 | g     | NA    | \n",
       "|     8 | h     | NA    | \n",
       "|     9 | i     | NA    | \n",
       "|    10 | j     | NA    | \n",
       "\n",
       "\n"
      ],
      "text/plain": [
       "   spalte.name.1 spalte.name.2 neuespalte\n",
       "1      1         a             NA        \n",
       "2  99999         b             NA        \n",
       "3      3         c             NA        \n",
       "4      4         d             NA        \n",
       "5      5         e             NA        \n",
       "6      6         f             NA        \n",
       "7      7         g             NA        \n",
       "8      8         h             NA        \n",
       "9      9         i             NA        \n",
       "10    10         j             NA        "
      ]
     },
     "metadata": {},
     "output_type": "display_data"
    }
   ],
   "source": [
    "df$neuespalte <- rep(NA, nrow(df)) # NA Spalte\n",
    "df"
   ]
  },
  {
   "cell_type": "code",
   "execution_count": 18,
   "metadata": {
    "collapsed": false
   },
   "outputs": [
    {
     "data": {
      "text/html": [
       "<table>\n",
       "<thead><tr><th scope=col>spalte.name.1</th><th scope=col>spalte.name.2</th><th scope=col>neuespalte</th><th scope=col>kopie.con.spalte.2</th></tr></thead>\n",
       "<tbody>\n",
       "\t<tr><td>    1</td><td>a    </td><td>NA   </td><td>a    </td></tr>\n",
       "\t<tr><td>99999</td><td>b    </td><td>NA   </td><td>b    </td></tr>\n",
       "\t<tr><td>    3</td><td>c    </td><td>NA   </td><td>c    </td></tr>\n",
       "\t<tr><td>    4</td><td>d    </td><td>NA   </td><td>d    </td></tr>\n",
       "\t<tr><td>    5</td><td>e    </td><td>NA   </td><td>e    </td></tr>\n",
       "\t<tr><td>    6</td><td>f    </td><td>NA   </td><td>f    </td></tr>\n",
       "\t<tr><td>    7</td><td>g    </td><td>NA   </td><td>g    </td></tr>\n",
       "\t<tr><td>    8</td><td>h    </td><td>NA   </td><td>h    </td></tr>\n",
       "\t<tr><td>    9</td><td>i    </td><td>NA   </td><td>i    </td></tr>\n",
       "\t<tr><td>   10</td><td>j    </td><td>NA   </td><td>j    </td></tr>\n",
       "</tbody>\n",
       "</table>\n"
      ],
      "text/latex": [
       "\\begin{tabular}{r|llll}\n",
       " spalte.name.1 & spalte.name.2 & neuespalte & kopie.con.spalte.2\\\\\n",
       "\\hline\n",
       "\t     1 & a     & NA    & a    \\\\\n",
       "\t 99999 & b     & NA    & b    \\\\\n",
       "\t     3 & c     & NA    & c    \\\\\n",
       "\t     4 & d     & NA    & d    \\\\\n",
       "\t     5 & e     & NA    & e    \\\\\n",
       "\t     6 & f     & NA    & f    \\\\\n",
       "\t     7 & g     & NA    & g    \\\\\n",
       "\t     8 & h     & NA    & h    \\\\\n",
       "\t     9 & i     & NA    & i    \\\\\n",
       "\t    10 & j     & NA    & j    \\\\\n",
       "\\end{tabular}\n"
      ],
      "text/markdown": [
       "\n",
       "spalte.name.1 | spalte.name.2 | neuespalte | kopie.con.spalte.2 | \n",
       "|---|---|---|---|---|---|---|---|---|---|\n",
       "|     1 | a     | NA    | a     | \n",
       "| 99999 | b     | NA    | b     | \n",
       "|     3 | c     | NA    | c     | \n",
       "|     4 | d     | NA    | d     | \n",
       "|     5 | e     | NA    | e     | \n",
       "|     6 | f     | NA    | f     | \n",
       "|     7 | g     | NA    | g     | \n",
       "|     8 | h     | NA    | h     | \n",
       "|     9 | i     | NA    | i     | \n",
       "|    10 | j     | NA    | j     | \n",
       "\n",
       "\n"
      ],
      "text/plain": [
       "   spalte.name.1 spalte.name.2 neuespalte kopie.con.spalte.2\n",
       "1      1         a             NA         a                 \n",
       "2  99999         b             NA         b                 \n",
       "3      3         c             NA         c                 \n",
       "4      4         d             NA         d                 \n",
       "5      5         e             NA         e                 \n",
       "6      6         f             NA         f                 \n",
       "7      7         g             NA         g                 \n",
       "8      8         h             NA         h                 \n",
       "9      9         i             NA         i                 \n",
       "10    10         j             NA         j                 "
      ]
     },
     "metadata": {},
     "output_type": "display_data"
    }
   ],
   "source": [
    "df[, 'kopie.con.spalte.2'] <- df$spalte.name.2 # Eine Spalte kopieren\n",
    "df"
   ]
  },
  {
   "cell_type": "code",
   "execution_count": 19,
   "metadata": {
    "collapsed": false
   },
   "outputs": [
    {
     "data": {
      "text/html": [
       "<table>\n",
       "<thead><tr><th scope=col>spalte.name.1</th><th scope=col>spalte.name.2</th><th scope=col>neuespalte</th><th scope=col>kopie.con.spalte.2</th><th scope=col>spalte1.mal.zwei</th></tr></thead>\n",
       "<tbody>\n",
       "\t<tr><td>    1 </td><td>a     </td><td>NA    </td><td>a     </td><td>     2</td></tr>\n",
       "\t<tr><td>99999 </td><td>b     </td><td>NA    </td><td>b     </td><td>199998</td></tr>\n",
       "\t<tr><td>    3 </td><td>c     </td><td>NA    </td><td>c     </td><td>     6</td></tr>\n",
       "\t<tr><td>    4 </td><td>d     </td><td>NA    </td><td>d     </td><td>     8</td></tr>\n",
       "\t<tr><td>    5 </td><td>e     </td><td>NA    </td><td>e     </td><td>    10</td></tr>\n",
       "\t<tr><td>    6 </td><td>f     </td><td>NA    </td><td>f     </td><td>    12</td></tr>\n",
       "\t<tr><td>    7 </td><td>g     </td><td>NA    </td><td>g     </td><td>    14</td></tr>\n",
       "\t<tr><td>    8 </td><td>h     </td><td>NA    </td><td>h     </td><td>    16</td></tr>\n",
       "\t<tr><td>    9 </td><td>i     </td><td>NA    </td><td>i     </td><td>    18</td></tr>\n",
       "\t<tr><td>   10 </td><td>j     </td><td>NA    </td><td>j     </td><td>    20</td></tr>\n",
       "</tbody>\n",
       "</table>\n"
      ],
      "text/latex": [
       "\\begin{tabular}{r|lllll}\n",
       " spalte.name.1 & spalte.name.2 & neuespalte & kopie.con.spalte.2 & spalte1.mal.zwei\\\\\n",
       "\\hline\n",
       "\t     1  & a      & NA     & a      &      2\\\\\n",
       "\t 99999  & b      & NA     & b      & 199998\\\\\n",
       "\t     3  & c      & NA     & c      &      6\\\\\n",
       "\t     4  & d      & NA     & d      &      8\\\\\n",
       "\t     5  & e      & NA     & e      &     10\\\\\n",
       "\t     6  & f      & NA     & f      &     12\\\\\n",
       "\t     7  & g      & NA     & g      &     14\\\\\n",
       "\t     8  & h      & NA     & h      &     16\\\\\n",
       "\t     9  & i      & NA     & i      &     18\\\\\n",
       "\t    10  & j      & NA     & j      &     20\\\\\n",
       "\\end{tabular}\n"
      ],
      "text/markdown": [
       "\n",
       "spalte.name.1 | spalte.name.2 | neuespalte | kopie.con.spalte.2 | spalte1.mal.zwei | \n",
       "|---|---|---|---|---|---|---|---|---|---|\n",
       "|     1  | a      | NA     | a      |      2 | \n",
       "| 99999  | b      | NA     | b      | 199998 | \n",
       "|     3  | c      | NA     | c      |      6 | \n",
       "|     4  | d      | NA     | d      |      8 | \n",
       "|     5  | e      | NA     | e      |     10 | \n",
       "|     6  | f      | NA     | f      |     12 | \n",
       "|     7  | g      | NA     | g      |     14 | \n",
       "|     8  | h      | NA     | h      |     16 | \n",
       "|     9  | i      | NA     | i      |     18 | \n",
       "|    10  | j      | NA     | j      |     20 | \n",
       "\n",
       "\n"
      ],
      "text/plain": [
       "   spalte.name.1 spalte.name.2 neuespalte kopie.con.spalte.2 spalte1.mal.zwei\n",
       "1      1         a             NA         a                       2          \n",
       "2  99999         b             NA         b                  199998          \n",
       "3      3         c             NA         c                       6          \n",
       "4      4         d             NA         d                       8          \n",
       "5      5         e             NA         e                      10          \n",
       "6      6         f             NA         f                      12          \n",
       "7      7         g             NA         g                      14          \n",
       "8      8         h             NA         h                      16          \n",
       "9      9         i             NA         i                      18          \n",
       "10    10         j             NA         j                      20          "
      ]
     },
     "metadata": {},
     "output_type": "display_data"
    }
   ],
   "source": [
    "# Wir können auch Gleichungen verwenden\n",
    "df[['spalte1.mal.zwei']] <- df$spalte.name.1 * 2\n",
    "df"
   ]
  },
  {
   "cell_type": "code",
   "execution_count": 20,
   "metadata": {
    "collapsed": false
   },
   "outputs": [
    {
     "data": {
      "text/html": [
       "<table>\n",
       "<thead><tr><th scope=col>spalte.name.1</th><th scope=col>spalte.name.2</th><th scope=col>neuespalte</th><th scope=col>kopie.con.spalte.2</th><th scope=col>spalte1.mal.zwei</th><th scope=col>df$spalte.name.1</th></tr></thead>\n",
       "<tbody>\n",
       "\t<tr><td>    1 </td><td>a     </td><td>NA    </td><td>a     </td><td>     2</td><td>    1 </td></tr>\n",
       "\t<tr><td>99999 </td><td>b     </td><td>NA    </td><td>b     </td><td>199998</td><td>99999 </td></tr>\n",
       "\t<tr><td>    3 </td><td>c     </td><td>NA    </td><td>c     </td><td>     6</td><td>    3 </td></tr>\n",
       "\t<tr><td>    4 </td><td>d     </td><td>NA    </td><td>d     </td><td>     8</td><td>    4 </td></tr>\n",
       "\t<tr><td>    5 </td><td>e     </td><td>NA    </td><td>e     </td><td>    10</td><td>    5 </td></tr>\n",
       "\t<tr><td>    6 </td><td>f     </td><td>NA    </td><td>f     </td><td>    12</td><td>    6 </td></tr>\n",
       "\t<tr><td>    7 </td><td>g     </td><td>NA    </td><td>g     </td><td>    14</td><td>    7 </td></tr>\n",
       "\t<tr><td>    8 </td><td>h     </td><td>NA    </td><td>h     </td><td>    16</td><td>    8 </td></tr>\n",
       "\t<tr><td>    9 </td><td>i     </td><td>NA    </td><td>i     </td><td>    18</td><td>    9 </td></tr>\n",
       "\t<tr><td>   10 </td><td>j     </td><td>NA    </td><td>j     </td><td>    20</td><td>   10 </td></tr>\n",
       "</tbody>\n",
       "</table>\n"
      ],
      "text/latex": [
       "\\begin{tabular}{r|llllll}\n",
       " spalte.name.1 & spalte.name.2 & neuespalte & kopie.con.spalte.2 & spalte1.mal.zwei & df\\$spalte.name.1\\\\\n",
       "\\hline\n",
       "\t     1  & a      & NA     & a      &      2 &     1 \\\\\n",
       "\t 99999  & b      & NA     & b      & 199998 & 99999 \\\\\n",
       "\t     3  & c      & NA     & c      &      6 &     3 \\\\\n",
       "\t     4  & d      & NA     & d      &      8 &     4 \\\\\n",
       "\t     5  & e      & NA     & e      &     10 &     5 \\\\\n",
       "\t     6  & f      & NA     & f      &     12 &     6 \\\\\n",
       "\t     7  & g      & NA     & g      &     14 &     7 \\\\\n",
       "\t     8  & h      & NA     & h      &     16 &     8 \\\\\n",
       "\t     9  & i      & NA     & i      &     18 &     9 \\\\\n",
       "\t    10  & j      & NA     & j      &     20 &    10 \\\\\n",
       "\\end{tabular}\n"
      ],
      "text/markdown": [
       "\n",
       "spalte.name.1 | spalte.name.2 | neuespalte | kopie.con.spalte.2 | spalte1.mal.zwei | df$spalte.name.1 | \n",
       "|---|---|---|---|---|---|---|---|---|---|\n",
       "|     1  | a      | NA     | a      |      2 |     1  | \n",
       "| 99999  | b      | NA     | b      | 199998 | 99999  | \n",
       "|     3  | c      | NA     | c      |      6 |     3  | \n",
       "|     4  | d      | NA     | d      |      8 |     4  | \n",
       "|     5  | e      | NA     | e      |     10 |     5  | \n",
       "|     6  | f      | NA     | f      |     12 |     6  | \n",
       "|     7  | g      | NA     | g      |     14 |     7  | \n",
       "|     8  | h      | NA     | h      |     16 |     8  | \n",
       "|     9  | i      | NA     | i      |     18 |     9  | \n",
       "|    10  | j      | NA     | j      |     20 |    10  | \n",
       "\n",
       "\n"
      ],
      "text/plain": [
       "   spalte.name.1 spalte.name.2 neuespalte kopie.con.spalte.2 spalte1.mal.zwei\n",
       "1      1         a             NA         a                       2          \n",
       "2  99999         b             NA         b                  199998          \n",
       "3      3         c             NA         c                       6          \n",
       "4      4         d             NA         d                       8          \n",
       "5      5         e             NA         e                      10          \n",
       "6      6         f             NA         f                      12          \n",
       "7      7         g             NA         g                      14          \n",
       "8      8         h             NA         h                      16          \n",
       "9      9         i             NA         i                      18          \n",
       "10    10         j             NA         j                      20          \n",
       "   df$spalte.name.1\n",
       "1      1           \n",
       "2  99999           \n",
       "3      3           \n",
       "4      4           \n",
       "5      5           \n",
       "6      6           \n",
       "7      7           \n",
       "8      8           \n",
       "9      9           \n",
       "10    10           "
      ]
     },
     "metadata": {},
     "output_type": "display_data"
    }
   ],
   "source": [
    "df3 <- cbind(df, df$spalte.name.1)\n",
    "df3"
   ]
  },
  {
   "cell_type": "markdown",
   "metadata": {},
   "source": [
    "# Spaltennamen definieren"
   ]
  },
  {
   "cell_type": "code",
   "execution_count": 21,
   "metadata": {
    "collapsed": false
   },
   "outputs": [
    {
     "data": {
      "text/html": [
       "<table>\n",
       "<thead><tr><th scope=col>spalte.name.1</th><th scope=col>Name der zweiten Spalte</th><th scope=col>neuespalte</th><th scope=col>kopie.con.spalte.2</th><th scope=col>spalte1.mal.zwei</th></tr></thead>\n",
       "<tbody>\n",
       "\t<tr><td>    1 </td><td>a     </td><td>NA    </td><td>a     </td><td>     2</td></tr>\n",
       "\t<tr><td>99999 </td><td>b     </td><td>NA    </td><td>b     </td><td>199998</td></tr>\n",
       "\t<tr><td>    3 </td><td>c     </td><td>NA    </td><td>c     </td><td>     6</td></tr>\n",
       "\t<tr><td>    4 </td><td>d     </td><td>NA    </td><td>d     </td><td>     8</td></tr>\n",
       "\t<tr><td>    5 </td><td>e     </td><td>NA    </td><td>e     </td><td>    10</td></tr>\n",
       "\t<tr><td>    6 </td><td>f     </td><td>NA    </td><td>f     </td><td>    12</td></tr>\n",
       "\t<tr><td>    7 </td><td>g     </td><td>NA    </td><td>g     </td><td>    14</td></tr>\n",
       "\t<tr><td>    8 </td><td>h     </td><td>NA    </td><td>h     </td><td>    16</td></tr>\n",
       "\t<tr><td>    9 </td><td>i     </td><td>NA    </td><td>i     </td><td>    18</td></tr>\n",
       "\t<tr><td>   10 </td><td>j     </td><td>NA    </td><td>j     </td><td>    20</td></tr>\n",
       "</tbody>\n",
       "</table>\n"
      ],
      "text/latex": [
       "\\begin{tabular}{r|lllll}\n",
       " spalte.name.1 & Name der zweiten Spalte & neuespalte & kopie.con.spalte.2 & spalte1.mal.zwei\\\\\n",
       "\\hline\n",
       "\t     1  & a      & NA     & a      &      2\\\\\n",
       "\t 99999  & b      & NA     & b      & 199998\\\\\n",
       "\t     3  & c      & NA     & c      &      6\\\\\n",
       "\t     4  & d      & NA     & d      &      8\\\\\n",
       "\t     5  & e      & NA     & e      &     10\\\\\n",
       "\t     6  & f      & NA     & f      &     12\\\\\n",
       "\t     7  & g      & NA     & g      &     14\\\\\n",
       "\t     8  & h      & NA     & h      &     16\\\\\n",
       "\t     9  & i      & NA     & i      &     18\\\\\n",
       "\t    10  & j      & NA     & j      &     20\\\\\n",
       "\\end{tabular}\n"
      ],
      "text/markdown": [
       "\n",
       "spalte.name.1 | Name der zweiten Spalte | neuespalte | kopie.con.spalte.2 | spalte1.mal.zwei | \n",
       "|---|---|---|---|---|---|---|---|---|---|\n",
       "|     1  | a      | NA     | a      |      2 | \n",
       "| 99999  | b      | NA     | b      | 199998 | \n",
       "|     3  | c      | NA     | c      |      6 | \n",
       "|     4  | d      | NA     | d      |      8 | \n",
       "|     5  | e      | NA     | e      |     10 | \n",
       "|     6  | f      | NA     | f      |     12 | \n",
       "|     7  | g      | NA     | g      |     14 | \n",
       "|     8  | h      | NA     | h      |     16 | \n",
       "|     9  | i      | NA     | i      |     18 | \n",
       "|    10  | j      | NA     | j      |     20 | \n",
       "\n",
       "\n"
      ],
      "text/plain": [
       "   spalte.name.1 Name der zweiten Spalte neuespalte kopie.con.spalte.2\n",
       "1      1         a                       NA         a                 \n",
       "2  99999         b                       NA         b                 \n",
       "3      3         c                       NA         c                 \n",
       "4      4         d                       NA         d                 \n",
       "5      5         e                       NA         e                 \n",
       "6      6         f                       NA         f                 \n",
       "7      7         g                       NA         g                 \n",
       "8      8         h                       NA         h                 \n",
       "9      9         i                       NA         i                 \n",
       "10    10         j                       NA         j                 \n",
       "   spalte1.mal.zwei\n",
       "1       2          \n",
       "2  199998          \n",
       "3       6          \n",
       "4       8          \n",
       "5      10          \n",
       "6      12          \n",
       "7      14          \n",
       "8      16          \n",
       "9      18          \n",
       "10     20          "
      ]
     },
     "metadata": {},
     "output_type": "display_data"
    },
    {
     "data": {
      "text/html": [
       "<table>\n",
       "<thead><tr><th scope=col>spalte.1</th><th scope=col>spalte.2</th><th scope=col>spalte.3</th><th scope=col>spalte.4</th><th scope=col>spalte.5</th></tr></thead>\n",
       "<tbody>\n",
       "\t<tr><td>    1 </td><td>a     </td><td>NA    </td><td>a     </td><td>     2</td></tr>\n",
       "\t<tr><td>99999 </td><td>b     </td><td>NA    </td><td>b     </td><td>199998</td></tr>\n",
       "\t<tr><td>    3 </td><td>c     </td><td>NA    </td><td>c     </td><td>     6</td></tr>\n",
       "\t<tr><td>    4 </td><td>d     </td><td>NA    </td><td>d     </td><td>     8</td></tr>\n",
       "\t<tr><td>    5 </td><td>e     </td><td>NA    </td><td>e     </td><td>    10</td></tr>\n",
       "\t<tr><td>    6 </td><td>f     </td><td>NA    </td><td>f     </td><td>    12</td></tr>\n",
       "\t<tr><td>    7 </td><td>g     </td><td>NA    </td><td>g     </td><td>    14</td></tr>\n",
       "\t<tr><td>    8 </td><td>h     </td><td>NA    </td><td>h     </td><td>    16</td></tr>\n",
       "\t<tr><td>    9 </td><td>i     </td><td>NA    </td><td>i     </td><td>    18</td></tr>\n",
       "\t<tr><td>   10 </td><td>j     </td><td>NA    </td><td>j     </td><td>    20</td></tr>\n",
       "</tbody>\n",
       "</table>\n"
      ],
      "text/latex": [
       "\\begin{tabular}{r|lllll}\n",
       " spalte.1 & spalte.2 & spalte.3 & spalte.4 & spalte.5\\\\\n",
       "\\hline\n",
       "\t     1  & a      & NA     & a      &      2\\\\\n",
       "\t 99999  & b      & NA     & b      & 199998\\\\\n",
       "\t     3  & c      & NA     & c      &      6\\\\\n",
       "\t     4  & d      & NA     & d      &      8\\\\\n",
       "\t     5  & e      & NA     & e      &     10\\\\\n",
       "\t     6  & f      & NA     & f      &     12\\\\\n",
       "\t     7  & g      & NA     & g      &     14\\\\\n",
       "\t     8  & h      & NA     & h      &     16\\\\\n",
       "\t     9  & i      & NA     & i      &     18\\\\\n",
       "\t    10  & j      & NA     & j      &     20\\\\\n",
       "\\end{tabular}\n"
      ],
      "text/markdown": [
       "\n",
       "spalte.1 | spalte.2 | spalte.3 | spalte.4 | spalte.5 | \n",
       "|---|---|---|---|---|---|---|---|---|---|\n",
       "|     1  | a      | NA     | a      |      2 | \n",
       "| 99999  | b      | NA     | b      | 199998 | \n",
       "|     3  | c      | NA     | c      |      6 | \n",
       "|     4  | d      | NA     | d      |      8 | \n",
       "|     5  | e      | NA     | e      |     10 | \n",
       "|     6  | f      | NA     | f      |     12 | \n",
       "|     7  | g      | NA     | g      |     14 | \n",
       "|     8  | h      | NA     | h      |     16 | \n",
       "|     9  | i      | NA     | i      |     18 | \n",
       "|    10  | j      | NA     | j      |     20 | \n",
       "\n",
       "\n"
      ],
      "text/plain": [
       "   spalte.1 spalte.2 spalte.3 spalte.4 spalte.5\n",
       "1      1    a        NA       a             2  \n",
       "2  99999    b        NA       b        199998  \n",
       "3      3    c        NA       c             6  \n",
       "4      4    d        NA       d             8  \n",
       "5      5    e        NA       e            10  \n",
       "6      6    f        NA       f            12  \n",
       "7      7    g        NA       g            14  \n",
       "8      8    h        NA       h            16  \n",
       "9      9    i        NA       i            18  \n",
       "10    10    j        NA       j            20  "
      ]
     },
     "metadata": {},
     "output_type": "display_data"
    }
   ],
   "source": [
    "# Zweite Spalte umbenennen\n",
    "colnames(df)[2] <- 'Name der zweiten Spalte'\n",
    "df\n",
    "\n",
    "# Wir können auch alle mit einem Vektor umbenennen\n",
    "colnames(df) <- c('spalte.1', 'spalte.2', 'spalte.3', 'spalte.4' ,'spalte.5')\n",
    "df"
   ]
  },
  {
   "cell_type": "markdown",
   "metadata": {},
   "source": [
    "# Mehrere Zeilen auswählen"
   ]
  },
  {
   "cell_type": "code",
   "execution_count": 22,
   "metadata": {
    "collapsed": false
   },
   "outputs": [
    {
     "data": {
      "text/html": [
       "<table>\n",
       "<thead><tr><th scope=col>spalte.1</th><th scope=col>spalte.2</th><th scope=col>spalte.3</th><th scope=col>spalte.4</th><th scope=col>spalte.5</th></tr></thead>\n",
       "<tbody>\n",
       "\t<tr><td>    1 </td><td>a     </td><td>NA    </td><td>a     </td><td>     2</td></tr>\n",
       "\t<tr><td>99999 </td><td>b     </td><td>NA    </td><td>b     </td><td>199998</td></tr>\n",
       "\t<tr><td>    3 </td><td>c     </td><td>NA    </td><td>c     </td><td>     6</td></tr>\n",
       "\t<tr><td>    4 </td><td>d     </td><td>NA    </td><td>d     </td><td>     8</td></tr>\n",
       "\t<tr><td>    5 </td><td>e     </td><td>NA    </td><td>e     </td><td>    10</td></tr>\n",
       "\t<tr><td>    6 </td><td>f     </td><td>NA    </td><td>f     </td><td>    12</td></tr>\n",
       "\t<tr><td>    7 </td><td>g     </td><td>NA    </td><td>g     </td><td>    14</td></tr>\n",
       "\t<tr><td>    8 </td><td>h     </td><td>NA    </td><td>h     </td><td>    16</td></tr>\n",
       "\t<tr><td>    9 </td><td>i     </td><td>NA    </td><td>i     </td><td>    18</td></tr>\n",
       "\t<tr><td>   10 </td><td>j     </td><td>NA    </td><td>j     </td><td>    20</td></tr>\n",
       "</tbody>\n",
       "</table>\n"
      ],
      "text/latex": [
       "\\begin{tabular}{r|lllll}\n",
       " spalte.1 & spalte.2 & spalte.3 & spalte.4 & spalte.5\\\\\n",
       "\\hline\n",
       "\t     1  & a      & NA     & a      &      2\\\\\n",
       "\t 99999  & b      & NA     & b      & 199998\\\\\n",
       "\t     3  & c      & NA     & c      &      6\\\\\n",
       "\t     4  & d      & NA     & d      &      8\\\\\n",
       "\t     5  & e      & NA     & e      &     10\\\\\n",
       "\t     6  & f      & NA     & f      &     12\\\\\n",
       "\t     7  & g      & NA     & g      &     14\\\\\n",
       "\t     8  & h      & NA     & h      &     16\\\\\n",
       "\t     9  & i      & NA     & i      &     18\\\\\n",
       "\t    10  & j      & NA     & j      &     20\\\\\n",
       "\\end{tabular}\n"
      ],
      "text/markdown": [
       "\n",
       "spalte.1 | spalte.2 | spalte.3 | spalte.4 | spalte.5 | \n",
       "|---|---|---|---|---|---|---|---|---|---|\n",
       "|     1  | a      | NA     | a      |      2 | \n",
       "| 99999  | b      | NA     | b      | 199998 | \n",
       "|     3  | c      | NA     | c      |      6 | \n",
       "|     4  | d      | NA     | d      |      8 | \n",
       "|     5  | e      | NA     | e      |     10 | \n",
       "|     6  | f      | NA     | f      |     12 | \n",
       "|     7  | g      | NA     | g      |     14 | \n",
       "|     8  | h      | NA     | h      |     16 | \n",
       "|     9  | i      | NA     | i      |     18 | \n",
       "|    10  | j      | NA     | j      |     20 | \n",
       "\n",
       "\n"
      ],
      "text/plain": [
       "   spalte.1 spalte.2 spalte.3 spalte.4 spalte.5\n",
       "1      1    a        NA       a             2  \n",
       "2  99999    b        NA       b        199998  \n",
       "3      3    c        NA       c             6  \n",
       "4      4    d        NA       d             8  \n",
       "5      5    e        NA       e            10  \n",
       "6      6    f        NA       f            12  \n",
       "7      7    g        NA       g            14  \n",
       "8      8    h        NA       h            16  \n",
       "9      9    i        NA       i            18  \n",
       "10    10    j        NA       j            20  "
      ]
     },
     "metadata": {},
     "output_type": "display_data"
    }
   ],
   "source": [
    "erste.zehn.zeilen <- df[1:10, ] # Gleich zu head(df, 10)\n",
    "erste.zehn.zeilen"
   ]
  },
  {
   "cell_type": "code",
   "execution_count": 23,
   "metadata": {
    "collapsed": false
   },
   "outputs": [
    {
     "data": {
      "text/html": [
       "<table>\n",
       "<thead><tr><th></th><th scope=col>spalte.1</th><th scope=col>spalte.2</th><th scope=col>spalte.3</th><th scope=col>spalte.4</th><th scope=col>spalte.5</th></tr></thead>\n",
       "<tbody>\n",
       "\t<tr><th scope=row>1</th><td> 1</td><td>a </td><td>NA</td><td>a </td><td> 2</td></tr>\n",
       "\t<tr><th scope=row>3</th><td> 3</td><td>c </td><td>NA</td><td>c </td><td> 6</td></tr>\n",
       "\t<tr><th scope=row>4</th><td> 4</td><td>d </td><td>NA</td><td>d </td><td> 8</td></tr>\n",
       "\t<tr><th scope=row>5</th><td> 5</td><td>e </td><td>NA</td><td>e </td><td>10</td></tr>\n",
       "\t<tr><th scope=row>6</th><td> 6</td><td>f </td><td>NA</td><td>f </td><td>12</td></tr>\n",
       "\t<tr><th scope=row>7</th><td> 7</td><td>g </td><td>NA</td><td>g </td><td>14</td></tr>\n",
       "\t<tr><th scope=row>8</th><td> 8</td><td>h </td><td>NA</td><td>h </td><td>16</td></tr>\n",
       "\t<tr><th scope=row>9</th><td> 9</td><td>i </td><td>NA</td><td>i </td><td>18</td></tr>\n",
       "\t<tr><th scope=row>10</th><td>10</td><td>j </td><td>NA</td><td>j </td><td>20</td></tr>\n",
       "</tbody>\n",
       "</table>\n"
      ],
      "text/latex": [
       "\\begin{tabular}{r|lllll}\n",
       "  & spalte.1 & spalte.2 & spalte.3 & spalte.4 & spalte.5\\\\\n",
       "\\hline\n",
       "\t1 &  1 & a  & NA & a  &  2\\\\\n",
       "\t3 &  3 & c  & NA & c  &  6\\\\\n",
       "\t4 &  4 & d  & NA & d  &  8\\\\\n",
       "\t5 &  5 & e  & NA & e  & 10\\\\\n",
       "\t6 &  6 & f  & NA & f  & 12\\\\\n",
       "\t7 &  7 & g  & NA & g  & 14\\\\\n",
       "\t8 &  8 & h  & NA & h  & 16\\\\\n",
       "\t9 &  9 & i  & NA & i  & 18\\\\\n",
       "\t10 & 10 & j  & NA & j  & 20\\\\\n",
       "\\end{tabular}\n"
      ],
      "text/markdown": [
       "\n",
       "| <!--/--> | spalte.1 | spalte.2 | spalte.3 | spalte.4 | spalte.5 | \n",
       "|---|---|---|---|---|---|---|---|---|\n",
       "| 1 |  1 | a  | NA | a  |  2 | \n",
       "| 3 |  3 | c  | NA | c  |  6 | \n",
       "| 4 |  4 | d  | NA | d  |  8 | \n",
       "| 5 |  5 | e  | NA | e  | 10 | \n",
       "| 6 |  6 | f  | NA | f  | 12 | \n",
       "| 7 |  7 | g  | NA | g  | 14 | \n",
       "| 8 |  8 | h  | NA | h  | 16 | \n",
       "| 9 |  9 | i  | NA | i  | 18 | \n",
       "| 10 | 10 | j  | NA | j  | 20 | \n",
       "\n",
       "\n"
      ],
      "text/plain": [
       "   spalte.1 spalte.2 spalte.3 spalte.4 spalte.5\n",
       "1   1       a        NA       a         2      \n",
       "3   3       c        NA       c         6      \n",
       "4   4       d        NA       d         8      \n",
       "5   5       e        NA       e        10      \n",
       "6   6       f        NA       f        12      \n",
       "7   7       g        NA       g        14      \n",
       "8   8       h        NA       h        16      \n",
       "9   9       i        NA       i        18      \n",
       "10 10       j        NA       j        20      "
      ]
     },
     "metadata": {},
     "output_type": "display_data"
    }
   ],
   "source": [
    "aulles.außer.zeile.zwei <- df[-2, ]\n",
    "aulles.außer.zeile.zwei"
   ]
  },
  {
   "cell_type": "code",
   "execution_count": 24,
   "metadata": {
    "collapsed": false
   },
   "outputs": [
    {
     "data": {
      "text/html": [
       "<table>\n",
       "<thead><tr><th></th><th scope=col>spalte.1</th><th scope=col>spalte.2</th><th scope=col>spalte.3</th><th scope=col>spalte.4</th><th scope=col>spalte.5</th></tr></thead>\n",
       "<tbody>\n",
       "\t<tr><th scope=row>2</th><td>99999 </td><td>b     </td><td>NA    </td><td>b     </td><td>199998</td></tr>\n",
       "\t<tr><th scope=row>9</th><td>    9 </td><td>i     </td><td>NA    </td><td>i     </td><td>    18</td></tr>\n",
       "\t<tr><th scope=row>10</th><td>   10 </td><td>j     </td><td>NA    </td><td>j     </td><td>    20</td></tr>\n",
       "</tbody>\n",
       "</table>\n"
      ],
      "text/latex": [
       "\\begin{tabular}{r|lllll}\n",
       "  & spalte.1 & spalte.2 & spalte.3 & spalte.4 & spalte.5\\\\\n",
       "\\hline\n",
       "\t2 & 99999  & b      & NA     & b      & 199998\\\\\n",
       "\t9 &     9  & i      & NA     & i      &     18\\\\\n",
       "\t10 &    10  & j      & NA     & j      &     20\\\\\n",
       "\\end{tabular}\n"
      ],
      "text/markdown": [
       "\n",
       "| <!--/--> | spalte.1 | spalte.2 | spalte.3 | spalte.4 | spalte.5 | \n",
       "|---|---|---|\n",
       "| 2 | 99999  | b      | NA     | b      | 199998 | \n",
       "| 9 |     9  | i      | NA     | i      |     18 | \n",
       "| 10 |    10  | j      | NA     | j      |     20 | \n",
       "\n",
       "\n"
      ],
      "text/plain": [
       "   spalte.1 spalte.2 spalte.3 spalte.4 spalte.5\n",
       "2  99999    b        NA       b        199998  \n",
       "9      9    i        NA       i            18  \n",
       "10    10    j        NA       j            20  "
      ]
     },
     "metadata": {},
     "output_type": "display_data"
    },
    {
     "data": {
      "text/html": [
       "<table>\n",
       "<thead><tr><th></th><th scope=col>spalte.1</th><th scope=col>spalte.2</th><th scope=col>spalte.3</th><th scope=col>spalte.4</th><th scope=col>spalte.5</th></tr></thead>\n",
       "<tbody>\n",
       "\t<tr><th scope=row>2</th><td>99999 </td><td>b     </td><td>NA    </td><td>b     </td><td>199998</td></tr>\n",
       "\t<tr><th scope=row>9</th><td>    9 </td><td>i     </td><td>NA    </td><td>i     </td><td>    18</td></tr>\n",
       "\t<tr><th scope=row>10</th><td>   10 </td><td>j     </td><td>NA    </td><td>j     </td><td>    20</td></tr>\n",
       "</tbody>\n",
       "</table>\n"
      ],
      "text/latex": [
       "\\begin{tabular}{r|lllll}\n",
       "  & spalte.1 & spalte.2 & spalte.3 & spalte.4 & spalte.5\\\\\n",
       "\\hline\n",
       "\t2 & 99999  & b      & NA     & b      & 199998\\\\\n",
       "\t9 &     9  & i      & NA     & i      &     18\\\\\n",
       "\t10 &    10  & j      & NA     & j      &     20\\\\\n",
       "\\end{tabular}\n"
      ],
      "text/markdown": [
       "\n",
       "| <!--/--> | spalte.1 | spalte.2 | spalte.3 | spalte.4 | spalte.5 | \n",
       "|---|---|---|\n",
       "| 2 | 99999  | b      | NA     | b      | 199998 | \n",
       "| 9 |     9  | i      | NA     | i      |     18 | \n",
       "| 10 |    10  | j      | NA     | j      |     20 | \n",
       "\n",
       "\n"
      ],
      "text/plain": [
       "   spalte.1 spalte.2 spalte.3 spalte.4 spalte.5\n",
       "2  99999    b        NA       b        199998  \n",
       "9      9    i        NA       i            18  \n",
       "10    10    j        NA       j            20  "
      ]
     },
     "metadata": {},
     "output_type": "display_data"
    }
   ],
   "source": [
    "# Bedingte Auswahl\n",
    "sub1 <- df[ (df$spalte.1 > 8 & df$spalte.5 > 10), ]\n",
    "sub1\n",
    "\n",
    "sub2 <- subset(df, spalte.1 > 8 & spalte.5 > 10)\n",
    "sub2"
   ]
  },
  {
   "cell_type": "markdown",
   "metadata": {},
   "source": [
    "# Mehrere Spalten wählen"
   ]
  },
  {
   "cell_type": "code",
   "execution_count": 25,
   "metadata": {
    "collapsed": false
   },
   "outputs": [
    {
     "data": {
      "text/html": [
       "<table>\n",
       "<thead><tr><th scope=col>spalte.1</th><th scope=col>spalte.2</th><th scope=col>spalte.3</th></tr></thead>\n",
       "<tbody>\n",
       "\t<tr><td>    1</td><td>a    </td><td>NA   </td></tr>\n",
       "\t<tr><td>99999</td><td>b    </td><td>NA   </td></tr>\n",
       "\t<tr><td>    3</td><td>c    </td><td>NA   </td></tr>\n",
       "\t<tr><td>    4</td><td>d    </td><td>NA   </td></tr>\n",
       "\t<tr><td>    5</td><td>e    </td><td>NA   </td></tr>\n",
       "\t<tr><td>    6</td><td>f    </td><td>NA   </td></tr>\n",
       "\t<tr><td>    7</td><td>g    </td><td>NA   </td></tr>\n",
       "\t<tr><td>    8</td><td>h    </td><td>NA   </td></tr>\n",
       "\t<tr><td>    9</td><td>i    </td><td>NA   </td></tr>\n",
       "\t<tr><td>   10</td><td>j    </td><td>NA   </td></tr>\n",
       "</tbody>\n",
       "</table>\n"
      ],
      "text/latex": [
       "\\begin{tabular}{r|lll}\n",
       " spalte.1 & spalte.2 & spalte.3\\\\\n",
       "\\hline\n",
       "\t     1 & a     & NA   \\\\\n",
       "\t 99999 & b     & NA   \\\\\n",
       "\t     3 & c     & NA   \\\\\n",
       "\t     4 & d     & NA   \\\\\n",
       "\t     5 & e     & NA   \\\\\n",
       "\t     6 & f     & NA   \\\\\n",
       "\t     7 & g     & NA   \\\\\n",
       "\t     8 & h     & NA   \\\\\n",
       "\t     9 & i     & NA   \\\\\n",
       "\t    10 & j     & NA   \\\\\n",
       "\\end{tabular}\n"
      ],
      "text/markdown": [
       "\n",
       "spalte.1 | spalte.2 | spalte.3 | \n",
       "|---|---|---|---|---|---|---|---|---|---|\n",
       "|     1 | a     | NA    | \n",
       "| 99999 | b     | NA    | \n",
       "|     3 | c     | NA    | \n",
       "|     4 | d     | NA    | \n",
       "|     5 | e     | NA    | \n",
       "|     6 | f     | NA    | \n",
       "|     7 | g     | NA    | \n",
       "|     8 | h     | NA    | \n",
       "|     9 | i     | NA    | \n",
       "|    10 | j     | NA    | \n",
       "\n",
       "\n"
      ],
      "text/plain": [
       "   spalte.1 spalte.2 spalte.3\n",
       "1      1    a        NA      \n",
       "2  99999    b        NA      \n",
       "3      3    c        NA      \n",
       "4      4    d        NA      \n",
       "5      5    e        NA      \n",
       "6      6    f        NA      \n",
       "7      7    g        NA      \n",
       "8      8    h        NA      \n",
       "9      9    i        NA      \n",
       "10    10    j        NA      "
      ]
     },
     "metadata": {},
     "output_type": "display_data"
    }
   ],
   "source": [
    "df[, c(1, 2, 3)] # Die Spalten 1 bis 3 wählen"
   ]
  },
  {
   "cell_type": "code",
   "execution_count": 26,
   "metadata": {
    "collapsed": false
   },
   "outputs": [
    {
     "data": {
      "text/html": [
       "<table>\n",
       "<thead><tr><th scope=col>spalte.1</th><th scope=col>spalte.5</th></tr></thead>\n",
       "<tbody>\n",
       "\t<tr><td>    1 </td><td>     2</td></tr>\n",
       "\t<tr><td>99999 </td><td>199998</td></tr>\n",
       "\t<tr><td>    3 </td><td>     6</td></tr>\n",
       "\t<tr><td>    4 </td><td>     8</td></tr>\n",
       "\t<tr><td>    5 </td><td>    10</td></tr>\n",
       "\t<tr><td>    6 </td><td>    12</td></tr>\n",
       "\t<tr><td>    7 </td><td>    14</td></tr>\n",
       "\t<tr><td>    8 </td><td>    16</td></tr>\n",
       "\t<tr><td>    9 </td><td>    18</td></tr>\n",
       "\t<tr><td>   10 </td><td>    20</td></tr>\n",
       "</tbody>\n",
       "</table>\n"
      ],
      "text/latex": [
       "\\begin{tabular}{r|ll}\n",
       " spalte.1 & spalte.5\\\\\n",
       "\\hline\n",
       "\t     1  &      2\\\\\n",
       "\t 99999  & 199998\\\\\n",
       "\t     3  &      6\\\\\n",
       "\t     4  &      8\\\\\n",
       "\t     5  &     10\\\\\n",
       "\t     6  &     12\\\\\n",
       "\t     7  &     14\\\\\n",
       "\t     8  &     16\\\\\n",
       "\t     9  &     18\\\\\n",
       "\t    10  &     20\\\\\n",
       "\\end{tabular}\n"
      ],
      "text/markdown": [
       "\n",
       "spalte.1 | spalte.5 | \n",
       "|---|---|---|---|---|---|---|---|---|---|\n",
       "|     1  |      2 | \n",
       "| 99999  | 199998 | \n",
       "|     3  |      6 | \n",
       "|     4  |      8 | \n",
       "|     5  |     10 | \n",
       "|     6  |     12 | \n",
       "|     7  |     14 | \n",
       "|     8  |     16 | \n",
       "|     9  |     18 | \n",
       "|    10  |     20 | \n",
       "\n",
       "\n"
      ],
      "text/plain": [
       "   spalte.1 spalte.5\n",
       "1      1         2  \n",
       "2  99999    199998  \n",
       "3      3         6  \n",
       "4      4         8  \n",
       "5      5        10  \n",
       "6      6        12  \n",
       "7      7        14  \n",
       "8      8        16  \n",
       "9      9        18  \n",
       "10    10        20  "
      ]
     },
     "metadata": {},
     "output_type": "display_data"
    }
   ],
   "source": [
    "df[, c('spalte.1', 'spalte.5')] # Nach Namen"
   ]
  },
  {
   "cell_type": "code",
   "execution_count": 27,
   "metadata": {
    "collapsed": false
   },
   "outputs": [
    {
     "data": {
      "text/html": [
       "<table>\n",
       "<thead><tr><th scope=col>spalte.2</th><th scope=col>spalte.3</th><th scope=col>spalte.4</th><th scope=col>spalte.5</th></tr></thead>\n",
       "<tbody>\n",
       "\t<tr><td>a     </td><td>NA    </td><td>a     </td><td>     2</td></tr>\n",
       "\t<tr><td>b     </td><td>NA    </td><td>b     </td><td>199998</td></tr>\n",
       "\t<tr><td>c     </td><td>NA    </td><td>c     </td><td>     6</td></tr>\n",
       "\t<tr><td>d     </td><td>NA    </td><td>d     </td><td>     8</td></tr>\n",
       "\t<tr><td>e     </td><td>NA    </td><td>e     </td><td>    10</td></tr>\n",
       "\t<tr><td>f     </td><td>NA    </td><td>f     </td><td>    12</td></tr>\n",
       "\t<tr><td>g     </td><td>NA    </td><td>g     </td><td>    14</td></tr>\n",
       "\t<tr><td>h     </td><td>NA    </td><td>h     </td><td>    16</td></tr>\n",
       "\t<tr><td>i     </td><td>NA    </td><td>i     </td><td>    18</td></tr>\n",
       "\t<tr><td>j     </td><td>NA    </td><td>j     </td><td>    20</td></tr>\n",
       "</tbody>\n",
       "</table>\n"
      ],
      "text/latex": [
       "\\begin{tabular}{r|llll}\n",
       " spalte.2 & spalte.3 & spalte.4 & spalte.5\\\\\n",
       "\\hline\n",
       "\t a      & NA     & a      &      2\\\\\n",
       "\t b      & NA     & b      & 199998\\\\\n",
       "\t c      & NA     & c      &      6\\\\\n",
       "\t d      & NA     & d      &      8\\\\\n",
       "\t e      & NA     & e      &     10\\\\\n",
       "\t f      & NA     & f      &     12\\\\\n",
       "\t g      & NA     & g      &     14\\\\\n",
       "\t h      & NA     & h      &     16\\\\\n",
       "\t i      & NA     & i      &     18\\\\\n",
       "\t j      & NA     & j      &     20\\\\\n",
       "\\end{tabular}\n"
      ],
      "text/markdown": [
       "\n",
       "spalte.2 | spalte.3 | spalte.4 | spalte.5 | \n",
       "|---|---|---|---|---|---|---|---|---|---|\n",
       "| a      | NA     | a      |      2 | \n",
       "| b      | NA     | b      | 199998 | \n",
       "| c      | NA     | c      |      6 | \n",
       "| d      | NA     | d      |      8 | \n",
       "| e      | NA     | e      |     10 | \n",
       "| f      | NA     | f      |     12 | \n",
       "| g      | NA     | g      |     14 | \n",
       "| h      | NA     | h      |     16 | \n",
       "| i      | NA     | i      |     18 | \n",
       "| j      | NA     | j      |     20 | \n",
       "\n",
       "\n"
      ],
      "text/plain": [
       "   spalte.2 spalte.3 spalte.4 spalte.5\n",
       "1  a        NA       a             2  \n",
       "2  b        NA       b        199998  \n",
       "3  c        NA       c             6  \n",
       "4  d        NA       d             8  \n",
       "5  e        NA       e            10  \n",
       "6  f        NA       f            12  \n",
       "7  g        NA       g            14  \n",
       "8  h        NA       h            16  \n",
       "9  i        NA       i            18  \n",
       "10 j        NA       j            20  "
      ]
     },
     "metadata": {},
     "output_type": "display_data"
    }
   ],
   "source": [
    "df[, -1] # Alle Spalten außer die erste"
   ]
  },
  {
   "cell_type": "code",
   "execution_count": 28,
   "metadata": {
    "collapsed": false
   },
   "outputs": [
    {
     "data": {
      "text/html": [
       "<table>\n",
       "<thead><tr><th scope=col>spalte.2</th><th scope=col>spalte.4</th><th scope=col>spalte.5</th></tr></thead>\n",
       "<tbody>\n",
       "\t<tr><td>a     </td><td>a     </td><td>     2</td></tr>\n",
       "\t<tr><td>b     </td><td>b     </td><td>199998</td></tr>\n",
       "\t<tr><td>c     </td><td>c     </td><td>     6</td></tr>\n",
       "\t<tr><td>d     </td><td>d     </td><td>     8</td></tr>\n",
       "\t<tr><td>e     </td><td>e     </td><td>    10</td></tr>\n",
       "\t<tr><td>f     </td><td>f     </td><td>    12</td></tr>\n",
       "\t<tr><td>g     </td><td>g     </td><td>    14</td></tr>\n",
       "\t<tr><td>h     </td><td>h     </td><td>    16</td></tr>\n",
       "\t<tr><td>i     </td><td>i     </td><td>    18</td></tr>\n",
       "\t<tr><td>j     </td><td>j     </td><td>    20</td></tr>\n",
       "</tbody>\n",
       "</table>\n"
      ],
      "text/latex": [
       "\\begin{tabular}{r|lll}\n",
       " spalte.2 & spalte.4 & spalte.5\\\\\n",
       "\\hline\n",
       "\t a      & a      &      2\\\\\n",
       "\t b      & b      & 199998\\\\\n",
       "\t c      & c      &      6\\\\\n",
       "\t d      & d      &      8\\\\\n",
       "\t e      & e      &     10\\\\\n",
       "\t f      & f      &     12\\\\\n",
       "\t g      & g      &     14\\\\\n",
       "\t h      & h      &     16\\\\\n",
       "\t i      & i      &     18\\\\\n",
       "\t j      & j      &     20\\\\\n",
       "\\end{tabular}\n"
      ],
      "text/markdown": [
       "\n",
       "spalte.2 | spalte.4 | spalte.5 | \n",
       "|---|---|---|---|---|---|---|---|---|---|\n",
       "| a      | a      |      2 | \n",
       "| b      | b      | 199998 | \n",
       "| c      | c      |      6 | \n",
       "| d      | d      |      8 | \n",
       "| e      | e      |     10 | \n",
       "| f      | f      |     12 | \n",
       "| g      | g      |     14 | \n",
       "| h      | h      |     16 | \n",
       "| i      | i      |     18 | \n",
       "| j      | j      |     20 | \n",
       "\n",
       "\n"
      ],
      "text/plain": [
       "   spalte.2 spalte.4 spalte.5\n",
       "1  a        a             2  \n",
       "2  b        b        199998  \n",
       "3  c        c             6  \n",
       "4  d        d             8  \n",
       "5  e        e            10  \n",
       "6  f        f            12  \n",
       "7  g        g            14  \n",
       "8  h        h            16  \n",
       "9  i        i            18  \n",
       "10 j        j            20  "
      ]
     },
     "metadata": {},
     "output_type": "display_data"
    }
   ],
   "source": [
    "df[, -c(1, 3)] # Ohne Spalte 1 und 3"
   ]
  },
  {
   "cell_type": "markdown",
   "metadata": {},
   "source": [
    "# Mit fehlenden Werten umgehen\n",
    "\n",
    "Mit felhenden Werten umgehen zu können ist eine wichtige Fähigkeit bei der Arbeit mit Data Frames!"
   ]
  },
  {
   "cell_type": "code",
   "execution_count": 29,
   "metadata": {
    "collapsed": false
   },
   "outputs": [
    {
     "data": {
      "text/html": [
       "TRUE"
      ],
      "text/latex": [
       "TRUE"
      ],
      "text/markdown": [
       "TRUE"
      ],
      "text/plain": [
       "[1] TRUE"
      ]
     },
     "metadata": {},
     "output_type": "display_data"
    }
   ],
   "source": [
    "any(is.na(df)) # Suche nach NA Werten"
   ]
  },
  {
   "cell_type": "code",
   "execution_count": 30,
   "metadata": {
    "collapsed": false
   },
   "outputs": [
    {
     "data": {
      "text/html": [
       "FALSE"
      ],
      "text/latex": [
       "FALSE"
      ],
      "text/markdown": [
       "FALSE"
      ],
      "text/plain": [
       "[1] FALSE"
      ]
     },
     "metadata": {},
     "output_type": "display_data"
    }
   ],
   "source": [
    "any(is.na(df$spalte.1)) # Suche nach NA Werten in einer Spalte"
   ]
  },
  {
   "cell_type": "code",
   "execution_count": null,
   "metadata": {
    "collapsed": true
   },
   "outputs": [],
   "source": [
    "# Die Zeilen mit fehlenden Werten löschen\n",
    "df <- df[!is.na(df$spalte.1), ]"
   ]
  },
  {
   "cell_type": "code",
   "execution_count": null,
   "metadata": {
    "collapsed": true
   },
   "outputs": [],
   "source": [
    "# NAs mit etwas anderem ersetzen\n",
    "df[is.na(df)] <- 0 # Für den gesamten df"
   ]
  },
  {
   "cell_type": "code",
   "execution_count": null,
   "metadata": {
    "collapsed": true
   },
   "outputs": [],
   "source": [
    "df$spalte.3[is.na(df$spalte.3)] <- 999 # Für eine Spezielle Spalte"
   ]
  },
  {
   "cell_type": "markdown",
   "metadata": {},
   "source": [
    "# Geschafft!\n",
    "\n",
    "### Hoffentlich hilft das! Und denkt daran, dieses Notebook als Referenz für spätere Lektionen und Aufgaben zu verwenden."
   ]
  }
 ],
 "metadata": {
  "kernelspec": {
   "display_name": "R",
   "language": "R",
   "name": "ir"
  },
  "language_info": {
   "codemirror_mode": "r",
   "file_extension": ".r",
   "mimetype": "text/x-r-source",
   "name": "R",
   "pygments_lexer": "r",
   "version": "3.3.2"
  }
 },
 "nbformat": 4,
 "nbformat_minor": 1
}
