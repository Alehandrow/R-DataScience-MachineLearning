{
 "cells": [
  {
   "cell_type": "markdown",
   "metadata": {},
   "source": [
    "# Vektor Indexierung und Ausschneiden\n",
    "\n",
    "Zum Indexieren können wir die Klammernschreibweise verwenden. So greifen wir auf einzelne Elemente des Vektors zu:"
   ]
  },
  {
   "cell_type": "code",
   "execution_count": 1,
   "metadata": {
    "collapsed": true
   },
   "outputs": [],
   "source": [
    "v1 <- c(100,200,300)\n",
    "v2 <- c('a','b','c')"
   ]
  },
  {
   "cell_type": "code",
   "execution_count": 2,
   "metadata": {},
   "outputs": [
    {
     "data": {
      "text/html": [
       "<ol class=list-inline>\n",
       "\t<li>100</li>\n",
       "\t<li>200</li>\n",
       "\t<li>300</li>\n",
       "</ol>\n"
      ],
      "text/latex": [
       "\\begin{enumerate*}\n",
       "\\item 100\n",
       "\\item 200\n",
       "\\item 300\n",
       "\\end{enumerate*}\n"
      ],
      "text/markdown": [
       "1. 100\n",
       "2. 200\n",
       "3. 300\n",
       "\n",
       "\n"
      ],
      "text/plain": [
       "[1] 100 200 300"
      ]
     },
     "metadata": {},
     "output_type": "display_data"
    },
    {
     "data": {
      "text/html": [
       "<ol class=list-inline>\n",
       "\t<li>'a'</li>\n",
       "\t<li>'b'</li>\n",
       "\t<li>'c'</li>\n",
       "</ol>\n"
      ],
      "text/latex": [
       "\\begin{enumerate*}\n",
       "\\item 'a'\n",
       "\\item 'b'\n",
       "\\item 'c'\n",
       "\\end{enumerate*}\n"
      ],
      "text/markdown": [
       "1. 'a'\n",
       "2. 'b'\n",
       "3. 'c'\n",
       "\n",
       "\n"
      ],
      "text/plain": [
       "[1] \"a\" \"b\" \"c\""
      ]
     },
     "metadata": {},
     "output_type": "display_data"
    }
   ],
   "source": [
    "v1\n",
    "v2"
   ]
  },
  {
   "cell_type": "markdown",
   "metadata": {},
   "source": [
    "Das Indexieren funktioniert dann wie folgt: Wir nutzen die Klammernschreibweise und übergeben die Position des Elements als Zahl. Hierbei ist wichtig, dass die Indexierung in R bei 1 beginnt. In vielen anderen Sprachen (bspw. Python) ist das die 0."
   ]
  },
  {
   "cell_type": "code",
   "execution_count": 3,
   "metadata": {},
   "outputs": [
    {
     "data": {
      "text/html": [
       "200"
      ],
      "text/latex": [
       "200"
      ],
      "text/markdown": [
       "200"
      ],
      "text/plain": [
       "[1] 200"
      ]
     },
     "metadata": {},
     "output_type": "display_data"
    }
   ],
   "source": [
    "# Das zweite Element\n",
    "v1[2]"
   ]
  },
  {
   "cell_type": "code",
   "execution_count": 4,
   "metadata": {},
   "outputs": [
    {
     "data": {
      "text/html": [
       "'b'"
      ],
      "text/latex": [
       "'b'"
      ],
      "text/markdown": [
       "'b'"
      ],
      "text/plain": [
       "[1] \"b\""
      ]
     },
     "metadata": {},
     "output_type": "display_data"
    }
   ],
   "source": [
    "v2[2]"
   ]
  },
  {
   "cell_type": "markdown",
   "metadata": {},
   "source": [
    "## Indexierung mehrerer Elemente\n",
    "\n",
    "Wir können auch auf mehrere Elemente eines Vekotors zugreifen, indem wir einen Vektor von Index-Positionen in eckigen Klammern übergeben. Zum Beispiel:"
   ]
  },
  {
   "cell_type": "code",
   "execution_count": 5,
   "metadata": {},
   "outputs": [
    {
     "data": {
      "text/html": [
       "<ol class=list-inline>\n",
       "\t<li>100</li>\n",
       "\t<li>200</li>\n",
       "</ol>\n"
      ],
      "text/latex": [
       "\\begin{enumerate*}\n",
       "\\item 100\n",
       "\\item 200\n",
       "\\end{enumerate*}\n"
      ],
      "text/markdown": [
       "1. 100\n",
       "2. 200\n",
       "\n",
       "\n"
      ],
      "text/plain": [
       "[1] 100 200"
      ]
     },
     "metadata": {},
     "output_type": "display_data"
    }
   ],
   "source": [
    "v1[c(1,2)]"
   ]
  },
  {
   "cell_type": "code",
   "execution_count": 6,
   "metadata": {},
   "outputs": [
    {
     "data": {
      "text/html": [
       "<ol class=list-inline>\n",
       "\t<li>'b'</li>\n",
       "\t<li>'c'</li>\n",
       "</ol>\n"
      ],
      "text/latex": [
       "\\begin{enumerate*}\n",
       "\\item 'b'\n",
       "\\item 'c'\n",
       "\\end{enumerate*}\n"
      ],
      "text/markdown": [
       "1. 'b'\n",
       "2. 'c'\n",
       "\n",
       "\n"
      ],
      "text/plain": [
       "[1] \"b\" \"c\""
      ]
     },
     "metadata": {},
     "output_type": "display_data"
    }
   ],
   "source": [
    "v2[c(2,3)]"
   ]
  },
  {
   "cell_type": "code",
   "execution_count": 7,
   "metadata": {},
   "outputs": [
    {
     "data": {
      "text/html": [
       "<ol class=list-inline>\n",
       "\t<li>'a'</li>\n",
       "\t<li>'c'</li>\n",
       "</ol>\n"
      ],
      "text/latex": [
       "\\begin{enumerate*}\n",
       "\\item 'a'\n",
       "\\item 'c'\n",
       "\\end{enumerate*}\n"
      ],
      "text/markdown": [
       "1. 'a'\n",
       "2. 'c'\n",
       "\n",
       "\n"
      ],
      "text/plain": [
       "[1] \"a\" \"c\""
      ]
     },
     "metadata": {},
     "output_type": "display_data"
    }
   ],
   "source": [
    "v2[c(1,3)]"
   ]
  },
  {
   "cell_type": "markdown",
   "metadata": {},
   "source": [
    "## Ausschneiden\n",
    "Wir können auch einen Doppelpunkt (`:`) verwenden, um ein Stück eines Vektors auszuschneiden. Das Format lautet:\n",
    "\n",
    "    vector[start_index:stop_index]\n",
    "    \n",
    "So erhalten wir ein \"Stück\" des Vektors als Ausgabe. Ein Beispiel:"
   ]
  },
  {
   "cell_type": "code",
   "execution_count": 8,
   "metadata": {
    "collapsed": true
   },
   "outputs": [],
   "source": [
    "v <- c(1,2,3,4,5,6,7,8,9,10)"
   ]
  },
  {
   "cell_type": "code",
   "execution_count": 9,
   "metadata": {},
   "outputs": [
    {
     "data": {
      "text/html": [
       "<ol class=list-inline>\n",
       "\t<li>2</li>\n",
       "\t<li>3</li>\n",
       "\t<li>4</li>\n",
       "</ol>\n"
      ],
      "text/latex": [
       "\\begin{enumerate*}\n",
       "\\item 2\n",
       "\\item 3\n",
       "\\item 4\n",
       "\\end{enumerate*}\n"
      ],
      "text/markdown": [
       "1. 2\n",
       "2. 3\n",
       "3. 4\n",
       "\n",
       "\n"
      ],
      "text/plain": [
       "[1] 2 3 4"
      ]
     },
     "metadata": {},
     "output_type": "display_data"
    }
   ],
   "source": [
    "v[2:4]"
   ]
  },
  {
   "cell_type": "code",
   "execution_count": 10,
   "metadata": {},
   "outputs": [
    {
     "data": {
      "text/html": [
       "<ol class=list-inline>\n",
       "\t<li>7</li>\n",
       "\t<li>8</li>\n",
       "\t<li>9</li>\n",
       "\t<li>10</li>\n",
       "</ol>\n"
      ],
      "text/latex": [
       "\\begin{enumerate*}\n",
       "\\item 7\n",
       "\\item 8\n",
       "\\item 9\n",
       "\\item 10\n",
       "\\end{enumerate*}\n"
      ],
      "text/markdown": [
       "1. 7\n",
       "2. 8\n",
       "3. 9\n",
       "4. 10\n",
       "\n",
       "\n"
      ],
      "text/plain": [
       "[1]  7  8  9 10"
      ]
     },
     "metadata": {},
     "output_type": "display_data"
    }
   ],
   "source": [
    "v[7:10]"
   ]
  },
  {
   "cell_type": "markdown",
   "metadata": {},
   "source": [
    "Achtet darauf, dass sowohl `start_index` als auch `stop_index` in der Ausgabe mit eingeschlossen sind."
   ]
  },
  {
   "cell_type": "markdown",
   "metadata": {},
   "source": [
    "## Indexierung mit Namen\n",
    "\n",
    "Wir haben bereits zuvor gesehen, wie wir Elementen in einem Vektor Namen zuordnen können. Zum Beispiel:"
   ]
  },
  {
   "cell_type": "code",
   "execution_count": 11,
   "metadata": {},
   "outputs": [],
   "source": [
    "v <- c(1,2,3,4)\n",
    "names(v) <- c('a','b','c','d')"
   ]
  },
  {
   "cell_type": "markdown",
   "metadata": {},
   "source": [
    "Zum Indexieren können wir nun genau diese Namen verwenden, um zugehörige Elemente aus dem Vektor auszuwählen."
   ]
  },
  {
   "cell_type": "code",
   "execution_count": 12,
   "metadata": {},
   "outputs": [
    {
     "data": {
      "text/html": [
       "<strong>a:</strong> 1"
      ],
      "text/latex": [
       "\\textbf{a:} 1"
      ],
      "text/markdown": [
       "**a:** 1"
      ],
      "text/plain": [
       "a \n",
       "1 "
      ]
     },
     "metadata": {},
     "output_type": "display_data"
    }
   ],
   "source": [
    "v['a']"
   ]
  },
  {
   "cell_type": "markdown",
   "metadata": {},
   "source": [
    "Oder einen ganzen Vektor an Namen übergeben!"
   ]
  },
  {
   "cell_type": "code",
   "execution_count": 13,
   "metadata": {},
   "outputs": [
    {
     "data": {
      "text/html": [
       "<dl class=dl-horizontal>\n",
       "\t<dt>a</dt>\n",
       "\t\t<dd>1</dd>\n",
       "\t<dt>c</dt>\n",
       "\t\t<dd>3</dd>\n",
       "\t<dt>b</dt>\n",
       "\t\t<dd>2</dd>\n",
       "</dl>\n"
      ],
      "text/latex": [
       "\\begin{description*}\n",
       "\\item[a] 1\n",
       "\\item[c] 3\n",
       "\\item[b] 2\n",
       "\\end{description*}\n"
      ],
      "text/markdown": [
       "a\n",
       ":   1c\n",
       ":   3b\n",
       ":   2\n",
       "\n"
      ],
      "text/plain": [
       "a c b \n",
       "1 3 2 "
      ]
     },
     "metadata": {},
     "output_type": "display_data"
    }
   ],
   "source": [
    "# Achte darauf, dass wir nicht die origninale Reihenfolge abfragen\n",
    "v[c('a','c','b')]"
   ]
  },
  {
   "cell_type": "markdown",
   "metadata": {},
   "source": [
    "## Vergleichsoperatoren und Auswahl\n",
    "\n",
    "Wie bereits in der Vergleichsoperatoren-Lektion erwähnt, können wir diese nutzen, um bestimmte Elemente aus einem Vektor auszuwählen. Das wir manchmal als \"boolean/logical masking\" bezeichnet, da wir einen Vektor logischer Werte erstellen, um Elemente zu wählen. Schauen wir uns das genauer an:"
   ]
  },
  {
   "cell_type": "code",
   "execution_count": 14,
   "metadata": {},
   "outputs": [
    {
     "data": {
      "text/html": [
       "<dl class=dl-horizontal>\n",
       "\t<dt>a</dt>\n",
       "\t\t<dd>1</dd>\n",
       "\t<dt>b</dt>\n",
       "\t\t<dd>2</dd>\n",
       "\t<dt>c</dt>\n",
       "\t\t<dd>3</dd>\n",
       "\t<dt>d</dt>\n",
       "\t\t<dd>4</dd>\n",
       "</dl>\n"
      ],
      "text/latex": [
       "\\begin{description*}\n",
       "\\item[a] 1\n",
       "\\item[b] 2\n",
       "\\item[c] 3\n",
       "\\item[d] 4\n",
       "\\end{description*}\n"
      ],
      "text/markdown": [
       "a\n",
       ":   1b\n",
       ":   2c\n",
       ":   3d\n",
       ":   4\n",
       "\n"
      ],
      "text/plain": [
       "a b c d \n",
       "1 2 3 4 "
      ]
     },
     "metadata": {},
     "output_type": "display_data"
    }
   ],
   "source": [
    "v"
   ]
  },
  {
   "cell_type": "code",
   "execution_count": 15,
   "metadata": {},
   "outputs": [
    {
     "data": {
      "text/html": [
       "<dl class=dl-horizontal>\n",
       "\t<dt>c</dt>\n",
       "\t\t<dd>3</dd>\n",
       "\t<dt>d</dt>\n",
       "\t\t<dd>4</dd>\n",
       "</dl>\n"
      ],
      "text/latex": [
       "\\begin{description*}\n",
       "\\item[c] 3\n",
       "\\item[d] 4\n",
       "\\end{description*}\n"
      ],
      "text/markdown": [
       "c\n",
       ":   3d\n",
       ":   4\n",
       "\n"
      ],
      "text/plain": [
       "c d \n",
       "3 4 "
      ]
     },
     "metadata": {},
     "output_type": "display_data"
    }
   ],
   "source": [
    "v[v>2]"
   ]
  },
  {
   "cell_type": "markdown",
   "metadata": {},
   "source": [
    "Brechen wir die Funktionsweise etwas herunter. Zuerst schauen wir uns v>2 an:"
   ]
  },
  {
   "cell_type": "code",
   "execution_count": 16,
   "metadata": {},
   "outputs": [
    {
     "data": {
      "text/html": [
       "<dl class=dl-horizontal>\n",
       "\t<dt>a</dt>\n",
       "\t\t<dd>FALSE</dd>\n",
       "\t<dt>b</dt>\n",
       "\t\t<dd>FALSE</dd>\n",
       "\t<dt>c</dt>\n",
       "\t\t<dd>TRUE</dd>\n",
       "\t<dt>d</dt>\n",
       "\t\t<dd>TRUE</dd>\n",
       "</dl>\n"
      ],
      "text/latex": [
       "\\begin{description*}\n",
       "\\item[a] FALSE\n",
       "\\item[b] FALSE\n",
       "\\item[c] TRUE\n",
       "\\item[d] TRUE\n",
       "\\end{description*}\n"
      ],
      "text/markdown": [
       "a\n",
       ":   FALSEb\n",
       ":   FALSEc\n",
       ":   TRUEd\n",
       ":   TRUE\n",
       "\n"
      ],
      "text/plain": [
       "    a     b     c     d \n",
       "FALSE FALSE  TRUE  TRUE "
      ]
     },
     "metadata": {},
     "output_type": "display_data"
    }
   ],
   "source": [
    "v>2"
   ]
  },
  {
   "cell_type": "markdown",
   "metadata": {},
   "source": [
    "Jetzt übergeben wir diesen Vektor logischer Werte in den Index-Klammern. Dadurch erhalten wir nur die Werte, für die der logische Wert *TRUE*  gilt."
   ]
  },
  {
   "cell_type": "code",
   "execution_count": 17,
   "metadata": {},
   "outputs": [
    {
     "data": {
      "text/html": [
       "<dl class=dl-horizontal>\n",
       "\t<dt>c</dt>\n",
       "\t\t<dd>3</dd>\n",
       "\t<dt>d</dt>\n",
       "\t\t<dd>4</dd>\n",
       "</dl>\n"
      ],
      "text/latex": [
       "\\begin{description*}\n",
       "\\item[c] 3\n",
       "\\item[d] 4\n",
       "\\end{description*}\n"
      ],
      "text/markdown": [
       "c\n",
       ":   3d\n",
       ":   4\n",
       "\n"
      ],
      "text/plain": [
       "c d \n",
       "3 4 "
      ]
     },
     "metadata": {},
     "output_type": "display_data"
    }
   ],
   "source": [
    "v[v>2]"
   ]
  },
  {
   "cell_type": "markdown",
   "metadata": {},
   "source": [
    "Wir können diesen logischen Vektoren auch Namen zuweisen und sie dann zum Indexieren übergeben. Zum Beispiel:"
   ]
  },
  {
   "cell_type": "code",
   "execution_count": 18,
   "metadata": {
    "collapsed": true
   },
   "outputs": [],
   "source": [
    "filter <- v>2"
   ]
  },
  {
   "cell_type": "code",
   "execution_count": 19,
   "metadata": {},
   "outputs": [
    {
     "data": {
      "text/html": [
       "<dl class=dl-horizontal>\n",
       "\t<dt>a</dt>\n",
       "\t\t<dd>FALSE</dd>\n",
       "\t<dt>b</dt>\n",
       "\t\t<dd>FALSE</dd>\n",
       "\t<dt>c</dt>\n",
       "\t\t<dd>TRUE</dd>\n",
       "\t<dt>d</dt>\n",
       "\t\t<dd>TRUE</dd>\n",
       "</dl>\n"
      ],
      "text/latex": [
       "\\begin{description*}\n",
       "\\item[a] FALSE\n",
       "\\item[b] FALSE\n",
       "\\item[c] TRUE\n",
       "\\item[d] TRUE\n",
       "\\end{description*}\n"
      ],
      "text/markdown": [
       "a\n",
       ":   FALSEb\n",
       ":   FALSEc\n",
       ":   TRUEd\n",
       ":   TRUE\n",
       "\n"
      ],
      "text/plain": [
       "    a     b     c     d \n",
       "FALSE FALSE  TRUE  TRUE "
      ]
     },
     "metadata": {},
     "output_type": "display_data"
    }
   ],
   "source": [
    "filter"
   ]
  },
  {
   "cell_type": "code",
   "execution_count": 20,
   "metadata": {},
   "outputs": [
    {
     "data": {
      "text/html": [
       "<dl class=dl-horizontal>\n",
       "\t<dt>c</dt>\n",
       "\t\t<dd>3</dd>\n",
       "\t<dt>d</dt>\n",
       "\t\t<dd>4</dd>\n",
       "</dl>\n"
      ],
      "text/latex": [
       "\\begin{description*}\n",
       "\\item[c] 3\n",
       "\\item[d] 4\n",
       "\\end{description*}\n"
      ],
      "text/markdown": [
       "c\n",
       ":   3d\n",
       ":   4\n",
       "\n"
      ],
      "text/plain": [
       "c d \n",
       "3 4 "
      ]
     },
     "metadata": {},
     "output_type": "display_data"
    }
   ],
   "source": [
    "v[filter]"
   ]
  },
  {
   "cell_type": "markdown",
   "metadata": {},
   "source": [
    "Cool, das waren die Grundlagen der Vektoren. Weiter geht's mit einer Übung zur Wiederholung!"
   ]
  }
 ],
 "metadata": {
  "kernelspec": {
   "display_name": "R",
   "language": "R",
   "name": "ir"
  },
  "language_info": {
   "codemirror_mode": "r",
   "file_extension": ".r",
   "mimetype": "text/x-r-source",
   "name": "R",
   "pygments_lexer": "r",
   "version": "3.4.2"
  }
 },
 "nbformat": 4,
 "nbformat_minor": 1
}
