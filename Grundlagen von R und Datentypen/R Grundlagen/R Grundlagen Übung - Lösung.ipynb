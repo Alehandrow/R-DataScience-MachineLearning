{
 "cells": [
  {
   "cell_type": "markdown",
   "metadata": {},
   "source": [
    "# R Grundlagen Übung  - Lösung\n",
    "\n",
    "Wir werden nun einige Themen überprüfen:\n",
    "\n",
    "* Grundlegende Datentypen\n",
    "* Grundlegende Arithmetik\n",
    "* Vektoren\n",
    "* Vektor Operationen\n",
    "* Vergleichsoperatoren\n",
    "* Vektor Auswahl und Indexierung\n",
    "\n",
    "Die nachfolgende Übung sollte selbsterklärend sein, sofern du die Lektionen angeschaut hast. Erwarte hier nichts besonders herausforderndes, da diese Aufgaben eher als Wiederholung ausgelegt sind. Gehe einfach sicher, dass du alles verstanden hast, da der Kurs auf diesen Grundlagen aufbaut! Später werden die Übungen und Projekte noch viel herausfordernder (und spaßiger!)."
   ]
  },
  {
   "cell_type": "markdown",
   "metadata": {},
   "source": [
    "### Löse die folgenden Aufgaben mit R\n",
    "** Was ist zwei hoch fünf? **"
   ]
  },
  {
   "cell_type": "code",
   "execution_count": 1,
   "metadata": {
    "collapsed": false
   },
   "outputs": [
    {
     "data": {
      "text/html": [
       "32"
      ],
      "text/latex": [
       "32"
      ],
      "text/markdown": [
       "32"
      ],
      "text/plain": [
       "[1] 32"
      ]
     },
     "metadata": {},
     "output_type": "display_data"
    }
   ],
   "source": [
    "2^5"
   ]
  },
  {
   "cell_type": "markdown",
   "metadata": {},
   "source": [
    "** Erstelle einen Vektor namens aktien.preise mit folgenden Datenpunkten: 23,27,23,21,34 **"
   ]
  },
  {
   "cell_type": "code",
   "execution_count": 2,
   "metadata": {
    "collapsed": false
   },
   "outputs": [
    {
     "data": {
      "text/html": [
       "<ol class=list-inline>\n",
       "\t<li>23</li>\n",
       "\t<li>27</li>\n",
       "\t<li>23</li>\n",
       "\t<li>21</li>\n",
       "\t<li>34</li>\n",
       "</ol>\n"
      ],
      "text/latex": [
       "\\begin{enumerate*}\n",
       "\\item 23\n",
       "\\item 27\n",
       "\\item 23\n",
       "\\item 21\n",
       "\\item 34\n",
       "\\end{enumerate*}\n"
      ],
      "text/markdown": [
       "1. 23\n",
       "2. 27\n",
       "3. 23\n",
       "4. 21\n",
       "5. 34\n",
       "\n",
       "\n"
      ],
      "text/plain": [
       "[1] 23 27 23 21 34"
      ]
     },
     "metadata": {},
     "output_type": "display_data"
    }
   ],
   "source": [
    "aktien.preise <- c(23,27,23,21,34)\n",
    "aktien.preise"
   ]
  },
  {
   "cell_type": "markdown",
   "metadata": {},
   "source": [
    "** Weise den Einträgen Namen zu, die bezug auf die Wochentage (Mo, Di, Mi, ...) nehmen**"
   ]
  },
  {
   "cell_type": "code",
   "execution_count": 3,
   "metadata": {
    "collapsed": false
   },
   "outputs": [
    {
     "data": {
      "text/html": [
       "<dl class=dl-horizontal>\n",
       "\t<dt>Mo</dt>\n",
       "\t\t<dd>23</dd>\n",
       "\t<dt>Di</dt>\n",
       "\t\t<dd>27</dd>\n",
       "\t<dt>Mi</dt>\n",
       "\t\t<dd>23</dd>\n",
       "\t<dt>Do</dt>\n",
       "\t\t<dd>21</dd>\n",
       "\t<dt>Fr</dt>\n",
       "\t\t<dd>34</dd>\n",
       "</dl>\n"
      ],
      "text/latex": [
       "\\begin{description*}\n",
       "\\item[Mo] 23\n",
       "\\item[Di] 27\n",
       "\\item[Mi] 23\n",
       "\\item[Do] 21\n",
       "\\item[Fr] 34\n",
       "\\end{description*}\n"
      ],
      "text/markdown": [
       "Mo\n",
       ":   23Di\n",
       ":   27Mi\n",
       ":   23Do\n",
       ":   21Fr\n",
       ":   34\n",
       "\n"
      ],
      "text/plain": [
       "Mo Di Mi Do Fr \n",
       "23 27 23 21 34 "
      ]
     },
     "metadata": {},
     "output_type": "display_data"
    }
   ],
   "source": [
    "names(aktien.preise) <- c('Mo','Di','Mi','Do','Fr')\n",
    "aktien.preise"
   ]
  },
  {
   "cell_type": "markdown",
   "metadata": {},
   "source": [
    "**Was ist der durchschnittliche (en. mean) Aktienpreis dieser Woche? (Du könntest dazu eine eingebaute Funktion verwenden)**"
   ]
  },
  {
   "cell_type": "code",
   "execution_count": 4,
   "metadata": {
    "collapsed": false
   },
   "outputs": [
    {
     "data": {
      "text/html": [
       "25.6"
      ],
      "text/latex": [
       "25.6"
      ],
      "text/markdown": [
       "25.6"
      ],
      "text/plain": [
       "[1] 25.6"
      ]
     },
     "metadata": {},
     "output_type": "display_data"
    }
   ],
   "source": [
    "mean(aktien.preise)"
   ]
  },
  {
   "cell_type": "markdown",
   "metadata": {},
   "source": [
    "** Erstelle einen Vektor namens ueber.23, der aus logischen Werten besteht, die beschreiben, ob der Preis an einem Tag über 23 lag**"
   ]
  },
  {
   "cell_type": "code",
   "execution_count": 5,
   "metadata": {
    "collapsed": true
   },
   "outputs": [],
   "source": [
    "ueber.23 <- aktien.preise>23"
   ]
  },
  {
   "cell_type": "markdown",
   "metadata": {},
   "source": [
    "** Nutze nun den ueber.23 Vektor, um aus aktien.preise alle Preise zu filtern, die über 23 lagen**"
   ]
  },
  {
   "cell_type": "code",
   "execution_count": 6,
   "metadata": {
    "collapsed": false
   },
   "outputs": [
    {
     "data": {
      "text/html": [
       "<dl class=dl-horizontal>\n",
       "\t<dt>Di</dt>\n",
       "\t\t<dd>27</dd>\n",
       "\t<dt>Fr</dt>\n",
       "\t\t<dd>34</dd>\n",
       "</dl>\n"
      ],
      "text/latex": [
       "\\begin{description*}\n",
       "\\item[Di] 27\n",
       "\\item[Fr] 34\n",
       "\\end{description*}\n"
      ],
      "text/markdown": [
       "Di\n",
       ":   27Fr\n",
       ":   34\n",
       "\n"
      ],
      "text/plain": [
       "Di Fr \n",
       "27 34 "
      ]
     },
     "metadata": {},
     "output_type": "display_data"
    }
   ],
   "source": [
    "aktien.preise[ueber.23]"
   ]
  },
  {
   "cell_type": "markdown",
   "metadata": {},
   "source": [
    "** Nutze eine eingebaute Funktion, um herauszufinden wann der Aktienpreis am höchsten war**"
   ]
  },
  {
   "cell_type": "code",
   "execution_count": 7,
   "metadata": {
    "collapsed": false
   },
   "outputs": [
    {
     "data": {
      "text/html": [
       "34"
      ],
      "text/latex": [
       "34"
      ],
      "text/markdown": [
       "34"
      ],
      "text/plain": [
       "[1] 34"
      ]
     },
     "metadata": {},
     "output_type": "display_data"
    }
   ],
   "source": [
    "max(aktien.preise)"
   ]
  },
  {
   "cell_type": "markdown",
   "metadata": {},
   "source": [
    "** Das hat uns nicht wirklich den Tag verraten. Lasst uns einen Filter benutzen, um den Wochentag zu erhalten!**"
   ]
  },
  {
   "cell_type": "code",
   "execution_count": 8,
   "metadata": {
    "collapsed": false
   },
   "outputs": [
    {
     "data": {
      "text/html": [
       "<dl class=dl-horizontal>\n",
       "\t<dt>Mo</dt>\n",
       "\t\t<dd>FALSE</dd>\n",
       "\t<dt>Di</dt>\n",
       "\t\t<dd>FALSE</dd>\n",
       "\t<dt>Mi</dt>\n",
       "\t\t<dd>FALSE</dd>\n",
       "\t<dt>Do</dt>\n",
       "\t\t<dd>FALSE</dd>\n",
       "\t<dt>Fr</dt>\n",
       "\t\t<dd>TRUE</dd>\n",
       "</dl>\n"
      ],
      "text/latex": [
       "\\begin{description*}\n",
       "\\item[Mo] FALSE\n",
       "\\item[Di] FALSE\n",
       "\\item[Mi] FALSE\n",
       "\\item[Do] FALSE\n",
       "\\item[Fr] TRUE\n",
       "\\end{description*}\n"
      ],
      "text/markdown": [
       "Mo\n",
       ":   FALSEDi\n",
       ":   FALSEMi\n",
       ":   FALSEDo\n",
       ":   FALSEFr\n",
       ":   TRUE\n",
       "\n"
      ],
      "text/plain": [
       "   Mo    Di    Mi    Do    Fr \n",
       "FALSE FALSE FALSE FALSE  TRUE "
      ]
     },
     "metadata": {},
     "output_type": "display_data"
    }
   ],
   "source": [
    "max.preis <- aktien.preise == max(aktien.preise)\n",
    "max.preis"
   ]
  },
  {
   "cell_type": "code",
   "execution_count": 9,
   "metadata": {
    "collapsed": false
   },
   "outputs": [
    {
     "data": {
      "text/html": [
       "<strong>Fr:</strong> 34"
      ],
      "text/latex": [
       "\\textbf{Fr:} 34"
      ],
      "text/markdown": [
       "**Fr:** 34"
      ],
      "text/plain": [
       "Fr \n",
       "34 "
      ]
     },
     "metadata": {},
     "output_type": "display_data"
    }
   ],
   "source": [
    "aktien.preise[max.preis]"
   ]
  },
  {
   "cell_type": "markdown",
   "metadata": {},
   "source": [
    "Okay, das wars zur Übung der Grundlagen. Gut gemacht!"
   ]
  }
 ],
 "metadata": {
  "kernelspec": {
   "display_name": "Python 3",
   "language": "python",
   "name": "python3"
  },
  "language_info": {
   "codemirror_mode": {
    "name": "ipython",
    "version": 3
   },
   "file_extension": ".py",
   "mimetype": "text/x-python",
   "name": "python",
   "nbconvert_exporter": "python",
   "pygments_lexer": "ipython3",
   "version": "3.6.0"
  }
 },
 "nbformat": 4,
 "nbformat_minor": 1
}
