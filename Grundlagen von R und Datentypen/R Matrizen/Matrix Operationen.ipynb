{
 "cells": [
  {
   "cell_type": "markdown",
   "metadata": {},
   "source": [
    "# Matrix Operationen\n",
    "\n",
    "Nachdem wir jetzt gelernt haben, wie wir Matrizen erstellen können, können wir uns anschauen, wie wir Operationen mit ihnen durchführen.\n",
    "\n",
    "**Führe den folgenden Code aus, um die Aktien-Matrix aus der vorherigen Lektion zu erstellen.**"
   ]
  },
  {
   "cell_type": "code",
   "execution_count": 1,
   "metadata": {
    "collapsed": false
   },
   "outputs": [
    {
     "data": {
      "text/html": [
       "<table>\n",
       "<thead><tr><th></th><th scope=col>Mo</th><th scope=col>De</th><th scope=col>Mi</th><th scope=col>Do</th><th scope=col>Fr</th></tr></thead>\n",
       "<tbody>\n",
       "\t<tr><th scope=row>GOOG</th><td>450</td><td>451</td><td>452</td><td>445</td><td>468</td></tr>\n",
       "\t<tr><th scope=row>MSFT</th><td>230</td><td>231</td><td>232</td><td>236</td><td>228</td></tr>\n",
       "</tbody>\n",
       "</table>\n"
      ],
      "text/latex": [
       "\\begin{tabular}{r|lllll}\n",
       "  & Mo & De & Mi & Do & Fr\\\\\n",
       "\\hline\n",
       "\tGOOG & 450 & 451 & 452 & 445 & 468\\\\\n",
       "\tMSFT & 230 & 231 & 232 & 236 & 228\\\\\n",
       "\\end{tabular}\n"
      ],
      "text/markdown": [
       "\n",
       "| <!--/--> | Mo | De | Mi | Do | Fr | \n",
       "|---|---|\n",
       "| GOOG | 450 | 451 | 452 | 445 | 468 | \n",
       "| MSFT | 230 | 231 | 232 | 236 | 228 | \n",
       "\n",
       "\n"
      ],
      "text/plain": [
       "     Mo  De  Mi  Do  Fr \n",
       "GOOG 450 451 452 445 468\n",
       "MSFT 230 231 232 236 228"
      ]
     },
     "metadata": {},
     "output_type": "display_data"
    }
   ],
   "source": [
    "# Preise\n",
    "goog <- c(450,451,452,445,468)\n",
    "msft <- c(230,231,232,236,228)\n",
    "\n",
    "# Vektoren in eine Matrix fassen\n",
    "aktien <- c(goog,msft)\n",
    "aktien.matrix <- matrix(aktien,byrow=TRUE,nrow=2)\n",
    "\n",
    "# Namen vergeben\n",
    "tage <- c('Mo','Di','Mi','Do','Fr')\n",
    "aktien.namen <- c('GOOG','MSFT')\n",
    "colnames(aktien.matrix) <- tage\n",
    "rownames(aktien.matrix) <- aktien.namen\n",
    "\n",
    "# Anzeigen\n",
    "aktien.matrix"
   ]
  },
  {
   "cell_type": "markdown",
   "metadata": {},
   "source": [
    "Wir können verschiedene Funktionen entlang den Spalten und Zeilen durchführen. Ein Beispiel ist die `colSum`."
   ]
  },
  {
   "cell_type": "code",
   "execution_count": 2,
   "metadata": {
    "collapsed": false
   },
   "outputs": [
    {
     "data": {
      "text/html": [
       "<dl class=dl-horizontal>\n",
       "\t<dt>Mo</dt>\n",
       "\t\t<dd>680</dd>\n",
       "\t<dt>De</dt>\n",
       "\t\t<dd>682</dd>\n",
       "\t<dt>Mi</dt>\n",
       "\t\t<dd>684</dd>\n",
       "\t<dt>Do</dt>\n",
       "\t\t<dd>681</dd>\n",
       "\t<dt>Fr</dt>\n",
       "\t\t<dd>696</dd>\n",
       "</dl>\n"
      ],
      "text/latex": [
       "\\begin{description*}\n",
       "\\item[Mo] 680\n",
       "\\item[De] 682\n",
       "\\item[Mi] 684\n",
       "\\item[Do] 681\n",
       "\\item[Fr] 696\n",
       "\\end{description*}\n"
      ],
      "text/markdown": [
       "Mo\n",
       ":   680De\n",
       ":   682Mi\n",
       ":   684Do\n",
       ":   681Fr\n",
       ":   696\n",
       "\n"
      ],
      "text/plain": [
       " Mo  De  Mi  Do  Fr \n",
       "680 682 684 681 696 "
      ]
     },
     "metadata": {},
     "output_type": "display_data"
    }
   ],
   "source": [
    "colSums(aktien.matrix)"
   ]
  },
  {
   "cell_type": "code",
   "execution_count": 3,
   "metadata": {
    "collapsed": false
   },
   "outputs": [
    {
     "data": {
      "text/html": [
       "<dl class=dl-horizontal>\n",
       "\t<dt>GOOG</dt>\n",
       "\t\t<dd>2266</dd>\n",
       "\t<dt>MSFT</dt>\n",
       "\t\t<dd>1157</dd>\n",
       "</dl>\n"
      ],
      "text/latex": [
       "\\begin{description*}\n",
       "\\item[GOOG] 2266\n",
       "\\item[MSFT] 1157\n",
       "\\end{description*}\n"
      ],
      "text/markdown": [
       "GOOG\n",
       ":   2266MSFT\n",
       ":   1157\n",
       "\n"
      ],
      "text/plain": [
       "GOOG MSFT \n",
       "2266 1157 "
      ]
     },
     "metadata": {},
     "output_type": "display_data"
    }
   ],
   "source": [
    "# Ergibt für Aktien nicht viel Sinn, wir möchten uns aber zumindest die Funktionalität anschauen\n",
    "rowSums(aktien.matrix)"
   ]
  },
  {
   "cell_type": "markdown",
   "metadata": {},
   "source": [
    "Es stehen uns viele weitere mathematische Operationen zur Verfügungn: Dieser [Verweis](https://cran.r-project.org/doc/contrib/Short-refcard.pdf) listet alle verfügbaren Funktionen auf."
   ]
  },
  {
   "cell_type": "code",
   "execution_count": 4,
   "metadata": {
    "collapsed": false
   },
   "outputs": [
    {
     "data": {
      "text/html": [
       "<dl class=dl-horizontal>\n",
       "\t<dt>GOOG</dt>\n",
       "\t\t<dd>453.2</dd>\n",
       "\t<dt>MSFT</dt>\n",
       "\t\t<dd>231.4</dd>\n",
       "</dl>\n"
      ],
      "text/latex": [
       "\\begin{description*}\n",
       "\\item[GOOG] 453.2\n",
       "\\item[MSFT] 231.4\n",
       "\\end{description*}\n"
      ],
      "text/markdown": [
       "GOOG\n",
       ":   453.2MSFT\n",
       ":   231.4\n",
       "\n"
      ],
      "text/plain": [
       " GOOG  MSFT \n",
       "453.2 231.4 "
      ]
     },
     "metadata": {},
     "output_type": "display_data"
    }
   ],
   "source": [
    "rowMeans(aktien.matrix)"
   ]
  },
  {
   "cell_type": "markdown",
   "metadata": {},
   "source": [
    "# Zeilen und Spalten hinzufügen\n",
    "\n",
    "Lasst uns jetzt anschauen, wie wir Zeilen und Spalten zu einer Matrix hinzufügen können. Dazu nutzen wir `cbind()` (für Spalten) und `rbind()` für die Zeilen. Wir können beispielhaft Informationen der Facebook Aktie hinzufügen:"
   ]
  },
  {
   "cell_type": "code",
   "execution_count": 5,
   "metadata": {
    "collapsed": true
   },
   "outputs": [],
   "source": [
    "FB <- c(111,112,113,120,145)"
   ]
  },
  {
   "cell_type": "code",
   "execution_count": 6,
   "metadata": {
    "collapsed": true
   },
   "outputs": [],
   "source": [
    "tech.aktien <- rbind(aktien.matrix,FB)"
   ]
  },
  {
   "cell_type": "code",
   "execution_count": 7,
   "metadata": {
    "collapsed": false
   },
   "outputs": [
    {
     "data": {
      "text/html": [
       "<table>\n",
       "<thead><tr><th></th><th scope=col>Mo</th><th scope=col>De</th><th scope=col>Mi</th><th scope=col>Do</th><th scope=col>Fr</th></tr></thead>\n",
       "<tbody>\n",
       "\t<tr><th scope=row>GOOG</th><td>450</td><td>451</td><td>452</td><td>445</td><td>468</td></tr>\n",
       "\t<tr><th scope=row>MSFT</th><td>230</td><td>231</td><td>232</td><td>236</td><td>228</td></tr>\n",
       "\t<tr><th scope=row>FB</th><td>111</td><td>112</td><td>113</td><td>120</td><td>145</td></tr>\n",
       "</tbody>\n",
       "</table>\n"
      ],
      "text/latex": [
       "\\begin{tabular}{r|lllll}\n",
       "  & Mo & De & Mi & Do & Fr\\\\\n",
       "\\hline\n",
       "\tGOOG & 450 & 451 & 452 & 445 & 468\\\\\n",
       "\tMSFT & 230 & 231 & 232 & 236 & 228\\\\\n",
       "\tFB & 111 & 112 & 113 & 120 & 145\\\\\n",
       "\\end{tabular}\n"
      ],
      "text/markdown": [
       "\n",
       "| <!--/--> | Mo | De | Mi | Do | Fr | \n",
       "|---|---|---|\n",
       "| GOOG | 450 | 451 | 452 | 445 | 468 | \n",
       "| MSFT | 230 | 231 | 232 | 236 | 228 | \n",
       "| FB | 111 | 112 | 113 | 120 | 145 | \n",
       "\n",
       "\n"
      ],
      "text/plain": [
       "     Mo  De  Mi  Do  Fr \n",
       "GOOG 450 451 452 445 468\n",
       "MSFT 230 231 232 236 228\n",
       "FB   111 112 113 120 145"
      ]
     },
     "metadata": {},
     "output_type": "display_data"
    }
   ],
   "source": [
    "tech.aktien"
   ]
  },
  {
   "cell_type": "markdown",
   "metadata": {},
   "source": [
    "Lasst uns als nächstes eine Spalte für den Durchschnitt (en. average) hinzufügen."
   ]
  },
  {
   "cell_type": "code",
   "execution_count": 8,
   "metadata": {
    "collapsed": true
   },
   "outputs": [],
   "source": [
    "avg <- rowMeans(tech.aktien)"
   ]
  },
  {
   "cell_type": "code",
   "execution_count": 9,
   "metadata": {
    "collapsed": false
   },
   "outputs": [
    {
     "data": {
      "text/html": [
       "<dl class=dl-horizontal>\n",
       "\t<dt>GOOG</dt>\n",
       "\t\t<dd>453.2</dd>\n",
       "\t<dt>MSFT</dt>\n",
       "\t\t<dd>231.4</dd>\n",
       "\t<dt>FB</dt>\n",
       "\t\t<dd>120.2</dd>\n",
       "</dl>\n"
      ],
      "text/latex": [
       "\\begin{description*}\n",
       "\\item[GOOG] 453.2\n",
       "\\item[MSFT] 231.4\n",
       "\\item[FB] 120.2\n",
       "\\end{description*}\n"
      ],
      "text/markdown": [
       "GOOG\n",
       ":   453.2MSFT\n",
       ":   231.4FB\n",
       ":   120.2\n",
       "\n"
      ],
      "text/plain": [
       " GOOG  MSFT    FB \n",
       "453.2 231.4 120.2 "
      ]
     },
     "metadata": {},
     "output_type": "display_data"
    }
   ],
   "source": [
    "avg"
   ]
  },
  {
   "cell_type": "code",
   "execution_count": 10,
   "metadata": {
    "collapsed": true
   },
   "outputs": [],
   "source": [
    "tech.aktien <- cbind(tech.aktien,avg)"
   ]
  },
  {
   "cell_type": "code",
   "execution_count": 11,
   "metadata": {
    "collapsed": false
   },
   "outputs": [
    {
     "data": {
      "text/html": [
       "<table>\n",
       "<thead><tr><th></th><th scope=col>Mo</th><th scope=col>De</th><th scope=col>Mi</th><th scope=col>Do</th><th scope=col>Fr</th><th scope=col>avg</th></tr></thead>\n",
       "<tbody>\n",
       "\t<tr><th scope=row>GOOG</th><td>450  </td><td>451  </td><td>452  </td><td>445  </td><td>468  </td><td>453.2</td></tr>\n",
       "\t<tr><th scope=row>MSFT</th><td>230  </td><td>231  </td><td>232  </td><td>236  </td><td>228  </td><td>231.4</td></tr>\n",
       "\t<tr><th scope=row>FB</th><td>111  </td><td>112  </td><td>113  </td><td>120  </td><td>145  </td><td>120.2</td></tr>\n",
       "</tbody>\n",
       "</table>\n"
      ],
      "text/latex": [
       "\\begin{tabular}{r|llllll}\n",
       "  & Mo & De & Mi & Do & Fr & avg\\\\\n",
       "\\hline\n",
       "\tGOOG & 450   & 451   & 452   & 445   & 468   & 453.2\\\\\n",
       "\tMSFT & 230   & 231   & 232   & 236   & 228   & 231.4\\\\\n",
       "\tFB & 111   & 112   & 113   & 120   & 145   & 120.2\\\\\n",
       "\\end{tabular}\n"
      ],
      "text/markdown": [
       "\n",
       "| <!--/--> | Mo | De | Mi | Do | Fr | avg | \n",
       "|---|---|---|\n",
       "| GOOG | 450   | 451   | 452   | 445   | 468   | 453.2 | \n",
       "| MSFT | 230   | 231   | 232   | 236   | 228   | 231.4 | \n",
       "| FB | 111   | 112   | 113   | 120   | 145   | 120.2 | \n",
       "\n",
       "\n"
      ],
      "text/plain": [
       "     Mo  De  Mi  Do  Fr  avg  \n",
       "GOOG 450 451 452 445 468 453.2\n",
       "MSFT 230 231 232 236 228 231.4\n",
       "FB   111 112 113 120 145 120.2"
      ]
     },
     "metadata": {},
     "output_type": "display_data"
    }
   ],
   "source": [
    "tech.aktien"
   ]
  },
  {
   "cell_type": "markdown",
   "metadata": {},
   "source": [
    "Toll! Das waren die Grundlagen der Matrix Operationen. Als nächstes beschäftigen wir uns mit der Auswahl und Indexierung von Elementen innerhalb einer Matrix."
   ]
  }
 ],
 "metadata": {
  "kernelspec": {
   "display_name": "R",
   "language": "R",
   "name": "ir"
  },
  "language_info": {
   "codemirror_mode": "r",
   "file_extension": ".r",
   "mimetype": "text/x-r-source",
   "name": "R",
   "pygments_lexer": "r",
   "version": "3.3.2"
  }
 },
 "nbformat": 4,
 "nbformat_minor": 1
}
