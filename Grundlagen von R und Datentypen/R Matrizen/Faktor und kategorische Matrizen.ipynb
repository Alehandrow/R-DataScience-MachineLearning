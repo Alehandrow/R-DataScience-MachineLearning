{
 "cells": [
  {
   "cell_type": "markdown",
   "metadata": {},
   "source": [
    "# Faktor und kategorische Matrizen\n",
    "\n",
    "In dieser Lektion werden wir die `factor()` Funktion besprechen. Sie wird dazu genutzt kategorische Matrizen zu erstellen. Diese spezielle Funktion wird insbesondere dann nützlich sein, wenn wir die Datenanalyse und Machine Learning Technicken auf unsere Daten anwenden. In Zusammenhand damit steht das Konzept der *Dummy Variablen*.\n",
    "\n",
    "Beginnen wir damit ein Beispiel zu betrachtetn, wie wir eine solche Matrix erstellen. Stellen wir uns vor der folgende Vektor gibt uns Informationen über eine jährliche Zählung in einem Tierheim. Jeder Hund (\"h\") und jede Katze (\"k\") wird notiert und hat eine eigene ID, die in einem zweiten Vektor gespeichert ist."
   ]
  },
  {
   "cell_type": "code",
   "execution_count": 4,
   "metadata": {
    "collapsed": true
   },
   "outputs": [],
   "source": [
    "tiere <- c('h','k','h','k','k')\n",
    "id <- c(1,2,3,4,5)"
   ]
  },
  {
   "cell_type": "markdown",
   "metadata": {},
   "source": [
    "Wir wollen nun den Tier-Vektor in eine Form bringen, die ein Algoritmus oder eine Geichung leichter verstehen kann. Dazu beginnen wir mit der Überprüfung, wie viele Kategorien (d.h. Faktor Level) es in unsere Zeichen-Vektor gibt.\n",
    "\n",
    "Wir können unseren Vektor an die `factor()` Funktion übergeben, um diese Information zu erhalten:"
   ]
  },
  {
   "cell_type": "code",
   "execution_count": 5,
   "metadata": {},
   "outputs": [],
   "source": [
    "factor.tiere <- factor(tiere)"
   ]
  },
  {
   "cell_type": "code",
   "execution_count": 6,
   "metadata": {},
   "outputs": [
    {
     "data": {
      "text/html": [
       "<ol class=list-inline>\n",
       "\t<li>h</li>\n",
       "\t<li>k</li>\n",
       "\t<li>h</li>\n",
       "\t<li>k</li>\n",
       "\t<li>k</li>\n",
       "</ol>\n"
      ],
      "text/latex": [
       "\\begin{enumerate*}\n",
       "\\item h\n",
       "\\item k\n",
       "\\item h\n",
       "\\item k\n",
       "\\item k\n",
       "\\end{enumerate*}\n"
      ],
      "text/markdown": [
       "1. h\n",
       "2. k\n",
       "3. h\n",
       "4. k\n",
       "5. k\n",
       "\n",
       "\n"
      ],
      "text/plain": [
       "[1] h k h k k\n",
       "Levels: h k"
      ]
     },
     "metadata": {},
     "output_type": "display_data"
    }
   ],
   "source": [
    "# Zeigt in RStudio sowie der R Konsole die Level an\n",
    "factor.tiere"
   ]
  },
  {
   "cell_type": "markdown",
   "metadata": {},
   "source": [
    "Wir sehen, dass es zwei Level gibt: \"h\" und \"k\". In R gibt es zwei unterschiedliche Typen von kategorischen Variablen: **Ordinal kategorische Variablen** und **nominal kategorische Variablen**.\n",
    "\n",
    "Nominal kategorische Variablen haben keine bestimmte Reihenfolge (so wie unsere Hunde und Katzen). Ordinal kategorische Variablen auf der anderen Seite weisen eine bestimmte Reihenfolge auf. So wie folgendes Beispiel:"
   ]
  },
  {
   "cell_type": "code",
   "execution_count": 7,
   "metadata": {
    "collapsed": true
   },
   "outputs": [],
   "source": [
    "ord.kat <- c('kalt','lau','warm')"
   ]
  },
  {
   "cell_type": "markdown",
   "metadata": {},
   "source": [
    "Wir können nun damit beginnen die Reihenfolge wie folgt festzulegen:\n",
    "\n",
    "    kalt < lau < warm\n",
    "    \n",
    "Sofern wir die Reihenfolge direkt mit der `factor()` Funktion kombinieren wollen, können wir das Argument `ordered=True` übergeben. Zusätzlich benötigen wir dann das `leves=` Argument sowie einen Vektor, der die Reihenfolge korrekt abbildet."
   ]
  },
  {
   "cell_type": "code",
   "execution_count": 8,
   "metadata": {},
   "outputs": [
    {
     "data": {
      "text/html": [
       "<ol class=list-inline>\n",
       "\t<li>kalt</li>\n",
       "\t<li>lau</li>\n",
       "\t<li>warm</li>\n",
       "\t<li>lau</li>\n",
       "\t<li>warm</li>\n",
       "\t<li>warm</li>\n",
       "\t<li>kalt</li>\n",
       "</ol>\n"
      ],
      "text/latex": [
       "\\begin{enumerate*}\n",
       "\\item kalt\n",
       "\\item lau\n",
       "\\item warm\n",
       "\\item lau\n",
       "\\item warm\n",
       "\\item warm\n",
       "\\item kalt\n",
       "\\end{enumerate*}\n"
      ],
      "text/markdown": [
       "1. kalt\n",
       "2. lau\n",
       "3. warm\n",
       "4. lau\n",
       "5. warm\n",
       "6. warm\n",
       "7. kalt\n",
       "\n",
       "\n"
      ],
      "text/plain": [
       "[1] kalt lau  warm lau  warm warm kalt\n",
       "Levels: kalt < lau < warm"
      ]
     },
     "metadata": {},
     "output_type": "display_data"
    }
   ],
   "source": [
    "temp <- c('kalt','lau','warm','lau','warm','warm','kalt')\n",
    "fact.temp <- factor(temp,ordered=TRUE,levels=c('kalt','lau','warm'))\n",
    "fact.temp"
   ]
  },
  {
   "cell_type": "markdown",
   "metadata": {},
   "source": [
    "Diese zusätzliche Information ist beispielsweise in Kombination mit der `summary()` Funktion nützlich. Diese Funktion wird häufig eingesetzt, um einen schnellen ersten Eindruck einer Matrix oder eiens Vektors zu erhalten."
   ]
  },
  {
   "cell_type": "code",
   "execution_count": 9,
   "metadata": {},
   "outputs": [
    {
     "data": {
      "text/plain": [
       "   Length     Class      Mode \n",
       "        7 character character "
      ]
     },
     "metadata": {},
     "output_type": "display_data"
    }
   ],
   "source": [
    "summary(temp)"
   ]
  },
  {
   "cell_type": "code",
   "execution_count": 10,
   "metadata": {},
   "outputs": [
    {
     "data": {
      "text/html": [
       "<dl class=dl-horizontal>\n",
       "\t<dt>kalt</dt>\n",
       "\t\t<dd>2</dd>\n",
       "\t<dt>lau</dt>\n",
       "\t\t<dd>2</dd>\n",
       "\t<dt>warm</dt>\n",
       "\t\t<dd>3</dd>\n",
       "</dl>\n"
      ],
      "text/latex": [
       "\\begin{description*}\n",
       "\\item[kalt] 2\n",
       "\\item[lau] 2\n",
       "\\item[warm] 3\n",
       "\\end{description*}\n"
      ],
      "text/markdown": [
       "kalt\n",
       ":   2lau\n",
       ":   2warm\n",
       ":   3\n",
       "\n"
      ],
      "text/plain": [
       "kalt  lau warm \n",
       "   2    2    3 "
      ]
     },
     "metadata": {},
     "output_type": "display_data"
    }
   ],
   "source": [
    "summary(fact.temp)"
   ]
  },
  {
   "cell_type": "markdown",
   "metadata": {},
   "source": [
    "Später werden wir auf die `factor()` Funktion on Kombination mit `ordered` zurückkommen. Soweit ist das alles, was wir wissen müssen."
   ]
  }
 ],
 "metadata": {
  "kernelspec": {
   "display_name": "R",
   "language": "R",
   "name": "ir"
  },
  "language_info": {
   "codemirror_mode": "r",
   "file_extension": ".r",
   "mimetype": "text/x-r-source",
   "name": "R",
   "pygments_lexer": "r",
   "version": "3.4.2"
  }
 },
 "nbformat": 4,
 "nbformat_minor": 1
}
