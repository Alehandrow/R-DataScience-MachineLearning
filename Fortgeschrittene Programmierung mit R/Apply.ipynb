{
 "cells": [
  {
   "cell_type": "markdown",
   "metadata": {},
   "source": [
    "# Apply\n",
    "\n",
    "In dieser Lektion werden wir 3 verschiedene `apply()` Funktionen kennenlernen. Die grundsätzliche Idee von apply() ist es, eine Funktion auf ein iterierbares Objekt anzuwenden.\n",
    "\n",
    "Starten wir mit `lapply()`:\n",
    "\n",
    "## lapply()\n",
    "\n",
    "`lapply()` wird eine Funktion auf eine Liste oder einen Vektor anwenden:\n",
    "\n",
    "    lapply(X, FUN, ...)\n",
    "    \n",
    "wobei X die Liste/der Vektor ist und FUN die Funktion. Meh Infos erhalten wir in der Doku:"
   ]
  },
  {
   "cell_type": "code",
   "execution_count": 1,
   "metadata": {},
   "outputs": [],
   "source": [
    "help(lapply)"
   ]
  },
  {
   "cell_type": "markdown",
   "metadata": {},
   "source": [
    "Schauen wir uns dazu ein praktisches Beispiel an: eine selbsterstellte Funktion auf einen Vektor anwenden. Zuerst möchte ich euch deshalb eine Funktion (wir werden im Verlauf des Kurses immer wieder nützliche Funktionen wie diese kennenlernen) zeigen, die es uns erlaubt aus einem Vektor eine zufällige Zahl zu ziehen:"
   ]
  },
  {
   "cell_type": "code",
   "execution_count": 2,
   "metadata": {},
   "outputs": [
    {
     "data": {
      "text/html": [
       "10"
      ],
      "text/latex": [
       "10"
      ],
      "text/markdown": [
       "10"
      ],
      "text/plain": [
       "[1] 10"
      ]
     },
     "metadata": {},
     "output_type": "display_data"
    }
   ],
   "source": [
    "# W#ähle eine Zahl zwischen 1 und 10\n",
    "sample(x = 1:10,1)"
   ]
  },
  {
   "cell_type": "code",
   "execution_count": 3,
   "metadata": {},
   "outputs": [
    {
     "data": {
      "text/html": [
       "<ol>\n",
       "\t<li>9</li>\n",
       "\t<li>6</li>\n",
       "\t<li>5</li>\n",
       "\t<li>13</li>\n",
       "\t<li>8</li>\n",
       "</ol>\n"
      ],
      "text/latex": [
       "\\begin{enumerate}\n",
       "\\item 9\n",
       "\\item 6\n",
       "\\item 5\n",
       "\\item 13\n",
       "\\item 8\n",
       "\\end{enumerate}\n"
      ],
      "text/markdown": [
       "1. 9\n",
       "2. 6\n",
       "3. 5\n",
       "4. 13\n",
       "5. 8\n",
       "\n",
       "\n"
      ],
      "text/plain": [
       "[[1]]\n",
       "[1] 9\n",
       "\n",
       "[[2]]\n",
       "[1] 6\n",
       "\n",
       "[[3]]\n",
       "[1] 5\n",
       "\n",
       "[[4]]\n",
       "[1] 13\n",
       "\n",
       "[[5]]\n",
       "[1] 8\n"
      ]
     },
     "metadata": {},
     "output_type": "display_data"
    }
   ],
   "source": [
    "# Vektor\n",
    "v <- c(1,2,3,4,5)\n",
    "\n",
    "# Unsere Funktion\n",
    "addzuf <- function(x){\n",
    "    # Erhalte eine zufällige Zahl\n",
    "    zuf <-sample(x=1:10,1)\n",
    "    \n",
    "    # Addiere x und die zufällige Zahl und gebe es zurück\n",
    "    return(x+zuf)\n",
    "}\n",
    "\n",
    "# lapply()\n",
    "lapply(v,addzuf)"
   ]
  },
  {
   "cell_type": "markdown",
   "metadata": {},
   "source": [
    "## Anonyme Funktionen\n",
    "\n",
    "Du dürftes im letzen Beispiel bemerkt haben, dass wir die komplette Funktion formell definieren mussten, um sie auf den Vektor anzuwenden. Im praktischen Einsatz macht diese Funktion eigentlich nur etwas sehr einfaches: eine Zufallszahl addieren. Wollen wir dazu wirklich eine Funktion definieren? Nein, insbesondere dann nicht, wenn wir sie nur ein einziges Mal verwenden!\n",
    "\n",
    "Um mit diesem Problem umzugehen bietet R die *anonymen Funktionen* (so genannt, da sie keinen eigenen Namen haben). Die Syntax einer anonymen Funktion lautet:\n",
    "\n",
    "    function(a){code hier}\n",
    "    \n",
    "Das Konzept ist gleich zu dem der *Lambda Ausdrücke* in Python. \n",
    "\n",
    "Wir können die Funktion von gerade eben auch als anonyme Funktion innerhalb von lapply() schreiben:"
   ]
  },
  {
   "cell_type": "code",
   "execution_count": 4,
   "metadata": {},
   "outputs": [
    {
     "data": {
      "text/html": [
       "<ol class=list-inline>\n",
       "\t<li>1</li>\n",
       "\t<li>2</li>\n",
       "\t<li>3</li>\n",
       "\t<li>4</li>\n",
       "\t<li>5</li>\n",
       "</ol>\n"
      ],
      "text/latex": [
       "\\begin{enumerate*}\n",
       "\\item 1\n",
       "\\item 2\n",
       "\\item 3\n",
       "\\item 4\n",
       "\\item 5\n",
       "\\end{enumerate*}\n"
      ],
      "text/markdown": [
       "1. 1\n",
       "2. 2\n",
       "3. 3\n",
       "4. 4\n",
       "5. 5\n",
       "\n",
       "\n"
      ],
      "text/plain": [
       "[1] 1 2 3 4 5"
      ]
     },
     "metadata": {},
     "output_type": "display_data"
    }
   ],
   "source": [
    "v"
   ]
  },
  {
   "cell_type": "code",
   "execution_count": 5,
   "metadata": {},
   "outputs": [
    {
     "data": {
      "text/html": [
       "<ol>\n",
       "\t<li>10</li>\n",
       "\t<li>7</li>\n",
       "\t<li>4</li>\n",
       "\t<li>12</li>\n",
       "\t<li>13</li>\n",
       "</ol>\n"
      ],
      "text/latex": [
       "\\begin{enumerate}\n",
       "\\item 10\n",
       "\\item 7\n",
       "\\item 4\n",
       "\\item 12\n",
       "\\item 13\n",
       "\\end{enumerate}\n"
      ],
      "text/markdown": [
       "1. 10\n",
       "2. 7\n",
       "3. 4\n",
       "4. 12\n",
       "5. 13\n",
       "\n",
       "\n"
      ],
      "text/plain": [
       "[[1]]\n",
       "[1] 10\n",
       "\n",
       "[[2]]\n",
       "[1] 7\n",
       "\n",
       "[[3]]\n",
       "[1] 4\n",
       "\n",
       "[[4]]\n",
       "[1] 12\n",
       "\n",
       "[[5]]\n",
       "[1] 13\n"
      ]
     },
     "metadata": {},
     "output_type": "display_data"
    }
   ],
   "source": [
    "# Anonyme Funktion mit lapply()\n",
    "lapply(v, function(a){a+sample(x=1:10,1)})"
   ]
  },
  {
   "cell_type": "markdown",
   "metadata": {},
   "source": [
    "Dabei wird impliziert, dass alles innerhalb der geschwungenen Klammern {} zurückgegeben (return) wird. Hier ist ein einfacherers Beispiel:"
   ]
  },
  {
   "cell_type": "code",
   "execution_count": 6,
   "metadata": {},
   "outputs": [
    {
     "data": {
      "text/html": [
       "<ol>\n",
       "\t<li>3</li>\n",
       "\t<li>4</li>\n",
       "\t<li>5</li>\n",
       "\t<li>6</li>\n",
       "\t<li>7</li>\n",
       "</ol>\n"
      ],
      "text/latex": [
       "\\begin{enumerate}\n",
       "\\item 3\n",
       "\\item 4\n",
       "\\item 5\n",
       "\\item 6\n",
       "\\item 7\n",
       "\\end{enumerate}\n"
      ],
      "text/markdown": [
       "1. 3\n",
       "2. 4\n",
       "3. 5\n",
       "4. 6\n",
       "5. 7\n",
       "\n",
       "\n"
      ],
      "text/plain": [
       "[[1]]\n",
       "[1] 3\n",
       "\n",
       "[[2]]\n",
       "[1] 4\n",
       "\n",
       "[[3]]\n",
       "[1] 5\n",
       "\n",
       "[[4]]\n",
       "[1] 6\n",
       "\n",
       "[[5]]\n",
       "[1] 7\n"
      ]
     },
     "metadata": {},
     "output_type": "display_data"
    }
   ],
   "source": [
    "# Fügt jedem Element zwei hinzu\n",
    "lapply(v,function(x){x+2})"
   ]
  },
  {
   "cell_type": "markdown",
   "metadata": {},
   "source": [
    "Was würde passieren, wenn unsere Funktion mehrere Parameter hätte? lapply() bietet eine einfache Möglichkeit damit umzugehen. Schauen wir sie uns an:"
   ]
  },
  {
   "cell_type": "code",
   "execution_count": 7,
   "metadata": {},
   "outputs": [
    {
     "data": {
      "text/html": [
       "5"
      ],
      "text/latex": [
       "5"
      ],
      "text/markdown": [
       "5"
      ],
      "text/plain": [
       "[1] 5"
      ]
     },
     "metadata": {},
     "output_type": "display_data"
    }
   ],
   "source": [
    "add_wahl <- function(num,wahl){\n",
    "    return(num+wahl)\n",
    "}\n",
    "\n",
    "add_wahl(2,3)"
   ]
  },
  {
   "cell_type": "code",
   "execution_count": 8,
   "metadata": {},
   "outputs": [
    {
     "ename": "ERROR",
     "evalue": "Error in FUN(X[[i]], ...): argument \"wahl\" is missing, with no default\n",
     "output_type": "error",
     "traceback": [
      "Error in FUN(X[[i]], ...): argument \"wahl\" is missing, with no default\nTraceback:\n",
      "1. lapply(v, add_wahl)",
      "2. FUN(X[[i]], ...)"
     ]
    }
   ],
   "source": [
    "# Uh oh! Den zweiten Parameter vergessen!\n",
    "lapply(v,add_wahl)"
   ]
  },
  {
   "cell_type": "code",
   "execution_count": 9,
   "metadata": {},
   "outputs": [
    {
     "data": {
      "text/html": [
       "<ol>\n",
       "\t<li>11</li>\n",
       "\t<li>12</li>\n",
       "\t<li>13</li>\n",
       "\t<li>14</li>\n",
       "\t<li>15</li>\n",
       "</ol>\n"
      ],
      "text/latex": [
       "\\begin{enumerate}\n",
       "\\item 11\n",
       "\\item 12\n",
       "\\item 13\n",
       "\\item 14\n",
       "\\item 15\n",
       "\\end{enumerate}\n"
      ],
      "text/markdown": [
       "1. 11\n",
       "2. 12\n",
       "3. 13\n",
       "4. 14\n",
       "5. 15\n",
       "\n",
       "\n"
      ],
      "text/plain": [
       "[[1]]\n",
       "[1] 11\n",
       "\n",
       "[[2]]\n",
       "[1] 12\n",
       "\n",
       "[[3]]\n",
       "[1] 13\n",
       "\n",
       "[[4]]\n",
       "[1] 14\n",
       "\n",
       "[[5]]\n",
       "[1] 15\n"
      ]
     },
     "metadata": {},
     "output_type": "display_data"
    }
   ],
   "source": [
    "# So geht's!\n",
    "lapply(v,add_wahl,wahl=10)"
   ]
  },
  {
   "cell_type": "markdown",
   "metadata": {},
   "source": [
    "Das können wir auch mit mehreren Parametern machen; fügt sie einfach hinzu.\n",
    "\n",
    "## sapply() vs. lapply()\n",
    "\n",
    "lapply() hat uns als Ergebnis eine Liste erzeugt. Um den Prozess **s**impler zu gestallten können wir `sapply()` verwenden und so einen Vektor oder eine Matrix erhalten."
   ]
  },
  {
   "cell_type": "code",
   "execution_count": 10,
   "metadata": {},
   "outputs": [],
   "source": [
    "help(sapply)"
   ]
  },
  {
   "cell_type": "code",
   "execution_count": 11,
   "metadata": {},
   "outputs": [
    {
     "data": {
      "text/html": [
       "<ol class=list-inline>\n",
       "\t<li>11</li>\n",
       "\t<li>12</li>\n",
       "\t<li>13</li>\n",
       "\t<li>14</li>\n",
       "\t<li>15</li>\n",
       "</ol>\n"
      ],
      "text/latex": [
       "\\begin{enumerate*}\n",
       "\\item 11\n",
       "\\item 12\n",
       "\\item 13\n",
       "\\item 14\n",
       "\\item 15\n",
       "\\end{enumerate*}\n"
      ],
      "text/markdown": [
       "1. 11\n",
       "2. 12\n",
       "3. 13\n",
       "4. 14\n",
       "5. 15\n",
       "\n",
       "\n"
      ],
      "text/plain": [
       "[1] 11 12 13 14 15"
      ]
     },
     "metadata": {},
     "output_type": "display_data"
    }
   ],
   "source": [
    "# Toll, wir erhalten einen Vektor!\n",
    "sapply(v,add_wahl,wahl=10)"
   ]
  },
  {
   "cell_type": "code",
   "execution_count": 12,
   "metadata": {},
   "outputs": [
    {
     "data": {
      "text/html": [
       "'list'"
      ],
      "text/latex": [
       "'list'"
      ],
      "text/markdown": [
       "'list'"
      ],
      "text/plain": [
       "[1] \"list\""
      ]
     },
     "metadata": {},
     "output_type": "display_data"
    },
    {
     "data": {
      "text/html": [
       "'numeric'"
      ],
      "text/latex": [
       "'numeric'"
      ],
      "text/markdown": [
       "'numeric'"
      ],
      "text/plain": [
       "[1] \"numeric\""
      ]
     },
     "metadata": {},
     "output_type": "display_data"
    }
   ],
   "source": [
    "# Beweisen wir uns den Unterschied\n",
    "lapp <- lapply(v,add_wahl,wahl=10)\n",
    "sapp <- sapply(v,add_wahl,wahl=10)\n",
    "\n",
    "class(lapp) # Eine Liste\n",
    "class(sapp) # Vektor"
   ]
  },
  {
   "cell_type": "markdown",
   "metadata": {},
   "source": [
    "### sapply() Einschränkungen\n",
    "\n",
    "sapply() ist nicht in der Lage automatisch einen Vektor zu erstellen, falls die angewendete Funktion nicht für jedes Element im Vektor ein Ergebnis zurückgibt. Verdeutlichen wir dies an einem Beispiel:"
   ]
  },
  {
   "cell_type": "code",
   "execution_count": 13,
   "metadata": {},
   "outputs": [
    {
     "data": {
      "text/html": [
       "<ol>\n",
       "\t<li></li>\n",
       "\t<li>2</li>\n",
       "\t<li></li>\n",
       "\t<li>4</li>\n",
       "\t<li></li>\n",
       "</ol>\n"
      ],
      "text/latex": [
       "\\begin{enumerate}\n",
       "\\item \n",
       "\\item 2\n",
       "\\item \n",
       "\\item 4\n",
       "\\item \n",
       "\\end{enumerate}\n"
      ],
      "text/markdown": [
       "1. \n",
       "2. 2\n",
       "3. \n",
       "4. 4\n",
       "5. \n",
       "\n",
       "\n"
      ],
      "text/plain": [
       "[[1]]\n",
       "numeric(0)\n",
       "\n",
       "[[2]]\n",
       "[1] 2\n",
       "\n",
       "[[3]]\n",
       "numeric(0)\n",
       "\n",
       "[[4]]\n",
       "[1] 4\n",
       "\n",
       "[[5]]\n",
       "numeric(0)\n"
      ]
     },
     "metadata": {},
     "output_type": "display_data"
    }
   ],
   "source": [
    "# Überprüft gerade Zahlen\n",
    "gerade <- function(x) {\n",
    "  return(x[(x %% 2 == 0)])\n",
    "}\n",
    "\n",
    "nums <- c(1,2,3,4,5)\n",
    "\n",
    "sapply(nums,gerade)"
   ]
  },
  {
   "cell_type": "code",
   "execution_count": 14,
   "metadata": {},
   "outputs": [
    {
     "data": {
      "text/html": [
       "<ol>\n",
       "\t<li></li>\n",
       "\t<li>2</li>\n",
       "\t<li></li>\n",
       "\t<li>4</li>\n",
       "\t<li></li>\n",
       "</ol>\n"
      ],
      "text/latex": [
       "\\begin{enumerate}\n",
       "\\item \n",
       "\\item 2\n",
       "\\item \n",
       "\\item 4\n",
       "\\item \n",
       "\\end{enumerate}\n"
      ],
      "text/markdown": [
       "1. \n",
       "2. 2\n",
       "3. \n",
       "4. 4\n",
       "5. \n",
       "\n",
       "\n"
      ],
      "text/plain": [
       "[[1]]\n",
       "numeric(0)\n",
       "\n",
       "[[2]]\n",
       "[1] 2\n",
       "\n",
       "[[3]]\n",
       "numeric(0)\n",
       "\n",
       "[[4]]\n",
       "[1] 4\n",
       "\n",
       "[[5]]\n",
       "numeric(0)\n"
      ]
     },
     "metadata": {},
     "output_type": "display_data"
    }
   ],
   "source": [
    "lapply(nums,gerade)"
   ]
  },
  {
   "cell_type": "markdown",
   "metadata": {},
   "source": [
    "## Andere *apply()* Funktionen\n",
    "\n",
    "Es gibt noch einige weitere apply() Funktionen in R. Wir haben uns alles angeschaut, was wir bis hierher wissen müssen. Solltest du allerdings neugierig sein, dann schaue in die [Dokumentation](http://www.inside-r.org/r-doc/base/lapply) oder lies diese großasrtige [StackOverflow Antwort](http://stackoverflow.com/questions/3505701/r-grouping-functions-sapply-vs-lapply-vs-apply-vs-tapply-vs-by-vs-aggrega)."
   ]
  }
 ],
 "metadata": {
  "kernelspec": {
   "display_name": "R",
   "language": "R",
   "name": "ir"
  },
  "language_info": {
   "codemirror_mode": "r",
   "file_extension": ".r",
   "mimetype": "text/x-r-source",
   "name": "R",
   "pygments_lexer": "r",
   "version": "3.4.2"
  }
 },
 "nbformat": 4,
 "nbformat_minor": 1
}
