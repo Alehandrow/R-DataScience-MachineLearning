{
 "cells": [
  {
   "cell_type": "markdown",
   "metadata": {},
   "source": [
    "# Eingebaute R Features - Mathematik\n",
    "\n",
    "Wir haben uns bereits einige eingebaute mathematische Funktionen und Features in R angeschaut. Lasst uns trotzdem noch einmal einen genauer Blick auf einige davon werden:\n",
    "\n",
    "* abs(): Berechnet den Betrag (absoluten Wert)\n",
    "* sum(): Summiert alle Werte des Inputs\n",
    "* mean(): Berechnet das arithmetische Mittel\n",
    "* round(): Rundet Werte\n",
    "\n",
    "Hier ein paar kurze Beispiele zu allen davon:"
   ]
  },
  {
   "cell_type": "code",
   "execution_count": 1,
   "metadata": {
    "collapsed": true
   },
   "outputs": [],
   "source": [
    "v <- c(-1,0,1,2,3,4,5)"
   ]
  },
  {
   "cell_type": "code",
   "execution_count": 2,
   "metadata": {
    "collapsed": false
   },
   "outputs": [
    {
     "data": {
      "text/html": [
       "2"
      ],
      "text/latex": [
       "2"
      ],
      "text/markdown": [
       "2"
      ],
      "text/plain": [
       "[1] 2"
      ]
     },
     "metadata": {},
     "output_type": "display_data"
    }
   ],
   "source": [
    "abs(-2)"
   ]
  },
  {
   "cell_type": "code",
   "execution_count": 3,
   "metadata": {
    "collapsed": false
   },
   "outputs": [
    {
     "data": {
      "text/html": [
       "<ol class=list-inline>\n",
       "\t<li>1</li>\n",
       "\t<li>0</li>\n",
       "\t<li>1</li>\n",
       "\t<li>2</li>\n",
       "\t<li>3</li>\n",
       "\t<li>4</li>\n",
       "\t<li>5</li>\n",
       "</ol>\n"
      ],
      "text/latex": [
       "\\begin{enumerate*}\n",
       "\\item 1\n",
       "\\item 0\n",
       "\\item 1\n",
       "\\item 2\n",
       "\\item 3\n",
       "\\item 4\n",
       "\\item 5\n",
       "\\end{enumerate*}\n"
      ],
      "text/markdown": [
       "1. 1\n",
       "2. 0\n",
       "3. 1\n",
       "4. 2\n",
       "5. 3\n",
       "6. 4\n",
       "7. 5\n",
       "\n",
       "\n"
      ],
      "text/plain": [
       "[1] 1 0 1 2 3 4 5"
      ]
     },
     "metadata": {},
     "output_type": "display_data"
    }
   ],
   "source": [
    "abs(v)"
   ]
  },
  {
   "cell_type": "code",
   "execution_count": 4,
   "metadata": {
    "collapsed": false
   },
   "outputs": [
    {
     "data": {
      "text/html": [
       "14"
      ],
      "text/latex": [
       "14"
      ],
      "text/markdown": [
       "14"
      ],
      "text/plain": [
       "[1] 14"
      ]
     },
     "metadata": {},
     "output_type": "display_data"
    }
   ],
   "source": [
    "sum(v)"
   ]
  },
  {
   "cell_type": "code",
   "execution_count": 5,
   "metadata": {
    "collapsed": false
   },
   "outputs": [
    {
     "data": {
      "text/html": [
       "2"
      ],
      "text/latex": [
       "2"
      ],
      "text/markdown": [
       "2"
      ],
      "text/plain": [
       "[1] 2"
      ]
     },
     "metadata": {},
     "output_type": "display_data"
    }
   ],
   "source": [
    "mean(v)"
   ]
  },
  {
   "cell_type": "code",
   "execution_count": 6,
   "metadata": {
    "collapsed": false
   },
   "outputs": [
    {
     "data": {
      "text/html": [
       "23"
      ],
      "text/latex": [
       "23"
      ],
      "text/markdown": [
       "23"
      ],
      "text/plain": [
       "[1] 23"
      ]
     },
     "metadata": {},
     "output_type": "display_data"
    }
   ],
   "source": [
    "round(23.1231)"
   ]
  },
  {
   "cell_type": "code",
   "execution_count": 7,
   "metadata": {
    "collapsed": false
   },
   "outputs": [
    {
     "data": {
      "text/html": [
       "23.12"
      ],
      "text/latex": [
       "23.12"
      ],
      "text/markdown": [
       "23.12"
      ],
      "text/plain": [
       "[1] 23.12"
      ]
     },
     "metadata": {},
     "output_type": "display_data"
    }
   ],
   "source": [
    "round(23.1231234,2)"
   ]
  },
  {
   "cell_type": "markdown",
   "metadata": {},
   "source": [
    "Eine Übersicht weiterer mathematischer Funktionen seht ihr hier:\n",
    "\n",
    "<h2>Numerische Funktionen  </h2>\n",
    "\t\t\t\t<p>\n",
    "\t\t\t\t<table border=\"0\">\n",
    "                  <tr>\n",
    "                    <td valign=\"top\"><strong>Funktion</strong></td>\n",
    "                    <td valign=\"top\"><strong>Beschreibung</strong></td>\n",
    "                  </tr>\n",
    "                  <tr>\n",
    "                    <td valign=\"top\"><strong>abs(</strong><em>x</em><strong>)</strong></td>\n",
    "                    <td valign=\"top\">absoluter Wert</td>\n",
    "                  </tr>\n",
    "                  <tr>\n",
    "                    <td valign=\"top\"><strong>sqrt(</strong><em>x</em><strong>)</strong></td>\n",
    "                    <td valign=\"top\">Quadratwurzel</td>\n",
    "                  </tr>\n",
    "                  <tr>\n",
    "                    <td valign=\"top\"><strong>ceiling(</strong><em>x</em><strong>)</strong></td>\n",
    "                    <td valign=\"top\">ceiling(3.475) ist 4 </td>\n",
    "                  </tr>\n",
    "                  <tr>\n",
    "                    <td valign=\"top\"><strong>floor(</strong><em>x</em><strong>)</strong></td>\n",
    "                    <td valign=\"top\">floor(3.475) ist 3 </td>\n",
    "                  </tr>\n",
    "                  <tr>\n",
    "                    <td valign=\"top\"><strong>trunc(</strong><em>x</em><strong>)</strong></td>\n",
    "                    <td valign=\"top\">trunc(5.99) ist 5 </td>\n",
    "                  </tr>\n",
    "                  <tr>\n",
    "                    <td valign=\"top\"><strong>round(</strong><em>x</em><strong>, digits=</strong><em>n</em><strong>) </strong></td>\n",
    "                    <td valign=\"top\">round(3.475, digits=2) ist 3.48 </td>\n",
    "                  </tr>\n",
    "                  <tr>\n",
    "                    <td valign=\"top\"><strong>signif(</strong><em>x</em><strong>, digits=</strong><em>n</em><strong>) </strong></td>\n",
    "                    <td valign=\"top\">signif(3.475, digits=2) ist 3.5 </td>\n",
    "                  </tr>\n",
    "                  <tr>\n",
    "                    <td valign=\"top\"><strong>cos(</strong><em>x</em><strong>), sin(</strong><em>x</em><strong>), tan(</strong><em>x</em><strong>) </strong></td>\n",
    "                    <td valign=\"top\">also acos(<em>x</em>), cosh(<em>x</em>), acosh(<em>x</em>), etc. </td>\n",
    "                  </tr>\n",
    "                  <tr>\n",
    "                    <td valign=\"top\"><strong>log(</strong><em>x</em><strong>)</strong></td>\n",
    "                    <td valign=\"top\">natürliocher Logarithmus</td>\n",
    "                  </tr>\n",
    "                  <tr>\n",
    "                    <td valign=\"top\"><strong>log10(</strong><em>x</em><strong>)</strong></td>\n",
    "                    <td valign=\"top\">Logarithmus </td>\n",
    "                  </tr>\n",
    "                  <tr>\n",
    "                    <td valign=\"top\"><strong>exp(</strong><em>x</em><strong>)</strong></td>\n",
    "                    <td valign=\"top\">e^<em>x</em></td>\n",
    "                  </tr>\n",
    "          </table>\n"
   ]
  },
  {
   "cell_type": "markdown",
   "metadata": {},
   "source": [
    "Außerdem könnt ihr in die Dokumentation von R schauen, um einen detaillierteren Überblick zu gewinnen. Einige weitere Funktionen werden wir im Verlauf des Kurses noch kennenlernen."
   ]
  }
 ],
 "metadata": {
  "kernelspec": {
   "display_name": "Python 3",
   "language": "python",
   "name": "python3"
  },
  "language_info": {
   "codemirror_mode": {
    "name": "ipython",
    "version": 3
   },
   "file_extension": ".py",
   "mimetype": "text/x-python",
   "name": "python",
   "nbconvert_exporter": "python",
   "pygments_lexer": "ipython3",
   "version": "3.6.0"
  }
 },
 "nbformat": 4,
 "nbformat_minor": 1
}
