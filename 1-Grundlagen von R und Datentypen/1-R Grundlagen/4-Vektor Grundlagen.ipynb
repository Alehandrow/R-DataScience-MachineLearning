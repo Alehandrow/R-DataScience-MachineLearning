{
 "cells": [
  {
   "cell_type": "markdown",
   "metadata": {},
   "source": [
    "# Vektor Grundlagen\n",
    "\n",
    "Vektoren gehören zu den wichtigsten Datenstrukturen in R und wir werden sie viel verwenden. Ein vektor ist ein eindimensionales Array, das Zeichen, Nummern oder logische Elemente beinhalten kann.\n",
    "\n",
    "Wir können einen Vektor erstellen, indem wir die `c()` Funktion verwenden. Um sie zu verwenden übergeben wir die Elemente durch Komma getrennt an diese Funktion.\n",
    "\n",
    "Hier sind einige Beispiele:"
   ]
  },
  {
   "cell_type": "code",
   "execution_count": 1,
   "metadata": {
    "collapsed": true
   },
   "outputs": [],
   "source": [
    "# c() nutzen, um einen Vektor numerischer Element zu erstellen\n",
    "nvec <- c(1,2,3,4,5)"
   ]
  },
  {
   "cell_type": "code",
   "execution_count": 2,
   "metadata": {},
   "outputs": [
    {
     "data": {
      "text/html": [
       "'numeric'"
      ],
      "text/latex": [
       "'numeric'"
      ],
      "text/markdown": [
       "'numeric'"
      ],
      "text/plain": [
       "[1] \"numeric\""
      ]
     },
     "metadata": {},
     "output_type": "display_data"
    }
   ],
   "source": [
    "class(nvec)"
   ]
  },
  {
   "cell_type": "code",
   "execution_count": 3,
   "metadata": {},
   "outputs": [],
   "source": [
    "# Vektor von Zeichen\n",
    "zvec <- c('D','E')"
   ]
  },
  {
   "cell_type": "code",
   "execution_count": 4,
   "metadata": {},
   "outputs": [
    {
     "data": {
      "text/html": [
       "'character'"
      ],
      "text/latex": [
       "'character'"
      ],
      "text/markdown": [
       "'character'"
      ],
      "text/plain": [
       "[1] \"character\""
      ]
     },
     "metadata": {},
     "output_type": "display_data"
    }
   ],
   "source": [
    "class(zvec)"
   ]
  },
  {
   "cell_type": "code",
   "execution_count": 5,
   "metadata": {
    "collapsed": true
   },
   "outputs": [],
   "source": [
    "lvec <- c(TRUE,FALSE)"
   ]
  },
  {
   "cell_type": "code",
   "execution_count": 6,
   "metadata": {},
   "outputs": [
    {
     "data": {
      "text/html": [
       "<ol class=list-inline>\n",
       "\t<li>TRUE</li>\n",
       "\t<li>FALSE</li>\n",
       "</ol>\n"
      ],
      "text/latex": [
       "\\begin{enumerate*}\n",
       "\\item TRUE\n",
       "\\item FALSE\n",
       "\\end{enumerate*}\n"
      ],
      "text/markdown": [
       "1. TRUE\n",
       "2. FALSE\n",
       "\n",
       "\n"
      ],
      "text/plain": [
       "[1]  TRUE FALSE"
      ]
     },
     "metadata": {},
     "output_type": "display_data"
    }
   ],
   "source": [
    "lvec"
   ]
  },
  {
   "cell_type": "code",
   "execution_count": 7,
   "metadata": {},
   "outputs": [
    {
     "data": {
      "text/html": [
       "'logical'"
      ],
      "text/latex": [
       "'logical'"
      ],
      "text/markdown": [
       "'logical'"
      ],
      "text/plain": [
       "[1] \"logical\""
      ]
     },
     "metadata": {},
     "output_type": "display_data"
    }
   ],
   "source": [
    "class(lvec)"
   ]
  },
  {
   "cell_type": "markdown",
   "metadata": {},
   "source": [
    "Achtet darauf, dass wir die Datentypen der Elemente in einem Array nicht mischen dürfen. R wird die anderen Elemente umwandeln, um gleichheit des Datentyps zu erzwingen. Später lernen wir noch mehr über die Listen-Datenstruktur, die mehrere Datentypen beinhalten kann.\n",
    "\n",
    "Hier ist ein kurzes Beispiel, das zeigt was passiert, wenn wir mehrere Datentypen übergeben:"
   ]
  },
  {
   "cell_type": "code",
   "execution_count": 8,
   "metadata": {},
   "outputs": [],
   "source": [
    "v <- c(FALSE,2)"
   ]
  },
  {
   "cell_type": "code",
   "execution_count": 9,
   "metadata": {},
   "outputs": [
    {
     "data": {
      "text/html": [
       "<ol class=list-inline>\n",
       "\t<li>0</li>\n",
       "\t<li>2</li>\n",
       "</ol>\n"
      ],
      "text/latex": [
       "\\begin{enumerate*}\n",
       "\\item 0\n",
       "\\item 2\n",
       "\\end{enumerate*}\n"
      ],
      "text/markdown": [
       "1. 0\n",
       "2. 2\n",
       "\n",
       "\n"
      ],
      "text/plain": [
       "[1] 0 2"
      ]
     },
     "metadata": {},
     "output_type": "display_data"
    }
   ],
   "source": [
    "v"
   ]
  },
  {
   "cell_type": "code",
   "execution_count": 10,
   "metadata": {},
   "outputs": [
    {
     "data": {
      "text/html": [
       "'numeric'"
      ],
      "text/latex": [
       "'numeric'"
      ],
      "text/markdown": [
       "'numeric'"
      ],
      "text/plain": [
       "[1] \"numeric\""
      ]
     },
     "metadata": {},
     "output_type": "display_data"
    }
   ],
   "source": [
    "class(v)"
   ]
  },
  {
   "cell_type": "code",
   "execution_count": 11,
   "metadata": {
    "collapsed": true
   },
   "outputs": [],
   "source": [
    "v <- c('A',1)"
   ]
  },
  {
   "cell_type": "code",
   "execution_count": 12,
   "metadata": {},
   "outputs": [
    {
     "data": {
      "text/html": [
       "<ol class=list-inline>\n",
       "\t<li>'A'</li>\n",
       "\t<li>'1'</li>\n",
       "</ol>\n"
      ],
      "text/latex": [
       "\\begin{enumerate*}\n",
       "\\item 'A'\n",
       "\\item '1'\n",
       "\\end{enumerate*}\n"
      ],
      "text/markdown": [
       "1. 'A'\n",
       "2. '1'\n",
       "\n",
       "\n"
      ],
      "text/plain": [
       "[1] \"A\" \"1\""
      ]
     },
     "metadata": {},
     "output_type": "display_data"
    }
   ],
   "source": [
    "v"
   ]
  },
  {
   "cell_type": "code",
   "execution_count": 13,
   "metadata": {},
   "outputs": [
    {
     "data": {
      "text/html": [
       "'character'"
      ],
      "text/latex": [
       "'character'"
      ],
      "text/markdown": [
       "'character'"
      ],
      "text/plain": [
       "[1] \"character\""
      ]
     },
     "metadata": {},
     "output_type": "display_data"
    }
   ],
   "source": [
    "class(v)"
   ]
  },
  {
   "cell_type": "markdown",
   "metadata": {},
   "source": [
    "## Vektornamen\n",
    "\n",
    "Wir können die `names()` Funktion verwenden, um den Elementen in unserem Vektor Namen zuzuweisen. Zu Beispiel eine Zuordnung von Wochentagen und der Temperatur des jeweiligen Tages:"
   ]
  },
  {
   "cell_type": "code",
   "execution_count": 14,
   "metadata": {
    "collapsed": true
   },
   "outputs": [],
   "source": [
    "temps <- c(28,27,32,31,27,35,30)"
   ]
  },
  {
   "cell_type": "code",
   "execution_count": 15,
   "metadata": {},
   "outputs": [
    {
     "data": {
      "text/html": [
       "<ol class=list-inline>\n",
       "\t<li>28</li>\n",
       "\t<li>27</li>\n",
       "\t<li>32</li>\n",
       "\t<li>31</li>\n",
       "\t<li>27</li>\n",
       "\t<li>35</li>\n",
       "\t<li>30</li>\n",
       "</ol>\n"
      ],
      "text/latex": [
       "\\begin{enumerate*}\n",
       "\\item 28\n",
       "\\item 27\n",
       "\\item 32\n",
       "\\item 31\n",
       "\\item 27\n",
       "\\item 35\n",
       "\\item 30\n",
       "\\end{enumerate*}\n"
      ],
      "text/markdown": [
       "1. 28\n",
       "2. 27\n",
       "3. 32\n",
       "4. 31\n",
       "5. 27\n",
       "6. 35\n",
       "7. 30\n",
       "\n",
       "\n"
      ],
      "text/plain": [
       "[1] 28 27 32 31 27 35 30"
      ]
     },
     "metadata": {},
     "output_type": "display_data"
    }
   ],
   "source": [
    "temps"
   ]
  },
  {
   "cell_type": "markdown",
   "metadata": {},
   "source": [
    "Wir wissen, dass wir 7 Temperaturen für 7 Wochentage haben. Welche Temperatur gehört zu welchem Tag? Beginnt die Aufzählung Montag, Sonntag oder an einem anderen Tag? Hier kommt `names()` ins Spiel:"
   ]
  },
  {
   "cell_type": "code",
   "execution_count": 16,
   "metadata": {},
   "outputs": [],
   "source": [
    "names(temps) <- c('Mo','Di','Mi','Do','Fr','Sa','So')"
   ]
  },
  {
   "cell_type": "markdown",
   "metadata": {},
   "source": [
    "Jetzt passiert das folgende, wenn wir den Vektor ausgeben:"
   ]
  },
  {
   "cell_type": "code",
   "execution_count": 17,
   "metadata": {},
   "outputs": [
    {
     "data": {
      "text/html": [
       "<dl class=dl-horizontal>\n",
       "\t<dt>Mo</dt>\n",
       "\t\t<dd>28</dd>\n",
       "\t<dt>Di</dt>\n",
       "\t\t<dd>27</dd>\n",
       "\t<dt>Mi</dt>\n",
       "\t\t<dd>32</dd>\n",
       "\t<dt>Do</dt>\n",
       "\t\t<dd>31</dd>\n",
       "\t<dt>Fr</dt>\n",
       "\t\t<dd>27</dd>\n",
       "\t<dt>Sa</dt>\n",
       "\t\t<dd>35</dd>\n",
       "\t<dt>So</dt>\n",
       "\t\t<dd>30</dd>\n",
       "</dl>\n"
      ],
      "text/latex": [
       "\\begin{description*}\n",
       "\\item[Mo] 28\n",
       "\\item[Di] 27\n",
       "\\item[Mi] 32\n",
       "\\item[Do] 31\n",
       "\\item[Fr] 27\n",
       "\\item[Sa] 35\n",
       "\\item[So] 30\n",
       "\\end{description*}\n"
      ],
      "text/markdown": [
       "Mo\n",
       ":   28Di\n",
       ":   27Mi\n",
       ":   32Do\n",
       ":   31Fr\n",
       ":   27Sa\n",
       ":   35So\n",
       ":   30\n",
       "\n"
      ],
      "text/plain": [
       "Mo Di Mi Do Fr Sa So \n",
       "28 27 32 31 27 35 30 "
      ]
     },
     "metadata": {},
     "output_type": "display_data"
    }
   ],
   "source": [
    "temps"
   ]
  },
  {
   "cell_type": "markdown",
   "metadata": {},
   "source": [
    "Wir können jetzt die Elemente und ihren Namen zusammen sehen. Je nach IDE kann es auch sein, dass diese Aufstellung horizontal statt vertikal angezeigt wird. Das ist vollkommen in Ordnung!\n",
    "\n",
    "Wir müssen außerdem nicht immer einen neuen Namensvektor schreiben. Wir können die Variable für die Namen erstellen und diese wiederverwenden:"
   ]
  },
  {
   "cell_type": "code",
   "execution_count": 18,
   "metadata": {
    "collapsed": true
   },
   "outputs": [],
   "source": [
    "tage <- c('Mo','Di','Mi','Do','Fr','Sa','So')\n",
    "reihenfolge <- c(1,2,3,4,5,6,7)\n",
    "names(reihenfolge) <- tage"
   ]
  },
  {
   "cell_type": "code",
   "execution_count": 19,
   "metadata": {},
   "outputs": [
    {
     "data": {
      "text/html": [
       "<ol class=list-inline>\n",
       "\t<li>'Mo'</li>\n",
       "\t<li>'Di'</li>\n",
       "\t<li>'Mi'</li>\n",
       "\t<li>'Do'</li>\n",
       "\t<li>'Fr'</li>\n",
       "\t<li>'Sa'</li>\n",
       "\t<li>'So'</li>\n",
       "</ol>\n"
      ],
      "text/latex": [
       "\\begin{enumerate*}\n",
       "\\item 'Mo'\n",
       "\\item 'Di'\n",
       "\\item 'Mi'\n",
       "\\item 'Do'\n",
       "\\item 'Fr'\n",
       "\\item 'Sa'\n",
       "\\item 'So'\n",
       "\\end{enumerate*}\n"
      ],
      "text/markdown": [
       "1. 'Mo'\n",
       "2. 'Di'\n",
       "3. 'Mi'\n",
       "4. 'Do'\n",
       "5. 'Fr'\n",
       "6. 'Sa'\n",
       "7. 'So'\n",
       "\n",
       "\n"
      ],
      "text/plain": [
       "[1] \"Mo\" \"Di\" \"Mi\" \"Do\" \"Fr\" \"Sa\" \"So\""
      ]
     },
     "metadata": {},
     "output_type": "display_data"
    }
   ],
   "source": [
    "tage"
   ]
  },
  {
   "cell_type": "markdown",
   "metadata": {},
   "source": [
    "Soweit zu den Grundlagen der Vektoren! Jetzt können wir damit beginnen mit den Vektoren zu arbeiten!"
   ]
  }
 ],
 "metadata": {
  "kernelspec": {
   "display_name": "R",
   "language": "R",
   "name": "ir"
  },
  "language_info": {
   "codemirror_mode": "r",
   "file_extension": ".r",
   "mimetype": "text/x-r-source",
   "name": "R",
   "pygments_lexer": "r",
   "version": "3.4.2"
  }
 },
 "nbformat": 4,
 "nbformat_minor": 1
}
