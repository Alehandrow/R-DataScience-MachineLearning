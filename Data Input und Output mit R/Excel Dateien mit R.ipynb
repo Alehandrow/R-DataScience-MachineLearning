{
 "cells": [
  {
   "cell_type": "markdown",
   "metadata": {},
   "source": [
    "# Excel Dateien mit R\n",
    "\n",
    "*Hinweis: Die Excel-Datei hat viele fehlende Werte. Das soll aber kein Problem für uns sein und kann ignoriet werden.*\n",
    "\n",
    "R hat die Fähigkeit Excel-Datein zu lesen und zu schreiben. Das macht es sehr praktisch mit den selben Datansätzen zu arbeiten wir Analysten oder Kollegen, die nur Excel kennen. Sie können ihre Daten wie gewohnt in Excel bearbeiten, sie euch übergeben und ihr arbeitet in R weiter!\n",
    "\n",
    "Um dies zu tun benötigen wir das [readxl](https://cran.r-project.org/web/packages/readxl/readxl.pdf) Paket für R. Downloaden können wir es per:\n",
    "\n",
    "**install.packages('readxl')** \n",
    "\n",
    "Unter Umständen müssen wir noch folgendes definieren:\n",
    "\n",
    "**repos=\"http://cran.rstudio.com/\"**\n",
    "\n",
    "Schauen wir uns an, wie das eingesetzt wird:"
   ]
  },
  {
   "cell_type": "code",
   "execution_count": 1,
   "metadata": {},
   "outputs": [
    {
     "name": "stderr",
     "output_type": "stream",
     "text": [
      "also installing the dependencies ‘rematch’, ‘rlang’, ‘cellranger’, ‘Rcpp’, ‘tibble’\n",
      "\n"
     ]
    },
    {
     "name": "stdout",
     "output_type": "stream",
     "text": [
      "\n",
      "The downloaded binary packages are in\n",
      "\t/var/folders/l_/ph09zg211515zffvzrp3bb680000gn/T//RtmpZEwfH0/downloaded_packages\n"
     ]
    }
   ],
   "source": [
    "# Für die Installation\n",
    "install.packages('readxl',repos=\"http://cran.rstudio.com/\")"
   ]
  },
  {
   "cell_type": "code",
   "execution_count": 3,
   "metadata": {},
   "outputs": [],
   "source": [
    "# Das readx1 Paket laden\n",
    "library(readxl)"
   ]
  },
  {
   "cell_type": "code",
   "execution_count": 4,
   "metadata": {},
   "outputs": [
    {
     "data": {
      "text/html": [
       "'Sheet1'"
      ],
      "text/latex": [
       "'Sheet1'"
      ],
      "text/markdown": [
       "'Sheet1'"
      ],
      "text/plain": [
       "[1] \"Sheet1\""
      ]
     },
     "metadata": {},
     "output_type": "display_data"
    }
   ],
   "source": [
    "# Die Blätter der Excel-Datei auflisten\n",
    "excel_sheets('Beispiel-Verkaufs-Daten.xlsx')"
   ]
  },
  {
   "cell_type": "code",
   "execution_count": 5,
   "metadata": {},
   "outputs": [],
   "source": [
    "# Informationen aus den Sheet aufrufen\n",
    "df <- read_excel('Beispiel-Verkaufs-Daten.xlsx',sheet='Sheet1')"
   ]
  },
  {
   "cell_type": "code",
   "execution_count": 6,
   "metadata": {},
   "outputs": [
    {
     "data": {
      "text/html": [
       "<table>\n",
       "<thead><tr><th scope=col>PLZ</th><th scope=col>Verkaeufer_ID</th><th scope=col>Verkaeufer_Name</th><th scope=col>Jahr</th><th scope=col>Umsatz</th></tr></thead>\n",
       "<tbody>\n",
       "\t<tr><td>2121    </td><td>456     </td><td>Jane    </td><td>2011    </td><td>84219.50</td></tr>\n",
       "\t<tr><td>2092    </td><td>789     </td><td>Ashish  </td><td>2012    </td><td>28322.19</td></tr>\n",
       "\t<tr><td>2128    </td><td>456     </td><td>Jane    </td><td>2013    </td><td>81879.00</td></tr>\n",
       "\t<tr><td>2073    </td><td>123     </td><td>John    </td><td>2011    </td><td>44491.14</td></tr>\n",
       "\t<tr><td>2134    </td><td>789     </td><td>Ashish  </td><td>2012    </td><td>71837.72</td></tr>\n",
       "\t<tr><td>2162    </td><td>123     </td><td>John    </td><td>2013    </td><td>64531.55</td></tr>\n",
       "</tbody>\n",
       "</table>\n"
      ],
      "text/latex": [
       "\\begin{tabular}{r|lllll}\n",
       " PLZ & Verkaeufer\\_ID & Verkaeufer\\_Name & Jahr & Umsatz\\\\\n",
       "\\hline\n",
       "\t 2121     & 456      & Jane     & 2011     & 84219.50\\\\\n",
       "\t 2092     & 789      & Ashish   & 2012     & 28322.19\\\\\n",
       "\t 2128     & 456      & Jane     & 2013     & 81879.00\\\\\n",
       "\t 2073     & 123      & John     & 2011     & 44491.14\\\\\n",
       "\t 2134     & 789      & Ashish   & 2012     & 71837.72\\\\\n",
       "\t 2162     & 123      & John     & 2013     & 64531.55\\\\\n",
       "\\end{tabular}\n"
      ],
      "text/markdown": [
       "\n",
       "PLZ | Verkaeufer_ID | Verkaeufer_Name | Jahr | Umsatz | \n",
       "|---|---|---|---|---|---|\n",
       "| 2121     | 456      | Jane     | 2011     | 84219.50 | \n",
       "| 2092     | 789      | Ashish   | 2012     | 28322.19 | \n",
       "| 2128     | 456      | Jane     | 2013     | 81879.00 | \n",
       "| 2073     | 123      | John     | 2011     | 44491.14 | \n",
       "| 2134     | 789      | Ashish   | 2012     | 71837.72 | \n",
       "| 2162     | 123      | John     | 2013     | 64531.55 | \n",
       "\n",
       "\n"
      ],
      "text/plain": [
       "  PLZ  Verkaeufer_ID Verkaeufer_Name Jahr Umsatz  \n",
       "1 2121 456           Jane            2011 84219.50\n",
       "2 2092 789           Ashish          2012 28322.19\n",
       "3 2128 456           Jane            2013 81879.00\n",
       "4 2073 123           John            2011 44491.14\n",
       "5 2134 789           Ashish          2012 71837.72\n",
       "6 2162 123           John            2013 64531.55"
      ]
     },
     "metadata": {},
     "output_type": "display_data"
    }
   ],
   "source": [
    "head(df)"
   ]
  },
  {
   "cell_type": "markdown",
   "metadata": {},
   "source": [
    "Jetzt können wir Operationen wie bei einem R Data Frame durchführen:"
   ]
  },
  {
   "cell_type": "code",
   "execution_count": 7,
   "metadata": {},
   "outputs": [
    {
     "data": {
      "text/html": [
       "19199461.4387834"
      ],
      "text/latex": [
       "19199461.4387834"
      ],
      "text/markdown": [
       "19199461.4387834"
      ],
      "text/plain": [
       "[1] 19199461"
      ]
     },
     "metadata": {},
     "output_type": "display_data"
    }
   ],
   "source": [
    "sum(df['Umsatz'])"
   ]
  },
  {
   "cell_type": "code",
   "execution_count": 8,
   "metadata": {},
   "outputs": [
    {
     "name": "stdout",
     "output_type": "stream",
     "text": [
      "Classes ‘tbl_df’, ‘tbl’ and 'data.frame':\t390 obs. of  5 variables:\n",
      " $ PLZ            : chr  \"2121\" \"2092\" \"2128\" \"2073\" ...\n",
      " $ Verkaeufer_ID  : num  456 789 456 123 789 123 456 789 123 789 ...\n",
      " $ Verkaeufer_Name: chr  \"Jane\" \"Ashish\" \"Jane\" \"John\" ...\n",
      " $ Jahr           : num  2011 2012 2013 2011 2012 ...\n",
      " $ Umsatz         : num  84219 28322 81879 44491 71838 ...\n"
     ]
    }
   ],
   "source": [
    "str(df)"
   ]
  },
  {
   "cell_type": "code",
   "execution_count": 9,
   "metadata": {},
   "outputs": [
    {
     "data": {
      "text/plain": [
       "     PLZ            Verkaeufer_ID Verkaeufer_Name         Jahr     \n",
       " Length:390         Min.   :123   Length:390         Min.   :2011  \n",
       " Class :character   1st Qu.:123   Class :character   1st Qu.:2011  \n",
       " Mode  :character   Median :456   Mode  :character   Median :2012  \n",
       "                    Mean   :456                      Mean   :2012  \n",
       "                    3rd Qu.:789                      3rd Qu.:2013  \n",
       "                    Max.   :789                      Max.   :2013  \n",
       "     Umsatz       \n",
       " Min.   :  106.4  \n",
       " 1st Qu.:26101.5  \n",
       " Median :47447.4  \n",
       " Mean   :49229.4  \n",
       " 3rd Qu.:72277.8  \n",
       " Max.   :99878.5  "
      ]
     },
     "metadata": {},
     "output_type": "display_data"
    }
   ],
   "source": [
    "summary(df)"
   ]
  },
  {
   "cell_type": "markdown",
   "metadata": {},
   "source": [
    "Falls wir mehrere Sheets hätten importieren wollen, können wir dazu `lapply()` nutzen:"
   ]
  },
  {
   "cell_type": "code",
   "execution_count": 10,
   "metadata": {
    "collapsed": true
   },
   "outputs": [],
   "source": [
    "entire_workbook <- lapply(excel_sheets(\"Beispiel-Verkaufs-Daten.xlsx\"), \n",
    "                      read_excel, \n",
    "                      path = \"Beispiel-Verkaufs-Daten.xlsx\")"
   ]
  },
  {
   "cell_type": "code",
   "execution_count": 11,
   "metadata": {},
   "outputs": [
    {
     "data": {
      "text/html": [
       "<ol>\n",
       "\t<li><table>\n",
       "<thead><tr><th scope=col>PLZ</th><th scope=col>Verkaeufer_ID</th><th scope=col>Verkaeufer_Name</th><th scope=col>Jahr</th><th scope=col>Umsatz</th></tr></thead>\n",
       "<tbody>\n",
       "\t<tr><td>2121     </td><td>456      </td><td>Jane     </td><td>2011     </td><td>84219.497</td></tr>\n",
       "\t<tr><td>2092     </td><td>789      </td><td>Ashish   </td><td>2012     </td><td>28322.192</td></tr>\n",
       "\t<tr><td>2128     </td><td>456      </td><td>Jane     </td><td>2013     </td><td>81878.997</td></tr>\n",
       "\t<tr><td>2073     </td><td>123      </td><td>John     </td><td>2011     </td><td>44491.142</td></tr>\n",
       "\t<tr><td>2134     </td><td>789      </td><td>Ashish   </td><td>2012     </td><td>71837.721</td></tr>\n",
       "\t<tr><td>2162     </td><td>123      </td><td>John     </td><td>2013     </td><td>64531.549</td></tr>\n",
       "\t<tr><td>2093     </td><td>456      </td><td>Jane     </td><td>2011     </td><td>58962.640</td></tr>\n",
       "\t<tr><td>2042     </td><td>789      </td><td>Ashish   </td><td>2012     </td><td>27521.792</td></tr>\n",
       "\t<tr><td>2198     </td><td>123      </td><td>John     </td><td>2013     </td><td>77985.126</td></tr>\n",
       "\t<tr><td>2043     </td><td>789      </td><td>Ashish   </td><td>2011     </td><td>49546.123</td></tr>\n",
       "\t<tr><td>2025     </td><td>789      </td><td>Ashish   </td><td>2012     </td><td>17733.775</td></tr>\n",
       "\t<tr><td>2045     </td><td>456      </td><td>Jane     </td><td>2013     </td><td>91125.996</td></tr>\n",
       "\t<tr><td>2090     </td><td>456      </td><td>Jane     </td><td>2011     </td><td>48112.765</td></tr>\n",
       "\t<tr><td>2114     </td><td>456      </td><td>Jane     </td><td>2012     </td><td>28361.338</td></tr>\n",
       "\t<tr><td>2142     </td><td>456      </td><td>Jane     </td><td>2013     </td><td>50911.555</td></tr>\n",
       "\t<tr><td>2062     </td><td>123      </td><td>John     </td><td>2011     </td><td>75538.870</td></tr>\n",
       "\t<tr><td>2049     </td><td>456      </td><td>Jane     </td><td>2012     </td><td>96922.328</td></tr>\n",
       "\t<tr><td>2204     </td><td>456      </td><td>Jane     </td><td>2013     </td><td>57838.175</td></tr>\n",
       "\t<tr><td>2000     </td><td>456      </td><td>Jane     </td><td>2011     </td><td> 4529.749</td></tr>\n",
       "\t<tr><td>2135     </td><td>123      </td><td>John     </td><td>2012     </td><td>27761.119</td></tr>\n",
       "\t<tr><td>2115     </td><td>456      </td><td>Jane     </td><td>2013     </td><td>22772.698</td></tr>\n",
       "\t<tr><td>2032     </td><td>789      </td><td>Ashish   </td><td>2011     </td><td>98780.163</td></tr>\n",
       "\t<tr><td>2068     </td><td>456      </td><td>Jane     </td><td>2012     </td><td>66043.702</td></tr>\n",
       "\t<tr><td>2119     </td><td>789      </td><td>Ashish   </td><td>2013     </td><td>32882.275</td></tr>\n",
       "\t<tr><td>2060     </td><td>456      </td><td>Jane     </td><td>2011     </td><td>75822.407</td></tr>\n",
       "\t<tr><td>2072     </td><td>456      </td><td>Jane     </td><td>2012     </td><td>36675.400</td></tr>\n",
       "\t<tr><td>2045     </td><td>123      </td><td>John     </td><td>2013     </td><td>95816.703</td></tr>\n",
       "\t<tr><td>2140     </td><td>456      </td><td>Jane     </td><td>2011     </td><td>43627.200</td></tr>\n",
       "\t<tr><td>2205     </td><td>789      </td><td>Ashish   </td><td>2012     </td><td>93306.120</td></tr>\n",
       "\t<tr><td>2060     </td><td>123      </td><td>John     </td><td>2013     </td><td>71321.532</td></tr>\n",
       "\t<tr><td>⋮</td><td>⋮</td><td>⋮</td><td>⋮</td><td>⋮</td></tr>\n",
       "\t<tr><td>2099      </td><td>123       </td><td>John      </td><td>2011      </td><td>82289.5216</td></tr>\n",
       "\t<tr><td>2125      </td><td>123       </td><td>John      </td><td>2012      </td><td>35987.1307</td></tr>\n",
       "\t<tr><td>2089      </td><td>789       </td><td>Ashish    </td><td>2013      </td><td>89068.9256</td></tr>\n",
       "\t<tr><td>2136      </td><td>123       </td><td>John      </td><td>2011      </td><td>83058.6732</td></tr>\n",
       "\t<tr><td>2022      </td><td>456       </td><td>Jane      </td><td>2012      </td><td> 1246.1058</td></tr>\n",
       "\t<tr><td>2067      </td><td>123       </td><td>John      </td><td>2013      </td><td>57862.6874</td></tr>\n",
       "\t<tr><td>2127      </td><td>789       </td><td>Ashish    </td><td>2011      </td><td>70493.8925</td></tr>\n",
       "\t<tr><td>2118      </td><td>456       </td><td>Jane      </td><td>2012      </td><td>13243.3115</td></tr>\n",
       "\t<tr><td>2065      </td><td>123       </td><td>John      </td><td>2013      </td><td>88484.9756</td></tr>\n",
       "\t<tr><td>2193      </td><td>789       </td><td>Ashish    </td><td>2011      </td><td>82687.1223</td></tr>\n",
       "\t<tr><td>2073      </td><td>456       </td><td>Jane      </td><td>2012      </td><td> 3158.1913</td></tr>\n",
       "\t<tr><td>2026      </td><td>123       </td><td>John      </td><td>2013      </td><td>55338.7023</td></tr>\n",
       "\t<tr><td>2011      </td><td>789       </td><td>Ashish    </td><td>2011      </td><td>43355.9232</td></tr>\n",
       "\t<tr><td>2087      </td><td>123       </td><td>John      </td><td>2012      </td><td> 9482.6597</td></tr>\n",
       "\t<tr><td>2024      </td><td>456       </td><td>Jane      </td><td>2013      </td><td>43002.1635</td></tr>\n",
       "\t<tr><td>2192      </td><td>789       </td><td>Ashish    </td><td>2011      </td><td>24077.8188</td></tr>\n",
       "\t<tr><td>2109      </td><td>456       </td><td>Jane      </td><td>2012      </td><td>45718.9595</td></tr>\n",
       "\t<tr><td>2130      </td><td>789       </td><td>Ashish    </td><td>2013      </td><td>51693.3607</td></tr>\n",
       "\t<tr><td>2194      </td><td>123       </td><td>John      </td><td>2011      </td><td>66864.3069</td></tr>\n",
       "\t<tr><td>2141      </td><td>123       </td><td>John      </td><td>2012      </td><td>54682.8688</td></tr>\n",
       "\t<tr><td>2136      </td><td>789       </td><td>Ashish    </td><td>2013      </td><td>  881.7744</td></tr>\n",
       "\t<tr><td>2033      </td><td>789       </td><td>Ashish    </td><td>2011      </td><td>76990.3658</td></tr>\n",
       "\t<tr><td>2072      </td><td>123       </td><td>John      </td><td>2012      </td><td>35366.4901</td></tr>\n",
       "\t<tr><td>2063      </td><td>456       </td><td>Jane      </td><td>2013      </td><td>93341.1645</td></tr>\n",
       "\t<tr><td>2018      </td><td>789       </td><td>Ashish    </td><td>2011      </td><td>97167.7845</td></tr>\n",
       "\t<tr><td>2164      </td><td>123       </td><td>John      </td><td>2012      </td><td>88884.5352</td></tr>\n",
       "\t<tr><td>2193      </td><td>456       </td><td>Jane      </td><td>2013      </td><td>79440.2908</td></tr>\n",
       "\t<tr><td>2031      </td><td>123       </td><td>John      </td><td>2011      </td><td>65643.6895</td></tr>\n",
       "\t<tr><td>2130      </td><td>456       </td><td>Jane      </td><td>2012      </td><td>66247.8749</td></tr>\n",
       "\t<tr><td>2116      </td><td>456       </td><td>Jane      </td><td>2013      </td><td> 3195.6991</td></tr>\n",
       "</tbody>\n",
       "</table>\n",
       "</li>\n",
       "</ol>\n"
      ],
      "text/latex": [
       "\\begin{enumerate}\n",
       "\\item \\begin{tabular}{r|lllll}\n",
       " PLZ & Verkaeufer\\_ID & Verkaeufer\\_Name & Jahr & Umsatz\\\\\n",
       "\\hline\n",
       "\t 2121      & 456       & Jane      & 2011      & 84219.497\\\\\n",
       "\t 2092      & 789       & Ashish    & 2012      & 28322.192\\\\\n",
       "\t 2128      & 456       & Jane      & 2013      & 81878.997\\\\\n",
       "\t 2073      & 123       & John      & 2011      & 44491.142\\\\\n",
       "\t 2134      & 789       & Ashish    & 2012      & 71837.721\\\\\n",
       "\t 2162      & 123       & John      & 2013      & 64531.549\\\\\n",
       "\t 2093      & 456       & Jane      & 2011      & 58962.640\\\\\n",
       "\t 2042      & 789       & Ashish    & 2012      & 27521.792\\\\\n",
       "\t 2198      & 123       & John      & 2013      & 77985.126\\\\\n",
       "\t 2043      & 789       & Ashish    & 2011      & 49546.123\\\\\n",
       "\t 2025      & 789       & Ashish    & 2012      & 17733.775\\\\\n",
       "\t 2045      & 456       & Jane      & 2013      & 91125.996\\\\\n",
       "\t 2090      & 456       & Jane      & 2011      & 48112.765\\\\\n",
       "\t 2114      & 456       & Jane      & 2012      & 28361.338\\\\\n",
       "\t 2142      & 456       & Jane      & 2013      & 50911.555\\\\\n",
       "\t 2062      & 123       & John      & 2011      & 75538.870\\\\\n",
       "\t 2049      & 456       & Jane      & 2012      & 96922.328\\\\\n",
       "\t 2204      & 456       & Jane      & 2013      & 57838.175\\\\\n",
       "\t 2000      & 456       & Jane      & 2011      &  4529.749\\\\\n",
       "\t 2135      & 123       & John      & 2012      & 27761.119\\\\\n",
       "\t 2115      & 456       & Jane      & 2013      & 22772.698\\\\\n",
       "\t 2032      & 789       & Ashish    & 2011      & 98780.163\\\\\n",
       "\t 2068      & 456       & Jane      & 2012      & 66043.702\\\\\n",
       "\t 2119      & 789       & Ashish    & 2013      & 32882.275\\\\\n",
       "\t 2060      & 456       & Jane      & 2011      & 75822.407\\\\\n",
       "\t 2072      & 456       & Jane      & 2012      & 36675.400\\\\\n",
       "\t 2045      & 123       & John      & 2013      & 95816.703\\\\\n",
       "\t 2140      & 456       & Jane      & 2011      & 43627.200\\\\\n",
       "\t 2205      & 789       & Ashish    & 2012      & 93306.120\\\\\n",
       "\t 2060      & 123       & John      & 2013      & 71321.532\\\\\n",
       "\t ⋮ & ⋮ & ⋮ & ⋮ & ⋮\\\\\n",
       "\t 2099       & 123        & John       & 2011       & 82289.5216\\\\\n",
       "\t 2125       & 123        & John       & 2012       & 35987.1307\\\\\n",
       "\t 2089       & 789        & Ashish     & 2013       & 89068.9256\\\\\n",
       "\t 2136       & 123        & John       & 2011       & 83058.6732\\\\\n",
       "\t 2022       & 456        & Jane       & 2012       &  1246.1058\\\\\n",
       "\t 2067       & 123        & John       & 2013       & 57862.6874\\\\\n",
       "\t 2127       & 789        & Ashish     & 2011       & 70493.8925\\\\\n",
       "\t 2118       & 456        & Jane       & 2012       & 13243.3115\\\\\n",
       "\t 2065       & 123        & John       & 2013       & 88484.9756\\\\\n",
       "\t 2193       & 789        & Ashish     & 2011       & 82687.1223\\\\\n",
       "\t 2073       & 456        & Jane       & 2012       &  3158.1913\\\\\n",
       "\t 2026       & 123        & John       & 2013       & 55338.7023\\\\\n",
       "\t 2011       & 789        & Ashish     & 2011       & 43355.9232\\\\\n",
       "\t 2087       & 123        & John       & 2012       &  9482.6597\\\\\n",
       "\t 2024       & 456        & Jane       & 2013       & 43002.1635\\\\\n",
       "\t 2192       & 789        & Ashish     & 2011       & 24077.8188\\\\\n",
       "\t 2109       & 456        & Jane       & 2012       & 45718.9595\\\\\n",
       "\t 2130       & 789        & Ashish     & 2013       & 51693.3607\\\\\n",
       "\t 2194       & 123        & John       & 2011       & 66864.3069\\\\\n",
       "\t 2141       & 123        & John       & 2012       & 54682.8688\\\\\n",
       "\t 2136       & 789        & Ashish     & 2013       &   881.7744\\\\\n",
       "\t 2033       & 789        & Ashish     & 2011       & 76990.3658\\\\\n",
       "\t 2072       & 123        & John       & 2012       & 35366.4901\\\\\n",
       "\t 2063       & 456        & Jane       & 2013       & 93341.1645\\\\\n",
       "\t 2018       & 789        & Ashish     & 2011       & 97167.7845\\\\\n",
       "\t 2164       & 123        & John       & 2012       & 88884.5352\\\\\n",
       "\t 2193       & 456        & Jane       & 2013       & 79440.2908\\\\\n",
       "\t 2031       & 123        & John       & 2011       & 65643.6895\\\\\n",
       "\t 2130       & 456        & Jane       & 2012       & 66247.8749\\\\\n",
       "\t 2116       & 456        & Jane       & 2013       &  3195.6991\\\\\n",
       "\\end{tabular}\n",
       "\n",
       "\\end{enumerate}\n"
      ],
      "text/markdown": [
       "1. \n",
       "PLZ | Verkaeufer_ID | Verkaeufer_Name | Jahr | Umsatz | \n",
       "|---|---|---|---|---|---|---|---|---|---|---|---|---|---|---|---|---|---|---|---|---|---|---|---|---|---|---|---|---|---|---|---|---|---|---|---|---|---|---|---|---|---|---|---|---|---|---|---|---|---|---|---|---|---|---|---|---|---|---|---|---|\n",
       "| 2121      | 456       | Jane      | 2011      | 84219.497 | \n",
       "| 2092      | 789       | Ashish    | 2012      | 28322.192 | \n",
       "| 2128      | 456       | Jane      | 2013      | 81878.997 | \n",
       "| 2073      | 123       | John      | 2011      | 44491.142 | \n",
       "| 2134      | 789       | Ashish    | 2012      | 71837.721 | \n",
       "| 2162      | 123       | John      | 2013      | 64531.549 | \n",
       "| 2093      | 456       | Jane      | 2011      | 58962.640 | \n",
       "| 2042      | 789       | Ashish    | 2012      | 27521.792 | \n",
       "| 2198      | 123       | John      | 2013      | 77985.126 | \n",
       "| 2043      | 789       | Ashish    | 2011      | 49546.123 | \n",
       "| 2025      | 789       | Ashish    | 2012      | 17733.775 | \n",
       "| 2045      | 456       | Jane      | 2013      | 91125.996 | \n",
       "| 2090      | 456       | Jane      | 2011      | 48112.765 | \n",
       "| 2114      | 456       | Jane      | 2012      | 28361.338 | \n",
       "| 2142      | 456       | Jane      | 2013      | 50911.555 | \n",
       "| 2062      | 123       | John      | 2011      | 75538.870 | \n",
       "| 2049      | 456       | Jane      | 2012      | 96922.328 | \n",
       "| 2204      | 456       | Jane      | 2013      | 57838.175 | \n",
       "| 2000      | 456       | Jane      | 2011      |  4529.749 | \n",
       "| 2135      | 123       | John      | 2012      | 27761.119 | \n",
       "| 2115      | 456       | Jane      | 2013      | 22772.698 | \n",
       "| 2032      | 789       | Ashish    | 2011      | 98780.163 | \n",
       "| 2068      | 456       | Jane      | 2012      | 66043.702 | \n",
       "| 2119      | 789       | Ashish    | 2013      | 32882.275 | \n",
       "| 2060      | 456       | Jane      | 2011      | 75822.407 | \n",
       "| 2072      | 456       | Jane      | 2012      | 36675.400 | \n",
       "| 2045      | 123       | John      | 2013      | 95816.703 | \n",
       "| 2140      | 456       | Jane      | 2011      | 43627.200 | \n",
       "| 2205      | 789       | Ashish    | 2012      | 93306.120 | \n",
       "| 2060      | 123       | John      | 2013      | 71321.532 | \n",
       "| ⋮ | ⋮ | ⋮ | ⋮ | ⋮ | \n",
       "| 2099       | 123        | John       | 2011       | 82289.5216 | \n",
       "| 2125       | 123        | John       | 2012       | 35987.1307 | \n",
       "| 2089       | 789        | Ashish     | 2013       | 89068.9256 | \n",
       "| 2136       | 123        | John       | 2011       | 83058.6732 | \n",
       "| 2022       | 456        | Jane       | 2012       |  1246.1058 | \n",
       "| 2067       | 123        | John       | 2013       | 57862.6874 | \n",
       "| 2127       | 789        | Ashish     | 2011       | 70493.8925 | \n",
       "| 2118       | 456        | Jane       | 2012       | 13243.3115 | \n",
       "| 2065       | 123        | John       | 2013       | 88484.9756 | \n",
       "| 2193       | 789        | Ashish     | 2011       | 82687.1223 | \n",
       "| 2073       | 456        | Jane       | 2012       |  3158.1913 | \n",
       "| 2026       | 123        | John       | 2013       | 55338.7023 | \n",
       "| 2011       | 789        | Ashish     | 2011       | 43355.9232 | \n",
       "| 2087       | 123        | John       | 2012       |  9482.6597 | \n",
       "| 2024       | 456        | Jane       | 2013       | 43002.1635 | \n",
       "| 2192       | 789        | Ashish     | 2011       | 24077.8188 | \n",
       "| 2109       | 456        | Jane       | 2012       | 45718.9595 | \n",
       "| 2130       | 789        | Ashish     | 2013       | 51693.3607 | \n",
       "| 2194       | 123        | John       | 2011       | 66864.3069 | \n",
       "| 2141       | 123        | John       | 2012       | 54682.8688 | \n",
       "| 2136       | 789        | Ashish     | 2013       |   881.7744 | \n",
       "| 2033       | 789        | Ashish     | 2011       | 76990.3658 | \n",
       "| 2072       | 123        | John       | 2012       | 35366.4901 | \n",
       "| 2063       | 456        | Jane       | 2013       | 93341.1645 | \n",
       "| 2018       | 789        | Ashish     | 2011       | 97167.7845 | \n",
       "| 2164       | 123        | John       | 2012       | 88884.5352 | \n",
       "| 2193       | 456        | Jane       | 2013       | 79440.2908 | \n",
       "| 2031       | 123        | John       | 2011       | 65643.6895 | \n",
       "| 2130       | 456        | Jane       | 2012       | 66247.8749 | \n",
       "| 2116       | 456        | Jane       | 2013       |  3195.6991 | \n",
       "\n",
       "\n",
       "\n",
       "\n",
       "\n"
      ],
      "text/plain": [
       "[[1]]\n",
       "# A tibble: 390 x 5\n",
       "     PLZ Verkaeufer_ID Verkaeufer_Name  Jahr   Umsatz\n",
       "   <chr>         <dbl>           <chr> <dbl>    <dbl>\n",
       " 1  2121           456            Jane  2011 84219.50\n",
       " 2  2092           789          Ashish  2012 28322.19\n",
       " 3  2128           456            Jane  2013 81879.00\n",
       " 4  2073           123            John  2011 44491.14\n",
       " 5  2134           789          Ashish  2012 71837.72\n",
       " 6  2162           123            John  2013 64531.55\n",
       " 7  2093           456            Jane  2011 58962.64\n",
       " 8  2042           789          Ashish  2012 27521.79\n",
       " 9  2198           123            John  2013 77985.13\n",
       "10  2043           789          Ashish  2011 49546.12\n",
       "# ... with 380 more rows\n"
      ]
     },
     "metadata": {},
     "output_type": "display_data"
    }
   ],
   "source": [
    "# Alles anzeigen:\n",
    "entire_workbook"
   ]
  },
  {
   "cell_type": "markdown",
   "metadata": {},
   "source": [
    "## Excel-Dateien schreiben\n",
    "\n",
    "Um in Excel-Datei zu schreiben benötigen wir das xlsx Paket:"
   ]
  },
  {
   "cell_type": "code",
   "execution_count": 12,
   "metadata": {},
   "outputs": [
    {
     "name": "stderr",
     "output_type": "stream",
     "text": [
      "also installing the dependencies ‘rJava’, ‘xlsxjars’\n",
      "\n"
     ]
    },
    {
     "name": "stdout",
     "output_type": "stream",
     "text": [
      "\n",
      "The downloaded binary packages are in\n",
      "\t/var/folders/l_/ph09zg211515zffvzrp3bb680000gn/T//RtmpZEwfH0/downloaded_packages\n"
     ]
    }
   ],
   "source": [
    "install.packages('xlsx',repos=\"http://cran.rstudio.com/\")"
   ]
  },
  {
   "cell_type": "code",
   "execution_count": 13,
   "metadata": {},
   "outputs": [
    {
     "name": "stderr",
     "output_type": "stream",
     "text": [
      "Loading required package: rJava\n",
      "Loading required package: xlsxjars\n"
     ]
    }
   ],
   "source": [
    "library(xlsx)"
   ]
  },
  {
   "cell_type": "code",
   "execution_count": 14,
   "metadata": {
    "collapsed": true
   },
   "outputs": [],
   "source": [
    "df <- data.frame(matrix(1:10))\n",
    "write.xlsx(df, \"Output.xlsx\")"
   ]
  },
  {
   "cell_type": "code",
   "execution_count": 15,
   "metadata": {},
   "outputs": [
    {
     "data": {
      "text/html": [
       "<table>\n",
       "<thead><tr><th scope=col>X__1</th><th scope=col>matrix.1.10.</th></tr></thead>\n",
       "<tbody>\n",
       "\t<tr><td>1 </td><td> 1</td></tr>\n",
       "\t<tr><td>2 </td><td> 2</td></tr>\n",
       "\t<tr><td>3 </td><td> 3</td></tr>\n",
       "\t<tr><td>4 </td><td> 4</td></tr>\n",
       "\t<tr><td>5 </td><td> 5</td></tr>\n",
       "\t<tr><td>6 </td><td> 6</td></tr>\n",
       "\t<tr><td>7 </td><td> 7</td></tr>\n",
       "\t<tr><td>8 </td><td> 8</td></tr>\n",
       "\t<tr><td>9 </td><td> 9</td></tr>\n",
       "\t<tr><td>10</td><td>10</td></tr>\n",
       "</tbody>\n",
       "</table>\n"
      ],
      "text/latex": [
       "\\begin{tabular}{r|ll}\n",
       " X\\_\\_1 & matrix.1.10.\\\\\n",
       "\\hline\n",
       "\t 1  &  1\\\\\n",
       "\t 2  &  2\\\\\n",
       "\t 3  &  3\\\\\n",
       "\t 4  &  4\\\\\n",
       "\t 5  &  5\\\\\n",
       "\t 6  &  6\\\\\n",
       "\t 7  &  7\\\\\n",
       "\t 8  &  8\\\\\n",
       "\t 9  &  9\\\\\n",
       "\t 10 & 10\\\\\n",
       "\\end{tabular}\n"
      ],
      "text/markdown": [
       "\n",
       "X__1 | matrix.1.10. | \n",
       "|---|---|---|---|---|---|---|---|---|---|\n",
       "| 1  |  1 | \n",
       "| 2  |  2 | \n",
       "| 3  |  3 | \n",
       "| 4  |  4 | \n",
       "| 5  |  5 | \n",
       "| 6  |  6 | \n",
       "| 7  |  7 | \n",
       "| 8  |  8 | \n",
       "| 9  |  9 | \n",
       "| 10 | 10 | \n",
       "\n",
       "\n"
      ],
      "text/plain": [
       "   X__1 matrix.1.10.\n",
       "1  1     1          \n",
       "2  2     2          \n",
       "3  3     3          \n",
       "4  4     4          \n",
       "5  5     5          \n",
       "6  6     6          \n",
       "7  7     7          \n",
       "8  8     8          \n",
       "9  9     9          \n",
       "10 10   10          "
      ]
     },
     "metadata": {},
     "output_type": "display_data"
    }
   ],
   "source": [
    "read_excel('Output.xlsx')"
   ]
  },
  {
   "cell_type": "markdown",
   "metadata": {},
   "source": [
    "Soviel zu den Grundlagen im Umgang mit Excel-Datei, also dem Lesen und Schreiben von Einträgen. Da nicht alle Studenten notwendigerweise Excel verwenden werden wir im restlichen Verlauf des Kurses bei CSV-Dateien bleiben."
   ]
  }
 ],
 "metadata": {
  "kernelspec": {
   "display_name": "R",
   "language": "R",
   "name": "ir"
  },
  "language_info": {
   "codemirror_mode": "r",
   "file_extension": ".r",
   "mimetype": "text/x-r-source",
   "name": "R",
   "pygments_lexer": "r",
   "version": "3.4.2"
  }
 },
 "nbformat": 4,
 "nbformat_minor": 1
}
