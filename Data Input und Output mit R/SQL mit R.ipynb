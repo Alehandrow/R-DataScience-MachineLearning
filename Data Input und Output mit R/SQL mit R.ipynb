{
 "cells": [
  {
   "cell_type": "markdown",
   "metadata": {},
   "source": [
    "# SQL mit R\n",
    "\n",
    "Das wird tatsächlich nur eine sehr kurze Lektion werden, da die Verbindung von R zu einer SQL Datenbank komplett von der Art der Datenbank (MySQL, Oracle, etc.) abhängig ist. \n",
    "\n",
    "Anstatt also alle Arten von SQL-Datenbanken abzudecken (da jedes ein anderes Paket benötigt), werden wir diese Lektion dazu nutzen, um jeden an die richtige Stelle zu verweisen. Sobald wir die korrekte Library gedownloaded haben ist die tatsächliche Verbindung wirklich einfach. Und dann geht es nur noch darum SQL-Abfragen mit R durchzuführen. \n",
    "\n",
    "Wir schauen uns nun einmal eine allgemeine Lösung in Form des DBI Pakets an.\n",
    "\n",
    "## RODBC - Allgemeine Nutzung\n",
    "\n",
    "Die [RODBC](https://cran.r-project.org/web/packages/DBI/DBI.pdf) Library ist eine Möglichkeit, um sich mit Datenbanken zu verbinden. Ganz unabhängig davon wofür ihr euch entscheidet empfehle ich eine Google-Suche nach eurer Datenbank und R. Dort gibt es viele Erfahrungsberichte und Anleitungen."
   ]
  },
  {
   "cell_type": "code",
   "execution_count": null,
   "metadata": {
    "collapsed": true
   },
   "outputs": [],
   "source": [
    "install.packages(\"RODBC\") \n",
    "# RODBC Syntax Beispiel\n",
    "library(RODBC)\n",
    "\n",
    "myconn <-odbcConnect(\"Database_Name\", uid=\"User_ID\", pwd=\"password\")\n",
    "dat <- sqlFetch(myconn, \"Table_Name\")\n",
    "querydat <- sqlQuery(myconn, \"SELECT * FROM table\")\n",
    "close(myconn)"
   ]
  },
  {
   "cell_type": "markdown",
   "metadata": {},
   "source": [
    "### MySQL\n",
    "Das [RMySQL](https://cran.r-project.org/web/packages/RMySQL/index.html) Paket bietet ein Interface zu MySQL.\n",
    "\n",
    "### Oracle\n",
    "Das [ROracle](https://cran.r-project.org/web/packages/ROracle/index.html) Paket bietet ein Interface zu Oracle.\n",
    "\n",
    "### JDBC\n",
    "Das [RJDBC](https://cran.r-project.org/web/packages/RJDBC/index.html) Paket bietet Zugang zu Datenbanken durch ein JDBC Interface."
   ]
  },
  {
   "cell_type": "markdown",
   "metadata": {},
   "source": [
    "Noch einmal der Hinweis: Google wird euch unter Verwendung von \"Datenbank + R\" zur besten Lösung führen."
   ]
  }
 ],
 "metadata": {
  "kernelspec": {
   "display_name": "Python 3",
   "language": "python",
   "name": "python3"
  },
  "language_info": {
   "codemirror_mode": {
    "name": "ipython",
    "version": 3
   },
   "file_extension": ".py",
   "mimetype": "text/x-python",
   "name": "python",
   "nbconvert_exporter": "python",
   "pygments_lexer": "ipython3",
   "version": "3.6.0"
  }
 },
 "nbformat": 4,
 "nbformat_minor": 1
}
