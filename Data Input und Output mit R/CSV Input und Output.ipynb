{
 "cells": [
  {
   "cell_type": "markdown",
   "metadata": {},
   "source": [
    "# CSV Input und Output\n",
    "\n",
    "CSV steht für *Comma-separated values* und ist einer der am weitest verbreiteten Arten wie mit Daten während des Kurses gearbeitet wird. Das grundsätzliche Dateiformat von CSV-Dateien beschreibt in der ersten Zeile die Spaltennamen (durch Komma getrennt). Die restlichen Zeilen beinhalten die Daten (ebenfalls durch Komma getrennt). Einer der einfachsten Wege, um CSV-Dateien zu lesen, ist die Verwendung von `read.csv()`, welches bereits in R beinhaltet ist. Später werden wir noch `fread` kennenlernen, welches ein wenig schneller arbeitet. Es ist allerdings wichtig alle Optionen zu kennen.\n",
    "\n",
    "Durch die Nutzung von `read.csv()` müssen wir entweder den kompletten Dateipfad angeben oder die Daten im selben Verzeichnis wie das R Skript speichern. In den Kursunterlagen die wir bereitstellen befinden sich beide im selben Verzeichnis."
   ]
  },
  {
   "cell_type": "code",
   "execution_count": 1,
   "metadata": {
    "collapsed": true
   },
   "outputs": [],
   "source": [
    "# Da wir das selbe Verzeichnis für Skript und Datei haben müssen wir nicht den Pfad übergeben\n",
    "beispiel <- read.csv('beispiel.csv')"
   ]
  },
  {
   "cell_type": "code",
   "execution_count": 2,
   "metadata": {
    "collapsed": false
   },
   "outputs": [
    {
     "name": "stdout",
     "output_type": "stream",
     "text": [
      "'data.frame':\t3 obs. of  3 variables:\n",
      " $ Name  : Factor w/ 3 levels \"Charlie\",\"John\",..: 2 1 3\n",
      " $ Orders: int  12 11 10\n",
      " $ Date  : Factor w/ 3 levels \"12/05/2016\",\"12/06/2016\",..: 1 2 3\n"
     ]
    }
   ],
   "source": [
    "# Check structure\n",
    "str(beispiel)"
   ]
  },
  {
   "cell_type": "code",
   "execution_count": 3,
   "metadata": {
    "collapsed": false
   },
   "outputs": [
    {
     "data": {
      "text/html": [
       "<ol class=list-inline>\n",
       "\t<li>'Name'</li>\n",
       "\t<li>'Orders'</li>\n",
       "\t<li>'Date'</li>\n",
       "</ol>\n"
      ],
      "text/latex": [
       "\\begin{enumerate*}\n",
       "\\item 'Name'\n",
       "\\item 'Orders'\n",
       "\\item 'Date'\n",
       "\\end{enumerate*}\n"
      ],
      "text/markdown": [
       "1. 'Name'\n",
       "2. 'Orders'\n",
       "3. 'Date'\n",
       "\n",
       "\n"
      ],
      "text/plain": [
       "[1] \"Name\"   \"Orders\" \"Date\"  "
      ]
     },
     "metadata": {},
     "output_type": "display_data"
    }
   ],
   "source": [
    "# Spaltennamen\n",
    "colnames(beispiel)"
   ]
  },
  {
   "cell_type": "code",
   "execution_count": 4,
   "metadata": {
    "collapsed": true
   },
   "outputs": [],
   "source": [
    "df <- data.frame(beispiel)"
   ]
  },
  {
   "cell_type": "code",
   "execution_count": 5,
   "metadata": {
    "collapsed": false
   },
   "outputs": [
    {
     "data": {
      "text/html": [
       "<table>\n",
       "<thead><tr><th scope=col>Name</th><th scope=col>Orders</th><th scope=col>Date</th></tr></thead>\n",
       "<tbody>\n",
       "\t<tr><td>John      </td><td>12        </td><td>12/05/2016</td></tr>\n",
       "\t<tr><td>Charlie   </td><td>11        </td><td>12/06/2016</td></tr>\n",
       "\t<tr><td>Matilda   </td><td>10        </td><td>12/07/2016</td></tr>\n",
       "</tbody>\n",
       "</table>\n"
      ],
      "text/latex": [
       "\\begin{tabular}{r|lll}\n",
       " Name & Orders & Date\\\\\n",
       "\\hline\n",
       "\t John       & 12         & 12/05/2016\\\\\n",
       "\t Charlie    & 11         & 12/06/2016\\\\\n",
       "\t Matilda    & 10         & 12/07/2016\\\\\n",
       "\\end{tabular}\n"
      ],
      "text/markdown": [
       "\n",
       "Name | Orders | Date | \n",
       "|---|---|---|\n",
       "| John       | 12         | 12/05/2016 | \n",
       "| Charlie    | 11         | 12/06/2016 | \n",
       "| Matilda    | 10         | 12/07/2016 | \n",
       "\n",
       "\n"
      ],
      "text/plain": [
       "  Name    Orders Date      \n",
       "1 John    12     12/05/2016\n",
       "2 Charlie 11     12/06/2016\n",
       "3 Matilda 10     12/07/2016"
      ]
     },
     "metadata": {},
     "output_type": "display_data"
    }
   ],
   "source": [
    "head(df)"
   ]
  },
  {
   "cell_type": "markdown",
   "metadata": {},
   "source": [
    "Wir haben gesehen wie einfach es ist von CSV-Dateien zu lesen. Sollten wir andere Flatfile-Formate wie eine Tab getrennte Datei haben, so können wir das beim Aufruf von `read.csv` spezifizieren. Aus der Dokumentation:\n",
    "\n",
    "    read.table(file, header = FALSE, sep = \"\", quote = \"\\\"'\",\n",
    "           dec = \".\", numerals = c(\"allow.loss\", \"warn.loss\", \"no.loss\"),\n",
    "           row.names, col.names, as.is = !stringsAsFactors,\n",
    "           na.strings = \"NA\", colClasses = NA, nrows = -1,\n",
    "           skip = 0, check.names = TRUE, fill = !blank.lines.skip,\n",
    "           strip.white = FALSE, blank.lines.skip = TRUE,\n",
    "           comment.char = \"#\",\n",
    "           allowEscapes = FALSE, flush = FALSE,\n",
    "           stringsAsFactors = default.stringsAsFactors(),\n",
    "           fileEncoding = \"\", encoding = \"unknown\", text, skipNul = FALSE)"
   ]
  },
  {
   "cell_type": "code",
   "execution_count": 6,
   "metadata": {
    "collapsed": true
   },
   "outputs": [],
   "source": [
    "help(read.csv)"
   ]
  },
  {
   "cell_type": "markdown",
   "metadata": {},
   "source": [
    "## read.table\n",
    "\n",
    "Die `read.table` Funktion ist die allgemeine Form von `read.csv`. Genaugenommen ist read.csv nur eine Abkürzung für read.table. Das macht die Nutzung etwas einfacher. Schauen wir uns das an:"
   ]
  },
  {
   "cell_type": "code",
   "execution_count": 7,
   "metadata": {
    "collapsed": false
   },
   "outputs": [
    {
     "data": {
      "text/html": [
       "<table>\n",
       "<thead><tr><th scope=col>V1</th></tr></thead>\n",
       "<tbody>\n",
       "\t<tr><td>Name,Orders,Date     </td></tr>\n",
       "\t<tr><td>John,12,12/05/2016   </td></tr>\n",
       "\t<tr><td>Charlie,11,12/06/2016</td></tr>\n",
       "\t<tr><td>Matilda,10,12/07/2016</td></tr>\n",
       "</tbody>\n",
       "</table>\n"
      ],
      "text/latex": [
       "\\begin{tabular}{r|l}\n",
       " V1\\\\\n",
       "\\hline\n",
       "\t Name,Orders,Date     \\\\\n",
       "\t John,12,12/05/2016   \\\\\n",
       "\t Charlie,11,12/06/2016\\\\\n",
       "\t Matilda,10,12/07/2016\\\\\n",
       "\\end{tabular}\n"
      ],
      "text/markdown": [
       "\n",
       "V1 | \n",
       "|---|---|---|---|\n",
       "| Name,Orders,Date      | \n",
       "| John,12,12/05/2016    | \n",
       "| Charlie,11,12/06/2016 | \n",
       "| Matilda,10,12/07/2016 | \n",
       "\n",
       "\n"
      ],
      "text/plain": [
       "  V1                   \n",
       "1 Name,Orders,Date     \n",
       "2 John,12,12/05/2016   \n",
       "3 Charlie,11,12/06/2016\n",
       "4 Matilda,10,12/07/2016"
      ]
     },
     "metadata": {},
     "output_type": "display_data"
    }
   ],
   "source": [
    "read.table('beispiel.csv')"
   ]
  },
  {
   "cell_type": "markdown",
   "metadata": {},
   "source": [
    "Wir müssen weitere Angaben wie z.B. das Trennzeichen machen, um das gewüsnchte Ergebnis zu erhalten."
   ]
  },
  {
   "cell_type": "code",
   "execution_count": 8,
   "metadata": {
    "collapsed": false
   },
   "outputs": [
    {
     "data": {
      "text/html": [
       "<table>\n",
       "<thead><tr><th scope=col>V1</th><th scope=col>V2</th><th scope=col>V3</th></tr></thead>\n",
       "<tbody>\n",
       "\t<tr><td>Name      </td><td>Orders    </td><td>Date      </td></tr>\n",
       "\t<tr><td>John      </td><td>12        </td><td>12/05/2016</td></tr>\n",
       "\t<tr><td>Charlie   </td><td>11        </td><td>12/06/2016</td></tr>\n",
       "\t<tr><td>Matilda   </td><td>10        </td><td>12/07/2016</td></tr>\n",
       "</tbody>\n",
       "</table>\n"
      ],
      "text/latex": [
       "\\begin{tabular}{r|lll}\n",
       " V1 & V2 & V3\\\\\n",
       "\\hline\n",
       "\t Name       & Orders     & Date      \\\\\n",
       "\t John       & 12         & 12/05/2016\\\\\n",
       "\t Charlie    & 11         & 12/06/2016\\\\\n",
       "\t Matilda    & 10         & 12/07/2016\\\\\n",
       "\\end{tabular}\n"
      ],
      "text/markdown": [
       "\n",
       "V1 | V2 | V3 | \n",
       "|---|---|---|---|\n",
       "| Name       | Orders     | Date       | \n",
       "| John       | 12         | 12/05/2016 | \n",
       "| Charlie    | 11         | 12/06/2016 | \n",
       "| Matilda    | 10         | 12/07/2016 | \n",
       "\n",
       "\n"
      ],
      "text/plain": [
       "  V1      V2     V3        \n",
       "1 Name    Orders Date      \n",
       "2 John    12     12/05/2016\n",
       "3 Charlie 11     12/06/2016\n",
       "4 Matilda 10     12/07/2016"
      ]
     },
     "metadata": {},
     "output_type": "display_data"
    }
   ],
   "source": [
    "read.table(file = 'beispiel.csv', sep = ',')"
   ]
  },
  {
   "cell_type": "markdown",
   "metadata": {},
   "source": [
    "Toll! Jetzt kennen wir schon einmal zwei Methoden. In den meisten Fällen werden wir allerdings mit der `fread` Funktion arbeiten."
   ]
  },
  {
   "cell_type": "markdown",
   "metadata": {},
   "source": [
    "## fread\n",
    "`fread()` verhält sich wie `read.table` ist aber schneller und umgänglicher!\n",
    "\n",
    "Dazu wird das package install.packages(\"data.table\") + library(data.table) benötigt."
   ]
  },
  {
   "cell_type": "code",
   "execution_count": 9,
   "metadata": {
    "collapsed": false
   },
   "outputs": [
    {
     "ename": "ERROR",
     "evalue": "Error in fread(\"beispiel.csv\"): could not find function \"fread\"\n",
     "output_type": "error",
     "traceback": [
      "Error in fread(\"beispiel.csv\"): could not find function \"fread\"\nTraceback:\n"
     ]
    }
   ],
   "source": [
    "fread('beispiel.csv')"
   ]
  },
  {
   "cell_type": "markdown",
   "metadata": {},
   "source": [
    "## Output zu CSV\n",
    "\n",
    "Wir können außerdem Inhalte mit `write.csv` als Output erzeugen:"
   ]
  },
  {
   "cell_type": "code",
   "execution_count": 10,
   "metadata": {
    "collapsed": false
   },
   "outputs": [
    {
     "ename": "ERROR",
     "evalue": "Error in fread(\"foo.csv\"): could not find function \"fread\"\n",
     "output_type": "error",
     "traceback": [
      "Error in fread(\"foo.csv\"): could not find function \"fread\"\nTraceback:\n"
     ]
    }
   ],
   "source": [
    "# Alternative\n",
    "write.csv(df, file = \"foo.csv\")\n",
    "fread('foo.csv')"
   ]
  },
  {
   "cell_type": "code",
   "execution_count": 11,
   "metadata": {
    "collapsed": false
   },
   "outputs": [
    {
     "ename": "ERROR",
     "evalue": "Error in fread(\"foo.csv\"): could not find function \"fread\"\n",
     "output_type": "error",
     "traceback": [
      "Error in fread(\"foo.csv\"): could not find function \"fread\"\nTraceback:\n"
     ]
    }
   ],
   "source": [
    "## Oder ohne Zeilennamen\n",
    "write.csv(df, file = \"foo.csv\",row.names = FALSE)\n",
    "fread('foo.csv')"
   ]
  },
  {
   "cell_type": "markdown",
   "metadata": {},
   "source": [
    "Soviel zum Schreiben und Lesen von CSV-Dateien. Wir werden als nächstes mit Excel-Dateien fortfahren."
   ]
  }
 ],
 "metadata": {
  "kernelspec": {
   "display_name": "R",
   "language": "R",
   "name": "ir"
  },
  "language_info": {
   "codemirror_mode": "r",
   "file_extension": ".r",
   "mimetype": "text/x-r-source",
   "name": "R",
   "pygments_lexer": "r",
   "version": "3.3.2"
  }
 },
 "nbformat": 4,
 "nbformat_minor": 1
}
