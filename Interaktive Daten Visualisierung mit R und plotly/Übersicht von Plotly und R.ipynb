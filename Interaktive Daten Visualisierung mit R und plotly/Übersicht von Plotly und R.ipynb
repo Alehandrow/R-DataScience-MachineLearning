{
 "cells": [
  {
   "cell_type": "markdown",
   "metadata": {},
   "source": [
    "# Übersicht von Plotly und R\n",
    "\n",
    "Plotly ist ein R Paket, um interaktive web-basierte Grafiken durch Ploitly's JavaScript Library plotly.js zu erstellen. Die Plotly Library für R beinhaltet eine Funktion namens `ggplotly`, die es uns erlaub ggplot2 Figuren mit plotly.js zu konvertieren. Die neu erzeugten interaktiven Grafiken können in einem online Plotly-Account gespeichert werden oder lokal gerendered."
   ]
  },
  {
   "cell_type": "code",
   "execution_count": 1,
   "metadata": {},
   "outputs": [
    {
     "name": "stderr",
     "output_type": "stream",
     "text": [
      "also installing the dependencies ‘httpuv’, ‘xtable’, ‘sourcetools’, ‘yaml’, ‘shiny’, ‘base64enc’, ‘htmltools’, ‘htmlwidgets’, ‘crosstalk’\n",
      "\n"
     ]
    },
    {
     "name": "stdout",
     "output_type": "stream",
     "text": [
      "\n",
      "The downloaded binary packages are in\n",
      "\t/var/folders/l_/ph09zg211515zffvzrp3bb680000gn/T//RtmppNSgfD/downloaded_packages\n"
     ]
    }
   ],
   "source": [
    "install.packages('plotly')"
   ]
  },
  {
   "cell_type": "markdown",
   "metadata": {},
   "source": [
    "___\n",
    "Plotly hat sein eigenen Grafik-Aufrug namens `plot_ly()` kann aber auch mit `ggplotly()` ggplot() Codes konvertieren und ausführen. Manchmal brauchen wir kleienre Anpassungen für unseren Code.\n",
    "___"
   ]
  },
  {
   "cell_type": "markdown",
   "metadata": {},
   "source": [
    "Anschließend können wir folgendes aufrufen:"
   ]
  },
  {
   "cell_type": "code",
   "execution_count": null,
   "metadata": {
    "collapsed": true
   },
   "outputs": [],
   "source": [
    "library(plotly)\n",
    "# pl <- # Unser ggplot2 Code hier\n",
    "print(ggplotly(pl))"
   ]
  },
  {
   "cell_type": "markdown",
   "metadata": {},
   "source": [
    "So erhalten wir ein interaktives Diagramm, das wir in R Studio oder Shiny anzeigen können!"
   ]
  }
 ],
 "metadata": {
  "kernelspec": {
   "display_name": "R",
   "language": "R",
   "name": "ir"
  },
  "language_info": {
   "codemirror_mode": "r",
   "file_extension": ".r",
   "mimetype": "text/x-r-source",
   "name": "R",
   "pygments_lexer": "r",
   "version": "3.4.2"
  }
 },
 "nbformat": 4,
 "nbformat_minor": 1
}
