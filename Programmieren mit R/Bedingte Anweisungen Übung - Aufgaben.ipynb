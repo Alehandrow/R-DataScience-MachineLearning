{
 "cells": [
  {
   "cell_type": "markdown",
   "metadata": {},
   "source": [
    "# Bedingte Anweisungen Übung - Aufgaben\n",
    "\n",
    "Für diese Übung wollen wir anwenden, was wir über if, else if und else Anweisungen gelernt haben! Die erste Aufgabe ist dabei exemplarisch gelöst:\n",
    "\n",
    "**Schreibe ein Skript, das \"Hallo\" ausgibt (->print), wenn die Variable x gleich 1 ist:**"
   ]
  },
  {
   "cell_type": "code",
   "execution_count": 1,
   "metadata": {
    "collapsed": false
   },
   "outputs": [
    {
     "name": "stdout",
     "output_type": "stream",
     "text": [
      "[1] \"Hallo\"\n"
     ]
    }
   ],
   "source": [
    "x <- 1\n",
    "\n",
    "if (x ==1){\n",
    "    print(\"Hallo\")\n",
    "}"
   ]
  },
  {
   "cell_type": "markdown",
   "metadata": {},
   "source": [
    "**Schreibe ein Skript das \"Gerade Zahl\" ausgibt, wenn die Variable x eine gerade Zahl ist. Andernfalls wollen wir \"Ungerade\" ausgeben.**"
   ]
  },
  {
   "cell_type": "code",
   "execution_count": 2,
   "metadata": {
    "collapsed": false
   },
   "outputs": [
    {
     "name": "stdout",
     "output_type": "stream",
     "text": [
      "[1] \"Ungerade\"\n"
     ]
    }
   ],
   "source": []
  },
  {
   "cell_type": "markdown",
   "metadata": {},
   "source": [
    "**Schreibe ein Skript, das \"Ist eine Matrix\" ausgibt, falls die Variable x eine Matrix beinhaltet. Andernfalls soll das Ergebnis \"Keine Matrix\" lauten.**"
   ]
  },
  {
   "cell_type": "code",
   "execution_count": 3,
   "metadata": {
    "collapsed": false
   },
   "outputs": [
    {
     "name": "stdout",
     "output_type": "stream",
     "text": [
      "[1] \"Ist eine Matrix\"\n"
     ]
    }
   ],
   "source": []
  },
  {
   "cell_type": "markdown",
   "metadata": {},
   "source": [
    "**Erstelle ein Skript, dass einen numerischen Vektor mit 3 Werten als Eingabe aufnimmt und die Elemente darin von groß nach klein sortiert ausgibt. Dazu musst du if, else if und else für deine Logik verwenden.**"
   ]
  },
  {
   "cell_type": "code",
   "execution_count": 5,
   "metadata": {
    "collapsed": false
   },
   "outputs": [
    {
     "name": "stdout",
     "output_type": "stream",
     "text": [
      "[1] \"8 4 3\"\n"
     ]
    }
   ],
   "source": []
  },
  {
   "cell_type": "markdown",
   "metadata": {},
   "source": [
    "**Schreibe unter Verwendung von if, else if und else Anweisungen ein Skript, das den höchsten von drei Werten in einem numerischen Vektor ausgibt.**"
   ]
  },
  {
   "cell_type": "code",
   "execution_count": 6,
   "metadata": {
    "collapsed": false
   },
   "outputs": [
    {
     "name": "stdout",
     "output_type": "stream",
     "text": [
      "[1] 20\n"
     ]
    }
   ],
   "source": []
  },
  {
   "cell_type": "markdown",
   "metadata": {},
   "source": [
    "## Great Job!"
   ]
  }
 ],
 "metadata": {
  "kernelspec": {
   "display_name": "Python 3",
   "language": "python",
   "name": "python3"
  },
  "language_info": {
   "codemirror_mode": {
    "name": "ipython",
    "version": 3
   },
   "file_extension": ".py",
   "mimetype": "text/x-python",
   "name": "python",
   "nbconvert_exporter": "python",
   "pygments_lexer": "ipython3",
   "version": "3.6.0"
  }
 },
 "nbformat": 4,
 "nbformat_minor": 1
}
