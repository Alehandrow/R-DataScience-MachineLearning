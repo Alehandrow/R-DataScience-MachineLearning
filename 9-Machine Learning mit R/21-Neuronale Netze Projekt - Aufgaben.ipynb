{
 "cells": [
  {
   "cell_type": "markdown",
   "metadata": {},
   "source": [
    "# Neuronale Netze Projekt - Aufgaben\n",
    "\n",
    "Wir können diesen Kurs mit einem letzten Projekt abschliesen. Dazu schauen wir uns die Effectivität von Neuronalen Netzen an.\n",
    "\n",
    "Wir werden die [Bank Authentifizierungsdaten](https://archive.ics.uci.edu/ml/datasets/banknote+authentication) verwenden, die es im UCI Repository gibt.\n",
    "\n",
    "Die Daten beinhalten 5 Spalten:\n",
    "\n",
    "* Varianz des Wavelet Transformed Image (fortlaufend)\n",
    "* Schiefe des Wavelet Transformed Image (fortlaufend)\n",
    "* Kurtosis des Wavelet Transformed Image (fortlaufend)\n",
    "* Entropie des Wavelet Transformed Image (fortlaufend)\n",
    "* Klasse (Integer)\n",
    "\n",
    "Wobei `class` angibt, ob eine Banknote authentisch ist oder nicht.\n",
    "\n",
    "## Die Daten laden\n",
    "\n",
    "** Nutze `read.csv`, um die Date \"bank_note_data.csv\" zu laden.**"
   ]
  },
  {
   "cell_type": "code",
   "execution_count": 1,
   "metadata": {
    "collapsed": true
   },
   "outputs": [],
   "source": []
  },
  {
   "cell_type": "markdown",
   "metadata": {},
   "source": [
    "** Schaue dir den Head des Dataframe an. Außerdem seine Struktur.**"
   ]
  },
  {
   "cell_type": "code",
   "execution_count": 2,
   "metadata": {},
   "outputs": [
    {
     "data": {
      "text/html": [
       "<table>\n",
       "<thead><tr><th scope=col>Image.Var</th><th scope=col>Image.Skew</th><th scope=col>Image.Curt</th><th scope=col>Entropy</th><th scope=col>Class</th></tr></thead>\n",
       "<tbody>\n",
       "\t<tr><td>3.62160 </td><td> 8.6661 </td><td>-2.8073 </td><td>-0.44699</td><td>0       </td></tr>\n",
       "\t<tr><td>4.54590 </td><td> 8.1674 </td><td>-2.4586 </td><td>-1.46210</td><td>0       </td></tr>\n",
       "\t<tr><td>3.86600 </td><td>-2.6383 </td><td> 1.9242 </td><td> 0.10645</td><td>0       </td></tr>\n",
       "\t<tr><td>3.45660 </td><td> 9.5228 </td><td>-4.0112 </td><td>-3.59440</td><td>0       </td></tr>\n",
       "\t<tr><td>0.32924 </td><td>-4.4552 </td><td> 4.5718 </td><td>-0.98880</td><td>0       </td></tr>\n",
       "\t<tr><td>4.36840 </td><td> 9.6718 </td><td>-3.9606 </td><td>-3.16250</td><td>0       </td></tr>\n",
       "</tbody>\n",
       "</table>\n"
      ],
      "text/latex": [
       "\\begin{tabular}{r|lllll}\n",
       " Image.Var & Image.Skew & Image.Curt & Entropy & Class\\\\\n",
       "\\hline\n",
       "\t 3.62160  &  8.6661  & -2.8073  & -0.44699 & 0       \\\\\n",
       "\t 4.54590  &  8.1674  & -2.4586  & -1.46210 & 0       \\\\\n",
       "\t 3.86600  & -2.6383  &  1.9242  &  0.10645 & 0       \\\\\n",
       "\t 3.45660  &  9.5228  & -4.0112  & -3.59440 & 0       \\\\\n",
       "\t 0.32924  & -4.4552  &  4.5718  & -0.98880 & 0       \\\\\n",
       "\t 4.36840  &  9.6718  & -3.9606  & -3.16250 & 0       \\\\\n",
       "\\end{tabular}\n"
      ],
      "text/markdown": [
       "\n",
       "Image.Var | Image.Skew | Image.Curt | Entropy | Class | \n",
       "|---|---|---|---|---|---|\n",
       "| 3.62160  |  8.6661  | -2.8073  | -0.44699 | 0        | \n",
       "| 4.54590  |  8.1674  | -2.4586  | -1.46210 | 0        | \n",
       "| 3.86600  | -2.6383  |  1.9242  |  0.10645 | 0        | \n",
       "| 3.45660  |  9.5228  | -4.0112  | -3.59440 | 0        | \n",
       "| 0.32924  | -4.4552  |  4.5718  | -0.98880 | 0        | \n",
       "| 4.36840  |  9.6718  | -3.9606  | -3.16250 | 0        | \n",
       "\n",
       "\n"
      ],
      "text/plain": [
       "  Image.Var Image.Skew Image.Curt Entropy  Class\n",
       "1 3.62160    8.6661    -2.8073    -0.44699 0    \n",
       "2 4.54590    8.1674    -2.4586    -1.46210 0    \n",
       "3 3.86600   -2.6383     1.9242     0.10645 0    \n",
       "4 3.45660    9.5228    -4.0112    -3.59440 0    \n",
       "5 0.32924   -4.4552     4.5718    -0.98880 0    \n",
       "6 4.36840    9.6718    -3.9606    -3.16250 0    "
      ]
     },
     "metadata": {},
     "output_type": "display_data"
    }
   ],
   "source": []
  },
  {
   "cell_type": "code",
   "execution_count": 3,
   "metadata": {},
   "outputs": [
    {
     "name": "stdout",
     "output_type": "stream",
     "text": [
      "'data.frame':\t1372 obs. of  5 variables:\n",
      " $ Image.Var : num  3.622 4.546 3.866 3.457 0.329 ...\n",
      " $ Image.Skew: num  8.67 8.17 -2.64 9.52 -4.46 ...\n",
      " $ Image.Curt: num  -2.81 -2.46 1.92 -4.01 4.57 ...\n",
      " $ Entropy   : num  -0.447 -1.462 0.106 -3.594 -0.989 ...\n",
      " $ Class     : int  0 0 0 0 0 0 0 0 0 0 ...\n"
     ]
    }
   ],
   "source": []
  },
  {
   "cell_type": "markdown",
   "metadata": {},
   "source": [
    "## EDA\n",
    "\n",
    "**Erstelle Visualisierungen die dich selbst interessieren. Wir lassen diesen Schritt im Notebook/Video aus. Die Visualisierungen dürften schwer zu interpretieren sein, da sie lediglich statistische Daten über Bilder enthalten.**\n",
    "\n",
    "## Train Test Split\n",
    "\n",
    "**Nutze die `caTools` Library um die Daten in Trainings- und Testset aufzuteilen.**"
   ]
  },
  {
   "cell_type": "code",
   "execution_count": 4,
   "metadata": {
    "collapsed": true
   },
   "outputs": [],
   "source": []
  },
  {
   "cell_type": "markdown",
   "metadata": {},
   "source": [
    "**Schaue dir die Struktur der Trainingsdaten an.**\n",
    "\n",
    "*Hinweis: Achte auf den Typ von `class`. Wir werden es nicht in einen Faktor umwandeln, da Neuronale Netze numerischen Input benötigen.*"
   ]
  },
  {
   "cell_type": "code",
   "execution_count": 5,
   "metadata": {},
   "outputs": [
    {
     "name": "stdout",
     "output_type": "stream",
     "text": [
      "'data.frame':\t960 obs. of  5 variables:\n",
      " $ Image.Var : num  3.622 4.546 3.457 0.329 4.368 ...\n",
      " $ Image.Skew: num  8.67 8.17 9.52 -4.46 9.67 ...\n",
      " $ Image.Curt: num  -2.81 -2.46 -4.01 4.57 -3.96 ...\n",
      " $ Entropy   : num  -0.447 -1.462 -3.594 -0.989 -3.163 ...\n",
      " $ Class     : int  0 0 0 0 0 0 0 0 0 0 ...\n"
     ]
    }
   ],
   "source": []
  },
  {
   "cell_type": "markdown",
   "metadata": {},
   "source": [
    "## Das Neuronale Netz bauen\n",
    "\n",
    "**Rufe die `neuralnet` Library auf.**"
   ]
  },
  {
   "cell_type": "code",
   "execution_count": 6,
   "metadata": {
    "collapsed": true
   },
   "outputs": [],
   "source": []
  },
  {
   "cell_type": "markdown",
   "metadata": {},
   "source": [
    "**Schaue dir die Dokumentation von `neuralnet` an.**"
   ]
  },
  {
   "cell_type": "code",
   "execution_count": 7,
   "metadata": {
    "collapsed": true
   },
   "outputs": [],
   "source": []
  },
  {
   "cell_type": "markdown",
   "metadata": {},
   "source": [
    "**Nutze die `neuralnet()` Funktion, um ein Neuronales Netz zu trainieren. Verwende `linear.output=FALSE` und wähle 10 Hidden Layer (`hidden=10`).**"
   ]
  },
  {
   "cell_type": "code",
   "execution_count": 8,
   "metadata": {
    "collapsed": true
   },
   "outputs": [],
   "source": []
  },
  {
   "cell_type": "markdown",
   "metadata": {},
   "source": [
    "## Vorhersagen\n",
    "\n",
    "**Nutze `compute()`, um mit deinem Modell vorhersagen für das Testset zu erstellen.**\n",
    "\n",
    "*Im Zweifelsfall kann dir die Lektion bei diesem Schritt weiterhelfen.*"
   ]
  },
  {
   "cell_type": "code",
   "execution_count": 9,
   "metadata": {
    "collapsed": true
   },
   "outputs": [],
   "source": []
  },
  {
   "cell_type": "markdown",
   "metadata": {},
   "source": [
    "**Schaue dir den Head der Vorhersagen an.**\n",
    "\n",
    "*Dir sollte auffallen, dass es immer noch Wahrscheinlichkeiten sind.*"
   ]
  },
  {
   "cell_type": "code",
   "execution_count": 10,
   "metadata": {},
   "outputs": [
    {
     "data": {
      "text/html": [
       "<table>\n",
       "<tbody>\n",
       "\t<tr><th scope=row>3</th><td>0.000015994811962</td></tr>\n",
       "\t<tr><th scope=row>11</th><td>0.000037138515521</td></tr>\n",
       "\t<tr><th scope=row>12</th><td>0.000006944038291</td></tr>\n",
       "\t<tr><th scope=row>13</th><td>0.000001799145605</td></tr>\n",
       "\t<tr><th scope=row>14</th><td>0.000003469964563</td></tr>\n",
       "\t<tr><th scope=row>17</th><td>0.000002957116883</td></tr>\n",
       "</tbody>\n",
       "</table>\n"
      ],
      "text/latex": [
       "\\begin{tabular}{r|l}\n",
       "\t3 & 0.000015994811962\\\\\n",
       "\t11 & 0.000037138515521\\\\\n",
       "\t12 & 0.000006944038291\\\\\n",
       "\t13 & 0.000001799145605\\\\\n",
       "\t14 & 0.000003469964563\\\\\n",
       "\t17 & 0.000002957116883\\\\\n",
       "\\end{tabular}\n"
      ],
      "text/markdown": [
       "\n",
       "| 3 | 0.000015994811962 | \n",
       "| 11 | 0.000037138515521 | \n",
       "| 12 | 0.000006944038291 | \n",
       "| 13 | 0.000001799145605 | \n",
       "| 14 | 0.000003469964563 | \n",
       "| 17 | 0.000002957116883 | \n",
       "\n",
       "\n"
      ],
      "text/plain": [
       "   [,1]             \n",
       "3  0.000015994811962\n",
       "11 0.000037138515521\n",
       "12 0.000006944038291\n",
       "13 0.000001799145605\n",
       "14 0.000003469964563\n",
       "17 0.000002957116883"
      ]
     },
     "metadata": {},
     "output_type": "display_data"
    }
   ],
   "source": []
  },
  {
   "cell_type": "markdown",
   "metadata": {},
   "source": [
    "**Wende eine Rundungsfunktion an, um die Werte in 1en und 0en umzuwandeln.**"
   ]
  },
  {
   "cell_type": "code",
   "execution_count": 11,
   "metadata": {
    "collapsed": true
   },
   "outputs": [],
   "source": []
  },
  {
   "cell_type": "code",
   "execution_count": 12,
   "metadata": {},
   "outputs": [
    {
     "data": {
      "text/html": [
       "<ol class=list-inline>\n",
       "\t<li>0</li>\n",
       "\t<li>0</li>\n",
       "\t<li>0</li>\n",
       "\t<li>0</li>\n",
       "\t<li>0</li>\n",
       "\t<li>0</li>\n",
       "</ol>\n"
      ],
      "text/latex": [
       "\\begin{enumerate*}\n",
       "\\item 0\n",
       "\\item 0\n",
       "\\item 0\n",
       "\\item 0\n",
       "\\item 0\n",
       "\\item 0\n",
       "\\end{enumerate*}\n"
      ],
      "text/markdown": [
       "1. 0\n",
       "2. 0\n",
       "3. 0\n",
       "4. 0\n",
       "5. 0\n",
       "6. 0\n",
       "\n",
       "\n"
      ],
      "text/plain": [
       "[1] 0 0 0 0 0 0"
      ]
     },
     "metadata": {},
     "output_type": "display_data"
    }
   ],
   "source": []
  },
  {
   "cell_type": "markdown",
   "metadata": {},
   "source": [
    "**Verwende `table()`, um eine Confusion Matrix deiner Vorhersagen und der echten Werte zu erstellen.**"
   ]
  },
  {
   "cell_type": "code",
   "execution_count": 13,
   "metadata": {},
   "outputs": [
    {
     "data": {
      "text/plain": [
       "           \n",
       "predictions   0   1\n",
       "          0 229   0\n",
       "          1   0 183"
      ]
     },
     "metadata": {},
     "output_type": "display_data"
    }
   ],
   "source": []
  },
  {
   "cell_type": "markdown",
   "metadata": {},
   "source": [
    "**Dir sollte eins auffallen: Wir haben sehr gut abgeschnitten. Schon fast verdächtig gut. Schauen wir uns das Ergebnis eines Random Forest im vergleich an:**\n",
    "\n",
    "## Modelle vergleichen\n",
    "\n",
    "**Rufe die `randomForest` Library auf.**"
   ]
  },
  {
   "cell_type": "code",
   "execution_count": 14,
   "metadata": {},
   "outputs": [
    {
     "name": "stderr",
     "output_type": "stream",
     "text": [
      "randomForest 4.6-12\n",
      "Type rfNews() to see new features/changes/bug fixes.\n"
     ]
    }
   ],
   "source": []
  },
  {
   "cell_type": "markdown",
   "metadata": {},
   "source": [
    "**Führe den folgenden Code aus, um die `Class` Spalte in einen Faktor umzuwandeln.**\n",
    "\n",
    "*Hinweis: `randomForest` benötigt einen Faktor als Input.*"
   ]
  },
  {
   "cell_type": "code",
   "execution_count": 15,
   "metadata": {
    "collapsed": true
   },
   "outputs": [],
   "source": [
    "df$Class <- factor(df$Class)"
   ]
  },
  {
   "cell_type": "markdown",
   "metadata": {},
   "source": [
    "**Führe jetzt den Train Test Split erneut aus.**"
   ]
  },
  {
   "cell_type": "code",
   "execution_count": 16,
   "metadata": {
    "collapsed": true
   },
   "outputs": [],
   "source": []
  },
  {
   "cell_type": "markdown",
   "metadata": {},
   "source": [
    "**Erstelle ein Random Forest Modell mit den neuen Trainingsdaten.**"
   ]
  },
  {
   "cell_type": "code",
   "execution_count": 17,
   "metadata": {
    "collapsed": true
   },
   "outputs": [],
   "source": []
  },
  {
   "cell_type": "markdown",
   "metadata": {},
   "source": [
    "**Verwende `predict()`, um die Vorhersagen für die Testdaten mit dem Random Forest Modell zu treffen.**"
   ]
  },
  {
   "cell_type": "code",
   "execution_count": 18,
   "metadata": {
    "collapsed": true
   },
   "outputs": [],
   "source": []
  },
  {
   "cell_type": "markdown",
   "metadata": {},
   "source": [
    "**Erstelle mit `table()` eine Confusion Matrix.**"
   ]
  },
  {
   "cell_type": "code",
   "execution_count": 19,
   "metadata": {},
   "outputs": [
    {
     "data": {
      "text/plain": [
       "       \n",
       "rf.pred   0   1\n",
       "      0 227   1\n",
       "      1   2 182"
      ]
     },
     "metadata": {},
     "output_type": "display_data"
    }
   ],
   "source": []
  },
  {
   "cell_type": "markdown",
   "metadata": {},
   "source": [
    "**Wie schneiden die Modelle im Vergleich ab?**\n",
    "\n",
    "# Gut gemacht!"
   ]
  }
 ],
 "metadata": {
  "kernelspec": {
   "display_name": "R",
   "language": "R",
   "name": "ir"
  },
  "language_info": {
   "codemirror_mode": "r",
   "file_extension": ".r",
   "mimetype": "text/x-r-source",
   "name": "R",
   "pygments_lexer": "r",
   "version": "3.4.2"
  }
 },
 "nbformat": 4,
 "nbformat_minor": 2
}
