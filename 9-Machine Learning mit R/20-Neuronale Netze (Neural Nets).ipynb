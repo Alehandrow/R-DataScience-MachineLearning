{
 "cells": [
  {
   "cell_type": "markdown",
   "metadata": {},
   "source": [
    "# Neuronale Netze (Neural Nets)\n",
    "\n",
    "Referenznotebook zum Thema \"Neuronale Netze\" (en. neural nets). Für die vollständige Erklärungen bitte auch das Video nutzen.\n",
    "\n",
    "## Die Daten\n",
    "\n",
    "Wir werden das bekannte [Boston Dataset](http://www.cs.toronto.edu/~delve/data/boston/bostonDetail.html) aus dem `MASS` Package verwenden. Es beschreibt Eigenschaften von Häusern in Boston im Jahr 1978. Es beinhaltet folgende Spalten:\n",
    "\n",
    "* CRIM: Per Capita Kriminalitätsrate pro Stadt\n",
    "* ZN: Anteil der Wohngebiete für Grundstücke mit mehr als 25.000 sq.ft.\n",
    "* INDUS: Anteil an nicht-gewerblichen Acres pro Stadt\n",
    "* CHAS: Charles River Dummy (1 falls der Fluss angrenzt, sonst 0)\n",
    "* NOX: Stickoxid-Konzentration (Teile pro 10 Mil.)\n",
    "* RM: Durchschnittliche Anzahl an Räumen pro Wohnung\n",
    "* AGE: Anteil an Besitzer bewohnten Einheiten an Gebäuden die vor 1940 erbaut wurden\n",
    "* DIS: Gewichtete Distanz uu 5 Arbeitsämtern in Boston\n",
    "* RAD: Index des Zugangs zu Autobahnen\n",
    "* TAX: Vollwertige Grundstückssteuerrate pro 10.000 Dollar\n",
    "* PTRATIO: Schüler-Lehrer Rate nach Stadt\n",
    "* B: 1000(Bk - 0.63)^2 wobei Bk der Anteil an Schwarzen ist\n",
    "* LSTAT: % an niedrigem Status der Bevälkerung \n",
    "* MEDV: Median Wert von Besitzer bewohnten Häusern in $1000's\n",
    "\n",
    "Wir werden versuchen den Median Wert MEDV vorherzusagen:"
   ]
  },
  {
   "cell_type": "code",
   "execution_count": 1,
   "metadata": {},
   "outputs": [
    {
     "name": "stdout",
     "output_type": "stream",
     "text": [
      "\n",
      "The downloaded binary packages are in\n",
      "\t/var/folders/l_/ph09zg211515zffvzrp3bb680000gn/T//RtmpoiPfPI/downloaded_packages\n"
     ]
    }
   ],
   "source": [
    "# install.packages(\"MASS\")"
   ]
  },
  {
   "cell_type": "code",
   "execution_count": 2,
   "metadata": {},
   "outputs": [
    {
     "name": "stderr",
     "output_type": "stream",
     "text": [
      "Warning message:\n",
      "“package ‘MASS’ was built under R version 3.4.3”"
     ]
    }
   ],
   "source": [
    "library(MASS)"
   ]
  },
  {
   "cell_type": "code",
   "execution_count": 3,
   "metadata": {
    "collapsed": true
   },
   "outputs": [],
   "source": [
    "set.seed(101)\n",
    "data <- Boston"
   ]
  },
  {
   "cell_type": "code",
   "execution_count": 4,
   "metadata": {},
   "outputs": [
    {
     "name": "stdout",
     "output_type": "stream",
     "text": [
      "'data.frame':\t506 obs. of  14 variables:\n",
      " $ crim   : num  0.00632 0.02731 0.02729 0.03237 0.06905 ...\n",
      " $ zn     : num  18 0 0 0 0 0 12.5 12.5 12.5 12.5 ...\n",
      " $ indus  : num  2.31 7.07 7.07 2.18 2.18 2.18 7.87 7.87 7.87 7.87 ...\n",
      " $ chas   : int  0 0 0 0 0 0 0 0 0 0 ...\n",
      " $ nox    : num  0.538 0.469 0.469 0.458 0.458 0.458 0.524 0.524 0.524 0.524 ...\n",
      " $ rm     : num  6.58 6.42 7.18 7 7.15 ...\n",
      " $ age    : num  65.2 78.9 61.1 45.8 54.2 58.7 66.6 96.1 100 85.9 ...\n",
      " $ dis    : num  4.09 4.97 4.97 6.06 6.06 ...\n",
      " $ rad    : int  1 2 2 3 3 3 5 5 5 5 ...\n",
      " $ tax    : num  296 242 242 222 222 222 311 311 311 311 ...\n",
      " $ ptratio: num  15.3 17.8 17.8 18.7 18.7 18.7 15.2 15.2 15.2 15.2 ...\n",
      " $ black  : num  397 397 393 395 397 ...\n",
      " $ lstat  : num  4.98 9.14 4.03 2.94 5.33 ...\n",
      " $ medv   : num  24 21.6 34.7 33.4 36.2 28.7 22.9 27.1 16.5 18.9 ...\n"
     ]
    }
   ],
   "source": [
    "str(data)"
   ]
  },
  {
   "cell_type": "code",
   "execution_count": 5,
   "metadata": {},
   "outputs": [
    {
     "data": {
      "text/plain": [
       "      crim                zn             indus            chas        \n",
       " Min.   : 0.00632   Min.   :  0.00   Min.   : 0.46   Min.   :0.00000  \n",
       " 1st Qu.: 0.08204   1st Qu.:  0.00   1st Qu.: 5.19   1st Qu.:0.00000  \n",
       " Median : 0.25651   Median :  0.00   Median : 9.69   Median :0.00000  \n",
       " Mean   : 3.61352   Mean   : 11.36   Mean   :11.14   Mean   :0.06917  \n",
       " 3rd Qu.: 3.67708   3rd Qu.: 12.50   3rd Qu.:18.10   3rd Qu.:0.00000  \n",
       " Max.   :88.97620   Max.   :100.00   Max.   :27.74   Max.   :1.00000  \n",
       "      nox               rm             age              dis        \n",
       " Min.   :0.3850   Min.   :3.561   Min.   :  2.90   Min.   : 1.130  \n",
       " 1st Qu.:0.4490   1st Qu.:5.886   1st Qu.: 45.02   1st Qu.: 2.100  \n",
       " Median :0.5380   Median :6.208   Median : 77.50   Median : 3.207  \n",
       " Mean   :0.5547   Mean   :6.285   Mean   : 68.57   Mean   : 3.795  \n",
       " 3rd Qu.:0.6240   3rd Qu.:6.623   3rd Qu.: 94.08   3rd Qu.: 5.188  \n",
       " Max.   :0.8710   Max.   :8.780   Max.   :100.00   Max.   :12.127  \n",
       "      rad              tax           ptratio          black       \n",
       " Min.   : 1.000   Min.   :187.0   Min.   :12.60   Min.   :  0.32  \n",
       " 1st Qu.: 4.000   1st Qu.:279.0   1st Qu.:17.40   1st Qu.:375.38  \n",
       " Median : 5.000   Median :330.0   Median :19.05   Median :391.44  \n",
       " Mean   : 9.549   Mean   :408.2   Mean   :18.46   Mean   :356.67  \n",
       " 3rd Qu.:24.000   3rd Qu.:666.0   3rd Qu.:20.20   3rd Qu.:396.23  \n",
       " Max.   :24.000   Max.   :711.0   Max.   :22.00   Max.   :396.90  \n",
       "     lstat            medv      \n",
       " Min.   : 1.73   Min.   : 5.00  \n",
       " 1st Qu.: 6.95   1st Qu.:17.02  \n",
       " Median :11.36   Median :21.20  \n",
       " Mean   :12.65   Mean   :22.53  \n",
       " 3rd Qu.:16.95   3rd Qu.:25.00  \n",
       " Max.   :37.97   Max.   :50.00  "
      ]
     },
     "metadata": {},
     "output_type": "display_data"
    }
   ],
   "source": [
    "summary(data)"
   ]
  },
  {
   "cell_type": "code",
   "execution_count": 6,
   "metadata": {},
   "outputs": [
    {
     "data": {
      "text/html": [
       "<table>\n",
       "<thead><tr><th scope=col>crim</th><th scope=col>zn</th><th scope=col>indus</th><th scope=col>chas</th><th scope=col>nox</th><th scope=col>rm</th><th scope=col>age</th><th scope=col>dis</th><th scope=col>rad</th><th scope=col>tax</th><th scope=col>ptratio</th><th scope=col>black</th><th scope=col>lstat</th><th scope=col>medv</th></tr></thead>\n",
       "<tbody>\n",
       "\t<tr><td>0.00632</td><td>18     </td><td>2.31   </td><td>0      </td><td>0.538  </td><td>6.575  </td><td>65.2   </td><td>4.0900 </td><td>1      </td><td>296    </td><td>15.3   </td><td>396.90 </td><td>4.98   </td><td>24.0   </td></tr>\n",
       "\t<tr><td>0.02731</td><td> 0     </td><td>7.07   </td><td>0      </td><td>0.469  </td><td>6.421  </td><td>78.9   </td><td>4.9671 </td><td>2      </td><td>242    </td><td>17.8   </td><td>396.90 </td><td>9.14   </td><td>21.6   </td></tr>\n",
       "\t<tr><td>0.02729</td><td> 0     </td><td>7.07   </td><td>0      </td><td>0.469  </td><td>7.185  </td><td>61.1   </td><td>4.9671 </td><td>2      </td><td>242    </td><td>17.8   </td><td>392.83 </td><td>4.03   </td><td>34.7   </td></tr>\n",
       "\t<tr><td>0.03237</td><td> 0     </td><td>2.18   </td><td>0      </td><td>0.458  </td><td>6.998  </td><td>45.8   </td><td>6.0622 </td><td>3      </td><td>222    </td><td>18.7   </td><td>394.63 </td><td>2.94   </td><td>33.4   </td></tr>\n",
       "\t<tr><td>0.06905</td><td> 0     </td><td>2.18   </td><td>0      </td><td>0.458  </td><td>7.147  </td><td>54.2   </td><td>6.0622 </td><td>3      </td><td>222    </td><td>18.7   </td><td>396.90 </td><td>5.33   </td><td>36.2   </td></tr>\n",
       "\t<tr><td>0.02985</td><td> 0     </td><td>2.18   </td><td>0      </td><td>0.458  </td><td>6.430  </td><td>58.7   </td><td>6.0622 </td><td>3      </td><td>222    </td><td>18.7   </td><td>394.12 </td><td>5.21   </td><td>28.7   </td></tr>\n",
       "</tbody>\n",
       "</table>\n"
      ],
      "text/latex": [
       "\\begin{tabular}{r|llllllllllllll}\n",
       " crim & zn & indus & chas & nox & rm & age & dis & rad & tax & ptratio & black & lstat & medv\\\\\n",
       "\\hline\n",
       "\t 0.00632 & 18      & 2.31    & 0       & 0.538   & 6.575   & 65.2    & 4.0900  & 1       & 296     & 15.3    & 396.90  & 4.98    & 24.0   \\\\\n",
       "\t 0.02731 &  0      & 7.07    & 0       & 0.469   & 6.421   & 78.9    & 4.9671  & 2       & 242     & 17.8    & 396.90  & 9.14    & 21.6   \\\\\n",
       "\t 0.02729 &  0      & 7.07    & 0       & 0.469   & 7.185   & 61.1    & 4.9671  & 2       & 242     & 17.8    & 392.83  & 4.03    & 34.7   \\\\\n",
       "\t 0.03237 &  0      & 2.18    & 0       & 0.458   & 6.998   & 45.8    & 6.0622  & 3       & 222     & 18.7    & 394.63  & 2.94    & 33.4   \\\\\n",
       "\t 0.06905 &  0      & 2.18    & 0       & 0.458   & 7.147   & 54.2    & 6.0622  & 3       & 222     & 18.7    & 396.90  & 5.33    & 36.2   \\\\\n",
       "\t 0.02985 &  0      & 2.18    & 0       & 0.458   & 6.430   & 58.7    & 6.0622  & 3       & 222     & 18.7    & 394.12  & 5.21    & 28.7   \\\\\n",
       "\\end{tabular}\n"
      ],
      "text/markdown": [
       "\n",
       "crim | zn | indus | chas | nox | rm | age | dis | rad | tax | ptratio | black | lstat | medv | \n",
       "|---|---|---|---|---|---|\n",
       "| 0.00632 | 18      | 2.31    | 0       | 0.538   | 6.575   | 65.2    | 4.0900  | 1       | 296     | 15.3    | 396.90  | 4.98    | 24.0    | \n",
       "| 0.02731 |  0      | 7.07    | 0       | 0.469   | 6.421   | 78.9    | 4.9671  | 2       | 242     | 17.8    | 396.90  | 9.14    | 21.6    | \n",
       "| 0.02729 |  0      | 7.07    | 0       | 0.469   | 7.185   | 61.1    | 4.9671  | 2       | 242     | 17.8    | 392.83  | 4.03    | 34.7    | \n",
       "| 0.03237 |  0      | 2.18    | 0       | 0.458   | 6.998   | 45.8    | 6.0622  | 3       | 222     | 18.7    | 394.63  | 2.94    | 33.4    | \n",
       "| 0.06905 |  0      | 2.18    | 0       | 0.458   | 7.147   | 54.2    | 6.0622  | 3       | 222     | 18.7    | 396.90  | 5.33    | 36.2    | \n",
       "| 0.02985 |  0      | 2.18    | 0       | 0.458   | 6.430   | 58.7    | 6.0622  | 3       | 222     | 18.7    | 394.12  | 5.21    | 28.7    | \n",
       "\n",
       "\n"
      ],
      "text/plain": [
       "  crim    zn indus chas nox   rm    age  dis    rad tax ptratio black  lstat\n",
       "1 0.00632 18 2.31  0    0.538 6.575 65.2 4.0900 1   296 15.3    396.90 4.98 \n",
       "2 0.02731  0 7.07  0    0.469 6.421 78.9 4.9671 2   242 17.8    396.90 9.14 \n",
       "3 0.02729  0 7.07  0    0.469 7.185 61.1 4.9671 2   242 17.8    392.83 4.03 \n",
       "4 0.03237  0 2.18  0    0.458 6.998 45.8 6.0622 3   222 18.7    394.63 2.94 \n",
       "5 0.06905  0 2.18  0    0.458 7.147 54.2 6.0622 3   222 18.7    396.90 5.33 \n",
       "6 0.02985  0 2.18  0    0.458 6.430 58.7 6.0622 3   222 18.7    394.12 5.21 \n",
       "  medv\n",
       "1 24.0\n",
       "2 21.6\n",
       "3 34.7\n",
       "4 33.4\n",
       "5 36.2\n",
       "6 28.7"
      ]
     },
     "metadata": {},
     "output_type": "display_data"
    }
   ],
   "source": [
    "head(data)"
   ]
  },
  {
   "cell_type": "code",
   "execution_count": 7,
   "metadata": {},
   "outputs": [
    {
     "data": {
      "text/html": [
       "FALSE"
      ],
      "text/latex": [
       "FALSE"
      ],
      "text/markdown": [
       "FALSE"
      ],
      "text/plain": [
       "[1] FALSE"
      ]
     },
     "metadata": {},
     "output_type": "display_data"
    }
   ],
   "source": [
    "any(is.na(data))"
   ]
  },
  {
   "cell_type": "markdown",
   "metadata": {},
   "source": [
    "## Neuronales Netz Modell\n",
    "\n",
    "Zuerst müssen wir die richtige Library installieren und aufrufen:"
   ]
  },
  {
   "cell_type": "code",
   "execution_count": 8,
   "metadata": {},
   "outputs": [
    {
     "name": "stdout",
     "output_type": "stream",
     "text": [
      "\n",
      "The downloaded binary packages are in\n",
      "\t/var/folders/l_/ph09zg211515zffvzrp3bb680000gn/T//RtmpoiPfPI/downloaded_packages\n"
     ]
    }
   ],
   "source": [
    "# install.packages(\"neuralnet\")"
   ]
  },
  {
   "cell_type": "code",
   "execution_count": 9,
   "metadata": {
    "collapsed": true
   },
   "outputs": [],
   "source": [
    "library(neuralnet)"
   ]
  },
  {
   "cell_type": "markdown",
   "metadata": {},
   "source": [
    "### Daten Normalisieren\n",
    "\n",
    "Als ersten Schritt werden wir uns dem Daten Preprocessing widmen. Es ist ein verbreiteter Standard die Daten zuerst zu normalisieren. Danach können wir sie zum Training nutzen.\n",
    "\n",
    "Je nach Datensatz kann ein Verzicht auf diesen Schritt zu nutzlosen Ergebnissen führen. Auch das Training selbst wird dadurch deutlich schwerer. Der Algorithmus schafft es dann häufig nicht innerhalb der maximalen Iterationen die richtigen Gewichte zu finden. \n",
    "\n",
    "Für die Skalierung der Daten können wir verschiedene Methoden verwenden (z-nbormalization, min-max scale, etc...). Üblicherweise gibt eine Skalierung [0,1] oder [-1,1] die besten Ergebnisse. \n",
    "\n",
    "Deshalb werden wir die Daten vor dem Training skalieren und splitten:"
   ]
  },
  {
   "cell_type": "code",
   "execution_count": 10,
   "metadata": {
    "collapsed": true
   },
   "outputs": [],
   "source": [
    "maxs <- apply(data, 2, max) \n",
    "mins <- apply(data, 2, min)"
   ]
  },
  {
   "cell_type": "code",
   "execution_count": 11,
   "metadata": {},
   "outputs": [
    {
     "data": {
      "text/html": [
       "<dl class=dl-horizontal>\n",
       "\t<dt>crim</dt>\n",
       "\t\t<dd>88.9762</dd>\n",
       "\t<dt>zn</dt>\n",
       "\t\t<dd>100</dd>\n",
       "\t<dt>indus</dt>\n",
       "\t\t<dd>27.74</dd>\n",
       "\t<dt>chas</dt>\n",
       "\t\t<dd>1</dd>\n",
       "\t<dt>nox</dt>\n",
       "\t\t<dd>0.871</dd>\n",
       "\t<dt>rm</dt>\n",
       "\t\t<dd>8.78</dd>\n",
       "\t<dt>age</dt>\n",
       "\t\t<dd>100</dd>\n",
       "\t<dt>dis</dt>\n",
       "\t\t<dd>12.1265</dd>\n",
       "\t<dt>rad</dt>\n",
       "\t\t<dd>24</dd>\n",
       "\t<dt>tax</dt>\n",
       "\t\t<dd>711</dd>\n",
       "\t<dt>ptratio</dt>\n",
       "\t\t<dd>22</dd>\n",
       "\t<dt>black</dt>\n",
       "\t\t<dd>396.9</dd>\n",
       "\t<dt>lstat</dt>\n",
       "\t\t<dd>37.97</dd>\n",
       "\t<dt>medv</dt>\n",
       "\t\t<dd>50</dd>\n",
       "</dl>\n"
      ],
      "text/latex": [
       "\\begin{description*}\n",
       "\\item[crim] 88.9762\n",
       "\\item[zn] 100\n",
       "\\item[indus] 27.74\n",
       "\\item[chas] 1\n",
       "\\item[nox] 0.871\n",
       "\\item[rm] 8.78\n",
       "\\item[age] 100\n",
       "\\item[dis] 12.1265\n",
       "\\item[rad] 24\n",
       "\\item[tax] 711\n",
       "\\item[ptratio] 22\n",
       "\\item[black] 396.9\n",
       "\\item[lstat] 37.97\n",
       "\\item[medv] 50\n",
       "\\end{description*}\n"
      ],
      "text/markdown": [
       "crim\n",
       ":   88.9762zn\n",
       ":   100indus\n",
       ":   27.74chas\n",
       ":   1nox\n",
       ":   0.871rm\n",
       ":   8.78age\n",
       ":   100dis\n",
       ":   12.1265rad\n",
       ":   24tax\n",
       ":   711ptratio\n",
       ":   22black\n",
       ":   396.9lstat\n",
       ":   37.97medv\n",
       ":   50\n",
       "\n"
      ],
      "text/plain": [
       "    crim       zn    indus     chas      nox       rm      age      dis \n",
       " 88.9762 100.0000  27.7400   1.0000   0.8710   8.7800 100.0000  12.1265 \n",
       "     rad      tax  ptratio    black    lstat     medv \n",
       " 24.0000 711.0000  22.0000 396.9000  37.9700  50.0000 "
      ]
     },
     "metadata": {},
     "output_type": "display_data"
    }
   ],
   "source": [
    "maxs"
   ]
  },
  {
   "cell_type": "code",
   "execution_count": 12,
   "metadata": {},
   "outputs": [
    {
     "data": {
      "text/html": [
       "<dl class=dl-horizontal>\n",
       "\t<dt>crim</dt>\n",
       "\t\t<dd>0.00632</dd>\n",
       "\t<dt>zn</dt>\n",
       "\t\t<dd>0</dd>\n",
       "\t<dt>indus</dt>\n",
       "\t\t<dd>0.46</dd>\n",
       "\t<dt>chas</dt>\n",
       "\t\t<dd>0</dd>\n",
       "\t<dt>nox</dt>\n",
       "\t\t<dd>0.385</dd>\n",
       "\t<dt>rm</dt>\n",
       "\t\t<dd>3.561</dd>\n",
       "\t<dt>age</dt>\n",
       "\t\t<dd>2.9</dd>\n",
       "\t<dt>dis</dt>\n",
       "\t\t<dd>1.1296</dd>\n",
       "\t<dt>rad</dt>\n",
       "\t\t<dd>1</dd>\n",
       "\t<dt>tax</dt>\n",
       "\t\t<dd>187</dd>\n",
       "\t<dt>ptratio</dt>\n",
       "\t\t<dd>12.6</dd>\n",
       "\t<dt>black</dt>\n",
       "\t\t<dd>0.32</dd>\n",
       "\t<dt>lstat</dt>\n",
       "\t\t<dd>1.73</dd>\n",
       "\t<dt>medv</dt>\n",
       "\t\t<dd>5</dd>\n",
       "</dl>\n"
      ],
      "text/latex": [
       "\\begin{description*}\n",
       "\\item[crim] 0.00632\n",
       "\\item[zn] 0\n",
       "\\item[indus] 0.46\n",
       "\\item[chas] 0\n",
       "\\item[nox] 0.385\n",
       "\\item[rm] 3.561\n",
       "\\item[age] 2.9\n",
       "\\item[dis] 1.1296\n",
       "\\item[rad] 1\n",
       "\\item[tax] 187\n",
       "\\item[ptratio] 12.6\n",
       "\\item[black] 0.32\n",
       "\\item[lstat] 1.73\n",
       "\\item[medv] 5\n",
       "\\end{description*}\n"
      ],
      "text/markdown": [
       "crim\n",
       ":   0.00632zn\n",
       ":   0indus\n",
       ":   0.46chas\n",
       ":   0nox\n",
       ":   0.385rm\n",
       ":   3.561age\n",
       ":   2.9dis\n",
       ":   1.1296rad\n",
       ":   1tax\n",
       ":   187ptratio\n",
       ":   12.6black\n",
       ":   0.32lstat\n",
       ":   1.73medv\n",
       ":   5\n",
       "\n"
      ],
      "text/plain": [
       "     crim        zn     indus      chas       nox        rm       age       dis \n",
       "  0.00632   0.00000   0.46000   0.00000   0.38500   3.56100   2.90000   1.12960 \n",
       "      rad       tax   ptratio     black     lstat      medv \n",
       "  1.00000 187.00000  12.60000   0.32000   1.73000   5.00000 "
      ]
     },
     "metadata": {},
     "output_type": "display_data"
    }
   ],
   "source": [
    "mins"
   ]
  },
  {
   "cell_type": "code",
   "execution_count": 13,
   "metadata": {
    "collapsed": true
   },
   "outputs": [],
   "source": [
    "scaled <- as.data.frame(scale(data, center = mins, scale = maxs - mins))"
   ]
  },
  {
   "cell_type": "code",
   "execution_count": 14,
   "metadata": {},
   "outputs": [
    {
     "data": {
      "text/html": [
       "<table>\n",
       "<thead><tr><th scope=col>crim</th><th scope=col>zn</th><th scope=col>indus</th><th scope=col>chas</th><th scope=col>nox</th><th scope=col>rm</th><th scope=col>age</th><th scope=col>dis</th><th scope=col>rad</th><th scope=col>tax</th><th scope=col>ptratio</th><th scope=col>black</th><th scope=col>lstat</th><th scope=col>medv</th></tr></thead>\n",
       "<tbody>\n",
       "\t<tr><td>0.0000000000</td><td>0.18        </td><td>0.06781525  </td><td>0           </td><td>0.3148148   </td><td>0.5775053   </td><td>0.6416066   </td><td>0.2692031   </td><td>0.00000000  </td><td>0.20801527  </td><td>0.2872340   </td><td>1.0000000   </td><td>0.08967991  </td><td>0.4222222   </td></tr>\n",
       "\t<tr><td>0.0002359225</td><td>0.00        </td><td>0.24230205  </td><td>0           </td><td>0.1728395   </td><td>0.5479977   </td><td>0.7826982   </td><td>0.3489620   </td><td>0.04347826  </td><td>0.10496183  </td><td>0.5531915   </td><td>1.0000000   </td><td>0.20447020  </td><td>0.3688889   </td></tr>\n",
       "\t<tr><td>0.0002356977</td><td>0.00        </td><td>0.24230205  </td><td>0           </td><td>0.1728395   </td><td>0.6943859   </td><td>0.5993821   </td><td>0.3489620   </td><td>0.04347826  </td><td>0.10496183  </td><td>0.5531915   </td><td>0.9897373   </td><td>0.06346578  </td><td>0.6600000   </td></tr>\n",
       "\t<tr><td>0.0002927957</td><td>0.00        </td><td>0.06304985  </td><td>0           </td><td>0.1502058   </td><td>0.6585553   </td><td>0.4418126   </td><td>0.4485446   </td><td>0.08695652  </td><td>0.06679389  </td><td>0.6489362   </td><td>0.9942761   </td><td>0.03338852  </td><td>0.6311111   </td></tr>\n",
       "\t<tr><td>0.0007050701</td><td>0.00        </td><td>0.06304985  </td><td>0           </td><td>0.1502058   </td><td>0.6871048   </td><td>0.5283213   </td><td>0.4485446   </td><td>0.08695652  </td><td>0.06679389  </td><td>0.6489362   </td><td>1.0000000   </td><td>0.09933775  </td><td>0.6933333   </td></tr>\n",
       "\t<tr><td>0.0002644715</td><td>0.00        </td><td>0.06304985  </td><td>0           </td><td>0.1502058   </td><td>0.5497222   </td><td>0.5746653   </td><td>0.4485446   </td><td>0.08695652  </td><td>0.06679389  </td><td>0.6489362   </td><td>0.9929901   </td><td>0.09602649  </td><td>0.5266667   </td></tr>\n",
       "</tbody>\n",
       "</table>\n"
      ],
      "text/latex": [
       "\\begin{tabular}{r|llllllllllllll}\n",
       " crim & zn & indus & chas & nox & rm & age & dis & rad & tax & ptratio & black & lstat & medv\\\\\n",
       "\\hline\n",
       "\t 0.0000000000 & 0.18         & 0.06781525   & 0            & 0.3148148    & 0.5775053    & 0.6416066    & 0.2692031    & 0.00000000   & 0.20801527   & 0.2872340    & 1.0000000    & 0.08967991   & 0.4222222   \\\\\n",
       "\t 0.0002359225 & 0.00         & 0.24230205   & 0            & 0.1728395    & 0.5479977    & 0.7826982    & 0.3489620    & 0.04347826   & 0.10496183   & 0.5531915    & 1.0000000    & 0.20447020   & 0.3688889   \\\\\n",
       "\t 0.0002356977 & 0.00         & 0.24230205   & 0            & 0.1728395    & 0.6943859    & 0.5993821    & 0.3489620    & 0.04347826   & 0.10496183   & 0.5531915    & 0.9897373    & 0.06346578   & 0.6600000   \\\\\n",
       "\t 0.0002927957 & 0.00         & 0.06304985   & 0            & 0.1502058    & 0.6585553    & 0.4418126    & 0.4485446    & 0.08695652   & 0.06679389   & 0.6489362    & 0.9942761    & 0.03338852   & 0.6311111   \\\\\n",
       "\t 0.0007050701 & 0.00         & 0.06304985   & 0            & 0.1502058    & 0.6871048    & 0.5283213    & 0.4485446    & 0.08695652   & 0.06679389   & 0.6489362    & 1.0000000    & 0.09933775   & 0.6933333   \\\\\n",
       "\t 0.0002644715 & 0.00         & 0.06304985   & 0            & 0.1502058    & 0.5497222    & 0.5746653    & 0.4485446    & 0.08695652   & 0.06679389   & 0.6489362    & 0.9929901    & 0.09602649   & 0.5266667   \\\\\n",
       "\\end{tabular}\n"
      ],
      "text/markdown": [
       "\n",
       "crim | zn | indus | chas | nox | rm | age | dis | rad | tax | ptratio | black | lstat | medv | \n",
       "|---|---|---|---|---|---|\n",
       "| 0.0000000000 | 0.18         | 0.06781525   | 0            | 0.3148148    | 0.5775053    | 0.6416066    | 0.2692031    | 0.00000000   | 0.20801527   | 0.2872340    | 1.0000000    | 0.08967991   | 0.4222222    | \n",
       "| 0.0002359225 | 0.00         | 0.24230205   | 0            | 0.1728395    | 0.5479977    | 0.7826982    | 0.3489620    | 0.04347826   | 0.10496183   | 0.5531915    | 1.0000000    | 0.20447020   | 0.3688889    | \n",
       "| 0.0002356977 | 0.00         | 0.24230205   | 0            | 0.1728395    | 0.6943859    | 0.5993821    | 0.3489620    | 0.04347826   | 0.10496183   | 0.5531915    | 0.9897373    | 0.06346578   | 0.6600000    | \n",
       "| 0.0002927957 | 0.00         | 0.06304985   | 0            | 0.1502058    | 0.6585553    | 0.4418126    | 0.4485446    | 0.08695652   | 0.06679389   | 0.6489362    | 0.9942761    | 0.03338852   | 0.6311111    | \n",
       "| 0.0007050701 | 0.00         | 0.06304985   | 0            | 0.1502058    | 0.6871048    | 0.5283213    | 0.4485446    | 0.08695652   | 0.06679389   | 0.6489362    | 1.0000000    | 0.09933775   | 0.6933333    | \n",
       "| 0.0002644715 | 0.00         | 0.06304985   | 0            | 0.1502058    | 0.5497222    | 0.5746653    | 0.4485446    | 0.08695652   | 0.06679389   | 0.6489362    | 0.9929901    | 0.09602649   | 0.5266667    | \n",
       "\n",
       "\n"
      ],
      "text/plain": [
       "  crim         zn   indus      chas nox       rm        age       dis      \n",
       "1 0.0000000000 0.18 0.06781525 0    0.3148148 0.5775053 0.6416066 0.2692031\n",
       "2 0.0002359225 0.00 0.24230205 0    0.1728395 0.5479977 0.7826982 0.3489620\n",
       "3 0.0002356977 0.00 0.24230205 0    0.1728395 0.6943859 0.5993821 0.3489620\n",
       "4 0.0002927957 0.00 0.06304985 0    0.1502058 0.6585553 0.4418126 0.4485446\n",
       "5 0.0007050701 0.00 0.06304985 0    0.1502058 0.6871048 0.5283213 0.4485446\n",
       "6 0.0002644715 0.00 0.06304985 0    0.1502058 0.5497222 0.5746653 0.4485446\n",
       "  rad        tax        ptratio   black     lstat      medv     \n",
       "1 0.00000000 0.20801527 0.2872340 1.0000000 0.08967991 0.4222222\n",
       "2 0.04347826 0.10496183 0.5531915 1.0000000 0.20447020 0.3688889\n",
       "3 0.04347826 0.10496183 0.5531915 0.9897373 0.06346578 0.6600000\n",
       "4 0.08695652 0.06679389 0.6489362 0.9942761 0.03338852 0.6311111\n",
       "5 0.08695652 0.06679389 0.6489362 1.0000000 0.09933775 0.6933333\n",
       "6 0.08695652 0.06679389 0.6489362 0.9929901 0.09602649 0.5266667"
      ]
     },
     "metadata": {},
     "output_type": "display_data"
    }
   ],
   "source": [
    "head(scaled)"
   ]
  },
  {
   "cell_type": "markdown",
   "metadata": {},
   "source": [
    "### Trainings- und Testsplit\n",
    "\n",
    "Jetzt können wir unsere standardisierten Daten aufteilen:"
   ]
  },
  {
   "cell_type": "code",
   "execution_count": 15,
   "metadata": {
    "collapsed": true
   },
   "outputs": [],
   "source": [
    "library(caTools)\n",
    "split = sample.split(scaled$medv, SplitRatio = 0.70)\n",
    "\n",
    "train = subset(scaled, split == TRUE)\n",
    "test = subset(scaled, split == FALSE)"
   ]
  },
  {
   "cell_type": "markdown",
   "metadata": {},
   "source": [
    "### Das Modell trainieren"
   ]
  },
  {
   "cell_type": "code",
   "execution_count": 16,
   "metadata": {
    "collapsed": true
   },
   "outputs": [],
   "source": [
    "# Package laden\n",
    "library(neuralnet)"
   ]
  },
  {
   "cell_type": "markdown",
   "metadata": {},
   "source": [
    "#### Formel für Neuronale Netze\n",
    "\n",
    "Aus einem merkwürdigen Grund erlaubt es uns die `neuralnet()` Funktion nicht die übliche Form y~ für die Formel zu verwenden. Stattdessen müssen wir die Spalten alle zusammen aufrufen. Deshalb hier etwas Code mit dem wir unsere Formel schnell erstellen können:"
   ]
  },
  {
   "cell_type": "code",
   "execution_count": 17,
   "metadata": {
    "collapsed": true
   },
   "outputs": [],
   "source": [
    "# Spaltennamen\n",
    "n <- names(train)"
   ]
  },
  {
   "cell_type": "code",
   "execution_count": 18,
   "metadata": {},
   "outputs": [
    {
     "data": {
      "text/html": [
       "<ol class=list-inline>\n",
       "\t<li>'crim'</li>\n",
       "\t<li>'zn'</li>\n",
       "\t<li>'indus'</li>\n",
       "\t<li>'chas'</li>\n",
       "\t<li>'nox'</li>\n",
       "\t<li>'rm'</li>\n",
       "\t<li>'age'</li>\n",
       "\t<li>'dis'</li>\n",
       "\t<li>'rad'</li>\n",
       "\t<li>'tax'</li>\n",
       "\t<li>'ptratio'</li>\n",
       "\t<li>'black'</li>\n",
       "\t<li>'lstat'</li>\n",
       "\t<li>'medv'</li>\n",
       "</ol>\n"
      ],
      "text/latex": [
       "\\begin{enumerate*}\n",
       "\\item 'crim'\n",
       "\\item 'zn'\n",
       "\\item 'indus'\n",
       "\\item 'chas'\n",
       "\\item 'nox'\n",
       "\\item 'rm'\n",
       "\\item 'age'\n",
       "\\item 'dis'\n",
       "\\item 'rad'\n",
       "\\item 'tax'\n",
       "\\item 'ptratio'\n",
       "\\item 'black'\n",
       "\\item 'lstat'\n",
       "\\item 'medv'\n",
       "\\end{enumerate*}\n"
      ],
      "text/markdown": [
       "1. 'crim'\n",
       "2. 'zn'\n",
       "3. 'indus'\n",
       "4. 'chas'\n",
       "5. 'nox'\n",
       "6. 'rm'\n",
       "7. 'age'\n",
       "8. 'dis'\n",
       "9. 'rad'\n",
       "10. 'tax'\n",
       "11. 'ptratio'\n",
       "12. 'black'\n",
       "13. 'lstat'\n",
       "14. 'medv'\n",
       "\n",
       "\n"
      ],
      "text/plain": [
       " [1] \"crim\"    \"zn\"      \"indus\"   \"chas\"    \"nox\"     \"rm\"      \"age\"    \n",
       " [8] \"dis\"     \"rad\"     \"tax\"     \"ptratio\" \"black\"   \"lstat\"   \"medv\"   "
      ]
     },
     "metadata": {},
     "output_type": "display_data"
    }
   ],
   "source": [
    "n"
   ]
  },
  {
   "cell_type": "code",
   "execution_count": 19,
   "metadata": {
    "collapsed": true
   },
   "outputs": [],
   "source": [
    "# Zusammenfügen\n",
    "f <- as.formula(paste(\"medv ~\", paste(n[!n %in% \"medv\"], collapse = \" + \")))"
   ]
  },
  {
   "cell_type": "code",
   "execution_count": 20,
   "metadata": {},
   "outputs": [
    {
     "data": {
      "text/plain": [
       "medv ~ crim + zn + indus + chas + nox + rm + age + dis + rad + \n",
       "    tax + ptratio + black + lstat"
      ]
     },
     "metadata": {},
     "output_type": "display_data"
    }
   ],
   "source": [
    "f"
   ]
  },
  {
   "cell_type": "code",
   "execution_count": 21,
   "metadata": {
    "collapsed": true
   },
   "outputs": [],
   "source": [
    "nn <- neuralnet(f,data=train,hidden=c(5,3),linear.output=TRUE)"
   ]
  },
  {
   "cell_type": "markdown",
   "metadata": {},
   "source": [
    "### Neural Net Visualisierung\n",
    "\n",
    "Wir können unser Modell jetzt Visalisieren und so auch die Gewichte anzeigen lassen.\n",
    "\n",
    "Die schwarzen Linien zeigen die Verbindungen zwischen allen Layern und die Gewichte für jede Verbindung. Die blauen Linien zeigen den Bias der in jedem Schritt hinzukommt. Diesen Bias können wir uns als Achsenabschnitt einer Linearen Regression vorstellen.\n",
    "\n",
    "Das Netz ist im wesentlichen eine *Black Box*. Wir können nicht viel über die Anpassungen innerhalb des Netzes sagen. Es reicht an der Stelle aus, dass sich die Gewichte eingestellt haben (en. have converged) und das Netz somit einsatzbereit ist."
   ]
  },
  {
   "cell_type": "code",
   "execution_count": 22,
   "metadata": {
    "collapsed": true
   },
   "outputs": [],
   "source": [
    "# plot(nn) # Nicht im Notebook"
   ]
  },
  {
   "cell_type": "markdown",
   "metadata": {},
   "source": [
    "### Mit dem Modell vorhersagen treffen\n",
    "\n",
    "Wir können jetzt versuchen die Werte für die Testdaten vorherzusagen und den MSE berechnen. Denkt daran, dass das Netz eine normalisierte Vorhersage ausgeben wird. Wir müssen die Skale wieder zur ursprünglichen zurückführen um einen sinnvollen Vergleich trefffen zu können."
   ]
  },
  {
   "cell_type": "code",
   "execution_count": 23,
   "metadata": {
    "collapsed": true
   },
   "outputs": [],
   "source": [
    "# Vorhersagen für Testdaten\n",
    "predicted.nn.values <- compute(nn,test[1:13])"
   ]
  },
  {
   "cell_type": "code",
   "execution_count": 24,
   "metadata": {},
   "outputs": [
    {
     "name": "stdout",
     "output_type": "stream",
     "text": [
      "List of 2\n",
      " $ neurons   :List of 3\n",
      "  ..$ : num [1:139, 1:14] 1 1 1 1 1 1 1 1 1 1 ...\n",
      "  .. ..- attr(*, \"dimnames\")=List of 2\n",
      "  .. .. ..$ : chr [1:139] \"1\" \"2\" \"8\" \"9\" ...\n",
      "  .. .. ..$ : chr [1:14] \"1\" \"crim\" \"zn\" \"indus\" ...\n",
      "  ..$ : num [1:139, 1:6] 1 1 1 1 1 1 1 1 1 1 ...\n",
      "  .. ..- attr(*, \"dimnames\")=List of 2\n",
      "  .. .. ..$ : chr [1:139] \"1\" \"2\" \"8\" \"9\" ...\n",
      "  .. .. ..$ : NULL\n",
      "  ..$ : num [1:139, 1:4] 1 1 1 1 1 1 1 1 1 1 ...\n",
      "  .. ..- attr(*, \"dimnames\")=List of 2\n",
      "  .. .. ..$ : chr [1:139] \"1\" \"2\" \"8\" \"9\" ...\n",
      "  .. .. ..$ : NULL\n",
      " $ net.result: num [1:139, 1] 0.512 0.411 0.324 0.209 0.334 ...\n",
      "  ..- attr(*, \"dimnames\")=List of 2\n",
      "  .. ..$ : chr [1:139] \"1\" \"2\" \"8\" \"9\" ...\n",
      "  .. ..$ : NULL\n"
     ]
    }
   ],
   "source": [
    "# Wir erhalten eine Liste\n",
    "str(predicted.nn.values)"
   ]
  },
  {
   "cell_type": "code",
   "execution_count": 25,
   "metadata": {
    "collapsed": true
   },
   "outputs": [],
   "source": [
    "# Zurückführen zu ursprünglichen Skalen\n",
    "true.predictions <- predicted.nn.values$net.result*(max(data$medv)-min(data$medv))+min(data$medv)"
   ]
  },
  {
   "cell_type": "code",
   "execution_count": 26,
   "metadata": {
    "collapsed": true
   },
   "outputs": [],
   "source": [
    "# Testdaten konvertieren\n",
    "test.r <- (test$medv)*(max(data$medv)-min(data$medv))+min(data$medv)"
   ]
  },
  {
   "cell_type": "code",
   "execution_count": 27,
   "metadata": {
    "collapsed": true
   },
   "outputs": [],
   "source": [
    "# Mean Squared Error\n",
    "MSE.nn <- sum((test.r - true.predictions)^2)/nrow(test)"
   ]
  },
  {
   "cell_type": "code",
   "execution_count": 28,
   "metadata": {},
   "outputs": [
    {
     "data": {
      "text/html": [
       "15.1655999548339"
      ],
      "text/latex": [
       "15.1655999548339"
      ],
      "text/markdown": [
       "15.1655999548339"
      ],
      "text/plain": [
       "[1] 15.16559995"
      ]
     },
     "metadata": {},
     "output_type": "display_data"
    }
   ],
   "source": [
    "MSE.nn"
   ]
  },
  {
   "cell_type": "markdown",
   "metadata": {},
   "source": [
    "### Error visualisieren"
   ]
  },
  {
   "cell_type": "code",
   "execution_count": 29,
   "metadata": {
    "collapsed": true
   },
   "outputs": [],
   "source": [
    "error.df <- data.frame(test.r,true.predictions)"
   ]
  },
  {
   "cell_type": "code",
   "execution_count": 30,
   "metadata": {},
   "outputs": [
    {
     "data": {
      "text/html": [
       "<table>\n",
       "<thead><tr><th></th><th scope=col>test.r</th><th scope=col>true.predictions</th></tr></thead>\n",
       "<tbody>\n",
       "\t<tr><th scope=row>1</th><td>24.0       </td><td>28.01788931</td></tr>\n",
       "\t<tr><th scope=row>2</th><td>21.6       </td><td>23.48092086</td></tr>\n",
       "\t<tr><th scope=row>8</th><td>27.1       </td><td>19.56681492</td></tr>\n",
       "\t<tr><th scope=row>9</th><td>16.5       </td><td>14.42056053</td></tr>\n",
       "\t<tr><th scope=row>11</th><td>15.0       </td><td>20.01031872</td></tr>\n",
       "\t<tr><th scope=row>12</th><td>18.9       </td><td>20.28282974</td></tr>\n",
       "</tbody>\n",
       "</table>\n"
      ],
      "text/latex": [
       "\\begin{tabular}{r|ll}\n",
       "  & test.r & true.predictions\\\\\n",
       "\\hline\n",
       "\t1 & 24.0        & 28.01788931\\\\\n",
       "\t2 & 21.6        & 23.48092086\\\\\n",
       "\t8 & 27.1        & 19.56681492\\\\\n",
       "\t9 & 16.5        & 14.42056053\\\\\n",
       "\t11 & 15.0        & 20.01031872\\\\\n",
       "\t12 & 18.9        & 20.28282974\\\\\n",
       "\\end{tabular}\n"
      ],
      "text/markdown": [
       "\n",
       "| <!--/--> | test.r | true.predictions | \n",
       "|---|---|---|---|---|---|\n",
       "| 1 | 24.0        | 28.01788931 | \n",
       "| 2 | 21.6        | 23.48092086 | \n",
       "| 8 | 27.1        | 19.56681492 | \n",
       "| 9 | 16.5        | 14.42056053 | \n",
       "| 11 | 15.0        | 20.01031872 | \n",
       "| 12 | 18.9        | 20.28282974 | \n",
       "\n",
       "\n"
      ],
      "text/plain": [
       "   test.r true.predictions\n",
       "1  24.0   28.01788931     \n",
       "2  21.6   23.48092086     \n",
       "8  27.1   19.56681492     \n",
       "9  16.5   14.42056053     \n",
       "11 15.0   20.01031872     \n",
       "12 18.9   20.28282974     "
      ]
     },
     "metadata": {},
     "output_type": "display_data"
    }
   ],
   "source": [
    "head(error.df)"
   ]
  },
  {
   "cell_type": "code",
   "execution_count": 31,
   "metadata": {},
   "outputs": [
    {
     "name": "stderr",
     "output_type": "stream",
     "text": [
      "`geom_smooth()` using method = 'loess'\n"
     ]
    },
    {
     "data": {},
     "metadata": {},
     "output_type": "display_data"
    },
    {
     "data": {
      "image/png": "[encoded data removed]",
      "text/plain": [
       "plot without title"
      ]
     },
     "metadata": {},
     "output_type": "display_data"
    }
   ],
   "source": [
    "library(ggplot2)\n",
    "ggplot(error.df,aes(x=test.r,y=true.predictions)) + geom_point() + stat_smooth()"
   ]
  },
  {
   "cell_type": "markdown",
   "metadata": {},
   "source": [
    "Sieht aus als hätten einige der Häuser unser Modell etwas verzerrt. Insgesamt sieht es aber auch recht gut aus. Erst recht wenn wir bedenken, dass wir es als *Black Box* betrachten.\n",
    "\n",
    "## Schlussfolgerung\n",
    "\n",
    "Neuronale Netze ähneln Black Boxen sehr stark: ihr Ergebnis zu erklären ist viel schwerer als das Ergebnis eines einfacheren Modells zu erklären (z.B. lineare Regression). Deshalb solltest du diesen Aspekt bedenken, wenn du ein Modell wählst. Außerdem sollte unser Beispiel gezeigt haben, dass es auf die Kleinigkeiten ankommt und kleine Änderungen das Ergebnis stark beeinflussen können."
   ]
  }
 ],
 "metadata": {
  "kernelspec": {
   "display_name": "R",
   "language": "R",
   "name": "ir"
  },
  "language_info": {
   "codemirror_mode": "r",
   "file_extension": ".r",
   "mimetype": "text/x-r-source",
   "name": "R",
   "pygments_lexer": "r",
   "version": "3.4.2"
  }
 },
 "nbformat": 4,
 "nbformat_minor": 2
}
