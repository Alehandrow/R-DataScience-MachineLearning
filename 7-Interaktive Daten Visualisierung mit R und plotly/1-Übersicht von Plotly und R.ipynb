{
 "cells": [
  {
   "cell_type": "markdown",
   "metadata": {},
   "source": [
    "# Übersicht von Plotly und R\n",
    "\n",
    "Plotly ist ein R Paket, um interaktive web-basierte Grafiken durch Ploitly's JavaScript Library plotly.js zu erstellen. Die Plotly Library für R beinhaltet eine Funktion namens `ggplotly`, die es uns erlaub ggplot2 Figuren mit plotly.js zu konvertieren. Die neu erzeugten interaktiven Grafiken können in einem online Plotly-Account gespeichert werden oder lokal gerendered."
   ]
  },
  {
   "cell_type": "code",
   "execution_count": 1,
   "metadata": {},
   "outputs": [
    {
     "name": "stderr",
     "output_type": "stream",
     "text": [
      "also installing the dependencies ‘httpuv’, ‘xtable’, ‘sourcetools’, ‘yaml’, ‘shiny’, ‘base64enc’, ‘htmltools’, ‘htmlwidgets’, ‘crosstalk’\n",
      "\n"
     ]
    },
    {
     "name": "stdout",
     "output_type": "stream",
     "text": [
      "\n",
      "The downloaded binary packages are in\n",
      "\t/var/folders/l_/ph09zg211515zffvzrp3bb680000gn/T//RtmppNSgfD/downloaded_packages\n"
     ]
    }
   ],
   "source": [
    "install.packages('plotly')"
   ]
  },
  {
   "cell_type": "markdown",
   "metadata": {},
   "source": [
    "___\n",
    "Plotly hat sein eigenen Grafik-Aufrug namens `plot_ly()` kann aber auch mit `ggplotly()` ggplot() Codes konvertieren und ausführen. Manchmal brauchen wir kleienre Anpassungen für unseren Code.\n",
    "___"
   ]
  },
  {
   "cell_type": "markdown",
   "metadata": {},
   "source": [
    "Anschließend können wir folgendes aufrufen:"
   ]
  },
  {
   "cell_type": "code",
   "execution_count": null,
   "metadata": {
    "collapsed": true
   },
   "outputs": [],
   "source": [
    "library(plotly)\n",
    "# pl <- # Unser ggplot2 Code hier\n",
    "print(ggplotly(pl))"
   ]
  },
  {
   "cell_type": "markdown",
   "metadata": {},
   "source": [
    "So erhalten wir ein interaktives Diagramm, das wir in R Studio oder Shiny anzeigen können!"
   ]
  }
 ],
 "metadata": {
  "kernelspec": {
   "display_name": "Python 3",
   "language": "python",
   "name": "python3"
  },
  "language_info": {
   "codemirror_mode": {
    "name": "ipython",
    "version": 3
   },
   "file_extension": ".py",
   "mimetype": "text/x-python",
   "name": "python",
   "nbconvert_exporter": "python",
   "pygments_lexer": "ipython3",
   "version": "3.6.4"
  }
 },
 "nbformat": 4,
 "nbformat_minor": 1
}
