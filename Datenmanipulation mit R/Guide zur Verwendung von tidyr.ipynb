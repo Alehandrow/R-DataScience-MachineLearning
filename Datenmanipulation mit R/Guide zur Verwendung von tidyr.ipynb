{
 "cells": [
  {
   "cell_type": "markdown",
   "metadata": {},
   "source": [
    "# Guide zur Verwendung von tidyr\n",
    "\n",
    "Wir kennen jetzt bereits `dplyr` und seine Funktionen. Zusätzlich können wir uns jetzt `tidyr` aneignen. Dies ist ein komplementäres Paket, das uns dabei hilft, ordentliche Datensätze zu erstellen. Was meinen wir überhaupt wenn wir \"ordentlicher\" Datensatz sagen?\n",
    "\n",
    "Ordentliche Daten liegen vor, wenn jede Zeile eine eigene Beobachtung darstellt und jede Spalte eine Variable. Durch diese Organisation der Daten beinhaltet jede Zelle genau den Wert für eine Variable für eine Beobachtung. Durch diese Format können wir Daten leichter verstehen, analysieren und visualisieren.\n",
    "\n",
    "Nach dieser Lektion könnt ihr euch auf folgendes Cheatsheet beziehen: [Data Wrangling](http://www.rstudio.com/wp-content/uploads/2015/02/data-wrangling-cheatsheet.pdf)\n",
    "\n",
    "## Installation von tidyr"
   ]
  },
  {
   "cell_type": "code",
   "execution_count": 3,
   "metadata": {},
   "outputs": [
    {
     "name": "stdout",
     "output_type": "stream",
     "text": [
      "\n",
      "The downloaded binary packages are in\n",
      "\t/var/folders/l_/ph09zg211515zffvzrp3bb680000gn/T//RtmpYSdguT/downloaded_packages\n",
      "\n",
      "The downloaded binary packages are in\n",
      "\t/var/folders/l_/ph09zg211515zffvzrp3bb680000gn/T//RtmpYSdguT/downloaded_packages\n"
     ]
    }
   ],
   "source": [
    "install.packages('tidyr',repos = 'http://cran.us.r-project.org')\n",
    "# Evtl. data.table installieren\n",
    "# install.packages(\"data.table\")"
   ]
  },
  {
   "cell_type": "code",
   "execution_count": 4,
   "metadata": {},
   "outputs": [],
   "source": [
    "library(tidyr)\n",
    "library(data.table)"
   ]
  },
  {
   "cell_type": "markdown",
   "metadata": {},
   "source": [
    "## Data.frames versus data.tables\n",
    "\n",
    "Alle data.tables sind auch data.frames. Vereinfacht gesagt sind data.tables data.frames die extra Features bieten. \n",
    "\n",
    "data.frame ist in der Installation von R inbegriffen.\n",
    "\n",
    "data.table ist ein Paket, dass data.frame erweitert. Zwei der wichtigsten Features sind Geschwindigkeit und saubere Syntax.\n",
    "\n",
    "Jedoch ist die Syntax der data.table etwas unterschiedlich zur Standard R Syntax von data.frame. Diese Unterschiede können für ein untrainiertes Auge allerdings schwer zu erkennen sein. Wenn man mit einem Code-Abschnitt arbeitet, der nicht anzeigt, dass mit data.tables gearbeitet wird, und diesen auf einen Data Frame anwenden möchte, dann kann es zu Errors kommen.\n",
    "\n",
    "Um einige der Unterschiede festzuhalten:\n",
    "\n",
    "* viel schnellerer und sehr intuitive **by** Operationen\n",
    "* Wir werden nicht ausversehen riesige Data Frames ausgeben, die wir mit Strg-C stoppen müssten. data.table verhindert solche Vorfälle\n",
    "* schnellere und einfacheres Lesen von Datein mit **fread**\n",
    "* das Paket beinhaltet weitere Funktionen wie %between% oder rbindlist\n",
    "* und insgesamt einfach etwas schnellere Grundfunktionen\n",
    "\n",
    "# Nutzung von tidyr\n",
    "\n",
    "Wir werden einige der nützlichsten Funktionen in tidyr abdecken. Dazu gehören die folgenden:\n",
    "\n",
    "* gather()\n",
    "* spread()\n",
    "* separate()\n",
    "* unite()"
   ]
  },
  {
   "cell_type": "markdown",
   "metadata": {},
   "source": [
    "## Beispiel Datensatz\n",
    "\n",
    "Lass uns jetzt einige Daten erzeugen, die mit tidyr ordentlich gemacht werden müssen"
   ]
  },
  {
   "cell_type": "code",
   "execution_count": 5,
   "metadata": {
    "collapsed": true
   },
   "outputs": [],
   "source": [
    "firma <- c(1,1,1,2,2,2,3,3,3)\n",
    "jr <- c(1998,1999,2000,1998,1999,2000,1998,1999,2000)\n",
    "q1 <- runif(9, min=0, max=100)\n",
    "q2 <- runif(9, min=0, max=100)\n",
    "q3 <- runif(9, min=0, max=100)\n",
    "q4 <- runif(9, min=0, max=100)\n",
    "\n",
    "df <- data.frame(firma=firma,jahr=jr,Qtr1 = q1,Qtr2 = q2,Qtr3 = q3,Qtr4 = q4)"
   ]
  },
  {
   "cell_type": "code",
   "execution_count": 6,
   "metadata": {},
   "outputs": [
    {
     "data": {
      "text/html": [
       "<table>\n",
       "<thead><tr><th scope=col>firma</th><th scope=col>jahr</th><th scope=col>Qtr1</th><th scope=col>Qtr2</th><th scope=col>Qtr3</th><th scope=col>Qtr4</th></tr></thead>\n",
       "<tbody>\n",
       "\t<tr><td>1         </td><td>1998      </td><td>45.81679  </td><td> 6.5641460</td><td>45.685130 </td><td> 6.01521  </td></tr>\n",
       "\t<tr><td>1         </td><td>1999      </td><td>96.45312  </td><td>47.8340340</td><td>57.780313 </td><td>88.68066  </td></tr>\n",
       "\t<tr><td>1         </td><td>2000      </td><td>29.89811  </td><td>28.0032922</td><td>19.319462 </td><td>79.66156  </td></tr>\n",
       "\t<tr><td>2         </td><td>1998      </td><td>28.97594  </td><td>30.4671809</td><td>67.268176 </td><td>48.05431  </td></tr>\n",
       "\t<tr><td>2         </td><td>1999      </td><td>40.12531  </td><td>68.9888144</td><td> 1.082129 </td><td>98.36393  </td></tr>\n",
       "\t<tr><td>2         </td><td>2000      </td><td>38.89573  </td><td>37.2829600</td><td>54.904525 </td><td>91.60742  </td></tr>\n",
       "\t<tr><td>3         </td><td>1998      </td><td>22.86080  </td><td> 0.7061505</td><td>15.248059 </td><td>59.53163  </td></tr>\n",
       "\t<tr><td>3         </td><td>1999      </td><td>70.00500  </td><td>47.6938799</td><td> 3.270521 </td><td>21.53235  </td></tr>\n",
       "\t<tr><td>3         </td><td>2000      </td><td>57.55397  </td><td>55.3844282</td><td>10.215857 </td><td>92.63946  </td></tr>\n",
       "</tbody>\n",
       "</table>\n"
      ],
      "text/latex": [
       "\\begin{tabular}{r|llllll}\n",
       " firma & jahr & Qtr1 & Qtr2 & Qtr3 & Qtr4\\\\\n",
       "\\hline\n",
       "\t 1          & 1998       & 45.81679   &  6.5641460 & 45.685130  &  6.01521  \\\\\n",
       "\t 1          & 1999       & 96.45312   & 47.8340340 & 57.780313  & 88.68066  \\\\\n",
       "\t 1          & 2000       & 29.89811   & 28.0032922 & 19.319462  & 79.66156  \\\\\n",
       "\t 2          & 1998       & 28.97594   & 30.4671809 & 67.268176  & 48.05431  \\\\\n",
       "\t 2          & 1999       & 40.12531   & 68.9888144 &  1.082129  & 98.36393  \\\\\n",
       "\t 2          & 2000       & 38.89573   & 37.2829600 & 54.904525  & 91.60742  \\\\\n",
       "\t 3          & 1998       & 22.86080   &  0.7061505 & 15.248059  & 59.53163  \\\\\n",
       "\t 3          & 1999       & 70.00500   & 47.6938799 &  3.270521  & 21.53235  \\\\\n",
       "\t 3          & 2000       & 57.55397   & 55.3844282 & 10.215857  & 92.63946  \\\\\n",
       "\\end{tabular}\n"
      ],
      "text/markdown": [
       "\n",
       "firma | jahr | Qtr1 | Qtr2 | Qtr3 | Qtr4 | \n",
       "|---|---|---|---|---|---|---|---|---|\n",
       "| 1          | 1998       | 45.81679   |  6.5641460 | 45.685130  |  6.01521   | \n",
       "| 1          | 1999       | 96.45312   | 47.8340340 | 57.780313  | 88.68066   | \n",
       "| 1          | 2000       | 29.89811   | 28.0032922 | 19.319462  | 79.66156   | \n",
       "| 2          | 1998       | 28.97594   | 30.4671809 | 67.268176  | 48.05431   | \n",
       "| 2          | 1999       | 40.12531   | 68.9888144 |  1.082129  | 98.36393   | \n",
       "| 2          | 2000       | 38.89573   | 37.2829600 | 54.904525  | 91.60742   | \n",
       "| 3          | 1998       | 22.86080   |  0.7061505 | 15.248059  | 59.53163   | \n",
       "| 3          | 1999       | 70.00500   | 47.6938799 |  3.270521  | 21.53235   | \n",
       "| 3          | 2000       | 57.55397   | 55.3844282 | 10.215857  | 92.63946   | \n",
       "\n",
       "\n"
      ],
      "text/plain": [
       "  firma jahr Qtr1     Qtr2       Qtr3      Qtr4    \n",
       "1 1     1998 45.81679  6.5641460 45.685130  6.01521\n",
       "2 1     1999 96.45312 47.8340340 57.780313 88.68066\n",
       "3 1     2000 29.89811 28.0032922 19.319462 79.66156\n",
       "4 2     1998 28.97594 30.4671809 67.268176 48.05431\n",
       "5 2     1999 40.12531 68.9888144  1.082129 98.36393\n",
       "6 2     2000 38.89573 37.2829600 54.904525 91.60742\n",
       "7 3     1998 22.86080  0.7061505 15.248059 59.53163\n",
       "8 3     1999 70.00500 47.6938799  3.270521 21.53235\n",
       "9 3     2000 57.55397 55.3844282 10.215857 92.63946"
      ]
     },
     "metadata": {},
     "output_type": "display_data"
    }
   ],
   "source": [
    "df"
   ]
  },
  {
   "cell_type": "markdown",
   "metadata": {},
   "source": [
    "# Gather() und Spread()\n",
    "\n",
    "Manchmal vergleichen Leute diese Operationen mit Pivot-Tabellen in Excel. Schauen wir uns einige Beispiele an:"
   ]
  },
  {
   "cell_type": "markdown",
   "metadata": {},
   "source": [
    "## gather()\n",
    "\n",
    "Die `gather()` Funktion fasst mehrere Spalten in Key-Paar Werte zusammen. Der Data Frame von oben würde als \"breit\" bezeichnet werden, da jedes Quartal eine eigene Spalte bzw. variable hat. Um diese Zeitdimension neu zu ordnen können wir alle Quartalea in eine Spalte vereinen. Außerdem können wir dann alle Werte, die mit den einzelnen Quartalen asoziiert sind, in eine zweite Spalte schreiben."
   ]
  },
  {
   "cell_type": "code",
   "execution_count": 9,
   "metadata": {},
   "outputs": [
    {
     "data": {
      "text/html": [
       "<table>\n",
       "<thead><tr><th scope=col>firma</th><th scope=col>jahr</th><th scope=col>Quartal</th><th scope=col>Umsatz</th></tr></thead>\n",
       "<tbody>\n",
       "\t<tr><td>1       </td><td>1998    </td><td>Qtr1    </td><td>45.81679</td></tr>\n",
       "\t<tr><td>1       </td><td>1999    </td><td>Qtr1    </td><td>96.45312</td></tr>\n",
       "\t<tr><td>1       </td><td>2000    </td><td>Qtr1    </td><td>29.89811</td></tr>\n",
       "\t<tr><td>2       </td><td>1998    </td><td>Qtr1    </td><td>28.97594</td></tr>\n",
       "\t<tr><td>2       </td><td>1999    </td><td>Qtr1    </td><td>40.12531</td></tr>\n",
       "\t<tr><td>2       </td><td>2000    </td><td>Qtr1    </td><td>38.89573</td></tr>\n",
       "</tbody>\n",
       "</table>\n"
      ],
      "text/latex": [
       "\\begin{tabular}{r|llll}\n",
       " firma & jahr & Quartal & Umsatz\\\\\n",
       "\\hline\n",
       "\t 1        & 1998     & Qtr1     & 45.81679\\\\\n",
       "\t 1        & 1999     & Qtr1     & 96.45312\\\\\n",
       "\t 1        & 2000     & Qtr1     & 29.89811\\\\\n",
       "\t 2        & 1998     & Qtr1     & 28.97594\\\\\n",
       "\t 2        & 1999     & Qtr1     & 40.12531\\\\\n",
       "\t 2        & 2000     & Qtr1     & 38.89573\\\\\n",
       "\\end{tabular}\n"
      ],
      "text/markdown": [
       "\n",
       "firma | jahr | Quartal | Umsatz | \n",
       "|---|---|---|---|---|---|\n",
       "| 1        | 1998     | Qtr1     | 45.81679 | \n",
       "| 1        | 1999     | Qtr1     | 96.45312 | \n",
       "| 1        | 2000     | Qtr1     | 29.89811 | \n",
       "| 2        | 1998     | Qtr1     | 28.97594 | \n",
       "| 2        | 1999     | Qtr1     | 40.12531 | \n",
       "| 2        | 2000     | Qtr1     | 38.89573 | \n",
       "\n",
       "\n"
      ],
      "text/plain": [
       "  firma jahr Quartal Umsatz  \n",
       "1 1     1998 Qtr1    45.81679\n",
       "2 1     1999 Qtr1    96.45312\n",
       "3 1     2000 Qtr1    29.89811\n",
       "4 2     1998 Qtr1    28.97594\n",
       "5 2     1999 Qtr1    40.12531\n",
       "6 2     2000 Qtr1    38.89573"
      ]
     },
     "metadata": {},
     "output_type": "display_data"
    }
   ],
   "source": [
    "# Unter Verwendung des Pipe Operators\n",
    "head(df %>% gather(Quartal,Umsatz,Qtr1:Qtr4))"
   ]
  },
  {
   "cell_type": "code",
   "execution_count": 10,
   "metadata": {},
   "outputs": [
    {
     "data": {
      "text/html": [
       "<table>\n",
       "<thead><tr><th scope=col>firma</th><th scope=col>jahr</th><th scope=col>Quartal</th><th scope=col>Umsatz</th></tr></thead>\n",
       "<tbody>\n",
       "\t<tr><td>1       </td><td>1998    </td><td>Qtr1    </td><td>45.81679</td></tr>\n",
       "\t<tr><td>1       </td><td>1999    </td><td>Qtr1    </td><td>96.45312</td></tr>\n",
       "\t<tr><td>1       </td><td>2000    </td><td>Qtr1    </td><td>29.89811</td></tr>\n",
       "\t<tr><td>2       </td><td>1998    </td><td>Qtr1    </td><td>28.97594</td></tr>\n",
       "\t<tr><td>2       </td><td>1999    </td><td>Qtr1    </td><td>40.12531</td></tr>\n",
       "\t<tr><td>2       </td><td>2000    </td><td>Qtr1    </td><td>38.89573</td></tr>\n",
       "</tbody>\n",
       "</table>\n"
      ],
      "text/latex": [
       "\\begin{tabular}{r|llll}\n",
       " firma & jahr & Quartal & Umsatz\\\\\n",
       "\\hline\n",
       "\t 1        & 1998     & Qtr1     & 45.81679\\\\\n",
       "\t 1        & 1999     & Qtr1     & 96.45312\\\\\n",
       "\t 1        & 2000     & Qtr1     & 29.89811\\\\\n",
       "\t 2        & 1998     & Qtr1     & 28.97594\\\\\n",
       "\t 2        & 1999     & Qtr1     & 40.12531\\\\\n",
       "\t 2        & 2000     & Qtr1     & 38.89573\\\\\n",
       "\\end{tabular}\n"
      ],
      "text/markdown": [
       "\n",
       "firma | jahr | Quartal | Umsatz | \n",
       "|---|---|---|---|---|---|\n",
       "| 1        | 1998     | Qtr1     | 45.81679 | \n",
       "| 1        | 1999     | Qtr1     | 96.45312 | \n",
       "| 1        | 2000     | Qtr1     | 29.89811 | \n",
       "| 2        | 1998     | Qtr1     | 28.97594 | \n",
       "| 2        | 1999     | Qtr1     | 40.12531 | \n",
       "| 2        | 2000     | Qtr1     | 38.89573 | \n",
       "\n",
       "\n"
      ],
      "text/plain": [
       "  firma jahr Quartal Umsatz  \n",
       "1 1     1998 Qtr1    45.81679\n",
       "2 1     1999 Qtr1    96.45312\n",
       "3 1     2000 Qtr1    29.89811\n",
       "4 2     1998 Qtr1    28.97594\n",
       "5 2     1999 Qtr1    40.12531\n",
       "6 2     2000 Qtr1    38.89573"
      ]
     },
     "metadata": {},
     "output_type": "display_data"
    }
   ],
   "source": [
    "# Nur mit der Funktion\n",
    "head(gather(df,Quartal,Umsatz,Qtr1:Qtr4))"
   ]
  },
  {
   "cell_type": "markdown",
   "metadata": {},
   "source": [
    "## spread()\n",
    "\n",
    "Ist das Gegenstück zu `gather()`:"
   ]
  },
  {
   "cell_type": "code",
   "execution_count": 11,
   "metadata": {},
   "outputs": [
    {
     "data": {
      "text/html": [
       "<table>\n",
       "<thead><tr><th scope=col>zeit</th><th scope=col>X</th><th scope=col>Y</th><th scope=col>Z</th></tr></thead>\n",
       "<tbody>\n",
       "\t<tr><td>2009-01-01 </td><td>-0.3784216 </td><td>-0.7887786 </td><td> -0.7950164</td></tr>\n",
       "\t<tr><td>2009-01-02 </td><td> 0.6067261 </td><td>-1.7732903 </td><td>  2.8661297</td></tr>\n",
       "\t<tr><td>2009-01-03 </td><td> 0.5391170 </td><td> 1.9248650 </td><td>  1.9106984</td></tr>\n",
       "\t<tr><td>2009-01-04 </td><td> 1.4005695 </td><td> 1.8976738 </td><td>  5.5575219</td></tr>\n",
       "\t<tr><td>2009-01-05 </td><td>-1.6237364 </td><td>-2.5621599 </td><td> -3.0807817</td></tr>\n",
       "\t<tr><td>2009-01-06 </td><td>-0.4396712 </td><td> 0.8474223 </td><td> -2.2599513</td></tr>\n",
       "\t<tr><td>2009-01-07 </td><td>-0.9416921 </td><td>-1.0808142 </td><td> -2.5973828</td></tr>\n",
       "\t<tr><td>2009-01-08 </td><td>-0.9662547 </td><td>-3.3164229 </td><td> -1.4892107</td></tr>\n",
       "\t<tr><td>2009-01-09 </td><td>-0.9727469 </td><td>-0.1772311 </td><td> -1.4763982</td></tr>\n",
       "\t<tr><td>2009-01-10 </td><td> 0.1176239 </td><td> 2.1197402 </td><td>-11.8534093</td></tr>\n",
       "</tbody>\n",
       "</table>\n"
      ],
      "text/latex": [
       "\\begin{tabular}{r|llll}\n",
       " zeit & X & Y & Z\\\\\n",
       "\\hline\n",
       "\t 2009-01-01  & -0.3784216  & -0.7887786  &  -0.7950164\\\\\n",
       "\t 2009-01-02  &  0.6067261  & -1.7732903  &   2.8661297\\\\\n",
       "\t 2009-01-03  &  0.5391170  &  1.9248650  &   1.9106984\\\\\n",
       "\t 2009-01-04  &  1.4005695  &  1.8976738  &   5.5575219\\\\\n",
       "\t 2009-01-05  & -1.6237364  & -2.5621599  &  -3.0807817\\\\\n",
       "\t 2009-01-06  & -0.4396712  &  0.8474223  &  -2.2599513\\\\\n",
       "\t 2009-01-07  & -0.9416921  & -1.0808142  &  -2.5973828\\\\\n",
       "\t 2009-01-08  & -0.9662547  & -3.3164229  &  -1.4892107\\\\\n",
       "\t 2009-01-09  & -0.9727469  & -0.1772311  &  -1.4763982\\\\\n",
       "\t 2009-01-10  &  0.1176239  &  2.1197402  & -11.8534093\\\\\n",
       "\\end{tabular}\n"
      ],
      "text/markdown": [
       "\n",
       "zeit | X | Y | Z | \n",
       "|---|---|---|---|---|---|---|---|---|---|\n",
       "| 2009-01-01  | -0.3784216  | -0.7887786  |  -0.7950164 | \n",
       "| 2009-01-02  |  0.6067261  | -1.7732903  |   2.8661297 | \n",
       "| 2009-01-03  |  0.5391170  |  1.9248650  |   1.9106984 | \n",
       "| 2009-01-04  |  1.4005695  |  1.8976738  |   5.5575219 | \n",
       "| 2009-01-05  | -1.6237364  | -2.5621599  |  -3.0807817 | \n",
       "| 2009-01-06  | -0.4396712  |  0.8474223  |  -2.2599513 | \n",
       "| 2009-01-07  | -0.9416921  | -1.0808142  |  -2.5973828 | \n",
       "| 2009-01-08  | -0.9662547  | -3.3164229  |  -1.4892107 | \n",
       "| 2009-01-09  | -0.9727469  | -0.1772311  |  -1.4763982 | \n",
       "| 2009-01-10  |  0.1176239  |  2.1197402  | -11.8534093 | \n",
       "\n",
       "\n"
      ],
      "text/plain": [
       "   zeit       X          Y          Z          \n",
       "1  2009-01-01 -0.3784216 -0.7887786  -0.7950164\n",
       "2  2009-01-02  0.6067261 -1.7732903   2.8661297\n",
       "3  2009-01-03  0.5391170  1.9248650   1.9106984\n",
       "4  2009-01-04  1.4005695  1.8976738   5.5575219\n",
       "5  2009-01-05 -1.6237364 -2.5621599  -3.0807817\n",
       "6  2009-01-06 -0.4396712  0.8474223  -2.2599513\n",
       "7  2009-01-07 -0.9416921 -1.0808142  -2.5973828\n",
       "8  2009-01-08 -0.9662547 -3.3164229  -1.4892107\n",
       "9  2009-01-09 -0.9727469 -0.1772311  -1.4763982\n",
       "10 2009-01-10  0.1176239  2.1197402 -11.8534093"
      ]
     },
     "metadata": {},
     "output_type": "display_data"
    }
   ],
   "source": [
    "aktien <- data.frame(\n",
    "  zeit = as.Date('2009-01-01') + 0:9,\n",
    "  X = rnorm(10, 0, 1),\n",
    "  Y = rnorm(10, 0, 2),\n",
    "  Z = rnorm(10, 0, 4)\n",
    ")\n",
    "aktien"
   ]
  },
  {
   "cell_type": "code",
   "execution_count": 13,
   "metadata": {},
   "outputs": [],
   "source": [
    "aktienm <- aktien %>% gather(aktie, preis, -zeit)"
   ]
  },
  {
   "cell_type": "code",
   "execution_count": 14,
   "metadata": {},
   "outputs": [
    {
     "data": {
      "text/html": [
       "<table>\n",
       "<thead><tr><th scope=col>zeit</th><th scope=col>X</th><th scope=col>Y</th><th scope=col>Z</th></tr></thead>\n",
       "<tbody>\n",
       "\t<tr><td>2009-01-01 </td><td>-0.3784216 </td><td>-0.7887786 </td><td> -0.7950164</td></tr>\n",
       "\t<tr><td>2009-01-02 </td><td> 0.6067261 </td><td>-1.7732903 </td><td>  2.8661297</td></tr>\n",
       "\t<tr><td>2009-01-03 </td><td> 0.5391170 </td><td> 1.9248650 </td><td>  1.9106984</td></tr>\n",
       "\t<tr><td>2009-01-04 </td><td> 1.4005695 </td><td> 1.8976738 </td><td>  5.5575219</td></tr>\n",
       "\t<tr><td>2009-01-05 </td><td>-1.6237364 </td><td>-2.5621599 </td><td> -3.0807817</td></tr>\n",
       "\t<tr><td>2009-01-06 </td><td>-0.4396712 </td><td> 0.8474223 </td><td> -2.2599513</td></tr>\n",
       "\t<tr><td>2009-01-07 </td><td>-0.9416921 </td><td>-1.0808142 </td><td> -2.5973828</td></tr>\n",
       "\t<tr><td>2009-01-08 </td><td>-0.9662547 </td><td>-3.3164229 </td><td> -1.4892107</td></tr>\n",
       "\t<tr><td>2009-01-09 </td><td>-0.9727469 </td><td>-0.1772311 </td><td> -1.4763982</td></tr>\n",
       "\t<tr><td>2009-01-10 </td><td> 0.1176239 </td><td> 2.1197402 </td><td>-11.8534093</td></tr>\n",
       "</tbody>\n",
       "</table>\n"
      ],
      "text/latex": [
       "\\begin{tabular}{r|llll}\n",
       " zeit & X & Y & Z\\\\\n",
       "\\hline\n",
       "\t 2009-01-01  & -0.3784216  & -0.7887786  &  -0.7950164\\\\\n",
       "\t 2009-01-02  &  0.6067261  & -1.7732903  &   2.8661297\\\\\n",
       "\t 2009-01-03  &  0.5391170  &  1.9248650  &   1.9106984\\\\\n",
       "\t 2009-01-04  &  1.4005695  &  1.8976738  &   5.5575219\\\\\n",
       "\t 2009-01-05  & -1.6237364  & -2.5621599  &  -3.0807817\\\\\n",
       "\t 2009-01-06  & -0.4396712  &  0.8474223  &  -2.2599513\\\\\n",
       "\t 2009-01-07  & -0.9416921  & -1.0808142  &  -2.5973828\\\\\n",
       "\t 2009-01-08  & -0.9662547  & -3.3164229  &  -1.4892107\\\\\n",
       "\t 2009-01-09  & -0.9727469  & -0.1772311  &  -1.4763982\\\\\n",
       "\t 2009-01-10  &  0.1176239  &  2.1197402  & -11.8534093\\\\\n",
       "\\end{tabular}\n"
      ],
      "text/markdown": [
       "\n",
       "zeit | X | Y | Z | \n",
       "|---|---|---|---|---|---|---|---|---|---|\n",
       "| 2009-01-01  | -0.3784216  | -0.7887786  |  -0.7950164 | \n",
       "| 2009-01-02  |  0.6067261  | -1.7732903  |   2.8661297 | \n",
       "| 2009-01-03  |  0.5391170  |  1.9248650  |   1.9106984 | \n",
       "| 2009-01-04  |  1.4005695  |  1.8976738  |   5.5575219 | \n",
       "| 2009-01-05  | -1.6237364  | -2.5621599  |  -3.0807817 | \n",
       "| 2009-01-06  | -0.4396712  |  0.8474223  |  -2.2599513 | \n",
       "| 2009-01-07  | -0.9416921  | -1.0808142  |  -2.5973828 | \n",
       "| 2009-01-08  | -0.9662547  | -3.3164229  |  -1.4892107 | \n",
       "| 2009-01-09  | -0.9727469  | -0.1772311  |  -1.4763982 | \n",
       "| 2009-01-10  |  0.1176239  |  2.1197402  | -11.8534093 | \n",
       "\n",
       "\n"
      ],
      "text/plain": [
       "   zeit       X          Y          Z          \n",
       "1  2009-01-01 -0.3784216 -0.7887786  -0.7950164\n",
       "2  2009-01-02  0.6067261 -1.7732903   2.8661297\n",
       "3  2009-01-03  0.5391170  1.9248650   1.9106984\n",
       "4  2009-01-04  1.4005695  1.8976738   5.5575219\n",
       "5  2009-01-05 -1.6237364 -2.5621599  -3.0807817\n",
       "6  2009-01-06 -0.4396712  0.8474223  -2.2599513\n",
       "7  2009-01-07 -0.9416921 -1.0808142  -2.5973828\n",
       "8  2009-01-08 -0.9662547 -3.3164229  -1.4892107\n",
       "9  2009-01-09 -0.9727469 -0.1772311  -1.4763982\n",
       "10 2009-01-10  0.1176239  2.1197402 -11.8534093"
      ]
     },
     "metadata": {},
     "output_type": "display_data"
    }
   ],
   "source": [
    "aktienm %>% spread(aktie, preis)"
   ]
  },
  {
   "cell_type": "code",
   "execution_count": 15,
   "metadata": {},
   "outputs": [
    {
     "data": {
      "text/html": [
       "<table>\n",
       "<thead><tr><th scope=col>aktie</th><th scope=col>2009-01-01</th><th scope=col>2009-01-02</th><th scope=col>2009-01-03</th><th scope=col>2009-01-04</th><th scope=col>2009-01-05</th><th scope=col>2009-01-06</th><th scope=col>2009-01-07</th><th scope=col>2009-01-08</th><th scope=col>2009-01-09</th><th scope=col>2009-01-10</th></tr></thead>\n",
       "<tbody>\n",
       "\t<tr><td>X          </td><td>-0.3784216 </td><td> 0.6067261 </td><td>0.539117   </td><td>1.400569   </td><td>-1.623736  </td><td>-0.4396712 </td><td>-0.9416921 </td><td>-0.9662547 </td><td>-0.9727469 </td><td>  0.1176239</td></tr>\n",
       "\t<tr><td>Y          </td><td>-0.7887786 </td><td>-1.7732903 </td><td>1.924865   </td><td>1.897674   </td><td>-2.562160  </td><td> 0.8474223 </td><td>-1.0808142 </td><td>-3.3164229 </td><td>-0.1772311 </td><td>  2.1197402</td></tr>\n",
       "\t<tr><td>Z          </td><td>-0.7950164 </td><td> 2.8661297 </td><td>1.910698   </td><td>5.557522   </td><td>-3.080782  </td><td>-2.2599513 </td><td>-2.5973828 </td><td>-1.4892107 </td><td>-1.4763982 </td><td>-11.8534093</td></tr>\n",
       "</tbody>\n",
       "</table>\n"
      ],
      "text/latex": [
       "\\begin{tabular}{r|lllllllllll}\n",
       " aktie & 2009-01-01 & 2009-01-02 & 2009-01-03 & 2009-01-04 & 2009-01-05 & 2009-01-06 & 2009-01-07 & 2009-01-08 & 2009-01-09 & 2009-01-10\\\\\n",
       "\\hline\n",
       "\t X           & -0.3784216  &  0.6067261  & 0.539117    & 1.400569    & -1.623736   & -0.4396712  & -0.9416921  & -0.9662547  & -0.9727469  &   0.1176239\\\\\n",
       "\t Y           & -0.7887786  & -1.7732903  & 1.924865    & 1.897674    & -2.562160   &  0.8474223  & -1.0808142  & -3.3164229  & -0.1772311  &   2.1197402\\\\\n",
       "\t Z           & -0.7950164  &  2.8661297  & 1.910698    & 5.557522    & -3.080782   & -2.2599513  & -2.5973828  & -1.4892107  & -1.4763982  & -11.8534093\\\\\n",
       "\\end{tabular}\n"
      ],
      "text/markdown": [
       "\n",
       "aktie | 2009-01-01 | 2009-01-02 | 2009-01-03 | 2009-01-04 | 2009-01-05 | 2009-01-06 | 2009-01-07 | 2009-01-08 | 2009-01-09 | 2009-01-10 | \n",
       "|---|---|---|\n",
       "| X           | -0.3784216  |  0.6067261  | 0.539117    | 1.400569    | -1.623736   | -0.4396712  | -0.9416921  | -0.9662547  | -0.9727469  |   0.1176239 | \n",
       "| Y           | -0.7887786  | -1.7732903  | 1.924865    | 1.897674    | -2.562160   |  0.8474223  | -1.0808142  | -3.3164229  | -0.1772311  |   2.1197402 | \n",
       "| Z           | -0.7950164  |  2.8661297  | 1.910698    | 5.557522    | -3.080782   | -2.2599513  | -2.5973828  | -1.4892107  | -1.4763982  | -11.8534093 | \n",
       "\n",
       "\n"
      ],
      "text/plain": [
       "  aktie 2009-01-01 2009-01-02 2009-01-03 2009-01-04 2009-01-05 2009-01-06\n",
       "1 X     -0.3784216  0.6067261 0.539117   1.400569   -1.623736  -0.4396712\n",
       "2 Y     -0.7887786 -1.7732903 1.924865   1.897674   -2.562160   0.8474223\n",
       "3 Z     -0.7950164  2.8661297 1.910698   5.557522   -3.080782  -2.2599513\n",
       "  2009-01-07 2009-01-08 2009-01-09 2009-01-10 \n",
       "1 -0.9416921 -0.9662547 -0.9727469   0.1176239\n",
       "2 -1.0808142 -3.3164229 -0.1772311   2.1197402\n",
       "3 -2.5973828 -1.4892107 -1.4763982 -11.8534093"
      ]
     },
     "metadata": {},
     "output_type": "display_data"
    }
   ],
   "source": [
    "aktienm %>% spread(zeit, preis)"
   ]
  },
  {
   "cell_type": "markdown",
   "metadata": {},
   "source": [
    "# Separate und Unite"
   ]
  },
  {
   "cell_type": "markdown",
   "metadata": {},
   "source": [
    "## separate()\n",
    "\n",
    "Ausgehend von einer Regular Expression oder einem Vektor von Zeichenpositionen kann `separate()` eine einzelne Spalte in mehrere aufteilen:"
   ]
  },
  {
   "cell_type": "code",
   "execution_count": 16,
   "metadata": {},
   "outputs": [
    {
     "data": {
      "text/html": [
       "<table>\n",
       "<thead><tr><th scope=col>x</th></tr></thead>\n",
       "<tbody>\n",
       "\t<tr><td>NA </td></tr>\n",
       "\t<tr><td>a.x</td></tr>\n",
       "\t<tr><td>b.y</td></tr>\n",
       "\t<tr><td>c.z</td></tr>\n",
       "</tbody>\n",
       "</table>\n"
      ],
      "text/latex": [
       "\\begin{tabular}{r|l}\n",
       " x\\\\\n",
       "\\hline\n",
       "\t NA \\\\\n",
       "\t a.x\\\\\n",
       "\t b.y\\\\\n",
       "\t c.z\\\\\n",
       "\\end{tabular}\n"
      ],
      "text/markdown": [
       "\n",
       "x | \n",
       "|---|---|---|---|\n",
       "| NA  | \n",
       "| a.x | \n",
       "| b.y | \n",
       "| c.z | \n",
       "\n",
       "\n"
      ],
      "text/plain": [
       "  x  \n",
       "1 NA \n",
       "2 a.x\n",
       "3 b.y\n",
       "4 c.z"
      ]
     },
     "metadata": {},
     "output_type": "display_data"
    }
   ],
   "source": [
    "df <- data.frame(x = c(NA, \"a.x\", \"b.y\", \"c.z\"))\n",
    "df"
   ]
  },
  {
   "cell_type": "code",
   "execution_count": 17,
   "metadata": {},
   "outputs": [
    {
     "data": {
      "text/html": [
       "<table>\n",
       "<thead><tr><th scope=col>ABC</th><th scope=col>XYZ</th></tr></thead>\n",
       "<tbody>\n",
       "\t<tr><td>NA</td><td>NA</td></tr>\n",
       "\t<tr><td>a </td><td>x </td></tr>\n",
       "\t<tr><td>b </td><td>y </td></tr>\n",
       "\t<tr><td>c </td><td>z </td></tr>\n",
       "</tbody>\n",
       "</table>\n"
      ],
      "text/latex": [
       "\\begin{tabular}{r|ll}\n",
       " ABC & XYZ\\\\\n",
       "\\hline\n",
       "\t NA & NA\\\\\n",
       "\t a  & x \\\\\n",
       "\t b  & y \\\\\n",
       "\t c  & z \\\\\n",
       "\\end{tabular}\n"
      ],
      "text/markdown": [
       "\n",
       "ABC | XYZ | \n",
       "|---|---|---|---|\n",
       "| NA | NA | \n",
       "| a  | x  | \n",
       "| b  | y  | \n",
       "| c  | z  | \n",
       "\n",
       "\n"
      ],
      "text/plain": [
       "  ABC XYZ\n",
       "1 NA  NA \n",
       "2 a   x  \n",
       "3 b   y  \n",
       "4 c   z  "
      ]
     },
     "metadata": {},
     "output_type": "display_data"
    }
   ],
   "source": [
    "df %>% separate(x, c(\"ABC\", \"XYZ\"))"
   ]
  },
  {
   "cell_type": "markdown",
   "metadata": {},
   "source": [
    "## unite()\n",
    "\n",
    "`unite()` ist üblicherweise die Funktion um mehrere Spalten zu einer zusammenzufassen:"
   ]
  },
  {
   "cell_type": "code",
   "execution_count": 18,
   "metadata": {},
   "outputs": [
    {
     "data": {
      "text/html": [
       "<table>\n",
       "<thead><tr><th></th><th scope=col>mpg</th><th scope=col>cyl</th><th scope=col>disp</th><th scope=col>hp</th><th scope=col>drat</th><th scope=col>wt</th><th scope=col>qsec</th><th scope=col>vs</th><th scope=col>am</th><th scope=col>gear</th><th scope=col>carb</th></tr></thead>\n",
       "<tbody>\n",
       "\t<tr><th scope=row>Mazda RX4</th><td>21.0 </td><td>6    </td><td>160  </td><td>110  </td><td>3.90 </td><td>2.620</td><td>16.46</td><td>0    </td><td>1    </td><td>4    </td><td>4    </td></tr>\n",
       "\t<tr><th scope=row>Mazda RX4 Wag</th><td>21.0 </td><td>6    </td><td>160  </td><td>110  </td><td>3.90 </td><td>2.875</td><td>17.02</td><td>0    </td><td>1    </td><td>4    </td><td>4    </td></tr>\n",
       "\t<tr><th scope=row>Datsun 710</th><td>22.8 </td><td>4    </td><td>108  </td><td> 93  </td><td>3.85 </td><td>2.320</td><td>18.61</td><td>1    </td><td>1    </td><td>4    </td><td>1    </td></tr>\n",
       "\t<tr><th scope=row>Hornet 4 Drive</th><td>21.4 </td><td>6    </td><td>258  </td><td>110  </td><td>3.08 </td><td>3.215</td><td>19.44</td><td>1    </td><td>0    </td><td>3    </td><td>1    </td></tr>\n",
       "\t<tr><th scope=row>Hornet Sportabout</th><td>18.7 </td><td>8    </td><td>360  </td><td>175  </td><td>3.15 </td><td>3.440</td><td>17.02</td><td>0    </td><td>0    </td><td>3    </td><td>2    </td></tr>\n",
       "\t<tr><th scope=row>Valiant</th><td>18.1 </td><td>6    </td><td>225  </td><td>105  </td><td>2.76 </td><td>3.460</td><td>20.22</td><td>1    </td><td>0    </td><td>3    </td><td>1    </td></tr>\n",
       "</tbody>\n",
       "</table>\n"
      ],
      "text/latex": [
       "\\begin{tabular}{r|lllllllllll}\n",
       "  & mpg & cyl & disp & hp & drat & wt & qsec & vs & am & gear & carb\\\\\n",
       "\\hline\n",
       "\tMazda RX4 & 21.0  & 6     & 160   & 110   & 3.90  & 2.620 & 16.46 & 0     & 1     & 4     & 4    \\\\\n",
       "\tMazda RX4 Wag & 21.0  & 6     & 160   & 110   & 3.90  & 2.875 & 17.02 & 0     & 1     & 4     & 4    \\\\\n",
       "\tDatsun 710 & 22.8  & 4     & 108   &  93   & 3.85  & 2.320 & 18.61 & 1     & 1     & 4     & 1    \\\\\n",
       "\tHornet 4 Drive & 21.4  & 6     & 258   & 110   & 3.08  & 3.215 & 19.44 & 1     & 0     & 3     & 1    \\\\\n",
       "\tHornet Sportabout & 18.7  & 8     & 360   & 175   & 3.15  & 3.440 & 17.02 & 0     & 0     & 3     & 2    \\\\\n",
       "\tValiant & 18.1  & 6     & 225   & 105   & 2.76  & 3.460 & 20.22 & 1     & 0     & 3     & 1    \\\\\n",
       "\\end{tabular}\n"
      ],
      "text/markdown": [
       "\n",
       "| <!--/--> | mpg | cyl | disp | hp | drat | wt | qsec | vs | am | gear | carb | \n",
       "|---|---|---|---|---|---|\n",
       "| Mazda RX4 | 21.0  | 6     | 160   | 110   | 3.90  | 2.620 | 16.46 | 0     | 1     | 4     | 4     | \n",
       "| Mazda RX4 Wag | 21.0  | 6     | 160   | 110   | 3.90  | 2.875 | 17.02 | 0     | 1     | 4     | 4     | \n",
       "| Datsun 710 | 22.8  | 4     | 108   |  93   | 3.85  | 2.320 | 18.61 | 1     | 1     | 4     | 1     | \n",
       "| Hornet 4 Drive | 21.4  | 6     | 258   | 110   | 3.08  | 3.215 | 19.44 | 1     | 0     | 3     | 1     | \n",
       "| Hornet Sportabout | 18.7  | 8     | 360   | 175   | 3.15  | 3.440 | 17.02 | 0     | 0     | 3     | 2     | \n",
       "| Valiant | 18.1  | 6     | 225   | 105   | 2.76  | 3.460 | 20.22 | 1     | 0     | 3     | 1     | \n",
       "\n",
       "\n"
      ],
      "text/plain": [
       "                  mpg  cyl disp hp  drat wt    qsec  vs am gear carb\n",
       "Mazda RX4         21.0 6   160  110 3.90 2.620 16.46 0  1  4    4   \n",
       "Mazda RX4 Wag     21.0 6   160  110 3.90 2.875 17.02 0  1  4    4   \n",
       "Datsun 710        22.8 4   108   93 3.85 2.320 18.61 1  1  4    1   \n",
       "Hornet 4 Drive    21.4 6   258  110 3.08 3.215 19.44 1  0  3    1   \n",
       "Hornet Sportabout 18.7 8   360  175 3.15 3.440 17.02 0  0  3    2   \n",
       "Valiant           18.1 6   225  105 2.76 3.460 20.22 1  0  3    1   "
      ]
     },
     "metadata": {},
     "output_type": "display_data"
    }
   ],
   "source": [
    "head(mtcars)"
   ]
  },
  {
   "cell_type": "code",
   "execution_count": 19,
   "metadata": {},
   "outputs": [
    {
     "data": {
      "text/html": [
       "<table>\n",
       "<thead><tr><th></th><th scope=col>mpg</th><th scope=col>cyl</th><th scope=col>disp</th><th scope=col>hp</th><th scope=col>drat</th><th scope=col>wt</th><th scope=col>qsec</th><th scope=col>vs.am</th><th scope=col>gear</th><th scope=col>carb</th></tr></thead>\n",
       "<tbody>\n",
       "\t<tr><th scope=row>Mazda RX4</th><td>21.0 </td><td>6    </td><td>160.0</td><td>110  </td><td>3.90 </td><td>2.620</td><td>16.46</td><td>0.1  </td><td>4    </td><td>4    </td></tr>\n",
       "\t<tr><th scope=row>Mazda RX4 Wag</th><td>21.0 </td><td>6    </td><td>160.0</td><td>110  </td><td>3.90 </td><td>2.875</td><td>17.02</td><td>0.1  </td><td>4    </td><td>4    </td></tr>\n",
       "\t<tr><th scope=row>Datsun 710</th><td>22.8 </td><td>4    </td><td>108.0</td><td> 93  </td><td>3.85 </td><td>2.320</td><td>18.61</td><td>1.1  </td><td>4    </td><td>1    </td></tr>\n",
       "\t<tr><th scope=row>Hornet 4 Drive</th><td>21.4 </td><td>6    </td><td>258.0</td><td>110  </td><td>3.08 </td><td>3.215</td><td>19.44</td><td>1.0  </td><td>3    </td><td>1    </td></tr>\n",
       "\t<tr><th scope=row>Hornet Sportabout</th><td>18.7 </td><td>8    </td><td>360.0</td><td>175  </td><td>3.15 </td><td>3.440</td><td>17.02</td><td>0.0  </td><td>3    </td><td>2    </td></tr>\n",
       "\t<tr><th scope=row>Valiant</th><td>18.1 </td><td>6    </td><td>225.0</td><td>105  </td><td>2.76 </td><td>3.460</td><td>20.22</td><td>1.0  </td><td>3    </td><td>1    </td></tr>\n",
       "\t<tr><th scope=row>Duster 360</th><td>14.3 </td><td>8    </td><td>360.0</td><td>245  </td><td>3.21 </td><td>3.570</td><td>15.84</td><td>0.0  </td><td>3    </td><td>4    </td></tr>\n",
       "\t<tr><th scope=row>Merc 240D</th><td>24.4 </td><td>4    </td><td>146.7</td><td> 62  </td><td>3.69 </td><td>3.190</td><td>20.00</td><td>1.0  </td><td>4    </td><td>2    </td></tr>\n",
       "\t<tr><th scope=row>Merc 230</th><td>22.8 </td><td>4    </td><td>140.8</td><td> 95  </td><td>3.92 </td><td>3.150</td><td>22.90</td><td>1.0  </td><td>4    </td><td>2    </td></tr>\n",
       "\t<tr><th scope=row>Merc 280</th><td>19.2 </td><td>6    </td><td>167.6</td><td>123  </td><td>3.92 </td><td>3.440</td><td>18.30</td><td>1.0  </td><td>4    </td><td>4    </td></tr>\n",
       "\t<tr><th scope=row>Merc 280C</th><td>17.8 </td><td>6    </td><td>167.6</td><td>123  </td><td>3.92 </td><td>3.440</td><td>18.90</td><td>1.0  </td><td>4    </td><td>4    </td></tr>\n",
       "\t<tr><th scope=row>Merc 450SE</th><td>16.4 </td><td>8    </td><td>275.8</td><td>180  </td><td>3.07 </td><td>4.070</td><td>17.40</td><td>0.0  </td><td>3    </td><td>3    </td></tr>\n",
       "\t<tr><th scope=row>Merc 450SL</th><td>17.3 </td><td>8    </td><td>275.8</td><td>180  </td><td>3.07 </td><td>3.730</td><td>17.60</td><td>0.0  </td><td>3    </td><td>3    </td></tr>\n",
       "\t<tr><th scope=row>Merc 450SLC</th><td>15.2 </td><td>8    </td><td>275.8</td><td>180  </td><td>3.07 </td><td>3.780</td><td>18.00</td><td>0.0  </td><td>3    </td><td>3    </td></tr>\n",
       "\t<tr><th scope=row>Cadillac Fleetwood</th><td>10.4 </td><td>8    </td><td>472.0</td><td>205  </td><td>2.93 </td><td>5.250</td><td>17.98</td><td>0.0  </td><td>3    </td><td>4    </td></tr>\n",
       "\t<tr><th scope=row>Lincoln Continental</th><td>10.4 </td><td>8    </td><td>460.0</td><td>215  </td><td>3.00 </td><td>5.424</td><td>17.82</td><td>0.0  </td><td>3    </td><td>4    </td></tr>\n",
       "\t<tr><th scope=row>Chrysler Imperial</th><td>14.7 </td><td>8    </td><td>440.0</td><td>230  </td><td>3.23 </td><td>5.345</td><td>17.42</td><td>0.0  </td><td>3    </td><td>4    </td></tr>\n",
       "\t<tr><th scope=row>Fiat 128</th><td>32.4 </td><td>4    </td><td> 78.7</td><td> 66  </td><td>4.08 </td><td>2.200</td><td>19.47</td><td>1.1  </td><td>4    </td><td>1    </td></tr>\n",
       "\t<tr><th scope=row>Honda Civic</th><td>30.4 </td><td>4    </td><td> 75.7</td><td> 52  </td><td>4.93 </td><td>1.615</td><td>18.52</td><td>1.1  </td><td>4    </td><td>2    </td></tr>\n",
       "\t<tr><th scope=row>Toyota Corolla</th><td>33.9 </td><td>4    </td><td> 71.1</td><td> 65  </td><td>4.22 </td><td>1.835</td><td>19.90</td><td>1.1  </td><td>4    </td><td>1    </td></tr>\n",
       "\t<tr><th scope=row>Toyota Corona</th><td>21.5 </td><td>4    </td><td>120.1</td><td> 97  </td><td>3.70 </td><td>2.465</td><td>20.01</td><td>1.0  </td><td>3    </td><td>1    </td></tr>\n",
       "\t<tr><th scope=row>Dodge Challenger</th><td>15.5 </td><td>8    </td><td>318.0</td><td>150  </td><td>2.76 </td><td>3.520</td><td>16.87</td><td>0.0  </td><td>3    </td><td>2    </td></tr>\n",
       "\t<tr><th scope=row>AMC Javelin</th><td>15.2 </td><td>8    </td><td>304.0</td><td>150  </td><td>3.15 </td><td>3.435</td><td>17.30</td><td>0.0  </td><td>3    </td><td>2    </td></tr>\n",
       "\t<tr><th scope=row>Camaro Z28</th><td>13.3 </td><td>8    </td><td>350.0</td><td>245  </td><td>3.73 </td><td>3.840</td><td>15.41</td><td>0.0  </td><td>3    </td><td>4    </td></tr>\n",
       "\t<tr><th scope=row>Pontiac Firebird</th><td>19.2 </td><td>8    </td><td>400.0</td><td>175  </td><td>3.08 </td><td>3.845</td><td>17.05</td><td>0.0  </td><td>3    </td><td>2    </td></tr>\n",
       "\t<tr><th scope=row>Fiat X1-9</th><td>27.3 </td><td>4    </td><td> 79.0</td><td> 66  </td><td>4.08 </td><td>1.935</td><td>18.90</td><td>1.1  </td><td>4    </td><td>1    </td></tr>\n",
       "\t<tr><th scope=row>Porsche 914-2</th><td>26.0 </td><td>4    </td><td>120.3</td><td> 91  </td><td>4.43 </td><td>2.140</td><td>16.70</td><td>0.1  </td><td>5    </td><td>2    </td></tr>\n",
       "\t<tr><th scope=row>Lotus Europa</th><td>30.4 </td><td>4    </td><td> 95.1</td><td>113  </td><td>3.77 </td><td>1.513</td><td>16.90</td><td>1.1  </td><td>5    </td><td>2    </td></tr>\n",
       "\t<tr><th scope=row>Ford Pantera L</th><td>15.8 </td><td>8    </td><td>351.0</td><td>264  </td><td>4.22 </td><td>3.170</td><td>14.50</td><td>0.1  </td><td>5    </td><td>4    </td></tr>\n",
       "\t<tr><th scope=row>Ferrari Dino</th><td>19.7 </td><td>6    </td><td>145.0</td><td>175  </td><td>3.62 </td><td>2.770</td><td>15.50</td><td>0.1  </td><td>5    </td><td>6    </td></tr>\n",
       "\t<tr><th scope=row>Maserati Bora</th><td>15.0 </td><td>8    </td><td>301.0</td><td>335  </td><td>3.54 </td><td>3.570</td><td>14.60</td><td>0.1  </td><td>5    </td><td>8    </td></tr>\n",
       "\t<tr><th scope=row>Volvo 142E</th><td>21.4 </td><td>4    </td><td>121.0</td><td>109  </td><td>4.11 </td><td>2.780</td><td>18.60</td><td>1.1  </td><td>4    </td><td>2    </td></tr>\n",
       "</tbody>\n",
       "</table>\n"
      ],
      "text/latex": [
       "\\begin{tabular}{r|llllllllll}\n",
       "  & mpg & cyl & disp & hp & drat & wt & qsec & vs.am & gear & carb\\\\\n",
       "\\hline\n",
       "\tMazda RX4 & 21.0  & 6     & 160.0 & 110   & 3.90  & 2.620 & 16.46 & 0.1   & 4     & 4    \\\\\n",
       "\tMazda RX4 Wag & 21.0  & 6     & 160.0 & 110   & 3.90  & 2.875 & 17.02 & 0.1   & 4     & 4    \\\\\n",
       "\tDatsun 710 & 22.8  & 4     & 108.0 &  93   & 3.85  & 2.320 & 18.61 & 1.1   & 4     & 1    \\\\\n",
       "\tHornet 4 Drive & 21.4  & 6     & 258.0 & 110   & 3.08  & 3.215 & 19.44 & 1.0   & 3     & 1    \\\\\n",
       "\tHornet Sportabout & 18.7  & 8     & 360.0 & 175   & 3.15  & 3.440 & 17.02 & 0.0   & 3     & 2    \\\\\n",
       "\tValiant & 18.1  & 6     & 225.0 & 105   & 2.76  & 3.460 & 20.22 & 1.0   & 3     & 1    \\\\\n",
       "\tDuster 360 & 14.3  & 8     & 360.0 & 245   & 3.21  & 3.570 & 15.84 & 0.0   & 3     & 4    \\\\\n",
       "\tMerc 240D & 24.4  & 4     & 146.7 &  62   & 3.69  & 3.190 & 20.00 & 1.0   & 4     & 2    \\\\\n",
       "\tMerc 230 & 22.8  & 4     & 140.8 &  95   & 3.92  & 3.150 & 22.90 & 1.0   & 4     & 2    \\\\\n",
       "\tMerc 280 & 19.2  & 6     & 167.6 & 123   & 3.92  & 3.440 & 18.30 & 1.0   & 4     & 4    \\\\\n",
       "\tMerc 280C & 17.8  & 6     & 167.6 & 123   & 3.92  & 3.440 & 18.90 & 1.0   & 4     & 4    \\\\\n",
       "\tMerc 450SE & 16.4  & 8     & 275.8 & 180   & 3.07  & 4.070 & 17.40 & 0.0   & 3     & 3    \\\\\n",
       "\tMerc 450SL & 17.3  & 8     & 275.8 & 180   & 3.07  & 3.730 & 17.60 & 0.0   & 3     & 3    \\\\\n",
       "\tMerc 450SLC & 15.2  & 8     & 275.8 & 180   & 3.07  & 3.780 & 18.00 & 0.0   & 3     & 3    \\\\\n",
       "\tCadillac Fleetwood & 10.4  & 8     & 472.0 & 205   & 2.93  & 5.250 & 17.98 & 0.0   & 3     & 4    \\\\\n",
       "\tLincoln Continental & 10.4  & 8     & 460.0 & 215   & 3.00  & 5.424 & 17.82 & 0.0   & 3     & 4    \\\\\n",
       "\tChrysler Imperial & 14.7  & 8     & 440.0 & 230   & 3.23  & 5.345 & 17.42 & 0.0   & 3     & 4    \\\\\n",
       "\tFiat 128 & 32.4  & 4     &  78.7 &  66   & 4.08  & 2.200 & 19.47 & 1.1   & 4     & 1    \\\\\n",
       "\tHonda Civic & 30.4  & 4     &  75.7 &  52   & 4.93  & 1.615 & 18.52 & 1.1   & 4     & 2    \\\\\n",
       "\tToyota Corolla & 33.9  & 4     &  71.1 &  65   & 4.22  & 1.835 & 19.90 & 1.1   & 4     & 1    \\\\\n",
       "\tToyota Corona & 21.5  & 4     & 120.1 &  97   & 3.70  & 2.465 & 20.01 & 1.0   & 3     & 1    \\\\\n",
       "\tDodge Challenger & 15.5  & 8     & 318.0 & 150   & 2.76  & 3.520 & 16.87 & 0.0   & 3     & 2    \\\\\n",
       "\tAMC Javelin & 15.2  & 8     & 304.0 & 150   & 3.15  & 3.435 & 17.30 & 0.0   & 3     & 2    \\\\\n",
       "\tCamaro Z28 & 13.3  & 8     & 350.0 & 245   & 3.73  & 3.840 & 15.41 & 0.0   & 3     & 4    \\\\\n",
       "\tPontiac Firebird & 19.2  & 8     & 400.0 & 175   & 3.08  & 3.845 & 17.05 & 0.0   & 3     & 2    \\\\\n",
       "\tFiat X1-9 & 27.3  & 4     &  79.0 &  66   & 4.08  & 1.935 & 18.90 & 1.1   & 4     & 1    \\\\\n",
       "\tPorsche 914-2 & 26.0  & 4     & 120.3 &  91   & 4.43  & 2.140 & 16.70 & 0.1   & 5     & 2    \\\\\n",
       "\tLotus Europa & 30.4  & 4     &  95.1 & 113   & 3.77  & 1.513 & 16.90 & 1.1   & 5     & 2    \\\\\n",
       "\tFord Pantera L & 15.8  & 8     & 351.0 & 264   & 4.22  & 3.170 & 14.50 & 0.1   & 5     & 4    \\\\\n",
       "\tFerrari Dino & 19.7  & 6     & 145.0 & 175   & 3.62  & 2.770 & 15.50 & 0.1   & 5     & 6    \\\\\n",
       "\tMaserati Bora & 15.0  & 8     & 301.0 & 335   & 3.54  & 3.570 & 14.60 & 0.1   & 5     & 8    \\\\\n",
       "\tVolvo 142E & 21.4  & 4     & 121.0 & 109   & 4.11  & 2.780 & 18.60 & 1.1   & 4     & 2    \\\\\n",
       "\\end{tabular}\n"
      ],
      "text/markdown": [
       "\n",
       "| <!--/--> | mpg | cyl | disp | hp | drat | wt | qsec | vs.am | gear | carb | \n",
       "|---|---|---|---|---|---|---|---|---|---|---|---|---|---|---|---|---|---|---|---|---|---|---|---|---|---|---|---|---|---|---|---|\n",
       "| Mazda RX4 | 21.0  | 6     | 160.0 | 110   | 3.90  | 2.620 | 16.46 | 0.1   | 4     | 4     | \n",
       "| Mazda RX4 Wag | 21.0  | 6     | 160.0 | 110   | 3.90  | 2.875 | 17.02 | 0.1   | 4     | 4     | \n",
       "| Datsun 710 | 22.8  | 4     | 108.0 |  93   | 3.85  | 2.320 | 18.61 | 1.1   | 4     | 1     | \n",
       "| Hornet 4 Drive | 21.4  | 6     | 258.0 | 110   | 3.08  | 3.215 | 19.44 | 1.0   | 3     | 1     | \n",
       "| Hornet Sportabout | 18.7  | 8     | 360.0 | 175   | 3.15  | 3.440 | 17.02 | 0.0   | 3     | 2     | \n",
       "| Valiant | 18.1  | 6     | 225.0 | 105   | 2.76  | 3.460 | 20.22 | 1.0   | 3     | 1     | \n",
       "| Duster 360 | 14.3  | 8     | 360.0 | 245   | 3.21  | 3.570 | 15.84 | 0.0   | 3     | 4     | \n",
       "| Merc 240D | 24.4  | 4     | 146.7 |  62   | 3.69  | 3.190 | 20.00 | 1.0   | 4     | 2     | \n",
       "| Merc 230 | 22.8  | 4     | 140.8 |  95   | 3.92  | 3.150 | 22.90 | 1.0   | 4     | 2     | \n",
       "| Merc 280 | 19.2  | 6     | 167.6 | 123   | 3.92  | 3.440 | 18.30 | 1.0   | 4     | 4     | \n",
       "| Merc 280C | 17.8  | 6     | 167.6 | 123   | 3.92  | 3.440 | 18.90 | 1.0   | 4     | 4     | \n",
       "| Merc 450SE | 16.4  | 8     | 275.8 | 180   | 3.07  | 4.070 | 17.40 | 0.0   | 3     | 3     | \n",
       "| Merc 450SL | 17.3  | 8     | 275.8 | 180   | 3.07  | 3.730 | 17.60 | 0.0   | 3     | 3     | \n",
       "| Merc 450SLC | 15.2  | 8     | 275.8 | 180   | 3.07  | 3.780 | 18.00 | 0.0   | 3     | 3     | \n",
       "| Cadillac Fleetwood | 10.4  | 8     | 472.0 | 205   | 2.93  | 5.250 | 17.98 | 0.0   | 3     | 4     | \n",
       "| Lincoln Continental | 10.4  | 8     | 460.0 | 215   | 3.00  | 5.424 | 17.82 | 0.0   | 3     | 4     | \n",
       "| Chrysler Imperial | 14.7  | 8     | 440.0 | 230   | 3.23  | 5.345 | 17.42 | 0.0   | 3     | 4     | \n",
       "| Fiat 128 | 32.4  | 4     |  78.7 |  66   | 4.08  | 2.200 | 19.47 | 1.1   | 4     | 1     | \n",
       "| Honda Civic | 30.4  | 4     |  75.7 |  52   | 4.93  | 1.615 | 18.52 | 1.1   | 4     | 2     | \n",
       "| Toyota Corolla | 33.9  | 4     |  71.1 |  65   | 4.22  | 1.835 | 19.90 | 1.1   | 4     | 1     | \n",
       "| Toyota Corona | 21.5  | 4     | 120.1 |  97   | 3.70  | 2.465 | 20.01 | 1.0   | 3     | 1     | \n",
       "| Dodge Challenger | 15.5  | 8     | 318.0 | 150   | 2.76  | 3.520 | 16.87 | 0.0   | 3     | 2     | \n",
       "| AMC Javelin | 15.2  | 8     | 304.0 | 150   | 3.15  | 3.435 | 17.30 | 0.0   | 3     | 2     | \n",
       "| Camaro Z28 | 13.3  | 8     | 350.0 | 245   | 3.73  | 3.840 | 15.41 | 0.0   | 3     | 4     | \n",
       "| Pontiac Firebird | 19.2  | 8     | 400.0 | 175   | 3.08  | 3.845 | 17.05 | 0.0   | 3     | 2     | \n",
       "| Fiat X1-9 | 27.3  | 4     |  79.0 |  66   | 4.08  | 1.935 | 18.90 | 1.1   | 4     | 1     | \n",
       "| Porsche 914-2 | 26.0  | 4     | 120.3 |  91   | 4.43  | 2.140 | 16.70 | 0.1   | 5     | 2     | \n",
       "| Lotus Europa | 30.4  | 4     |  95.1 | 113   | 3.77  | 1.513 | 16.90 | 1.1   | 5     | 2     | \n",
       "| Ford Pantera L | 15.8  | 8     | 351.0 | 264   | 4.22  | 3.170 | 14.50 | 0.1   | 5     | 4     | \n",
       "| Ferrari Dino | 19.7  | 6     | 145.0 | 175   | 3.62  | 2.770 | 15.50 | 0.1   | 5     | 6     | \n",
       "| Maserati Bora | 15.0  | 8     | 301.0 | 335   | 3.54  | 3.570 | 14.60 | 0.1   | 5     | 8     | \n",
       "| Volvo 142E | 21.4  | 4     | 121.0 | 109   | 4.11  | 2.780 | 18.60 | 1.1   | 4     | 2     | \n",
       "\n",
       "\n"
      ],
      "text/plain": [
       "                    mpg  cyl disp  hp  drat wt    qsec  vs.am gear carb\n",
       "Mazda RX4           21.0 6   160.0 110 3.90 2.620 16.46 0.1   4    4   \n",
       "Mazda RX4 Wag       21.0 6   160.0 110 3.90 2.875 17.02 0.1   4    4   \n",
       "Datsun 710          22.8 4   108.0  93 3.85 2.320 18.61 1.1   4    1   \n",
       "Hornet 4 Drive      21.4 6   258.0 110 3.08 3.215 19.44 1.0   3    1   \n",
       "Hornet Sportabout   18.7 8   360.0 175 3.15 3.440 17.02 0.0   3    2   \n",
       "Valiant             18.1 6   225.0 105 2.76 3.460 20.22 1.0   3    1   \n",
       "Duster 360          14.3 8   360.0 245 3.21 3.570 15.84 0.0   3    4   \n",
       "Merc 240D           24.4 4   146.7  62 3.69 3.190 20.00 1.0   4    2   \n",
       "Merc 230            22.8 4   140.8  95 3.92 3.150 22.90 1.0   4    2   \n",
       "Merc 280            19.2 6   167.6 123 3.92 3.440 18.30 1.0   4    4   \n",
       "Merc 280C           17.8 6   167.6 123 3.92 3.440 18.90 1.0   4    4   \n",
       "Merc 450SE          16.4 8   275.8 180 3.07 4.070 17.40 0.0   3    3   \n",
       "Merc 450SL          17.3 8   275.8 180 3.07 3.730 17.60 0.0   3    3   \n",
       "Merc 450SLC         15.2 8   275.8 180 3.07 3.780 18.00 0.0   3    3   \n",
       "Cadillac Fleetwood  10.4 8   472.0 205 2.93 5.250 17.98 0.0   3    4   \n",
       "Lincoln Continental 10.4 8   460.0 215 3.00 5.424 17.82 0.0   3    4   \n",
       "Chrysler Imperial   14.7 8   440.0 230 3.23 5.345 17.42 0.0   3    4   \n",
       "Fiat 128            32.4 4    78.7  66 4.08 2.200 19.47 1.1   4    1   \n",
       "Honda Civic         30.4 4    75.7  52 4.93 1.615 18.52 1.1   4    2   \n",
       "Toyota Corolla      33.9 4    71.1  65 4.22 1.835 19.90 1.1   4    1   \n",
       "Toyota Corona       21.5 4   120.1  97 3.70 2.465 20.01 1.0   3    1   \n",
       "Dodge Challenger    15.5 8   318.0 150 2.76 3.520 16.87 0.0   3    2   \n",
       "AMC Javelin         15.2 8   304.0 150 3.15 3.435 17.30 0.0   3    2   \n",
       "Camaro Z28          13.3 8   350.0 245 3.73 3.840 15.41 0.0   3    4   \n",
       "Pontiac Firebird    19.2 8   400.0 175 3.08 3.845 17.05 0.0   3    2   \n",
       "Fiat X1-9           27.3 4    79.0  66 4.08 1.935 18.90 1.1   4    1   \n",
       "Porsche 914-2       26.0 4   120.3  91 4.43 2.140 16.70 0.1   5    2   \n",
       "Lotus Europa        30.4 4    95.1 113 3.77 1.513 16.90 1.1   5    2   \n",
       "Ford Pantera L      15.8 8   351.0 264 4.22 3.170 14.50 0.1   5    4   \n",
       "Ferrari Dino        19.7 6   145.0 175 3.62 2.770 15.50 0.1   5    6   \n",
       "Maserati Bora       15.0 8   301.0 335 3.54 3.570 14.60 0.1   5    8   \n",
       "Volvo 142E          21.4 4   121.0 109 4.11 2.780 18.60 1.1   4    2   "
      ]
     },
     "metadata": {},
     "output_type": "display_data"
    }
   ],
   "source": [
    "unite_(mtcars, \"vs.am\", c(\"vs\",\"am\"),sep = '.')"
   ]
  },
  {
   "cell_type": "code",
   "execution_count": 20,
   "metadata": {},
   "outputs": [
    {
     "data": {
      "text/html": [
       "<table>\n",
       "<thead><tr><th></th><th scope=col>mpg</th><th scope=col>cyl</th><th scope=col>disp</th><th scope=col>hp</th><th scope=col>drat</th><th scope=col>wt</th><th scope=col>qsec</th><th scope=col>vs</th><th scope=col>am</th><th scope=col>gear</th><th scope=col>carb</th></tr></thead>\n",
       "<tbody>\n",
       "\t<tr><th scope=row>Mazda RX4</th><td>21.0 </td><td>6    </td><td>160.0</td><td>110  </td><td>3.90 </td><td>2.620</td><td>16.46</td><td>0    </td><td>1    </td><td>4    </td><td>4    </td></tr>\n",
       "\t<tr><th scope=row>Mazda RX4 Wag</th><td>21.0 </td><td>6    </td><td>160.0</td><td>110  </td><td>3.90 </td><td>2.875</td><td>17.02</td><td>0    </td><td>1    </td><td>4    </td><td>4    </td></tr>\n",
       "\t<tr><th scope=row>Datsun 710</th><td>22.8 </td><td>4    </td><td>108.0</td><td> 93  </td><td>3.85 </td><td>2.320</td><td>18.61</td><td>1    </td><td>1    </td><td>4    </td><td>1    </td></tr>\n",
       "\t<tr><th scope=row>Hornet 4 Drive</th><td>21.4 </td><td>6    </td><td>258.0</td><td>110  </td><td>3.08 </td><td>3.215</td><td>19.44</td><td>1    </td><td>0    </td><td>3    </td><td>1    </td></tr>\n",
       "\t<tr><th scope=row>Hornet Sportabout</th><td>18.7 </td><td>8    </td><td>360.0</td><td>175  </td><td>3.15 </td><td>3.440</td><td>17.02</td><td>0    </td><td>0    </td><td>3    </td><td>2    </td></tr>\n",
       "\t<tr><th scope=row>Valiant</th><td>18.1 </td><td>6    </td><td>225.0</td><td>105  </td><td>2.76 </td><td>3.460</td><td>20.22</td><td>1    </td><td>0    </td><td>3    </td><td>1    </td></tr>\n",
       "\t<tr><th scope=row>Duster 360</th><td>14.3 </td><td>8    </td><td>360.0</td><td>245  </td><td>3.21 </td><td>3.570</td><td>15.84</td><td>0    </td><td>0    </td><td>3    </td><td>4    </td></tr>\n",
       "\t<tr><th scope=row>Merc 240D</th><td>24.4 </td><td>4    </td><td>146.7</td><td> 62  </td><td>3.69 </td><td>3.190</td><td>20.00</td><td>1    </td><td>0    </td><td>4    </td><td>2    </td></tr>\n",
       "\t<tr><th scope=row>Merc 230</th><td>22.8 </td><td>4    </td><td>140.8</td><td> 95  </td><td>3.92 </td><td>3.150</td><td>22.90</td><td>1    </td><td>0    </td><td>4    </td><td>2    </td></tr>\n",
       "\t<tr><th scope=row>Merc 280</th><td>19.2 </td><td>6    </td><td>167.6</td><td>123  </td><td>3.92 </td><td>3.440</td><td>18.30</td><td>1    </td><td>0    </td><td>4    </td><td>4    </td></tr>\n",
       "\t<tr><th scope=row>Merc 280C</th><td>17.8 </td><td>6    </td><td>167.6</td><td>123  </td><td>3.92 </td><td>3.440</td><td>18.90</td><td>1    </td><td>0    </td><td>4    </td><td>4    </td></tr>\n",
       "\t<tr><th scope=row>Merc 450SE</th><td>16.4 </td><td>8    </td><td>275.8</td><td>180  </td><td>3.07 </td><td>4.070</td><td>17.40</td><td>0    </td><td>0    </td><td>3    </td><td>3    </td></tr>\n",
       "\t<tr><th scope=row>Merc 450SL</th><td>17.3 </td><td>8    </td><td>275.8</td><td>180  </td><td>3.07 </td><td>3.730</td><td>17.60</td><td>0    </td><td>0    </td><td>3    </td><td>3    </td></tr>\n",
       "\t<tr><th scope=row>Merc 450SLC</th><td>15.2 </td><td>8    </td><td>275.8</td><td>180  </td><td>3.07 </td><td>3.780</td><td>18.00</td><td>0    </td><td>0    </td><td>3    </td><td>3    </td></tr>\n",
       "\t<tr><th scope=row>Cadillac Fleetwood</th><td>10.4 </td><td>8    </td><td>472.0</td><td>205  </td><td>2.93 </td><td>5.250</td><td>17.98</td><td>0    </td><td>0    </td><td>3    </td><td>4    </td></tr>\n",
       "\t<tr><th scope=row>Lincoln Continental</th><td>10.4 </td><td>8    </td><td>460.0</td><td>215  </td><td>3.00 </td><td>5.424</td><td>17.82</td><td>0    </td><td>0    </td><td>3    </td><td>4    </td></tr>\n",
       "\t<tr><th scope=row>Chrysler Imperial</th><td>14.7 </td><td>8    </td><td>440.0</td><td>230  </td><td>3.23 </td><td>5.345</td><td>17.42</td><td>0    </td><td>0    </td><td>3    </td><td>4    </td></tr>\n",
       "\t<tr><th scope=row>Fiat 128</th><td>32.4 </td><td>4    </td><td> 78.7</td><td> 66  </td><td>4.08 </td><td>2.200</td><td>19.47</td><td>1    </td><td>1    </td><td>4    </td><td>1    </td></tr>\n",
       "\t<tr><th scope=row>Honda Civic</th><td>30.4 </td><td>4    </td><td> 75.7</td><td> 52  </td><td>4.93 </td><td>1.615</td><td>18.52</td><td>1    </td><td>1    </td><td>4    </td><td>2    </td></tr>\n",
       "\t<tr><th scope=row>Toyota Corolla</th><td>33.9 </td><td>4    </td><td> 71.1</td><td> 65  </td><td>4.22 </td><td>1.835</td><td>19.90</td><td>1    </td><td>1    </td><td>4    </td><td>1    </td></tr>\n",
       "\t<tr><th scope=row>Toyota Corona</th><td>21.5 </td><td>4    </td><td>120.1</td><td> 97  </td><td>3.70 </td><td>2.465</td><td>20.01</td><td>1    </td><td>0    </td><td>3    </td><td>1    </td></tr>\n",
       "\t<tr><th scope=row>Dodge Challenger</th><td>15.5 </td><td>8    </td><td>318.0</td><td>150  </td><td>2.76 </td><td>3.520</td><td>16.87</td><td>0    </td><td>0    </td><td>3    </td><td>2    </td></tr>\n",
       "\t<tr><th scope=row>AMC Javelin</th><td>15.2 </td><td>8    </td><td>304.0</td><td>150  </td><td>3.15 </td><td>3.435</td><td>17.30</td><td>0    </td><td>0    </td><td>3    </td><td>2    </td></tr>\n",
       "\t<tr><th scope=row>Camaro Z28</th><td>13.3 </td><td>8    </td><td>350.0</td><td>245  </td><td>3.73 </td><td>3.840</td><td>15.41</td><td>0    </td><td>0    </td><td>3    </td><td>4    </td></tr>\n",
       "\t<tr><th scope=row>Pontiac Firebird</th><td>19.2 </td><td>8    </td><td>400.0</td><td>175  </td><td>3.08 </td><td>3.845</td><td>17.05</td><td>0    </td><td>0    </td><td>3    </td><td>2    </td></tr>\n",
       "\t<tr><th scope=row>Fiat X1-9</th><td>27.3 </td><td>4    </td><td> 79.0</td><td> 66  </td><td>4.08 </td><td>1.935</td><td>18.90</td><td>1    </td><td>1    </td><td>4    </td><td>1    </td></tr>\n",
       "\t<tr><th scope=row>Porsche 914-2</th><td>26.0 </td><td>4    </td><td>120.3</td><td> 91  </td><td>4.43 </td><td>2.140</td><td>16.70</td><td>0    </td><td>1    </td><td>5    </td><td>2    </td></tr>\n",
       "\t<tr><th scope=row>Lotus Europa</th><td>30.4 </td><td>4    </td><td> 95.1</td><td>113  </td><td>3.77 </td><td>1.513</td><td>16.90</td><td>1    </td><td>1    </td><td>5    </td><td>2    </td></tr>\n",
       "\t<tr><th scope=row>Ford Pantera L</th><td>15.8 </td><td>8    </td><td>351.0</td><td>264  </td><td>4.22 </td><td>3.170</td><td>14.50</td><td>0    </td><td>1    </td><td>5    </td><td>4    </td></tr>\n",
       "\t<tr><th scope=row>Ferrari Dino</th><td>19.7 </td><td>6    </td><td>145.0</td><td>175  </td><td>3.62 </td><td>2.770</td><td>15.50</td><td>0    </td><td>1    </td><td>5    </td><td>6    </td></tr>\n",
       "\t<tr><th scope=row>Maserati Bora</th><td>15.0 </td><td>8    </td><td>301.0</td><td>335  </td><td>3.54 </td><td>3.570</td><td>14.60</td><td>0    </td><td>1    </td><td>5    </td><td>8    </td></tr>\n",
       "\t<tr><th scope=row>Volvo 142E</th><td>21.4 </td><td>4    </td><td>121.0</td><td>109  </td><td>4.11 </td><td>2.780</td><td>18.60</td><td>1    </td><td>1    </td><td>4    </td><td>2    </td></tr>\n",
       "</tbody>\n",
       "</table>\n"
      ],
      "text/latex": [
       "\\begin{tabular}{r|lllllllllll}\n",
       "  & mpg & cyl & disp & hp & drat & wt & qsec & vs & am & gear & carb\\\\\n",
       "\\hline\n",
       "\tMazda RX4 & 21.0  & 6     & 160.0 & 110   & 3.90  & 2.620 & 16.46 & 0     & 1     & 4     & 4    \\\\\n",
       "\tMazda RX4 Wag & 21.0  & 6     & 160.0 & 110   & 3.90  & 2.875 & 17.02 & 0     & 1     & 4     & 4    \\\\\n",
       "\tDatsun 710 & 22.8  & 4     & 108.0 &  93   & 3.85  & 2.320 & 18.61 & 1     & 1     & 4     & 1    \\\\\n",
       "\tHornet 4 Drive & 21.4  & 6     & 258.0 & 110   & 3.08  & 3.215 & 19.44 & 1     & 0     & 3     & 1    \\\\\n",
       "\tHornet Sportabout & 18.7  & 8     & 360.0 & 175   & 3.15  & 3.440 & 17.02 & 0     & 0     & 3     & 2    \\\\\n",
       "\tValiant & 18.1  & 6     & 225.0 & 105   & 2.76  & 3.460 & 20.22 & 1     & 0     & 3     & 1    \\\\\n",
       "\tDuster 360 & 14.3  & 8     & 360.0 & 245   & 3.21  & 3.570 & 15.84 & 0     & 0     & 3     & 4    \\\\\n",
       "\tMerc 240D & 24.4  & 4     & 146.7 &  62   & 3.69  & 3.190 & 20.00 & 1     & 0     & 4     & 2    \\\\\n",
       "\tMerc 230 & 22.8  & 4     & 140.8 &  95   & 3.92  & 3.150 & 22.90 & 1     & 0     & 4     & 2    \\\\\n",
       "\tMerc 280 & 19.2  & 6     & 167.6 & 123   & 3.92  & 3.440 & 18.30 & 1     & 0     & 4     & 4    \\\\\n",
       "\tMerc 280C & 17.8  & 6     & 167.6 & 123   & 3.92  & 3.440 & 18.90 & 1     & 0     & 4     & 4    \\\\\n",
       "\tMerc 450SE & 16.4  & 8     & 275.8 & 180   & 3.07  & 4.070 & 17.40 & 0     & 0     & 3     & 3    \\\\\n",
       "\tMerc 450SL & 17.3  & 8     & 275.8 & 180   & 3.07  & 3.730 & 17.60 & 0     & 0     & 3     & 3    \\\\\n",
       "\tMerc 450SLC & 15.2  & 8     & 275.8 & 180   & 3.07  & 3.780 & 18.00 & 0     & 0     & 3     & 3    \\\\\n",
       "\tCadillac Fleetwood & 10.4  & 8     & 472.0 & 205   & 2.93  & 5.250 & 17.98 & 0     & 0     & 3     & 4    \\\\\n",
       "\tLincoln Continental & 10.4  & 8     & 460.0 & 215   & 3.00  & 5.424 & 17.82 & 0     & 0     & 3     & 4    \\\\\n",
       "\tChrysler Imperial & 14.7  & 8     & 440.0 & 230   & 3.23  & 5.345 & 17.42 & 0     & 0     & 3     & 4    \\\\\n",
       "\tFiat 128 & 32.4  & 4     &  78.7 &  66   & 4.08  & 2.200 & 19.47 & 1     & 1     & 4     & 1    \\\\\n",
       "\tHonda Civic & 30.4  & 4     &  75.7 &  52   & 4.93  & 1.615 & 18.52 & 1     & 1     & 4     & 2    \\\\\n",
       "\tToyota Corolla & 33.9  & 4     &  71.1 &  65   & 4.22  & 1.835 & 19.90 & 1     & 1     & 4     & 1    \\\\\n",
       "\tToyota Corona & 21.5  & 4     & 120.1 &  97   & 3.70  & 2.465 & 20.01 & 1     & 0     & 3     & 1    \\\\\n",
       "\tDodge Challenger & 15.5  & 8     & 318.0 & 150   & 2.76  & 3.520 & 16.87 & 0     & 0     & 3     & 2    \\\\\n",
       "\tAMC Javelin & 15.2  & 8     & 304.0 & 150   & 3.15  & 3.435 & 17.30 & 0     & 0     & 3     & 2    \\\\\n",
       "\tCamaro Z28 & 13.3  & 8     & 350.0 & 245   & 3.73  & 3.840 & 15.41 & 0     & 0     & 3     & 4    \\\\\n",
       "\tPontiac Firebird & 19.2  & 8     & 400.0 & 175   & 3.08  & 3.845 & 17.05 & 0     & 0     & 3     & 2    \\\\\n",
       "\tFiat X1-9 & 27.3  & 4     &  79.0 &  66   & 4.08  & 1.935 & 18.90 & 1     & 1     & 4     & 1    \\\\\n",
       "\tPorsche 914-2 & 26.0  & 4     & 120.3 &  91   & 4.43  & 2.140 & 16.70 & 0     & 1     & 5     & 2    \\\\\n",
       "\tLotus Europa & 30.4  & 4     &  95.1 & 113   & 3.77  & 1.513 & 16.90 & 1     & 1     & 5     & 2    \\\\\n",
       "\tFord Pantera L & 15.8  & 8     & 351.0 & 264   & 4.22  & 3.170 & 14.50 & 0     & 1     & 5     & 4    \\\\\n",
       "\tFerrari Dino & 19.7  & 6     & 145.0 & 175   & 3.62  & 2.770 & 15.50 & 0     & 1     & 5     & 6    \\\\\n",
       "\tMaserati Bora & 15.0  & 8     & 301.0 & 335   & 3.54  & 3.570 & 14.60 & 0     & 1     & 5     & 8    \\\\\n",
       "\tVolvo 142E & 21.4  & 4     & 121.0 & 109   & 4.11  & 2.780 & 18.60 & 1     & 1     & 4     & 2    \\\\\n",
       "\\end{tabular}\n"
      ],
      "text/markdown": [
       "\n",
       "| <!--/--> | mpg | cyl | disp | hp | drat | wt | qsec | vs | am | gear | carb | \n",
       "|---|---|---|---|---|---|---|---|---|---|---|---|---|---|---|---|---|---|---|---|---|---|---|---|---|---|---|---|---|---|---|---|\n",
       "| Mazda RX4 | 21.0  | 6     | 160.0 | 110   | 3.90  | 2.620 | 16.46 | 0     | 1     | 4     | 4     | \n",
       "| Mazda RX4 Wag | 21.0  | 6     | 160.0 | 110   | 3.90  | 2.875 | 17.02 | 0     | 1     | 4     | 4     | \n",
       "| Datsun 710 | 22.8  | 4     | 108.0 |  93   | 3.85  | 2.320 | 18.61 | 1     | 1     | 4     | 1     | \n",
       "| Hornet 4 Drive | 21.4  | 6     | 258.0 | 110   | 3.08  | 3.215 | 19.44 | 1     | 0     | 3     | 1     | \n",
       "| Hornet Sportabout | 18.7  | 8     | 360.0 | 175   | 3.15  | 3.440 | 17.02 | 0     | 0     | 3     | 2     | \n",
       "| Valiant | 18.1  | 6     | 225.0 | 105   | 2.76  | 3.460 | 20.22 | 1     | 0     | 3     | 1     | \n",
       "| Duster 360 | 14.3  | 8     | 360.0 | 245   | 3.21  | 3.570 | 15.84 | 0     | 0     | 3     | 4     | \n",
       "| Merc 240D | 24.4  | 4     | 146.7 |  62   | 3.69  | 3.190 | 20.00 | 1     | 0     | 4     | 2     | \n",
       "| Merc 230 | 22.8  | 4     | 140.8 |  95   | 3.92  | 3.150 | 22.90 | 1     | 0     | 4     | 2     | \n",
       "| Merc 280 | 19.2  | 6     | 167.6 | 123   | 3.92  | 3.440 | 18.30 | 1     | 0     | 4     | 4     | \n",
       "| Merc 280C | 17.8  | 6     | 167.6 | 123   | 3.92  | 3.440 | 18.90 | 1     | 0     | 4     | 4     | \n",
       "| Merc 450SE | 16.4  | 8     | 275.8 | 180   | 3.07  | 4.070 | 17.40 | 0     | 0     | 3     | 3     | \n",
       "| Merc 450SL | 17.3  | 8     | 275.8 | 180   | 3.07  | 3.730 | 17.60 | 0     | 0     | 3     | 3     | \n",
       "| Merc 450SLC | 15.2  | 8     | 275.8 | 180   | 3.07  | 3.780 | 18.00 | 0     | 0     | 3     | 3     | \n",
       "| Cadillac Fleetwood | 10.4  | 8     | 472.0 | 205   | 2.93  | 5.250 | 17.98 | 0     | 0     | 3     | 4     | \n",
       "| Lincoln Continental | 10.4  | 8     | 460.0 | 215   | 3.00  | 5.424 | 17.82 | 0     | 0     | 3     | 4     | \n",
       "| Chrysler Imperial | 14.7  | 8     | 440.0 | 230   | 3.23  | 5.345 | 17.42 | 0     | 0     | 3     | 4     | \n",
       "| Fiat 128 | 32.4  | 4     |  78.7 |  66   | 4.08  | 2.200 | 19.47 | 1     | 1     | 4     | 1     | \n",
       "| Honda Civic | 30.4  | 4     |  75.7 |  52   | 4.93  | 1.615 | 18.52 | 1     | 1     | 4     | 2     | \n",
       "| Toyota Corolla | 33.9  | 4     |  71.1 |  65   | 4.22  | 1.835 | 19.90 | 1     | 1     | 4     | 1     | \n",
       "| Toyota Corona | 21.5  | 4     | 120.1 |  97   | 3.70  | 2.465 | 20.01 | 1     | 0     | 3     | 1     | \n",
       "| Dodge Challenger | 15.5  | 8     | 318.0 | 150   | 2.76  | 3.520 | 16.87 | 0     | 0     | 3     | 2     | \n",
       "| AMC Javelin | 15.2  | 8     | 304.0 | 150   | 3.15  | 3.435 | 17.30 | 0     | 0     | 3     | 2     | \n",
       "| Camaro Z28 | 13.3  | 8     | 350.0 | 245   | 3.73  | 3.840 | 15.41 | 0     | 0     | 3     | 4     | \n",
       "| Pontiac Firebird | 19.2  | 8     | 400.0 | 175   | 3.08  | 3.845 | 17.05 | 0     | 0     | 3     | 2     | \n",
       "| Fiat X1-9 | 27.3  | 4     |  79.0 |  66   | 4.08  | 1.935 | 18.90 | 1     | 1     | 4     | 1     | \n",
       "| Porsche 914-2 | 26.0  | 4     | 120.3 |  91   | 4.43  | 2.140 | 16.70 | 0     | 1     | 5     | 2     | \n",
       "| Lotus Europa | 30.4  | 4     |  95.1 | 113   | 3.77  | 1.513 | 16.90 | 1     | 1     | 5     | 2     | \n",
       "| Ford Pantera L | 15.8  | 8     | 351.0 | 264   | 4.22  | 3.170 | 14.50 | 0     | 1     | 5     | 4     | \n",
       "| Ferrari Dino | 19.7  | 6     | 145.0 | 175   | 3.62  | 2.770 | 15.50 | 0     | 1     | 5     | 6     | \n",
       "| Maserati Bora | 15.0  | 8     | 301.0 | 335   | 3.54  | 3.570 | 14.60 | 0     | 1     | 5     | 8     | \n",
       "| Volvo 142E | 21.4  | 4     | 121.0 | 109   | 4.11  | 2.780 | 18.60 | 1     | 1     | 4     | 2     | \n",
       "\n",
       "\n"
      ],
      "text/plain": [
       "                    mpg  cyl disp  hp  drat wt    qsec  vs am gear carb\n",
       "Mazda RX4           21.0 6   160.0 110 3.90 2.620 16.46 0  1  4    4   \n",
       "Mazda RX4 Wag       21.0 6   160.0 110 3.90 2.875 17.02 0  1  4    4   \n",
       "Datsun 710          22.8 4   108.0  93 3.85 2.320 18.61 1  1  4    1   \n",
       "Hornet 4 Drive      21.4 6   258.0 110 3.08 3.215 19.44 1  0  3    1   \n",
       "Hornet Sportabout   18.7 8   360.0 175 3.15 3.440 17.02 0  0  3    2   \n",
       "Valiant             18.1 6   225.0 105 2.76 3.460 20.22 1  0  3    1   \n",
       "Duster 360          14.3 8   360.0 245 3.21 3.570 15.84 0  0  3    4   \n",
       "Merc 240D           24.4 4   146.7  62 3.69 3.190 20.00 1  0  4    2   \n",
       "Merc 230            22.8 4   140.8  95 3.92 3.150 22.90 1  0  4    2   \n",
       "Merc 280            19.2 6   167.6 123 3.92 3.440 18.30 1  0  4    4   \n",
       "Merc 280C           17.8 6   167.6 123 3.92 3.440 18.90 1  0  4    4   \n",
       "Merc 450SE          16.4 8   275.8 180 3.07 4.070 17.40 0  0  3    3   \n",
       "Merc 450SL          17.3 8   275.8 180 3.07 3.730 17.60 0  0  3    3   \n",
       "Merc 450SLC         15.2 8   275.8 180 3.07 3.780 18.00 0  0  3    3   \n",
       "Cadillac Fleetwood  10.4 8   472.0 205 2.93 5.250 17.98 0  0  3    4   \n",
       "Lincoln Continental 10.4 8   460.0 215 3.00 5.424 17.82 0  0  3    4   \n",
       "Chrysler Imperial   14.7 8   440.0 230 3.23 5.345 17.42 0  0  3    4   \n",
       "Fiat 128            32.4 4    78.7  66 4.08 2.200 19.47 1  1  4    1   \n",
       "Honda Civic         30.4 4    75.7  52 4.93 1.615 18.52 1  1  4    2   \n",
       "Toyota Corolla      33.9 4    71.1  65 4.22 1.835 19.90 1  1  4    1   \n",
       "Toyota Corona       21.5 4   120.1  97 3.70 2.465 20.01 1  0  3    1   \n",
       "Dodge Challenger    15.5 8   318.0 150 2.76 3.520 16.87 0  0  3    2   \n",
       "AMC Javelin         15.2 8   304.0 150 3.15 3.435 17.30 0  0  3    2   \n",
       "Camaro Z28          13.3 8   350.0 245 3.73 3.840 15.41 0  0  3    4   \n",
       "Pontiac Firebird    19.2 8   400.0 175 3.08 3.845 17.05 0  0  3    2   \n",
       "Fiat X1-9           27.3 4    79.0  66 4.08 1.935 18.90 1  1  4    1   \n",
       "Porsche 914-2       26.0 4   120.3  91 4.43 2.140 16.70 0  1  5    2   \n",
       "Lotus Europa        30.4 4    95.1 113 3.77 1.513 16.90 1  1  5    2   \n",
       "Ford Pantera L      15.8 8   351.0 264 4.22 3.170 14.50 0  1  5    4   \n",
       "Ferrari Dino        19.7 6   145.0 175 3.62 2.770 15.50 0  1  5    6   \n",
       "Maserati Bora       15.0 8   301.0 335 3.54 3.570 14.60 0  1  5    8   \n",
       "Volvo 142E          21.4 4   121.0 109 4.11 2.780 18.60 1  1  4    2   "
      ]
     },
     "metadata": {},
     "output_type": "display_data"
    }
   ],
   "source": [
    "# separate() ist das Gegenstück zu unite()\n",
    "mtcars %>%\n",
    "  unite(vs_am, vs, am) %>%\n",
    "  separate(vs_am, c(\"vs\", \"am\"))"
   ]
  },
  {
   "cell_type": "markdown",
   "metadata": {},
   "source": [
    "Hoffentlich kann dir tidyr dabei helfen deine Daten zu säubern!"
   ]
  }
 ],
 "metadata": {
  "kernelspec": {
   "display_name": "R",
   "language": "R",
   "name": "ir"
  },
  "language_info": {
   "codemirror_mode": "r",
   "file_extension": ".r",
   "mimetype": "text/x-r-source",
   "name": "R",
   "pygments_lexer": "r",
   "version": "3.4.2"
  }
 },
 "nbformat": 4,
 "nbformat_minor": 1
}
