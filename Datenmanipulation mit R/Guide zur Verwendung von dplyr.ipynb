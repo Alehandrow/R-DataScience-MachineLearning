{
 "cells": [
  {
   "cell_type": "markdown",
   "metadata": {},
   "source": [
    "# Guide zur Verwendung von dplyr\n",
    "\n",
    "Wir werden die folgenden Funktionen behandeln:\n",
    "\n",
    "* filter() (und slice())\n",
    "* arrange()\n",
    "* select() (und rename())\n",
    "* distinct()\n",
    "* mutate() (und transmute())\n",
    "* summarise()\n",
    "* sample_n() und sample_frac()\n",
    "\n",
    "# Installation\n",
    "\n",
    "Wir können `dplyr` installieren, indem wir folgendes ausführen:"
   ]
  },
  {
   "cell_type": "code",
   "execution_count": 1,
   "metadata": {},
   "outputs": [
    {
     "name": "stderr",
     "output_type": "stream",
     "text": [
      "also installing the dependencies ‘bindr’, ‘assertthat’, ‘bindrcpp’, ‘glue’, ‘pkgconfig’, ‘plogr’\n",
      "\n"
     ]
    },
    {
     "name": "stdout",
     "output_type": "stream",
     "text": [
      "\n",
      "The downloaded binary packages are in\n",
      "\t/var/folders/l_/ph09zg211515zffvzrp3bb680000gn/T//RtmpX5Fabl/downloaded_packages\n"
     ]
    }
   ],
   "source": [
    "install.packages('dplyr')"
   ]
  },
  {
   "cell_type": "code",
   "execution_count": 2,
   "metadata": {},
   "outputs": [
    {
     "name": "stderr",
     "output_type": "stream",
     "text": [
      "\n",
      "Attaching package: ‘dplyr’\n",
      "\n",
      "The following objects are masked from ‘package:stats’:\n",
      "\n",
      "    filter, lag\n",
      "\n",
      "The following objects are masked from ‘package:base’:\n",
      "\n",
      "    intersect, setdiff, setequal, union\n",
      "\n"
     ]
    }
   ],
   "source": [
    "# Ausführen durch\n",
    "library(dplyr)"
   ]
  },
  {
   "cell_type": "markdown",
   "metadata": {},
   "source": [
    "## Beispiel Datensatz\n",
    "\n",
    "Wir können einige Flugdaten für unsere Beispiele verwenden. Wir laden dazu den nycflights12 Datensatz herunter:"
   ]
  },
  {
   "cell_type": "code",
   "execution_count": 3,
   "metadata": {},
   "outputs": [
    {
     "name": "stdout",
     "output_type": "stream",
     "text": [
      "\n",
      "The downloaded binary packages are in\n",
      "\t/var/folders/l_/ph09zg211515zffvzrp3bb680000gn/T//RtmpX5Fabl/downloaded_packages\n"
     ]
    }
   ],
   "source": [
    "install.packages('nycflights13',repos = 'http://cran.us.r-project.org')"
   ]
  },
  {
   "cell_type": "code",
   "execution_count": 4,
   "metadata": {},
   "outputs": [
    {
     "data": {
      "text/plain": [
       "      year          month             day           dep_time    sched_dep_time\n",
       " Min.   :2013   Min.   : 1.000   Min.   : 1.00   Min.   :   1   Min.   : 106  \n",
       " 1st Qu.:2013   1st Qu.: 4.000   1st Qu.: 8.00   1st Qu.: 907   1st Qu.: 906  \n",
       " Median :2013   Median : 7.000   Median :16.00   Median :1401   Median :1359  \n",
       " Mean   :2013   Mean   : 6.549   Mean   :15.71   Mean   :1349   Mean   :1344  \n",
       " 3rd Qu.:2013   3rd Qu.:10.000   3rd Qu.:23.00   3rd Qu.:1744   3rd Qu.:1729  \n",
       " Max.   :2013   Max.   :12.000   Max.   :31.00   Max.   :2400   Max.   :2359  \n",
       "                                                 NA's   :8255                 \n",
       "   dep_delay          arr_time    sched_arr_time   arr_delay       \n",
       " Min.   : -43.00   Min.   :   1   Min.   :   1   Min.   : -86.000  \n",
       " 1st Qu.:  -5.00   1st Qu.:1104   1st Qu.:1124   1st Qu.: -17.000  \n",
       " Median :  -2.00   Median :1535   Median :1556   Median :  -5.000  \n",
       " Mean   :  12.64   Mean   :1502   Mean   :1536   Mean   :   6.895  \n",
       " 3rd Qu.:  11.00   3rd Qu.:1940   3rd Qu.:1945   3rd Qu.:  14.000  \n",
       " Max.   :1301.00   Max.   :2400   Max.   :2359   Max.   :1272.000  \n",
       " NA's   :8255      NA's   :8713                  NA's   :9430      \n",
       "   carrier              flight       tailnum             origin         \n",
       " Length:336776      Min.   :   1   Length:336776      Length:336776     \n",
       " Class :character   1st Qu.: 553   Class :character   Class :character  \n",
       " Mode  :character   Median :1496   Mode  :character   Mode  :character  \n",
       "                    Mean   :1972                                        \n",
       "                    3rd Qu.:3465                                        \n",
       "                    Max.   :8500                                        \n",
       "                                                                        \n",
       "     dest              air_time        distance         hour      \n",
       " Length:336776      Min.   : 20.0   Min.   :  17   Min.   : 1.00  \n",
       " Class :character   1st Qu.: 82.0   1st Qu.: 502   1st Qu.: 9.00  \n",
       " Mode  :character   Median :129.0   Median : 872   Median :13.00  \n",
       "                    Mean   :150.7   Mean   :1040   Mean   :13.18  \n",
       "                    3rd Qu.:192.0   3rd Qu.:1389   3rd Qu.:17.00  \n",
       "                    Max.   :695.0   Max.   :4983   Max.   :23.00  \n",
       "                    NA's   :9430                                  \n",
       "     minute        time_hour                  \n",
       " Min.   : 0.00   Min.   :2013-01-01 05:00:00  \n",
       " 1st Qu.: 8.00   1st Qu.:2013-04-04 13:00:00  \n",
       " Median :29.00   Median :2013-07-03 10:00:00  \n",
       " Mean   :26.23   Mean   :2013-07-03 05:02:36  \n",
       " 3rd Qu.:44.00   3rd Qu.:2013-10-01 07:00:00  \n",
       " Max.   :59.00   Max.   :2013-12-31 23:00:00  \n",
       "                                              "
      ]
     },
     "metadata": {},
     "output_type": "display_data"
    }
   ],
   "source": [
    "library(nycflights13)\n",
    "summary(flights)"
   ]
  },
  {
   "cell_type": "code",
   "execution_count": 5,
   "metadata": {},
   "outputs": [
    {
     "data": {
      "text/html": [
       "<ol class=list-inline>\n",
       "\t<li>336776</li>\n",
       "\t<li>19</li>\n",
       "</ol>\n"
      ],
      "text/latex": [
       "\\begin{enumerate*}\n",
       "\\item 336776\n",
       "\\item 19\n",
       "\\end{enumerate*}\n"
      ],
      "text/markdown": [
       "1. 336776\n",
       "2. 19\n",
       "\n",
       "\n"
      ],
      "text/plain": [
       "[1] 336776     19"
      ]
     },
     "metadata": {},
     "output_type": "display_data"
    }
   ],
   "source": [
    "# Achtet auf die Größe des Datensatzes\n",
    "dim(flights)"
   ]
  },
  {
   "cell_type": "markdown",
   "metadata": {},
   "source": [
    "## filter() \n",
    "\n",
    "`filter()` erlaubt es uns eine Auswahl an Zeilen eines Data Frame zu wählen. Das erste Argument ist dabei der Name des Data Frame. Das zweite und die nachfolgenden Argumente definieren, wie der Data Frame gefiltert werden soll:\n",
    "\n",
    "Zum Beispiel können wir alle Flüge vom 3. November und der Airline (AA) wählen."
   ]
  },
  {
   "cell_type": "code",
   "execution_count": 6,
   "metadata": {},
   "outputs": [
    {
     "data": {
      "text/html": [
       "<table>\n",
       "<thead><tr><th scope=col>year</th><th scope=col>month</th><th scope=col>day</th><th scope=col>dep_time</th><th scope=col>sched_dep_time</th><th scope=col>dep_delay</th><th scope=col>arr_time</th><th scope=col>sched_arr_time</th><th scope=col>arr_delay</th><th scope=col>carrier</th><th scope=col>flight</th><th scope=col>tailnum</th><th scope=col>origin</th><th scope=col>dest</th><th scope=col>air_time</th><th scope=col>distance</th><th scope=col>hour</th><th scope=col>minute</th><th scope=col>time_hour</th></tr></thead>\n",
       "<tbody>\n",
       "\t<tr><td>2013               </td><td>11                 </td><td>3                  </td><td>538                </td><td>545                </td><td>-7                 </td><td>824                </td><td>855                </td><td>-31                </td><td>AA                 </td><td>2243               </td><td>N5DWAA             </td><td>JFK                </td><td>MIA                </td><td>144                </td><td>1089               </td><td>5                  </td><td>45                 </td><td>2013-11-03 05:00:00</td></tr>\n",
       "\t<tr><td>2013               </td><td>11                 </td><td>3                  </td><td>556                </td><td>600                </td><td>-4                 </td><td>900                </td><td>905                </td><td> -5                </td><td>AA                 </td><td>1175               </td><td>N3CSAA             </td><td>LGA                </td><td>MIA                </td><td>148                </td><td>1096               </td><td>6                  </td><td> 0                 </td><td>2013-11-03 06:00:00</td></tr>\n",
       "\t<tr><td>2013               </td><td>11                 </td><td>3                  </td><td>604                </td><td>610                </td><td>-6                 </td><td>844                </td><td>855                </td><td>-11                </td><td>AA                 </td><td>1103               </td><td>N3KDAA             </td><td>LGA                </td><td>DFW                </td><td>192                </td><td>1389               </td><td>6                  </td><td>10                 </td><td>2013-11-03 06:00:00</td></tr>\n",
       "\t<tr><td>2013               </td><td>11                 </td><td>3                  </td><td>624                </td><td>629                </td><td>-5                 </td><td>907                </td><td>929                </td><td>-22                </td><td>AA                 </td><td>1205               </td><td>N3EJAA             </td><td>EWR                </td><td>MIA                </td><td>141                </td><td>1085               </td><td>6                  </td><td>29                 </td><td>2013-11-03 06:00:00</td></tr>\n",
       "\t<tr><td>2013               </td><td>11                 </td><td>3                  </td><td>625                </td><td>630                </td><td>-5                 </td><td>736                </td><td>805                </td><td>-29                </td><td>AA                 </td><td> 303               </td><td>N4WJAA             </td><td>LGA                </td><td>ORD                </td><td>113                </td><td> 733               </td><td>6                  </td><td>30                 </td><td>2013-11-03 06:00:00</td></tr>\n",
       "\t<tr><td>2013               </td><td>11                 </td><td>3                  </td><td>653                </td><td>655                </td><td>-2                 </td><td>925                </td><td>920                </td><td>  5                </td><td>AA                 </td><td>1263               </td><td>N634AA             </td><td>JFK                </td><td>LAS                </td><td>306                </td><td>2248               </td><td>6                  </td><td>55                 </td><td>2013-11-03 06:00:00</td></tr>\n",
       "</tbody>\n",
       "</table>\n"
      ],
      "text/latex": [
       "\\begin{tabular}{r|lllllllllllllllllll}\n",
       " year & month & day & dep\\_time & sched\\_dep\\_time & dep\\_delay & arr\\_time & sched\\_arr\\_time & arr\\_delay & carrier & flight & tailnum & origin & dest & air\\_time & distance & hour & minute & time\\_hour\\\\\n",
       "\\hline\n",
       "\t 2013                & 11                  & 3                   & 538                 & 545                 & -7                  & 824                 & 855                 & -31                 & AA                  & 2243                & N5DWAA              & JFK                 & MIA                 & 144                 & 1089                & 5                   & 45                  & 2013-11-03 05:00:00\\\\\n",
       "\t 2013                & 11                  & 3                   & 556                 & 600                 & -4                  & 900                 & 905                 &  -5                 & AA                  & 1175                & N3CSAA              & LGA                 & MIA                 & 148                 & 1096                & 6                   &  0                  & 2013-11-03 06:00:00\\\\\n",
       "\t 2013                & 11                  & 3                   & 604                 & 610                 & -6                  & 844                 & 855                 & -11                 & AA                  & 1103                & N3KDAA              & LGA                 & DFW                 & 192                 & 1389                & 6                   & 10                  & 2013-11-03 06:00:00\\\\\n",
       "\t 2013                & 11                  & 3                   & 624                 & 629                 & -5                  & 907                 & 929                 & -22                 & AA                  & 1205                & N3EJAA              & EWR                 & MIA                 & 141                 & 1085                & 6                   & 29                  & 2013-11-03 06:00:00\\\\\n",
       "\t 2013                & 11                  & 3                   & 625                 & 630                 & -5                  & 736                 & 805                 & -29                 & AA                  &  303                & N4WJAA              & LGA                 & ORD                 & 113                 &  733                & 6                   & 30                  & 2013-11-03 06:00:00\\\\\n",
       "\t 2013                & 11                  & 3                   & 653                 & 655                 & -2                  & 925                 & 920                 &   5                 & AA                  & 1263                & N634AA              & JFK                 & LAS                 & 306                 & 2248                & 6                   & 55                  & 2013-11-03 06:00:00\\\\\n",
       "\\end{tabular}\n"
      ],
      "text/markdown": [
       "\n",
       "year | month | day | dep_time | sched_dep_time | dep_delay | arr_time | sched_arr_time | arr_delay | carrier | flight | tailnum | origin | dest | air_time | distance | hour | minute | time_hour | \n",
       "|---|---|---|---|---|---|\n",
       "| 2013                | 11                  | 3                   | 538                 | 545                 | -7                  | 824                 | 855                 | -31                 | AA                  | 2243                | N5DWAA              | JFK                 | MIA                 | 144                 | 1089                | 5                   | 45                  | 2013-11-03 05:00:00 | \n",
       "| 2013                | 11                  | 3                   | 556                 | 600                 | -4                  | 900                 | 905                 |  -5                 | AA                  | 1175                | N3CSAA              | LGA                 | MIA                 | 148                 | 1096                | 6                   |  0                  | 2013-11-03 06:00:00 | \n",
       "| 2013                | 11                  | 3                   | 604                 | 610                 | -6                  | 844                 | 855                 | -11                 | AA                  | 1103                | N3KDAA              | LGA                 | DFW                 | 192                 | 1389                | 6                   | 10                  | 2013-11-03 06:00:00 | \n",
       "| 2013                | 11                  | 3                   | 624                 | 629                 | -5                  | 907                 | 929                 | -22                 | AA                  | 1205                | N3EJAA              | EWR                 | MIA                 | 141                 | 1085                | 6                   | 29                  | 2013-11-03 06:00:00 | \n",
       "| 2013                | 11                  | 3                   | 625                 | 630                 | -5                  | 736                 | 805                 | -29                 | AA                  |  303                | N4WJAA              | LGA                 | ORD                 | 113                 |  733                | 6                   | 30                  | 2013-11-03 06:00:00 | \n",
       "| 2013                | 11                  | 3                   | 653                 | 655                 | -2                  | 925                 | 920                 |   5                 | AA                  | 1263                | N634AA              | JFK                 | LAS                 | 306                 | 2248                | 6                   | 55                  | 2013-11-03 06:00:00 | \n",
       "\n",
       "\n"
      ],
      "text/plain": [
       "  year month day dep_time sched_dep_time dep_delay arr_time sched_arr_time\n",
       "1 2013 11    3   538      545            -7        824      855           \n",
       "2 2013 11    3   556      600            -4        900      905           \n",
       "3 2013 11    3   604      610            -6        844      855           \n",
       "4 2013 11    3   624      629            -5        907      929           \n",
       "5 2013 11    3   625      630            -5        736      805           \n",
       "6 2013 11    3   653      655            -2        925      920           \n",
       "  arr_delay carrier flight tailnum origin dest air_time distance hour minute\n",
       "1 -31       AA      2243   N5DWAA  JFK    MIA  144      1089     5    45    \n",
       "2  -5       AA      1175   N3CSAA  LGA    MIA  148      1096     6     0    \n",
       "3 -11       AA      1103   N3KDAA  LGA    DFW  192      1389     6    10    \n",
       "4 -22       AA      1205   N3EJAA  EWR    MIA  141      1085     6    29    \n",
       "5 -29       AA       303   N4WJAA  LGA    ORD  113       733     6    30    \n",
       "6   5       AA      1263   N634AA  JFK    LAS  306      2248     6    55    \n",
       "  time_hour          \n",
       "1 2013-11-03 05:00:00\n",
       "2 2013-11-03 06:00:00\n",
       "3 2013-11-03 06:00:00\n",
       "4 2013-11-03 06:00:00\n",
       "5 2013-11-03 06:00:00\n",
       "6 2013-11-03 06:00:00"
      ]
     },
     "metadata": {},
     "output_type": "display_data"
    }
   ],
   "source": [
    "head(filter(flights,month==11,day==3,carrier=='AA'))"
   ]
  },
  {
   "cell_type": "markdown",
   "metadata": {},
   "source": [
    "Das ist wensentlich einfacher als der herkömmlcihe Weg über die Date Frame Auswahl:"
   ]
  },
  {
   "cell_type": "code",
   "execution_count": 7,
   "metadata": {},
   "outputs": [
    {
     "data": {
      "text/html": [
       "<table>\n",
       "<thead><tr><th scope=col>year</th><th scope=col>month</th><th scope=col>day</th><th scope=col>dep_time</th><th scope=col>sched_dep_time</th><th scope=col>dep_delay</th><th scope=col>arr_time</th><th scope=col>sched_arr_time</th><th scope=col>arr_delay</th><th scope=col>carrier</th><th scope=col>flight</th><th scope=col>tailnum</th><th scope=col>origin</th><th scope=col>dest</th><th scope=col>air_time</th><th scope=col>distance</th><th scope=col>hour</th><th scope=col>minute</th><th scope=col>time_hour</th></tr></thead>\n",
       "<tbody>\n",
       "\t<tr><td>2013               </td><td>11                 </td><td>3                  </td><td>538                </td><td>545                </td><td>-7                 </td><td>824                </td><td>855                </td><td>-31                </td><td>AA                 </td><td>2243               </td><td>N5DWAA             </td><td>JFK                </td><td>MIA                </td><td>144                </td><td>1089               </td><td>5                  </td><td>45                 </td><td>2013-11-03 05:00:00</td></tr>\n",
       "\t<tr><td>2013               </td><td>11                 </td><td>3                  </td><td>556                </td><td>600                </td><td>-4                 </td><td>900                </td><td>905                </td><td> -5                </td><td>AA                 </td><td>1175               </td><td>N3CSAA             </td><td>LGA                </td><td>MIA                </td><td>148                </td><td>1096               </td><td>6                  </td><td> 0                 </td><td>2013-11-03 06:00:00</td></tr>\n",
       "\t<tr><td>2013               </td><td>11                 </td><td>3                  </td><td>604                </td><td>610                </td><td>-6                 </td><td>844                </td><td>855                </td><td>-11                </td><td>AA                 </td><td>1103               </td><td>N3KDAA             </td><td>LGA                </td><td>DFW                </td><td>192                </td><td>1389               </td><td>6                  </td><td>10                 </td><td>2013-11-03 06:00:00</td></tr>\n",
       "\t<tr><td>2013               </td><td>11                 </td><td>3                  </td><td>624                </td><td>629                </td><td>-5                 </td><td>907                </td><td>929                </td><td>-22                </td><td>AA                 </td><td>1205               </td><td>N3EJAA             </td><td>EWR                </td><td>MIA                </td><td>141                </td><td>1085               </td><td>6                  </td><td>29                 </td><td>2013-11-03 06:00:00</td></tr>\n",
       "\t<tr><td>2013               </td><td>11                 </td><td>3                  </td><td>625                </td><td>630                </td><td>-5                 </td><td>736                </td><td>805                </td><td>-29                </td><td>AA                 </td><td> 303               </td><td>N4WJAA             </td><td>LGA                </td><td>ORD                </td><td>113                </td><td> 733               </td><td>6                  </td><td>30                 </td><td>2013-11-03 06:00:00</td></tr>\n",
       "\t<tr><td>2013               </td><td>11                 </td><td>3                  </td><td>653                </td><td>655                </td><td>-2                 </td><td>925                </td><td>920                </td><td>  5                </td><td>AA                 </td><td>1263               </td><td>N634AA             </td><td>JFK                </td><td>LAS                </td><td>306                </td><td>2248               </td><td>6                  </td><td>55                 </td><td>2013-11-03 06:00:00</td></tr>\n",
       "</tbody>\n",
       "</table>\n"
      ],
      "text/latex": [
       "\\begin{tabular}{r|lllllllllllllllllll}\n",
       " year & month & day & dep\\_time & sched\\_dep\\_time & dep\\_delay & arr\\_time & sched\\_arr\\_time & arr\\_delay & carrier & flight & tailnum & origin & dest & air\\_time & distance & hour & minute & time\\_hour\\\\\n",
       "\\hline\n",
       "\t 2013                & 11                  & 3                   & 538                 & 545                 & -7                  & 824                 & 855                 & -31                 & AA                  & 2243                & N5DWAA              & JFK                 & MIA                 & 144                 & 1089                & 5                   & 45                  & 2013-11-03 05:00:00\\\\\n",
       "\t 2013                & 11                  & 3                   & 556                 & 600                 & -4                  & 900                 & 905                 &  -5                 & AA                  & 1175                & N3CSAA              & LGA                 & MIA                 & 148                 & 1096                & 6                   &  0                  & 2013-11-03 06:00:00\\\\\n",
       "\t 2013                & 11                  & 3                   & 604                 & 610                 & -6                  & 844                 & 855                 & -11                 & AA                  & 1103                & N3KDAA              & LGA                 & DFW                 & 192                 & 1389                & 6                   & 10                  & 2013-11-03 06:00:00\\\\\n",
       "\t 2013                & 11                  & 3                   & 624                 & 629                 & -5                  & 907                 & 929                 & -22                 & AA                  & 1205                & N3EJAA              & EWR                 & MIA                 & 141                 & 1085                & 6                   & 29                  & 2013-11-03 06:00:00\\\\\n",
       "\t 2013                & 11                  & 3                   & 625                 & 630                 & -5                  & 736                 & 805                 & -29                 & AA                  &  303                & N4WJAA              & LGA                 & ORD                 & 113                 &  733                & 6                   & 30                  & 2013-11-03 06:00:00\\\\\n",
       "\t 2013                & 11                  & 3                   & 653                 & 655                 & -2                  & 925                 & 920                 &   5                 & AA                  & 1263                & N634AA              & JFK                 & LAS                 & 306                 & 2248                & 6                   & 55                  & 2013-11-03 06:00:00\\\\\n",
       "\\end{tabular}\n"
      ],
      "text/markdown": [
       "\n",
       "year | month | day | dep_time | sched_dep_time | dep_delay | arr_time | sched_arr_time | arr_delay | carrier | flight | tailnum | origin | dest | air_time | distance | hour | minute | time_hour | \n",
       "|---|---|---|---|---|---|\n",
       "| 2013                | 11                  | 3                   | 538                 | 545                 | -7                  | 824                 | 855                 | -31                 | AA                  | 2243                | N5DWAA              | JFK                 | MIA                 | 144                 | 1089                | 5                   | 45                  | 2013-11-03 05:00:00 | \n",
       "| 2013                | 11                  | 3                   | 556                 | 600                 | -4                  | 900                 | 905                 |  -5                 | AA                  | 1175                | N3CSAA              | LGA                 | MIA                 | 148                 | 1096                | 6                   |  0                  | 2013-11-03 06:00:00 | \n",
       "| 2013                | 11                  | 3                   | 604                 | 610                 | -6                  | 844                 | 855                 | -11                 | AA                  | 1103                | N3KDAA              | LGA                 | DFW                 | 192                 | 1389                | 6                   | 10                  | 2013-11-03 06:00:00 | \n",
       "| 2013                | 11                  | 3                   | 624                 | 629                 | -5                  | 907                 | 929                 | -22                 | AA                  | 1205                | N3EJAA              | EWR                 | MIA                 | 141                 | 1085                | 6                   | 29                  | 2013-11-03 06:00:00 | \n",
       "| 2013                | 11                  | 3                   | 625                 | 630                 | -5                  | 736                 | 805                 | -29                 | AA                  |  303                | N4WJAA              | LGA                 | ORD                 | 113                 |  733                | 6                   | 30                  | 2013-11-03 06:00:00 | \n",
       "| 2013                | 11                  | 3                   | 653                 | 655                 | -2                  | 925                 | 920                 |   5                 | AA                  | 1263                | N634AA              | JFK                 | LAS                 | 306                 | 2248                | 6                   | 55                  | 2013-11-03 06:00:00 | \n",
       "\n",
       "\n"
      ],
      "text/plain": [
       "  year month day dep_time sched_dep_time dep_delay arr_time sched_arr_time\n",
       "1 2013 11    3   538      545            -7        824      855           \n",
       "2 2013 11    3   556      600            -4        900      905           \n",
       "3 2013 11    3   604      610            -6        844      855           \n",
       "4 2013 11    3   624      629            -5        907      929           \n",
       "5 2013 11    3   625      630            -5        736      805           \n",
       "6 2013 11    3   653      655            -2        925      920           \n",
       "  arr_delay carrier flight tailnum origin dest air_time distance hour minute\n",
       "1 -31       AA      2243   N5DWAA  JFK    MIA  144      1089     5    45    \n",
       "2  -5       AA      1175   N3CSAA  LGA    MIA  148      1096     6     0    \n",
       "3 -11       AA      1103   N3KDAA  LGA    DFW  192      1389     6    10    \n",
       "4 -22       AA      1205   N3EJAA  EWR    MIA  141      1085     6    29    \n",
       "5 -29       AA       303   N4WJAA  LGA    ORD  113       733     6    30    \n",
       "6   5       AA      1263   N634AA  JFK    LAS  306      2248     6    55    \n",
       "  time_hour          \n",
       "1 2013-11-03 05:00:00\n",
       "2 2013-11-03 06:00:00\n",
       "3 2013-11-03 06:00:00\n",
       "4 2013-11-03 06:00:00\n",
       "5 2013-11-03 06:00:00\n",
       "6 2013-11-03 06:00:00"
      ]
     },
     "metadata": {},
     "output_type": "display_data"
    }
   ],
   "source": [
    "head(flights[flights$month == 11 & flights$day == 3 & flights$carrier == 'AA', ])"
   ]
  },
  {
   "cell_type": "markdown",
   "metadata": {},
   "source": [
    "## slice()\n",
    "\n",
    "Wir können außerdem Zeilen durch `slice()` auswählen:"
   ]
  },
  {
   "cell_type": "code",
   "execution_count": 8,
   "metadata": {},
   "outputs": [
    {
     "data": {
      "text/html": [
       "<table>\n",
       "<thead><tr><th scope=col>year</th><th scope=col>month</th><th scope=col>day</th><th scope=col>dep_time</th><th scope=col>sched_dep_time</th><th scope=col>dep_delay</th><th scope=col>arr_time</th><th scope=col>sched_arr_time</th><th scope=col>arr_delay</th><th scope=col>carrier</th><th scope=col>flight</th><th scope=col>tailnum</th><th scope=col>origin</th><th scope=col>dest</th><th scope=col>air_time</th><th scope=col>distance</th><th scope=col>hour</th><th scope=col>minute</th><th scope=col>time_hour</th></tr></thead>\n",
       "<tbody>\n",
       "\t<tr><td>2013               </td><td>1                  </td><td>1                  </td><td>517                </td><td>515                </td><td> 2                 </td><td> 830               </td><td> 819               </td><td> 11                </td><td>UA                 </td><td>1545               </td><td>N14228             </td><td>EWR                </td><td>IAH                </td><td>227                </td><td>1400               </td><td>5                  </td><td>15                 </td><td>2013-01-01 05:00:00</td></tr>\n",
       "\t<tr><td>2013               </td><td>1                  </td><td>1                  </td><td>533                </td><td>529                </td><td> 4                 </td><td> 850               </td><td> 830               </td><td> 20                </td><td>UA                 </td><td>1714               </td><td>N24211             </td><td>LGA                </td><td>IAH                </td><td>227                </td><td>1416               </td><td>5                  </td><td>29                 </td><td>2013-01-01 05:00:00</td></tr>\n",
       "\t<tr><td>2013               </td><td>1                  </td><td>1                  </td><td>542                </td><td>540                </td><td> 2                 </td><td> 923               </td><td> 850               </td><td> 33                </td><td>AA                 </td><td>1141               </td><td>N619AA             </td><td>JFK                </td><td>MIA                </td><td>160                </td><td>1089               </td><td>5                  </td><td>40                 </td><td>2013-01-01 05:00:00</td></tr>\n",
       "\t<tr><td>2013               </td><td>1                  </td><td>1                  </td><td>544                </td><td>545                </td><td>-1                 </td><td>1004               </td><td>1022               </td><td>-18                </td><td>B6                 </td><td> 725               </td><td>N804JB             </td><td>JFK                </td><td>BQN                </td><td>183                </td><td>1576               </td><td>5                  </td><td>45                 </td><td>2013-01-01 05:00:00</td></tr>\n",
       "\t<tr><td>2013               </td><td>1                  </td><td>1                  </td><td>554                </td><td>600                </td><td>-6                 </td><td> 812               </td><td> 837               </td><td>-25                </td><td>DL                 </td><td> 461               </td><td>N668DN             </td><td>LGA                </td><td>ATL                </td><td>116                </td><td> 762               </td><td>6                  </td><td> 0                 </td><td>2013-01-01 06:00:00</td></tr>\n",
       "\t<tr><td>2013               </td><td>1                  </td><td>1                  </td><td>554                </td><td>558                </td><td>-4                 </td><td> 740               </td><td> 728               </td><td> 12                </td><td>UA                 </td><td>1696               </td><td>N39463             </td><td>EWR                </td><td>ORD                </td><td>150                </td><td> 719               </td><td>5                  </td><td>58                 </td><td>2013-01-01 05:00:00</td></tr>\n",
       "\t<tr><td>2013               </td><td>1                  </td><td>1                  </td><td>555                </td><td>600                </td><td>-5                 </td><td> 913               </td><td> 854               </td><td> 19                </td><td>B6                 </td><td> 507               </td><td>N516JB             </td><td>EWR                </td><td>FLL                </td><td>158                </td><td>1065               </td><td>6                  </td><td> 0                 </td><td>2013-01-01 06:00:00</td></tr>\n",
       "\t<tr><td>2013               </td><td>1                  </td><td>1                  </td><td>557                </td><td>600                </td><td>-3                 </td><td> 709               </td><td> 723               </td><td>-14                </td><td>EV                 </td><td>5708               </td><td>N829AS             </td><td>LGA                </td><td>IAD                </td><td> 53                </td><td> 229               </td><td>6                  </td><td> 0                 </td><td>2013-01-01 06:00:00</td></tr>\n",
       "\t<tr><td>2013               </td><td>1                  </td><td>1                  </td><td>557                </td><td>600                </td><td>-3                 </td><td> 838               </td><td> 846               </td><td> -8                </td><td>B6                 </td><td>  79               </td><td>N593JB             </td><td>JFK                </td><td>MCO                </td><td>140                </td><td> 944               </td><td>6                  </td><td> 0                 </td><td>2013-01-01 06:00:00</td></tr>\n",
       "\t<tr><td>2013               </td><td>1                  </td><td>1                  </td><td>558                </td><td>600                </td><td>-2                 </td><td> 753               </td><td> 745               </td><td>  8                </td><td>AA                 </td><td> 301               </td><td>N3ALAA             </td><td>LGA                </td><td>ORD                </td><td>138                </td><td> 733               </td><td>6                  </td><td> 0                 </td><td>2013-01-01 06:00:00</td></tr>\n",
       "</tbody>\n",
       "</table>\n"
      ],
      "text/latex": [
       "\\begin{tabular}{r|lllllllllllllllllll}\n",
       " year & month & day & dep\\_time & sched\\_dep\\_time & dep\\_delay & arr\\_time & sched\\_arr\\_time & arr\\_delay & carrier & flight & tailnum & origin & dest & air\\_time & distance & hour & minute & time\\_hour\\\\\n",
       "\\hline\n",
       "\t 2013                & 1                   & 1                   & 517                 & 515                 &  2                  &  830                &  819                &  11                 & UA                  & 1545                & N14228              & EWR                 & IAH                 & 227                 & 1400                & 5                   & 15                  & 2013-01-01 05:00:00\\\\\n",
       "\t 2013                & 1                   & 1                   & 533                 & 529                 &  4                  &  850                &  830                &  20                 & UA                  & 1714                & N24211              & LGA                 & IAH                 & 227                 & 1416                & 5                   & 29                  & 2013-01-01 05:00:00\\\\\n",
       "\t 2013                & 1                   & 1                   & 542                 & 540                 &  2                  &  923                &  850                &  33                 & AA                  & 1141                & N619AA              & JFK                 & MIA                 & 160                 & 1089                & 5                   & 40                  & 2013-01-01 05:00:00\\\\\n",
       "\t 2013                & 1                   & 1                   & 544                 & 545                 & -1                  & 1004                & 1022                & -18                 & B6                  &  725                & N804JB              & JFK                 & BQN                 & 183                 & 1576                & 5                   & 45                  & 2013-01-01 05:00:00\\\\\n",
       "\t 2013                & 1                   & 1                   & 554                 & 600                 & -6                  &  812                &  837                & -25                 & DL                  &  461                & N668DN              & LGA                 & ATL                 & 116                 &  762                & 6                   &  0                  & 2013-01-01 06:00:00\\\\\n",
       "\t 2013                & 1                   & 1                   & 554                 & 558                 & -4                  &  740                &  728                &  12                 & UA                  & 1696                & N39463              & EWR                 & ORD                 & 150                 &  719                & 5                   & 58                  & 2013-01-01 05:00:00\\\\\n",
       "\t 2013                & 1                   & 1                   & 555                 & 600                 & -5                  &  913                &  854                &  19                 & B6                  &  507                & N516JB              & EWR                 & FLL                 & 158                 & 1065                & 6                   &  0                  & 2013-01-01 06:00:00\\\\\n",
       "\t 2013                & 1                   & 1                   & 557                 & 600                 & -3                  &  709                &  723                & -14                 & EV                  & 5708                & N829AS              & LGA                 & IAD                 &  53                 &  229                & 6                   &  0                  & 2013-01-01 06:00:00\\\\\n",
       "\t 2013                & 1                   & 1                   & 557                 & 600                 & -3                  &  838                &  846                &  -8                 & B6                  &   79                & N593JB              & JFK                 & MCO                 & 140                 &  944                & 6                   &  0                  & 2013-01-01 06:00:00\\\\\n",
       "\t 2013                & 1                   & 1                   & 558                 & 600                 & -2                  &  753                &  745                &   8                 & AA                  &  301                & N3ALAA              & LGA                 & ORD                 & 138                 &  733                & 6                   &  0                  & 2013-01-01 06:00:00\\\\\n",
       "\\end{tabular}\n"
      ],
      "text/markdown": [
       "\n",
       "year | month | day | dep_time | sched_dep_time | dep_delay | arr_time | sched_arr_time | arr_delay | carrier | flight | tailnum | origin | dest | air_time | distance | hour | minute | time_hour | \n",
       "|---|---|---|---|---|---|---|---|---|---|\n",
       "| 2013                | 1                   | 1                   | 517                 | 515                 |  2                  |  830                |  819                |  11                 | UA                  | 1545                | N14228              | EWR                 | IAH                 | 227                 | 1400                | 5                   | 15                  | 2013-01-01 05:00:00 | \n",
       "| 2013                | 1                   | 1                   | 533                 | 529                 |  4                  |  850                |  830                |  20                 | UA                  | 1714                | N24211              | LGA                 | IAH                 | 227                 | 1416                | 5                   | 29                  | 2013-01-01 05:00:00 | \n",
       "| 2013                | 1                   | 1                   | 542                 | 540                 |  2                  |  923                |  850                |  33                 | AA                  | 1141                | N619AA              | JFK                 | MIA                 | 160                 | 1089                | 5                   | 40                  | 2013-01-01 05:00:00 | \n",
       "| 2013                | 1                   | 1                   | 544                 | 545                 | -1                  | 1004                | 1022                | -18                 | B6                  |  725                | N804JB              | JFK                 | BQN                 | 183                 | 1576                | 5                   | 45                  | 2013-01-01 05:00:00 | \n",
       "| 2013                | 1                   | 1                   | 554                 | 600                 | -6                  |  812                |  837                | -25                 | DL                  |  461                | N668DN              | LGA                 | ATL                 | 116                 |  762                | 6                   |  0                  | 2013-01-01 06:00:00 | \n",
       "| 2013                | 1                   | 1                   | 554                 | 558                 | -4                  |  740                |  728                |  12                 | UA                  | 1696                | N39463              | EWR                 | ORD                 | 150                 |  719                | 5                   | 58                  | 2013-01-01 05:00:00 | \n",
       "| 2013                | 1                   | 1                   | 555                 | 600                 | -5                  |  913                |  854                |  19                 | B6                  |  507                | N516JB              | EWR                 | FLL                 | 158                 | 1065                | 6                   |  0                  | 2013-01-01 06:00:00 | \n",
       "| 2013                | 1                   | 1                   | 557                 | 600                 | -3                  |  709                |  723                | -14                 | EV                  | 5708                | N829AS              | LGA                 | IAD                 |  53                 |  229                | 6                   |  0                  | 2013-01-01 06:00:00 | \n",
       "| 2013                | 1                   | 1                   | 557                 | 600                 | -3                  |  838                |  846                |  -8                 | B6                  |   79                | N593JB              | JFK                 | MCO                 | 140                 |  944                | 6                   |  0                  | 2013-01-01 06:00:00 | \n",
       "| 2013                | 1                   | 1                   | 558                 | 600                 | -2                  |  753                |  745                |   8                 | AA                  |  301                | N3ALAA              | LGA                 | ORD                 | 138                 |  733                | 6                   |  0                  | 2013-01-01 06:00:00 | \n",
       "\n",
       "\n"
      ],
      "text/plain": [
       "   year month day dep_time sched_dep_time dep_delay arr_time sched_arr_time\n",
       "1  2013 1     1   517      515             2         830      819          \n",
       "2  2013 1     1   533      529             4         850      830          \n",
       "3  2013 1     1   542      540             2         923      850          \n",
       "4  2013 1     1   544      545            -1        1004     1022          \n",
       "5  2013 1     1   554      600            -6         812      837          \n",
       "6  2013 1     1   554      558            -4         740      728          \n",
       "7  2013 1     1   555      600            -5         913      854          \n",
       "8  2013 1     1   557      600            -3         709      723          \n",
       "9  2013 1     1   557      600            -3         838      846          \n",
       "10 2013 1     1   558      600            -2         753      745          \n",
       "   arr_delay carrier flight tailnum origin dest air_time distance hour minute\n",
       "1   11       UA      1545   N14228  EWR    IAH  227      1400     5    15    \n",
       "2   20       UA      1714   N24211  LGA    IAH  227      1416     5    29    \n",
       "3   33       AA      1141   N619AA  JFK    MIA  160      1089     5    40    \n",
       "4  -18       B6       725   N804JB  JFK    BQN  183      1576     5    45    \n",
       "5  -25       DL       461   N668DN  LGA    ATL  116       762     6     0    \n",
       "6   12       UA      1696   N39463  EWR    ORD  150       719     5    58    \n",
       "7   19       B6       507   N516JB  EWR    FLL  158      1065     6     0    \n",
       "8  -14       EV      5708   N829AS  LGA    IAD   53       229     6     0    \n",
       "9   -8       B6        79   N593JB  JFK    MCO  140       944     6     0    \n",
       "10   8       AA       301   N3ALAA  LGA    ORD  138       733     6     0    \n",
       "   time_hour          \n",
       "1  2013-01-01 05:00:00\n",
       "2  2013-01-01 05:00:00\n",
       "3  2013-01-01 05:00:00\n",
       "4  2013-01-01 05:00:00\n",
       "5  2013-01-01 06:00:00\n",
       "6  2013-01-01 05:00:00\n",
       "7  2013-01-01 06:00:00\n",
       "8  2013-01-01 06:00:00\n",
       "9  2013-01-01 06:00:00\n",
       "10 2013-01-01 06:00:00"
      ]
     },
     "metadata": {},
     "output_type": "display_data"
    }
   ],
   "source": [
    "slice(flights, 1:10)"
   ]
  },
  {
   "cell_type": "markdown",
   "metadata": {},
   "source": [
    "## arrange()\n",
    "\n",
    "`arrange()` funktioniert wie filter(), allerdings werden die Zeilen nicht gefiltert oder ausgewhält, sondern neu geordnet. Es nimmt den Data Frame und eine Auswahl an Spaltennamen (oder kompliziertere Ausdrücke) und sortiert nach ihnen. Wenn wir mehr als einen Spaltennamen angeben wird jede weitere Spalte genutzt, um die Sortierung weiter herunterzubrechen."
   ]
  },
  {
   "cell_type": "code",
   "execution_count": 9,
   "metadata": {},
   "outputs": [
    {
     "data": {
      "text/html": [
       "<table>\n",
       "<thead><tr><th scope=col>year</th><th scope=col>month</th><th scope=col>day</th><th scope=col>dep_time</th><th scope=col>sched_dep_time</th><th scope=col>dep_delay</th><th scope=col>arr_time</th><th scope=col>sched_arr_time</th><th scope=col>arr_delay</th><th scope=col>carrier</th><th scope=col>flight</th><th scope=col>tailnum</th><th scope=col>origin</th><th scope=col>dest</th><th scope=col>air_time</th><th scope=col>distance</th><th scope=col>hour</th><th scope=col>minute</th><th scope=col>time_hour</th></tr></thead>\n",
       "<tbody>\n",
       "\t<tr><td>2013               </td><td>1                  </td><td>1                  </td><td>2302               </td><td>2200               </td><td>62                 </td><td>2342               </td><td>2253               </td><td> 49                </td><td>EV                 </td><td>4276               </td><td>N13903             </td><td>EWR                </td><td>BDL                </td><td>24                 </td><td>116                </td><td>22                 </td><td> 0                 </td><td>2013-01-01 22:00:00</td></tr>\n",
       "\t<tr><td>2013               </td><td>1                  </td><td>1                  </td><td>1318               </td><td>1322               </td><td>-4                 </td><td>1358               </td><td>1416               </td><td>-18                </td><td>EV                 </td><td>4106               </td><td>N19554             </td><td>EWR                </td><td>BDL                </td><td>25                 </td><td>116                </td><td>13                 </td><td>22                 </td><td>2013-01-01 13:00:00</td></tr>\n",
       "\t<tr><td>2013               </td><td>1                  </td><td>1                  </td><td>2116               </td><td>2110               </td><td> 6                 </td><td>2202               </td><td>2212               </td><td>-10                </td><td>EV                 </td><td>4404               </td><td>N15912             </td><td>EWR                </td><td>PVD                </td><td>28                 </td><td>160                </td><td>21                 </td><td>10                 </td><td>2013-01-01 21:00:00</td></tr>\n",
       "\t<tr><td>2013               </td><td>1                  </td><td>1                  </td><td>2000               </td><td>2000               </td><td> 0                 </td><td>2054               </td><td>2110               </td><td>-16                </td><td>9E                 </td><td>3664               </td><td>N836AY             </td><td>JFK                </td><td>PHL                </td><td>30                 </td><td> 94                </td><td>20                 </td><td> 0                 </td><td>2013-01-01 20:00:00</td></tr>\n",
       "\t<tr><td>2013               </td><td>1                  </td><td>1                  </td><td>2056               </td><td>2004               </td><td>52                 </td><td>2156               </td><td>2112               </td><td> 44                </td><td>EV                 </td><td>4170               </td><td>N12540             </td><td>EWR                </td><td>ALB                </td><td>31                 </td><td>143                </td><td>20                 </td><td> 4                 </td><td>2013-01-01 20:00:00</td></tr>\n",
       "\t<tr><td>2013               </td><td>1                  </td><td>1                  </td><td> 908               </td><td> 915               </td><td>-7                 </td><td>1004               </td><td>1033               </td><td>-29                </td><td>US                 </td><td>1467               </td><td>N959UW             </td><td>LGA                </td><td>PHL                </td><td>32                 </td><td> 96                </td><td> 9                 </td><td>15                 </td><td>2013-01-01 09:00:00</td></tr>\n",
       "</tbody>\n",
       "</table>\n"
      ],
      "text/latex": [
       "\\begin{tabular}{r|lllllllllllllllllll}\n",
       " year & month & day & dep\\_time & sched\\_dep\\_time & dep\\_delay & arr\\_time & sched\\_arr\\_time & arr\\_delay & carrier & flight & tailnum & origin & dest & air\\_time & distance & hour & minute & time\\_hour\\\\\n",
       "\\hline\n",
       "\t 2013                & 1                   & 1                   & 2302                & 2200                & 62                  & 2342                & 2253                &  49                 & EV                  & 4276                & N13903              & EWR                 & BDL                 & 24                  & 116                 & 22                  &  0                  & 2013-01-01 22:00:00\\\\\n",
       "\t 2013                & 1                   & 1                   & 1318                & 1322                & -4                  & 1358                & 1416                & -18                 & EV                  & 4106                & N19554              & EWR                 & BDL                 & 25                  & 116                 & 13                  & 22                  & 2013-01-01 13:00:00\\\\\n",
       "\t 2013                & 1                   & 1                   & 2116                & 2110                &  6                  & 2202                & 2212                & -10                 & EV                  & 4404                & N15912              & EWR                 & PVD                 & 28                  & 160                 & 21                  & 10                  & 2013-01-01 21:00:00\\\\\n",
       "\t 2013                & 1                   & 1                   & 2000                & 2000                &  0                  & 2054                & 2110                & -16                 & 9E                  & 3664                & N836AY              & JFK                 & PHL                 & 30                  &  94                 & 20                  &  0                  & 2013-01-01 20:00:00\\\\\n",
       "\t 2013                & 1                   & 1                   & 2056                & 2004                & 52                  & 2156                & 2112                &  44                 & EV                  & 4170                & N12540              & EWR                 & ALB                 & 31                  & 143                 & 20                  &  4                  & 2013-01-01 20:00:00\\\\\n",
       "\t 2013                & 1                   & 1                   &  908                &  915                & -7                  & 1004                & 1033                & -29                 & US                  & 1467                & N959UW              & LGA                 & PHL                 & 32                  &  96                 &  9                  & 15                  & 2013-01-01 09:00:00\\\\\n",
       "\\end{tabular}\n"
      ],
      "text/markdown": [
       "\n",
       "year | month | day | dep_time | sched_dep_time | dep_delay | arr_time | sched_arr_time | arr_delay | carrier | flight | tailnum | origin | dest | air_time | distance | hour | minute | time_hour | \n",
       "|---|---|---|---|---|---|\n",
       "| 2013                | 1                   | 1                   | 2302                | 2200                | 62                  | 2342                | 2253                |  49                 | EV                  | 4276                | N13903              | EWR                 | BDL                 | 24                  | 116                 | 22                  |  0                  | 2013-01-01 22:00:00 | \n",
       "| 2013                | 1                   | 1                   | 1318                | 1322                | -4                  | 1358                | 1416                | -18                 | EV                  | 4106                | N19554              | EWR                 | BDL                 | 25                  | 116                 | 13                  | 22                  | 2013-01-01 13:00:00 | \n",
       "| 2013                | 1                   | 1                   | 2116                | 2110                |  6                  | 2202                | 2212                | -10                 | EV                  | 4404                | N15912              | EWR                 | PVD                 | 28                  | 160                 | 21                  | 10                  | 2013-01-01 21:00:00 | \n",
       "| 2013                | 1                   | 1                   | 2000                | 2000                |  0                  | 2054                | 2110                | -16                 | 9E                  | 3664                | N836AY              | JFK                 | PHL                 | 30                  |  94                 | 20                  |  0                  | 2013-01-01 20:00:00 | \n",
       "| 2013                | 1                   | 1                   | 2056                | 2004                | 52                  | 2156                | 2112                |  44                 | EV                  | 4170                | N12540              | EWR                 | ALB                 | 31                  | 143                 | 20                  |  4                  | 2013-01-01 20:00:00 | \n",
       "| 2013                | 1                   | 1                   |  908                |  915                | -7                  | 1004                | 1033                | -29                 | US                  | 1467                | N959UW              | LGA                 | PHL                 | 32                  |  96                 |  9                  | 15                  | 2013-01-01 09:00:00 | \n",
       "\n",
       "\n"
      ],
      "text/plain": [
       "  year month day dep_time sched_dep_time dep_delay arr_time sched_arr_time\n",
       "1 2013 1     1   2302     2200           62        2342     2253          \n",
       "2 2013 1     1   1318     1322           -4        1358     1416          \n",
       "3 2013 1     1   2116     2110            6        2202     2212          \n",
       "4 2013 1     1   2000     2000            0        2054     2110          \n",
       "5 2013 1     1   2056     2004           52        2156     2112          \n",
       "6 2013 1     1    908      915           -7        1004     1033          \n",
       "  arr_delay carrier flight tailnum origin dest air_time distance hour minute\n",
       "1  49       EV      4276   N13903  EWR    BDL  24       116      22    0    \n",
       "2 -18       EV      4106   N19554  EWR    BDL  25       116      13   22    \n",
       "3 -10       EV      4404   N15912  EWR    PVD  28       160      21   10    \n",
       "4 -16       9E      3664   N836AY  JFK    PHL  30        94      20    0    \n",
       "5  44       EV      4170   N12540  EWR    ALB  31       143      20    4    \n",
       "6 -29       US      1467   N959UW  LGA    PHL  32        96       9   15    \n",
       "  time_hour          \n",
       "1 2013-01-01 22:00:00\n",
       "2 2013-01-01 13:00:00\n",
       "3 2013-01-01 21:00:00\n",
       "4 2013-01-01 20:00:00\n",
       "5 2013-01-01 20:00:00\n",
       "6 2013-01-01 09:00:00"
      ]
     },
     "metadata": {},
     "output_type": "display_data"
    }
   ],
   "source": [
    "head(arrange(flights,year,month,day,air_time))"
   ]
  },
  {
   "cell_type": "markdown",
   "metadata": {},
   "source": [
    "Für die absteigende Sortierung können wir `desc()` mit angeben:"
   ]
  },
  {
   "cell_type": "code",
   "execution_count": 10,
   "metadata": {},
   "outputs": [
    {
     "data": {
      "text/html": [
       "<table>\n",
       "<thead><tr><th scope=col>year</th><th scope=col>month</th><th scope=col>day</th><th scope=col>dep_time</th><th scope=col>sched_dep_time</th><th scope=col>dep_delay</th><th scope=col>arr_time</th><th scope=col>sched_arr_time</th><th scope=col>arr_delay</th><th scope=col>carrier</th><th scope=col>flight</th><th scope=col>tailnum</th><th scope=col>origin</th><th scope=col>dest</th><th scope=col>air_time</th><th scope=col>distance</th><th scope=col>hour</th><th scope=col>minute</th><th scope=col>time_hour</th></tr></thead>\n",
       "<tbody>\n",
       "\t<tr><td>2013               </td><td>1                  </td><td> 9                 </td><td> 641               </td><td> 900               </td><td>1301               </td><td>1242               </td><td>1530               </td><td>1272               </td><td>HA                 </td><td>  51               </td><td>N384HA             </td><td>JFK                </td><td>HNL                </td><td>640                </td><td>4983               </td><td> 9                 </td><td> 0                 </td><td>2013-01-09 09:00:00</td></tr>\n",
       "\t<tr><td>2013               </td><td>6                  </td><td>15                 </td><td>1432               </td><td>1935               </td><td>1137               </td><td>1607               </td><td>2120               </td><td>1127               </td><td>MQ                 </td><td>3535               </td><td>N504MQ             </td><td>JFK                </td><td>CMH                </td><td> 74                </td><td> 483               </td><td>19                 </td><td>35                 </td><td>2013-06-15 19:00:00</td></tr>\n",
       "\t<tr><td>2013               </td><td>1                  </td><td>10                 </td><td>1121               </td><td>1635               </td><td>1126               </td><td>1239               </td><td>1810               </td><td>1109               </td><td>MQ                 </td><td>3695               </td><td>N517MQ             </td><td>EWR                </td><td>ORD                </td><td>111                </td><td> 719               </td><td>16                 </td><td>35                 </td><td>2013-01-10 16:00:00</td></tr>\n",
       "\t<tr><td>2013               </td><td>9                  </td><td>20                 </td><td>1139               </td><td>1845               </td><td>1014               </td><td>1457               </td><td>2210               </td><td>1007               </td><td>AA                 </td><td> 177               </td><td>N338AA             </td><td>JFK                </td><td>SFO                </td><td>354                </td><td>2586               </td><td>18                 </td><td>45                 </td><td>2013-09-20 18:00:00</td></tr>\n",
       "\t<tr><td>2013               </td><td>7                  </td><td>22                 </td><td> 845               </td><td>1600               </td><td>1005               </td><td>1044               </td><td>1815               </td><td> 989               </td><td>MQ                 </td><td>3075               </td><td>N665MQ             </td><td>JFK                </td><td>CVG                </td><td> 96                </td><td> 589               </td><td>16                 </td><td> 0                 </td><td>2013-07-22 16:00:00</td></tr>\n",
       "\t<tr><td>2013               </td><td>4                  </td><td>10                 </td><td>1100               </td><td>1900               </td><td> 960               </td><td>1342               </td><td>2211               </td><td> 931               </td><td>DL                 </td><td>2391               </td><td>N959DL             </td><td>JFK                </td><td>TPA                </td><td>139                </td><td>1005               </td><td>19                 </td><td> 0                 </td><td>2013-04-10 19:00:00</td></tr>\n",
       "</tbody>\n",
       "</table>\n"
      ],
      "text/latex": [
       "\\begin{tabular}{r|lllllllllllllllllll}\n",
       " year & month & day & dep\\_time & sched\\_dep\\_time & dep\\_delay & arr\\_time & sched\\_arr\\_time & arr\\_delay & carrier & flight & tailnum & origin & dest & air\\_time & distance & hour & minute & time\\_hour\\\\\n",
       "\\hline\n",
       "\t 2013                & 1                   &  9                  &  641                &  900                & 1301                & 1242                & 1530                & 1272                & HA                  &   51                & N384HA              & JFK                 & HNL                 & 640                 & 4983                &  9                  &  0                  & 2013-01-09 09:00:00\\\\\n",
       "\t 2013                & 6                   & 15                  & 1432                & 1935                & 1137                & 1607                & 2120                & 1127                & MQ                  & 3535                & N504MQ              & JFK                 & CMH                 &  74                 &  483                & 19                  & 35                  & 2013-06-15 19:00:00\\\\\n",
       "\t 2013                & 1                   & 10                  & 1121                & 1635                & 1126                & 1239                & 1810                & 1109                & MQ                  & 3695                & N517MQ              & EWR                 & ORD                 & 111                 &  719                & 16                  & 35                  & 2013-01-10 16:00:00\\\\\n",
       "\t 2013                & 9                   & 20                  & 1139                & 1845                & 1014                & 1457                & 2210                & 1007                & AA                  &  177                & N338AA              & JFK                 & SFO                 & 354                 & 2586                & 18                  & 45                  & 2013-09-20 18:00:00\\\\\n",
       "\t 2013                & 7                   & 22                  &  845                & 1600                & 1005                & 1044                & 1815                &  989                & MQ                  & 3075                & N665MQ              & JFK                 & CVG                 &  96                 &  589                & 16                  &  0                  & 2013-07-22 16:00:00\\\\\n",
       "\t 2013                & 4                   & 10                  & 1100                & 1900                &  960                & 1342                & 2211                &  931                & DL                  & 2391                & N959DL              & JFK                 & TPA                 & 139                 & 1005                & 19                  &  0                  & 2013-04-10 19:00:00\\\\\n",
       "\\end{tabular}\n"
      ],
      "text/markdown": [
       "\n",
       "year | month | day | dep_time | sched_dep_time | dep_delay | arr_time | sched_arr_time | arr_delay | carrier | flight | tailnum | origin | dest | air_time | distance | hour | minute | time_hour | \n",
       "|---|---|---|---|---|---|\n",
       "| 2013                | 1                   |  9                  |  641                |  900                | 1301                | 1242                | 1530                | 1272                | HA                  |   51                | N384HA              | JFK                 | HNL                 | 640                 | 4983                |  9                  |  0                  | 2013-01-09 09:00:00 | \n",
       "| 2013                | 6                   | 15                  | 1432                | 1935                | 1137                | 1607                | 2120                | 1127                | MQ                  | 3535                | N504MQ              | JFK                 | CMH                 |  74                 |  483                | 19                  | 35                  | 2013-06-15 19:00:00 | \n",
       "| 2013                | 1                   | 10                  | 1121                | 1635                | 1126                | 1239                | 1810                | 1109                | MQ                  | 3695                | N517MQ              | EWR                 | ORD                 | 111                 |  719                | 16                  | 35                  | 2013-01-10 16:00:00 | \n",
       "| 2013                | 9                   | 20                  | 1139                | 1845                | 1014                | 1457                | 2210                | 1007                | AA                  |  177                | N338AA              | JFK                 | SFO                 | 354                 | 2586                | 18                  | 45                  | 2013-09-20 18:00:00 | \n",
       "| 2013                | 7                   | 22                  |  845                | 1600                | 1005                | 1044                | 1815                |  989                | MQ                  | 3075                | N665MQ              | JFK                 | CVG                 |  96                 |  589                | 16                  |  0                  | 2013-07-22 16:00:00 | \n",
       "| 2013                | 4                   | 10                  | 1100                | 1900                |  960                | 1342                | 2211                |  931                | DL                  | 2391                | N959DL              | JFK                 | TPA                 | 139                 | 1005                | 19                  |  0                  | 2013-04-10 19:00:00 | \n",
       "\n",
       "\n"
      ],
      "text/plain": [
       "  year month day dep_time sched_dep_time dep_delay arr_time sched_arr_time\n",
       "1 2013 1      9   641      900           1301      1242     1530          \n",
       "2 2013 6     15  1432     1935           1137      1607     2120          \n",
       "3 2013 1     10  1121     1635           1126      1239     1810          \n",
       "4 2013 9     20  1139     1845           1014      1457     2210          \n",
       "5 2013 7     22   845     1600           1005      1044     1815          \n",
       "6 2013 4     10  1100     1900            960      1342     2211          \n",
       "  arr_delay carrier flight tailnum origin dest air_time distance hour minute\n",
       "1 1272      HA        51   N384HA  JFK    HNL  640      4983      9    0    \n",
       "2 1127      MQ      3535   N504MQ  JFK    CMH   74       483     19   35    \n",
       "3 1109      MQ      3695   N517MQ  EWR    ORD  111       719     16   35    \n",
       "4 1007      AA       177   N338AA  JFK    SFO  354      2586     18   45    \n",
       "5  989      MQ      3075   N665MQ  JFK    CVG   96       589     16    0    \n",
       "6  931      DL      2391   N959DL  JFK    TPA  139      1005     19    0    \n",
       "  time_hour          \n",
       "1 2013-01-09 09:00:00\n",
       "2 2013-06-15 19:00:00\n",
       "3 2013-01-10 16:00:00\n",
       "4 2013-09-20 18:00:00\n",
       "5 2013-07-22 16:00:00\n",
       "6 2013-04-10 19:00:00"
      ]
     },
     "metadata": {},
     "output_type": "display_data"
    }
   ],
   "source": [
    "head(arrange(flights,desc(dep_delay)))"
   ]
  },
  {
   "cell_type": "markdown",
   "metadata": {},
   "source": [
    "## select() \n",
    "\n",
    "Oft arbeiten wir mit großen Datensätzen mit vielen Spalten, von denen uns nur einige wenige interessieren. `select()` ermöglicht es uns einfach und schnell auf das benötigte Subset zuzugreifen:"
   ]
  },
  {
   "cell_type": "code",
   "execution_count": 11,
   "metadata": {},
   "outputs": [
    {
     "data": {
      "text/html": [
       "<table>\n",
       "<thead><tr><th scope=col>carrier</th></tr></thead>\n",
       "<tbody>\n",
       "\t<tr><td>UA</td></tr>\n",
       "\t<tr><td>UA</td></tr>\n",
       "\t<tr><td>AA</td></tr>\n",
       "\t<tr><td>B6</td></tr>\n",
       "\t<tr><td>DL</td></tr>\n",
       "\t<tr><td>UA</td></tr>\n",
       "</tbody>\n",
       "</table>\n"
      ],
      "text/latex": [
       "\\begin{tabular}{r|l}\n",
       " carrier\\\\\n",
       "\\hline\n",
       "\t UA\\\\\n",
       "\t UA\\\\\n",
       "\t AA\\\\\n",
       "\t B6\\\\\n",
       "\t DL\\\\\n",
       "\t UA\\\\\n",
       "\\end{tabular}\n"
      ],
      "text/markdown": [
       "\n",
       "carrier | \n",
       "|---|---|---|---|---|---|\n",
       "| UA | \n",
       "| UA | \n",
       "| AA | \n",
       "| B6 | \n",
       "| DL | \n",
       "| UA | \n",
       "\n",
       "\n"
      ],
      "text/plain": [
       "  carrier\n",
       "1 UA     \n",
       "2 UA     \n",
       "3 AA     \n",
       "4 B6     \n",
       "5 DL     \n",
       "6 UA     "
      ]
     },
     "metadata": {},
     "output_type": "display_data"
    }
   ],
   "source": [
    "head(select(flights,carrier))"
   ]
  },
  {
   "cell_type": "markdown",
   "metadata": {},
   "source": [
    "## rename()\n",
    "\n",
    "Um Spalten umzubenennen nutzen wir `rename()`:"
   ]
  },
  {
   "cell_type": "code",
   "execution_count": 12,
   "metadata": {},
   "outputs": [
    {
     "data": {
      "text/html": [
       "<table>\n",
       "<thead><tr><th scope=col>year</th><th scope=col>month</th><th scope=col>day</th><th scope=col>dep_time</th><th scope=col>sched_dep_time</th><th scope=col>dep_delay</th><th scope=col>arr_time</th><th scope=col>sched_arr_time</th><th scope=col>arr_delay</th><th scope=col>airline_car</th><th scope=col>flight</th><th scope=col>tailnum</th><th scope=col>origin</th><th scope=col>dest</th><th scope=col>air_time</th><th scope=col>distance</th><th scope=col>hour</th><th scope=col>minute</th><th scope=col>time_hour</th></tr></thead>\n",
       "<tbody>\n",
       "\t<tr><td>2013               </td><td>1                  </td><td>1                  </td><td>517                </td><td>515                </td><td> 2                 </td><td> 830               </td><td> 819               </td><td> 11                </td><td>UA                 </td><td>1545               </td><td>N14228             </td><td>EWR                </td><td>IAH                </td><td>227                </td><td>1400               </td><td>5                  </td><td>15                 </td><td>2013-01-01 05:00:00</td></tr>\n",
       "\t<tr><td>2013               </td><td>1                  </td><td>1                  </td><td>533                </td><td>529                </td><td> 4                 </td><td> 850               </td><td> 830               </td><td> 20                </td><td>UA                 </td><td>1714               </td><td>N24211             </td><td>LGA                </td><td>IAH                </td><td>227                </td><td>1416               </td><td>5                  </td><td>29                 </td><td>2013-01-01 05:00:00</td></tr>\n",
       "\t<tr><td>2013               </td><td>1                  </td><td>1                  </td><td>542                </td><td>540                </td><td> 2                 </td><td> 923               </td><td> 850               </td><td> 33                </td><td>AA                 </td><td>1141               </td><td>N619AA             </td><td>JFK                </td><td>MIA                </td><td>160                </td><td>1089               </td><td>5                  </td><td>40                 </td><td>2013-01-01 05:00:00</td></tr>\n",
       "\t<tr><td>2013               </td><td>1                  </td><td>1                  </td><td>544                </td><td>545                </td><td>-1                 </td><td>1004               </td><td>1022               </td><td>-18                </td><td>B6                 </td><td> 725               </td><td>N804JB             </td><td>JFK                </td><td>BQN                </td><td>183                </td><td>1576               </td><td>5                  </td><td>45                 </td><td>2013-01-01 05:00:00</td></tr>\n",
       "\t<tr><td>2013               </td><td>1                  </td><td>1                  </td><td>554                </td><td>600                </td><td>-6                 </td><td> 812               </td><td> 837               </td><td>-25                </td><td>DL                 </td><td> 461               </td><td>N668DN             </td><td>LGA                </td><td>ATL                </td><td>116                </td><td> 762               </td><td>6                  </td><td> 0                 </td><td>2013-01-01 06:00:00</td></tr>\n",
       "\t<tr><td>2013               </td><td>1                  </td><td>1                  </td><td>554                </td><td>558                </td><td>-4                 </td><td> 740               </td><td> 728               </td><td> 12                </td><td>UA                 </td><td>1696               </td><td>N39463             </td><td>EWR                </td><td>ORD                </td><td>150                </td><td> 719               </td><td>5                  </td><td>58                 </td><td>2013-01-01 05:00:00</td></tr>\n",
       "</tbody>\n",
       "</table>\n"
      ],
      "text/latex": [
       "\\begin{tabular}{r|lllllllllllllllllll}\n",
       " year & month & day & dep\\_time & sched\\_dep\\_time & dep\\_delay & arr\\_time & sched\\_arr\\_time & arr\\_delay & airline\\_car & flight & tailnum & origin & dest & air\\_time & distance & hour & minute & time\\_hour\\\\\n",
       "\\hline\n",
       "\t 2013                & 1                   & 1                   & 517                 & 515                 &  2                  &  830                &  819                &  11                 & UA                  & 1545                & N14228              & EWR                 & IAH                 & 227                 & 1400                & 5                   & 15                  & 2013-01-01 05:00:00\\\\\n",
       "\t 2013                & 1                   & 1                   & 533                 & 529                 &  4                  &  850                &  830                &  20                 & UA                  & 1714                & N24211              & LGA                 & IAH                 & 227                 & 1416                & 5                   & 29                  & 2013-01-01 05:00:00\\\\\n",
       "\t 2013                & 1                   & 1                   & 542                 & 540                 &  2                  &  923                &  850                &  33                 & AA                  & 1141                & N619AA              & JFK                 & MIA                 & 160                 & 1089                & 5                   & 40                  & 2013-01-01 05:00:00\\\\\n",
       "\t 2013                & 1                   & 1                   & 544                 & 545                 & -1                  & 1004                & 1022                & -18                 & B6                  &  725                & N804JB              & JFK                 & BQN                 & 183                 & 1576                & 5                   & 45                  & 2013-01-01 05:00:00\\\\\n",
       "\t 2013                & 1                   & 1                   & 554                 & 600                 & -6                  &  812                &  837                & -25                 & DL                  &  461                & N668DN              & LGA                 & ATL                 & 116                 &  762                & 6                   &  0                  & 2013-01-01 06:00:00\\\\\n",
       "\t 2013                & 1                   & 1                   & 554                 & 558                 & -4                  &  740                &  728                &  12                 & UA                  & 1696                & N39463              & EWR                 & ORD                 & 150                 &  719                & 5                   & 58                  & 2013-01-01 05:00:00\\\\\n",
       "\\end{tabular}\n"
      ],
      "text/markdown": [
       "\n",
       "year | month | day | dep_time | sched_dep_time | dep_delay | arr_time | sched_arr_time | arr_delay | airline_car | flight | tailnum | origin | dest | air_time | distance | hour | minute | time_hour | \n",
       "|---|---|---|---|---|---|\n",
       "| 2013                | 1                   | 1                   | 517                 | 515                 |  2                  |  830                |  819                |  11                 | UA                  | 1545                | N14228              | EWR                 | IAH                 | 227                 | 1400                | 5                   | 15                  | 2013-01-01 05:00:00 | \n",
       "| 2013                | 1                   | 1                   | 533                 | 529                 |  4                  |  850                |  830                |  20                 | UA                  | 1714                | N24211              | LGA                 | IAH                 | 227                 | 1416                | 5                   | 29                  | 2013-01-01 05:00:00 | \n",
       "| 2013                | 1                   | 1                   | 542                 | 540                 |  2                  |  923                |  850                |  33                 | AA                  | 1141                | N619AA              | JFK                 | MIA                 | 160                 | 1089                | 5                   | 40                  | 2013-01-01 05:00:00 | \n",
       "| 2013                | 1                   | 1                   | 544                 | 545                 | -1                  | 1004                | 1022                | -18                 | B6                  |  725                | N804JB              | JFK                 | BQN                 | 183                 | 1576                | 5                   | 45                  | 2013-01-01 05:00:00 | \n",
       "| 2013                | 1                   | 1                   | 554                 | 600                 | -6                  |  812                |  837                | -25                 | DL                  |  461                | N668DN              | LGA                 | ATL                 | 116                 |  762                | 6                   |  0                  | 2013-01-01 06:00:00 | \n",
       "| 2013                | 1                   | 1                   | 554                 | 558                 | -4                  |  740                |  728                |  12                 | UA                  | 1696                | N39463              | EWR                 | ORD                 | 150                 |  719                | 5                   | 58                  | 2013-01-01 05:00:00 | \n",
       "\n",
       "\n"
      ],
      "text/plain": [
       "  year month day dep_time sched_dep_time dep_delay arr_time sched_arr_time\n",
       "1 2013 1     1   517      515             2         830      819          \n",
       "2 2013 1     1   533      529             4         850      830          \n",
       "3 2013 1     1   542      540             2         923      850          \n",
       "4 2013 1     1   544      545            -1        1004     1022          \n",
       "5 2013 1     1   554      600            -6         812      837          \n",
       "6 2013 1     1   554      558            -4         740      728          \n",
       "  arr_delay airline_car flight tailnum origin dest air_time distance hour\n",
       "1  11       UA          1545   N14228  EWR    IAH  227      1400     5   \n",
       "2  20       UA          1714   N24211  LGA    IAH  227      1416     5   \n",
       "3  33       AA          1141   N619AA  JFK    MIA  160      1089     5   \n",
       "4 -18       B6           725   N804JB  JFK    BQN  183      1576     5   \n",
       "5 -25       DL           461   N668DN  LGA    ATL  116       762     6   \n",
       "6  12       UA          1696   N39463  EWR    ORD  150       719     5   \n",
       "  minute time_hour          \n",
       "1 15     2013-01-01 05:00:00\n",
       "2 29     2013-01-01 05:00:00\n",
       "3 40     2013-01-01 05:00:00\n",
       "4 45     2013-01-01 05:00:00\n",
       "5  0     2013-01-01 06:00:00\n",
       "6 58     2013-01-01 05:00:00"
      ]
     },
     "metadata": {},
     "output_type": "display_data"
    }
   ],
   "source": [
    "head(rename(flights,airline_car = carrier))"
   ]
  },
  {
   "cell_type": "markdown",
   "metadata": {},
   "source": [
    "## distinct()\n",
    "\n",
    "Eine übliche Anwendung von select() ist es ein Set der Ausprägungen einer Variablen zu erhalten. Dazu bietet sich die `distinct()` Funktion an, welche unique Werte in einer Tabelle ausgibt."
   ]
  },
  {
   "cell_type": "code",
   "execution_count": 13,
   "metadata": {},
   "outputs": [
    {
     "data": {
      "text/html": [
       "<table>\n",
       "<thead><tr><th scope=col>carrier</th></tr></thead>\n",
       "<tbody>\n",
       "\t<tr><td>UA</td></tr>\n",
       "\t<tr><td>AA</td></tr>\n",
       "\t<tr><td>B6</td></tr>\n",
       "\t<tr><td>DL</td></tr>\n",
       "\t<tr><td>EV</td></tr>\n",
       "\t<tr><td>MQ</td></tr>\n",
       "\t<tr><td>US</td></tr>\n",
       "\t<tr><td>WN</td></tr>\n",
       "\t<tr><td>VX</td></tr>\n",
       "\t<tr><td>FL</td></tr>\n",
       "\t<tr><td>AS</td></tr>\n",
       "\t<tr><td>9E</td></tr>\n",
       "\t<tr><td>F9</td></tr>\n",
       "\t<tr><td>HA</td></tr>\n",
       "\t<tr><td>YV</td></tr>\n",
       "\t<tr><td>OO</td></tr>\n",
       "</tbody>\n",
       "</table>\n"
      ],
      "text/latex": [
       "\\begin{tabular}{r|l}\n",
       " carrier\\\\\n",
       "\\hline\n",
       "\t UA\\\\\n",
       "\t AA\\\\\n",
       "\t B6\\\\\n",
       "\t DL\\\\\n",
       "\t EV\\\\\n",
       "\t MQ\\\\\n",
       "\t US\\\\\n",
       "\t WN\\\\\n",
       "\t VX\\\\\n",
       "\t FL\\\\\n",
       "\t AS\\\\\n",
       "\t 9E\\\\\n",
       "\t F9\\\\\n",
       "\t HA\\\\\n",
       "\t YV\\\\\n",
       "\t OO\\\\\n",
       "\\end{tabular}\n"
      ],
      "text/markdown": [
       "\n",
       "carrier | \n",
       "|---|---|---|---|---|---|---|---|---|---|---|---|---|---|---|---|\n",
       "| UA | \n",
       "| AA | \n",
       "| B6 | \n",
       "| DL | \n",
       "| EV | \n",
       "| MQ | \n",
       "| US | \n",
       "| WN | \n",
       "| VX | \n",
       "| FL | \n",
       "| AS | \n",
       "| 9E | \n",
       "| F9 | \n",
       "| HA | \n",
       "| YV | \n",
       "| OO | \n",
       "\n",
       "\n"
      ],
      "text/plain": [
       "   carrier\n",
       "1  UA     \n",
       "2  AA     \n",
       "3  B6     \n",
       "4  DL     \n",
       "5  EV     \n",
       "6  MQ     \n",
       "7  US     \n",
       "8  WN     \n",
       "9  VX     \n",
       "10 FL     \n",
       "11 AS     \n",
       "12 9E     \n",
       "13 F9     \n",
       "14 HA     \n",
       "15 YV     \n",
       "16 OO     "
      ]
     },
     "metadata": {},
     "output_type": "display_data"
    }
   ],
   "source": [
    "distinct(select(flights,carrier))"
   ]
  },
  {
   "cell_type": "markdown",
   "metadata": {},
   "source": [
    "## mutate() \n",
    "\n",
    "Neben der Auswahl von bereits existierenden Spalten ist es oft nützlich neue Spalten als Funktion bereits bestehender Spalten hinzuzufügen. Für diese Aufgabe gibt es `mutate()`:"
   ]
  },
  {
   "cell_type": "code",
   "execution_count": 14,
   "metadata": {},
   "outputs": [
    {
     "data": {
      "text/html": [
       "<table>\n",
       "<thead><tr><th scope=col>year</th><th scope=col>month</th><th scope=col>day</th><th scope=col>dep_time</th><th scope=col>sched_dep_time</th><th scope=col>dep_delay</th><th scope=col>arr_time</th><th scope=col>sched_arr_time</th><th scope=col>arr_delay</th><th scope=col>carrier</th><th scope=col>flight</th><th scope=col>tailnum</th><th scope=col>origin</th><th scope=col>dest</th><th scope=col>air_time</th><th scope=col>distance</th><th scope=col>hour</th><th scope=col>minute</th><th scope=col>time_hour</th><th scope=col>new_col</th></tr></thead>\n",
       "<tbody>\n",
       "\t<tr><td>2013               </td><td>1                  </td><td>1                  </td><td>517                </td><td>515                </td><td> 2                 </td><td> 830               </td><td> 819               </td><td> 11                </td><td>UA                 </td><td>1545               </td><td>N14228             </td><td>EWR                </td><td>IAH                </td><td>227                </td><td>1400               </td><td>5                  </td><td>15                 </td><td>2013-01-01 05:00:00</td><td>  9                </td></tr>\n",
       "\t<tr><td>2013               </td><td>1                  </td><td>1                  </td><td>533                </td><td>529                </td><td> 4                 </td><td> 850               </td><td> 830               </td><td> 20                </td><td>UA                 </td><td>1714               </td><td>N24211             </td><td>LGA                </td><td>IAH                </td><td>227                </td><td>1416               </td><td>5                  </td><td>29                 </td><td>2013-01-01 05:00:00</td><td> 16                </td></tr>\n",
       "\t<tr><td>2013               </td><td>1                  </td><td>1                  </td><td>542                </td><td>540                </td><td> 2                 </td><td> 923               </td><td> 850               </td><td> 33                </td><td>AA                 </td><td>1141               </td><td>N619AA             </td><td>JFK                </td><td>MIA                </td><td>160                </td><td>1089               </td><td>5                  </td><td>40                 </td><td>2013-01-01 05:00:00</td><td> 31                </td></tr>\n",
       "\t<tr><td>2013               </td><td>1                  </td><td>1                  </td><td>544                </td><td>545                </td><td>-1                 </td><td>1004               </td><td>1022               </td><td>-18                </td><td>B6                 </td><td> 725               </td><td>N804JB             </td><td>JFK                </td><td>BQN                </td><td>183                </td><td>1576               </td><td>5                  </td><td>45                 </td><td>2013-01-01 05:00:00</td><td>-17                </td></tr>\n",
       "\t<tr><td>2013               </td><td>1                  </td><td>1                  </td><td>554                </td><td>600                </td><td>-6                 </td><td> 812               </td><td> 837               </td><td>-25                </td><td>DL                 </td><td> 461               </td><td>N668DN             </td><td>LGA                </td><td>ATL                </td><td>116                </td><td> 762               </td><td>6                  </td><td> 0                 </td><td>2013-01-01 06:00:00</td><td>-19                </td></tr>\n",
       "\t<tr><td>2013               </td><td>1                  </td><td>1                  </td><td>554                </td><td>558                </td><td>-4                 </td><td> 740               </td><td> 728               </td><td> 12                </td><td>UA                 </td><td>1696               </td><td>N39463             </td><td>EWR                </td><td>ORD                </td><td>150                </td><td> 719               </td><td>5                  </td><td>58                 </td><td>2013-01-01 05:00:00</td><td> 16                </td></tr>\n",
       "</tbody>\n",
       "</table>\n"
      ],
      "text/latex": [
       "\\begin{tabular}{r|llllllllllllllllllll}\n",
       " year & month & day & dep\\_time & sched\\_dep\\_time & dep\\_delay & arr\\_time & sched\\_arr\\_time & arr\\_delay & carrier & flight & tailnum & origin & dest & air\\_time & distance & hour & minute & time\\_hour & new\\_col\\\\\n",
       "\\hline\n",
       "\t 2013                & 1                   & 1                   & 517                 & 515                 &  2                  &  830                &  819                &  11                 & UA                  & 1545                & N14228              & EWR                 & IAH                 & 227                 & 1400                & 5                   & 15                  & 2013-01-01 05:00:00 &   9                \\\\\n",
       "\t 2013                & 1                   & 1                   & 533                 & 529                 &  4                  &  850                &  830                &  20                 & UA                  & 1714                & N24211              & LGA                 & IAH                 & 227                 & 1416                & 5                   & 29                  & 2013-01-01 05:00:00 &  16                \\\\\n",
       "\t 2013                & 1                   & 1                   & 542                 & 540                 &  2                  &  923                &  850                &  33                 & AA                  & 1141                & N619AA              & JFK                 & MIA                 & 160                 & 1089                & 5                   & 40                  & 2013-01-01 05:00:00 &  31                \\\\\n",
       "\t 2013                & 1                   & 1                   & 544                 & 545                 & -1                  & 1004                & 1022                & -18                 & B6                  &  725                & N804JB              & JFK                 & BQN                 & 183                 & 1576                & 5                   & 45                  & 2013-01-01 05:00:00 & -17                \\\\\n",
       "\t 2013                & 1                   & 1                   & 554                 & 600                 & -6                  &  812                &  837                & -25                 & DL                  &  461                & N668DN              & LGA                 & ATL                 & 116                 &  762                & 6                   &  0                  & 2013-01-01 06:00:00 & -19                \\\\\n",
       "\t 2013                & 1                   & 1                   & 554                 & 558                 & -4                  &  740                &  728                &  12                 & UA                  & 1696                & N39463              & EWR                 & ORD                 & 150                 &  719                & 5                   & 58                  & 2013-01-01 05:00:00 &  16                \\\\\n",
       "\\end{tabular}\n"
      ],
      "text/markdown": [
       "\n",
       "year | month | day | dep_time | sched_dep_time | dep_delay | arr_time | sched_arr_time | arr_delay | carrier | flight | tailnum | origin | dest | air_time | distance | hour | minute | time_hour | new_col | \n",
       "|---|---|---|---|---|---|\n",
       "| 2013                | 1                   | 1                   | 517                 | 515                 |  2                  |  830                |  819                |  11                 | UA                  | 1545                | N14228              | EWR                 | IAH                 | 227                 | 1400                | 5                   | 15                  | 2013-01-01 05:00:00 |   9                 | \n",
       "| 2013                | 1                   | 1                   | 533                 | 529                 |  4                  |  850                |  830                |  20                 | UA                  | 1714                | N24211              | LGA                 | IAH                 | 227                 | 1416                | 5                   | 29                  | 2013-01-01 05:00:00 |  16                 | \n",
       "| 2013                | 1                   | 1                   | 542                 | 540                 |  2                  |  923                |  850                |  33                 | AA                  | 1141                | N619AA              | JFK                 | MIA                 | 160                 | 1089                | 5                   | 40                  | 2013-01-01 05:00:00 |  31                 | \n",
       "| 2013                | 1                   | 1                   | 544                 | 545                 | -1                  | 1004                | 1022                | -18                 | B6                  |  725                | N804JB              | JFK                 | BQN                 | 183                 | 1576                | 5                   | 45                  | 2013-01-01 05:00:00 | -17                 | \n",
       "| 2013                | 1                   | 1                   | 554                 | 600                 | -6                  |  812                |  837                | -25                 | DL                  |  461                | N668DN              | LGA                 | ATL                 | 116                 |  762                | 6                   |  0                  | 2013-01-01 06:00:00 | -19                 | \n",
       "| 2013                | 1                   | 1                   | 554                 | 558                 | -4                  |  740                |  728                |  12                 | UA                  | 1696                | N39463              | EWR                 | ORD                 | 150                 |  719                | 5                   | 58                  | 2013-01-01 05:00:00 |  16                 | \n",
       "\n",
       "\n"
      ],
      "text/plain": [
       "  year month day dep_time sched_dep_time dep_delay arr_time sched_arr_time\n",
       "1 2013 1     1   517      515             2         830      819          \n",
       "2 2013 1     1   533      529             4         850      830          \n",
       "3 2013 1     1   542      540             2         923      850          \n",
       "4 2013 1     1   544      545            -1        1004     1022          \n",
       "5 2013 1     1   554      600            -6         812      837          \n",
       "6 2013 1     1   554      558            -4         740      728          \n",
       "  arr_delay carrier flight tailnum origin dest air_time distance hour minute\n",
       "1  11       UA      1545   N14228  EWR    IAH  227      1400     5    15    \n",
       "2  20       UA      1714   N24211  LGA    IAH  227      1416     5    29    \n",
       "3  33       AA      1141   N619AA  JFK    MIA  160      1089     5    40    \n",
       "4 -18       B6       725   N804JB  JFK    BQN  183      1576     5    45    \n",
       "5 -25       DL       461   N668DN  LGA    ATL  116       762     6     0    \n",
       "6  12       UA      1696   N39463  EWR    ORD  150       719     5    58    \n",
       "  time_hour           new_col\n",
       "1 2013-01-01 05:00:00   9    \n",
       "2 2013-01-01 05:00:00  16    \n",
       "3 2013-01-01 05:00:00  31    \n",
       "4 2013-01-01 05:00:00 -17    \n",
       "5 2013-01-01 06:00:00 -19    \n",
       "6 2013-01-01 05:00:00  16    "
      ]
     },
     "metadata": {},
     "output_type": "display_data"
    }
   ],
   "source": [
    "head(mutate(flights, new_col = arr_delay-dep_delay))"
   ]
  },
  {
   "cell_type": "markdown",
   "metadata": {},
   "source": [
    "## transmute()\n",
    "\n",
    "Nutze `transmute()`, wenn du nur die neue Spalte willst:"
   ]
  },
  {
   "cell_type": "code",
   "execution_count": 15,
   "metadata": {},
   "outputs": [
    {
     "data": {
      "text/html": [
       "<table>\n",
       "<thead><tr><th scope=col>new_col</th></tr></thead>\n",
       "<tbody>\n",
       "\t<tr><td>  9</td></tr>\n",
       "\t<tr><td> 16</td></tr>\n",
       "\t<tr><td> 31</td></tr>\n",
       "\t<tr><td>-17</td></tr>\n",
       "\t<tr><td>-19</td></tr>\n",
       "\t<tr><td> 16</td></tr>\n",
       "</tbody>\n",
       "</table>\n"
      ],
      "text/latex": [
       "\\begin{tabular}{r|l}\n",
       " new\\_col\\\\\n",
       "\\hline\n",
       "\t   9\\\\\n",
       "\t  16\\\\\n",
       "\t  31\\\\\n",
       "\t -17\\\\\n",
       "\t -19\\\\\n",
       "\t  16\\\\\n",
       "\\end{tabular}\n"
      ],
      "text/markdown": [
       "\n",
       "new_col | \n",
       "|---|---|---|---|---|---|\n",
       "|   9 | \n",
       "|  16 | \n",
       "|  31 | \n",
       "| -17 | \n",
       "| -19 | \n",
       "|  16 | \n",
       "\n",
       "\n"
      ],
      "text/plain": [
       "  new_col\n",
       "1   9    \n",
       "2  16    \n",
       "3  31    \n",
       "4 -17    \n",
       "5 -19    \n",
       "6  16    "
      ]
     },
     "metadata": {},
     "output_type": "display_data"
    }
   ],
   "source": [
    "head(transmute(flights, new_col = arr_delay-dep_delay))"
   ]
  },
  {
   "cell_type": "markdown",
   "metadata": {},
   "source": [
    "## summarise()\n",
    "\n",
    "Wir können summarise() nutzen, um schnell eine Zeile aus einem ganzen Data Frame zu erzeugen, indem wir Aggregationsfunktionen verwenden. Denkt daran na.rm=TRUE einzugeben, wenn NA Werte entfernt werden sollen."
   ]
  },
  {
   "cell_type": "code",
   "execution_count": 16,
   "metadata": {},
   "outputs": [
    {
     "data": {
      "text/html": [
       "<table>\n",
       "<thead><tr><th scope=col>avg_air_time</th></tr></thead>\n",
       "<tbody>\n",
       "\t<tr><td>150.6865</td></tr>\n",
       "</tbody>\n",
       "</table>\n"
      ],
      "text/latex": [
       "\\begin{tabular}{r|l}\n",
       " avg\\_air\\_time\\\\\n",
       "\\hline\n",
       "\t 150.6865\\\\\n",
       "\\end{tabular}\n"
      ],
      "text/markdown": [
       "\n",
       "avg_air_time | \n",
       "|---|\n",
       "| 150.6865 | \n",
       "\n",
       "\n"
      ],
      "text/plain": [
       "  avg_air_time\n",
       "1 150.6865    "
      ]
     },
     "metadata": {},
     "output_type": "display_data"
    }
   ],
   "source": [
    "summarise(flights,avg_air_time=mean(air_time,na.rm=TRUE))"
   ]
  },
  {
   "cell_type": "markdown",
   "metadata": {},
   "source": [
    "## sample_n() und sample_frac()\n",
    "\n",
    "Um ein zufälliges Subset an Zeilen aus dem Data Frame zu erhalten können wir `sample_n()` (für eine bestimmte Anzahl) oder `sample_frac()` (für einen bestimmten Anteil) verwenden."
   ]
  },
  {
   "cell_type": "code",
   "execution_count": 17,
   "metadata": {},
   "outputs": [
    {
     "data": {
      "text/html": [
       "<table>\n",
       "<thead><tr><th scope=col>year</th><th scope=col>month</th><th scope=col>day</th><th scope=col>dep_time</th><th scope=col>sched_dep_time</th><th scope=col>dep_delay</th><th scope=col>arr_time</th><th scope=col>sched_arr_time</th><th scope=col>arr_delay</th><th scope=col>carrier</th><th scope=col>flight</th><th scope=col>tailnum</th><th scope=col>origin</th><th scope=col>dest</th><th scope=col>air_time</th><th scope=col>distance</th><th scope=col>hour</th><th scope=col>minute</th><th scope=col>time_hour</th></tr></thead>\n",
       "<tbody>\n",
       "\t<tr><td>2013               </td><td> 8                 </td><td> 1                 </td><td>2015               </td><td>1704               </td><td>191                </td><td>2251               </td><td>1952               </td><td>179                </td><td>UA                 </td><td>1497               </td><td>N33266             </td><td>EWR                </td><td>LAS                </td><td>305                </td><td>2227               </td><td>17                 </td><td> 4                 </td><td>2013-08-01 17:00:00</td></tr>\n",
       "\t<tr><td>2013               </td><td> 1                 </td><td> 8                 </td><td>1549               </td><td>1555               </td><td> -6                </td><td>1812               </td><td>1810               </td><td>  2                </td><td>EV                 </td><td>3820               </td><td>N13553             </td><td>EWR                </td><td>SDF                </td><td>116                </td><td> 642               </td><td>15                 </td><td>55                 </td><td>2013-01-08 15:00:00</td></tr>\n",
       "\t<tr><td>2013               </td><td> 4                 </td><td>13                 </td><td>2057               </td><td>1950               </td><td> 67                </td><td>  17               </td><td>2340               </td><td> 37                </td><td>B6                 </td><td> 645               </td><td>N583JB             </td><td>JFK                </td><td>SFO                </td><td>359                </td><td>2586               </td><td>19                 </td><td>50                 </td><td>2013-04-13 19:00:00</td></tr>\n",
       "\t<tr><td>2013               </td><td> 6                 </td><td>19                 </td><td>1518               </td><td>1525               </td><td> -7                </td><td>1722               </td><td>1725               </td><td> -3                </td><td>MQ                 </td><td>3199               </td><td>N511MQ             </td><td>LGA                </td><td>CLT                </td><td> 85                </td><td> 544               </td><td>15                 </td><td>25                 </td><td>2013-06-19 15:00:00</td></tr>\n",
       "\t<tr><td>2013               </td><td> 2                 </td><td>14                 </td><td>1355               </td><td>1359               </td><td> -4                </td><td>1652               </td><td>1657               </td><td> -5                </td><td>UA                 </td><td>1003               </td><td>N37287             </td><td>EWR                </td><td>PBI                </td><td>163                </td><td>1023               </td><td>13                 </td><td>59                 </td><td>2013-02-14 13:00:00</td></tr>\n",
       "\t<tr><td>2013               </td><td> 5                 </td><td> 5                 </td><td>1150               </td><td>1116               </td><td> 34                </td><td>1345               </td><td>1345               </td><td>  0                </td><td>UA                 </td><td> 405               </td><td>N435UA             </td><td>LGA                </td><td>DEN                </td><td>203                </td><td>1620               </td><td>11                 </td><td>16                 </td><td>2013-05-05 11:00:00</td></tr>\n",
       "\t<tr><td>2013               </td><td>10                 </td><td>23                 </td><td>1432               </td><td>1428               </td><td>  4                </td><td>1712               </td><td>1654               </td><td> 18                </td><td>B6                 </td><td> 477               </td><td>N190JB             </td><td>JFK                </td><td>JAX                </td><td>133                </td><td> 828               </td><td>14                 </td><td>28                 </td><td>2013-10-23 14:00:00</td></tr>\n",
       "\t<tr><td>2013               </td><td> 6                 </td><td>26                 </td><td>1905               </td><td>1735               </td><td> 90                </td><td>2044               </td><td>1915               </td><td> 89                </td><td>WN                 </td><td>  19               </td><td>N903WN             </td><td>EWR                </td><td>STL                </td><td>122                </td><td> 872               </td><td>17                 </td><td>35                 </td><td>2013-06-26 17:00:00</td></tr>\n",
       "\t<tr><td>2013               </td><td> 4                 </td><td>22                 </td><td>2142               </td><td>2005               </td><td> 97                </td><td>  33               </td><td>2311               </td><td> 82                </td><td>UA                 </td><td> 373               </td><td>N408UA             </td><td>EWR                </td><td>AUS                </td><td>202                </td><td>1504               </td><td>20                 </td><td> 5                 </td><td>2013-04-22 20:00:00</td></tr>\n",
       "\t<tr><td>2013               </td><td> 9                 </td><td>24                 </td><td>1909               </td><td>1900               </td><td>  9                </td><td>2052               </td><td>2040               </td><td> 12                </td><td>MQ                 </td><td>3591               </td><td>N857MQ             </td><td>LGA                </td><td>RDU                </td><td> 67                </td><td> 431               </td><td>19                 </td><td> 0                 </td><td>2013-09-24 19:00:00</td></tr>\n",
       "</tbody>\n",
       "</table>\n"
      ],
      "text/latex": [
       "\\begin{tabular}{r|lllllllllllllllllll}\n",
       " year & month & day & dep\\_time & sched\\_dep\\_time & dep\\_delay & arr\\_time & sched\\_arr\\_time & arr\\_delay & carrier & flight & tailnum & origin & dest & air\\_time & distance & hour & minute & time\\_hour\\\\\n",
       "\\hline\n",
       "\t 2013                &  8                  &  1                  & 2015                & 1704                & 191                 & 2251                & 1952                & 179                 & UA                  & 1497                & N33266              & EWR                 & LAS                 & 305                 & 2227                & 17                  &  4                  & 2013-08-01 17:00:00\\\\\n",
       "\t 2013                &  1                  &  8                  & 1549                & 1555                &  -6                 & 1812                & 1810                &   2                 & EV                  & 3820                & N13553              & EWR                 & SDF                 & 116                 &  642                & 15                  & 55                  & 2013-01-08 15:00:00\\\\\n",
       "\t 2013                &  4                  & 13                  & 2057                & 1950                &  67                 &   17                & 2340                &  37                 & B6                  &  645                & N583JB              & JFK                 & SFO                 & 359                 & 2586                & 19                  & 50                  & 2013-04-13 19:00:00\\\\\n",
       "\t 2013                &  6                  & 19                  & 1518                & 1525                &  -7                 & 1722                & 1725                &  -3                 & MQ                  & 3199                & N511MQ              & LGA                 & CLT                 &  85                 &  544                & 15                  & 25                  & 2013-06-19 15:00:00\\\\\n",
       "\t 2013                &  2                  & 14                  & 1355                & 1359                &  -4                 & 1652                & 1657                &  -5                 & UA                  & 1003                & N37287              & EWR                 & PBI                 & 163                 & 1023                & 13                  & 59                  & 2013-02-14 13:00:00\\\\\n",
       "\t 2013                &  5                  &  5                  & 1150                & 1116                &  34                 & 1345                & 1345                &   0                 & UA                  &  405                & N435UA              & LGA                 & DEN                 & 203                 & 1620                & 11                  & 16                  & 2013-05-05 11:00:00\\\\\n",
       "\t 2013                & 10                  & 23                  & 1432                & 1428                &   4                 & 1712                & 1654                &  18                 & B6                  &  477                & N190JB              & JFK                 & JAX                 & 133                 &  828                & 14                  & 28                  & 2013-10-23 14:00:00\\\\\n",
       "\t 2013                &  6                  & 26                  & 1905                & 1735                &  90                 & 2044                & 1915                &  89                 & WN                  &   19                & N903WN              & EWR                 & STL                 & 122                 &  872                & 17                  & 35                  & 2013-06-26 17:00:00\\\\\n",
       "\t 2013                &  4                  & 22                  & 2142                & 2005                &  97                 &   33                & 2311                &  82                 & UA                  &  373                & N408UA              & EWR                 & AUS                 & 202                 & 1504                & 20                  &  5                  & 2013-04-22 20:00:00\\\\\n",
       "\t 2013                &  9                  & 24                  & 1909                & 1900                &   9                 & 2052                & 2040                &  12                 & MQ                  & 3591                & N857MQ              & LGA                 & RDU                 &  67                 &  431                & 19                  &  0                  & 2013-09-24 19:00:00\\\\\n",
       "\\end{tabular}\n"
      ],
      "text/markdown": [
       "\n",
       "year | month | day | dep_time | sched_dep_time | dep_delay | arr_time | sched_arr_time | arr_delay | carrier | flight | tailnum | origin | dest | air_time | distance | hour | minute | time_hour | \n",
       "|---|---|---|---|---|---|---|---|---|---|\n",
       "| 2013                |  8                  |  1                  | 2015                | 1704                | 191                 | 2251                | 1952                | 179                 | UA                  | 1497                | N33266              | EWR                 | LAS                 | 305                 | 2227                | 17                  |  4                  | 2013-08-01 17:00:00 | \n",
       "| 2013                |  1                  |  8                  | 1549                | 1555                |  -6                 | 1812                | 1810                |   2                 | EV                  | 3820                | N13553              | EWR                 | SDF                 | 116                 |  642                | 15                  | 55                  | 2013-01-08 15:00:00 | \n",
       "| 2013                |  4                  | 13                  | 2057                | 1950                |  67                 |   17                | 2340                |  37                 | B6                  |  645                | N583JB              | JFK                 | SFO                 | 359                 | 2586                | 19                  | 50                  | 2013-04-13 19:00:00 | \n",
       "| 2013                |  6                  | 19                  | 1518                | 1525                |  -7                 | 1722                | 1725                |  -3                 | MQ                  | 3199                | N511MQ              | LGA                 | CLT                 |  85                 |  544                | 15                  | 25                  | 2013-06-19 15:00:00 | \n",
       "| 2013                |  2                  | 14                  | 1355                | 1359                |  -4                 | 1652                | 1657                |  -5                 | UA                  | 1003                | N37287              | EWR                 | PBI                 | 163                 | 1023                | 13                  | 59                  | 2013-02-14 13:00:00 | \n",
       "| 2013                |  5                  |  5                  | 1150                | 1116                |  34                 | 1345                | 1345                |   0                 | UA                  |  405                | N435UA              | LGA                 | DEN                 | 203                 | 1620                | 11                  | 16                  | 2013-05-05 11:00:00 | \n",
       "| 2013                | 10                  | 23                  | 1432                | 1428                |   4                 | 1712                | 1654                |  18                 | B6                  |  477                | N190JB              | JFK                 | JAX                 | 133                 |  828                | 14                  | 28                  | 2013-10-23 14:00:00 | \n",
       "| 2013                |  6                  | 26                  | 1905                | 1735                |  90                 | 2044                | 1915                |  89                 | WN                  |   19                | N903WN              | EWR                 | STL                 | 122                 |  872                | 17                  | 35                  | 2013-06-26 17:00:00 | \n",
       "| 2013                |  4                  | 22                  | 2142                | 2005                |  97                 |   33                | 2311                |  82                 | UA                  |  373                | N408UA              | EWR                 | AUS                 | 202                 | 1504                | 20                  |  5                  | 2013-04-22 20:00:00 | \n",
       "| 2013                |  9                  | 24                  | 1909                | 1900                |   9                 | 2052                | 2040                |  12                 | MQ                  | 3591                | N857MQ              | LGA                 | RDU                 |  67                 |  431                | 19                  |  0                  | 2013-09-24 19:00:00 | \n",
       "\n",
       "\n"
      ],
      "text/plain": [
       "   year month day dep_time sched_dep_time dep_delay arr_time sched_arr_time\n",
       "1  2013  8     1  2015     1704           191       2251     1952          \n",
       "2  2013  1     8  1549     1555            -6       1812     1810          \n",
       "3  2013  4    13  2057     1950            67         17     2340          \n",
       "4  2013  6    19  1518     1525            -7       1722     1725          \n",
       "5  2013  2    14  1355     1359            -4       1652     1657          \n",
       "6  2013  5     5  1150     1116            34       1345     1345          \n",
       "7  2013 10    23  1432     1428             4       1712     1654          \n",
       "8  2013  6    26  1905     1735            90       2044     1915          \n",
       "9  2013  4    22  2142     2005            97         33     2311          \n",
       "10 2013  9    24  1909     1900             9       2052     2040          \n",
       "   arr_delay carrier flight tailnum origin dest air_time distance hour minute\n",
       "1  179       UA      1497   N33266  EWR    LAS  305      2227     17    4    \n",
       "2    2       EV      3820   N13553  EWR    SDF  116       642     15   55    \n",
       "3   37       B6       645   N583JB  JFK    SFO  359      2586     19   50    \n",
       "4   -3       MQ      3199   N511MQ  LGA    CLT   85       544     15   25    \n",
       "5   -5       UA      1003   N37287  EWR    PBI  163      1023     13   59    \n",
       "6    0       UA       405   N435UA  LGA    DEN  203      1620     11   16    \n",
       "7   18       B6       477   N190JB  JFK    JAX  133       828     14   28    \n",
       "8   89       WN        19   N903WN  EWR    STL  122       872     17   35    \n",
       "9   82       UA       373   N408UA  EWR    AUS  202      1504     20    5    \n",
       "10  12       MQ      3591   N857MQ  LGA    RDU   67       431     19    0    \n",
       "   time_hour          \n",
       "1  2013-08-01 17:00:00\n",
       "2  2013-01-08 15:00:00\n",
       "3  2013-04-13 19:00:00\n",
       "4  2013-06-19 15:00:00\n",
       "5  2013-02-14 13:00:00\n",
       "6  2013-05-05 11:00:00\n",
       "7  2013-10-23 14:00:00\n",
       "8  2013-06-26 17:00:00\n",
       "9  2013-04-22 20:00:00\n",
       "10 2013-09-24 19:00:00"
      ]
     },
     "metadata": {},
     "output_type": "display_data"
    }
   ],
   "source": [
    "sample_n(flights,10)"
   ]
  },
  {
   "cell_type": "code",
   "execution_count": 18,
   "metadata": {},
   "outputs": [
    {
     "data": {
      "text/html": [
       "<table>\n",
       "<thead><tr><th scope=col>year</th><th scope=col>month</th><th scope=col>day</th><th scope=col>dep_time</th><th scope=col>sched_dep_time</th><th scope=col>dep_delay</th><th scope=col>arr_time</th><th scope=col>sched_arr_time</th><th scope=col>arr_delay</th><th scope=col>carrier</th><th scope=col>flight</th><th scope=col>tailnum</th><th scope=col>origin</th><th scope=col>dest</th><th scope=col>air_time</th><th scope=col>distance</th><th scope=col>hour</th><th scope=col>minute</th><th scope=col>time_hour</th></tr></thead>\n",
       "<tbody>\n",
       "\t<tr><td>2013               </td><td>11                 </td><td> 1                 </td><td>1004               </td><td> 951               </td><td> 13                </td><td>1225               </td><td>1207               </td><td> 18                </td><td>UA                 </td><td> 406               </td><td>N446UA             </td><td>EWR                </td><td>DEN                </td><td>225                </td><td>1605               </td><td> 9                 </td><td>51                 </td><td>2013-11-01 09:00:00</td></tr>\n",
       "\t<tr><td>2013               </td><td>12                 </td><td>11                 </td><td>1750               </td><td>1800               </td><td>-10                </td><td>2000               </td><td>1935               </td><td> 25                </td><td>MQ                 </td><td>3486               </td><td>N814MQ             </td><td>LGA                </td><td>BNA                </td><td>153                </td><td> 764               </td><td>18                 </td><td> 0                 </td><td>2013-12-11 18:00:00</td></tr>\n",
       "\t<tr><td>2013               </td><td> 5                 </td><td>20                 </td><td> 654               </td><td> 700               </td><td> -6                </td><td> 844               </td><td> 906               </td><td>-22                </td><td>EV                 </td><td>4535               </td><td>N12163             </td><td>EWR                </td><td>MSP                </td><td>139                </td><td>1008               </td><td> 7                 </td><td> 0                 </td><td>2013-05-20 07:00:00</td></tr>\n",
       "\t<tr><td>2013               </td><td> 4                 </td><td> 2                 </td><td> 630               </td><td> 633               </td><td> -3                </td><td> 739               </td><td> 745               </td><td> -6                </td><td>EV                 </td><td>4241               </td><td>N14180             </td><td>EWR                </td><td>DCA                </td><td> 45                </td><td> 199               </td><td> 6                 </td><td>33                 </td><td>2013-04-02 06:00:00</td></tr>\n",
       "\t<tr><td>2013               </td><td> 3                 </td><td>16                 </td><td> 826               </td><td> 827               </td><td> -1                </td><td>1216               </td><td>1216               </td><td>  0                </td><td>B6                 </td><td> 403               </td><td>N590JB             </td><td>JFK                </td><td>SJU                </td><td>189                </td><td>1598               </td><td> 8                 </td><td>27                 </td><td>2013-03-16 08:00:00</td></tr>\n",
       "\t<tr><td>2013               </td><td> 7                 </td><td>19                 </td><td>2219               </td><td>2142               </td><td> 37                </td><td>2333               </td><td>2259               </td><td> 34                </td><td>EV                 </td><td>3832               </td><td>N15973             </td><td>EWR                </td><td>DCA                </td><td> 40                </td><td> 199               </td><td>21                 </td><td>42                 </td><td>2013-07-19 21:00:00</td></tr>\n",
       "\t<tr><td>2013               </td><td> 1                 </td><td>11                 </td><td>1411               </td><td>1420               </td><td> -9                </td><td>1602               </td><td>1620               </td><td>-18                </td><td>MQ                 </td><td>4588               </td><td>N3AEMQ             </td><td>LGA                </td><td>MSP                </td><td>150                </td><td>1020               </td><td>14                 </td><td>20                 </td><td>2013-01-11 14:00:00</td></tr>\n",
       "\t<tr><td>2013               </td><td> 6                 </td><td> 5                 </td><td>1411               </td><td>1415               </td><td> -4                </td><td>1505               </td><td>1525               </td><td>-20                </td><td>EV                 </td><td>3843               </td><td>N29906             </td><td>EWR                </td><td>MHT                </td><td> 39                </td><td> 209               </td><td>14                 </td><td>15                 </td><td>2013-06-05 14:00:00</td></tr>\n",
       "\t<tr><td>2013               </td><td>11                 </td><td> 3                 </td><td>2103               </td><td>2059               </td><td>  4                </td><td>2340               </td><td>2348               </td><td> -8                </td><td>UA                 </td><td> 475               </td><td>N425UA             </td><td>EWR                </td><td>IAH                </td><td>186                </td><td>1400               </td><td>20                 </td><td>59                 </td><td>2013-11-03 20:00:00</td></tr>\n",
       "\t<tr><td>2013               </td><td> 9                 </td><td>28                 </td><td>1910               </td><td>1905               </td><td>  5                </td><td>2046               </td><td>2058               </td><td>-12                </td><td>9E                 </td><td>3433               </td><td>N903XJ             </td><td>JFK                </td><td>PIT                </td><td> 59                </td><td> 340               </td><td>19                 </td><td> 5                 </td><td>2013-09-28 19:00:00</td></tr>\n",
       "\t<tr><td>2013               </td><td> 2                 </td><td>14                 </td><td>1520               </td><td>1450               </td><td> 30                </td><td>1658               </td><td>1640               </td><td> 18                </td><td>MQ                 </td><td>4403               </td><td>N806MQ             </td><td>JFK                </td><td>RDU                </td><td> 74                </td><td> 427               </td><td>14                 </td><td>50                 </td><td>2013-02-14 14:00:00</td></tr>\n",
       "\t<tr><td>2013               </td><td> 8                 </td><td>11                 </td><td>1807               </td><td>1710               </td><td> 57                </td><td>2119               </td><td>2015               </td><td> 64                </td><td>AA                 </td><td> 181               </td><td>N336AA             </td><td>JFK                </td><td>LAX                </td><td>343                </td><td>2475               </td><td>17                 </td><td>10                 </td><td>2013-08-11 17:00:00</td></tr>\n",
       "\t<tr><td>2013               </td><td> 4                 </td><td>10                 </td><td>1825               </td><td>1817               </td><td>  8                </td><td>2059               </td><td>2045               </td><td> 14                </td><td>DL                 </td><td> 926               </td><td>N338NB             </td><td>EWR                </td><td>ATL                </td><td>116                </td><td> 746               </td><td>18                 </td><td>17                 </td><td>2013-04-10 18:00:00</td></tr>\n",
       "\t<tr><td>2013               </td><td> 6                 </td><td>19                 </td><td> 747               </td><td> 755               </td><td> -8                </td><td> 931               </td><td> 955               </td><td>-24                </td><td>MQ                 </td><td>3478               </td><td>N720MQ             </td><td>LGA                </td><td>DTW                </td><td> 84                </td><td> 502               </td><td> 7                 </td><td>55                 </td><td>2013-06-19 07:00:00</td></tr>\n",
       "\t<tr><td>2013               </td><td> 6                 </td><td>20                 </td><td>1457               </td><td>1500               </td><td> -3                </td><td>1615               </td><td>1622               </td><td> -7                </td><td>US                 </td><td>2179               </td><td>N721UW             </td><td>LGA                </td><td>DCA                </td><td> 47                </td><td> 214               </td><td>15                 </td><td> 0                 </td><td>2013-06-20 15:00:00</td></tr>\n",
       "\t<tr><td>2013               </td><td> 7                 </td><td> 9                 </td><td> 829               </td><td> 830               </td><td> -1                </td><td>1108               </td><td>1125               </td><td>-17                </td><td>UA                 </td><td>1401               </td><td>N39416             </td><td>EWR                </td><td>MIA                </td><td>139                </td><td>1085               </td><td> 8                 </td><td>30                 </td><td>2013-07-09 08:00:00</td></tr>\n",
       "\t<tr><td>2013               </td><td> 1                 </td><td>29                 </td><td>1804               </td><td>1805               </td><td> -1                </td><td>1935               </td><td>1935               </td><td>  0                </td><td>WN                 </td><td> 389               </td><td>N297WN             </td><td>LGA                </td><td>MDW                </td><td>132                </td><td> 725               </td><td>18                 </td><td> 5                 </td><td>2013-01-29 18:00:00</td></tr>\n",
       "</tbody>\n",
       "</table>\n"
      ],
      "text/latex": [
       "\\begin{tabular}{r|lllllllllllllllllll}\n",
       " year & month & day & dep\\_time & sched\\_dep\\_time & dep\\_delay & arr\\_time & sched\\_arr\\_time & arr\\_delay & carrier & flight & tailnum & origin & dest & air\\_time & distance & hour & minute & time\\_hour\\\\\n",
       "\\hline\n",
       "\t 2013                & 11                  &  1                  & 1004                &  951                &  13                 & 1225                & 1207                &  18                 & UA                  &  406                & N446UA              & EWR                 & DEN                 & 225                 & 1605                &  9                  & 51                  & 2013-11-01 09:00:00\\\\\n",
       "\t 2013                & 12                  & 11                  & 1750                & 1800                & -10                 & 2000                & 1935                &  25                 & MQ                  & 3486                & N814MQ              & LGA                 & BNA                 & 153                 &  764                & 18                  &  0                  & 2013-12-11 18:00:00\\\\\n",
       "\t 2013                &  5                  & 20                  &  654                &  700                &  -6                 &  844                &  906                & -22                 & EV                  & 4535                & N12163              & EWR                 & MSP                 & 139                 & 1008                &  7                  &  0                  & 2013-05-20 07:00:00\\\\\n",
       "\t 2013                &  4                  &  2                  &  630                &  633                &  -3                 &  739                &  745                &  -6                 & EV                  & 4241                & N14180              & EWR                 & DCA                 &  45                 &  199                &  6                  & 33                  & 2013-04-02 06:00:00\\\\\n",
       "\t 2013                &  3                  & 16                  &  826                &  827                &  -1                 & 1216                & 1216                &   0                 & B6                  &  403                & N590JB              & JFK                 & SJU                 & 189                 & 1598                &  8                  & 27                  & 2013-03-16 08:00:00\\\\\n",
       "\t 2013                &  7                  & 19                  & 2219                & 2142                &  37                 & 2333                & 2259                &  34                 & EV                  & 3832                & N15973              & EWR                 & DCA                 &  40                 &  199                & 21                  & 42                  & 2013-07-19 21:00:00\\\\\n",
       "\t 2013                &  1                  & 11                  & 1411                & 1420                &  -9                 & 1602                & 1620                & -18                 & MQ                  & 4588                & N3AEMQ              & LGA                 & MSP                 & 150                 & 1020                & 14                  & 20                  & 2013-01-11 14:00:00\\\\\n",
       "\t 2013                &  6                  &  5                  & 1411                & 1415                &  -4                 & 1505                & 1525                & -20                 & EV                  & 3843                & N29906              & EWR                 & MHT                 &  39                 &  209                & 14                  & 15                  & 2013-06-05 14:00:00\\\\\n",
       "\t 2013                & 11                  &  3                  & 2103                & 2059                &   4                 & 2340                & 2348                &  -8                 & UA                  &  475                & N425UA              & EWR                 & IAH                 & 186                 & 1400                & 20                  & 59                  & 2013-11-03 20:00:00\\\\\n",
       "\t 2013                &  9                  & 28                  & 1910                & 1905                &   5                 & 2046                & 2058                & -12                 & 9E                  & 3433                & N903XJ              & JFK                 & PIT                 &  59                 &  340                & 19                  &  5                  & 2013-09-28 19:00:00\\\\\n",
       "\t 2013                &  2                  & 14                  & 1520                & 1450                &  30                 & 1658                & 1640                &  18                 & MQ                  & 4403                & N806MQ              & JFK                 & RDU                 &  74                 &  427                & 14                  & 50                  & 2013-02-14 14:00:00\\\\\n",
       "\t 2013                &  8                  & 11                  & 1807                & 1710                &  57                 & 2119                & 2015                &  64                 & AA                  &  181                & N336AA              & JFK                 & LAX                 & 343                 & 2475                & 17                  & 10                  & 2013-08-11 17:00:00\\\\\n",
       "\t 2013                &  4                  & 10                  & 1825                & 1817                &   8                 & 2059                & 2045                &  14                 & DL                  &  926                & N338NB              & EWR                 & ATL                 & 116                 &  746                & 18                  & 17                  & 2013-04-10 18:00:00\\\\\n",
       "\t 2013                &  6                  & 19                  &  747                &  755                &  -8                 &  931                &  955                & -24                 & MQ                  & 3478                & N720MQ              & LGA                 & DTW                 &  84                 &  502                &  7                  & 55                  & 2013-06-19 07:00:00\\\\\n",
       "\t 2013                &  6                  & 20                  & 1457                & 1500                &  -3                 & 1615                & 1622                &  -7                 & US                  & 2179                & N721UW              & LGA                 & DCA                 &  47                 &  214                & 15                  &  0                  & 2013-06-20 15:00:00\\\\\n",
       "\t 2013                &  7                  &  9                  &  829                &  830                &  -1                 & 1108                & 1125                & -17                 & UA                  & 1401                & N39416              & EWR                 & MIA                 & 139                 & 1085                &  8                  & 30                  & 2013-07-09 08:00:00\\\\\n",
       "\t 2013                &  1                  & 29                  & 1804                & 1805                &  -1                 & 1935                & 1935                &   0                 & WN                  &  389                & N297WN              & LGA                 & MDW                 & 132                 &  725                & 18                  &  5                  & 2013-01-29 18:00:00\\\\\n",
       "\\end{tabular}\n"
      ],
      "text/markdown": [
       "\n",
       "year | month | day | dep_time | sched_dep_time | dep_delay | arr_time | sched_arr_time | arr_delay | carrier | flight | tailnum | origin | dest | air_time | distance | hour | minute | time_hour | \n",
       "|---|---|---|---|---|---|---|---|---|---|---|---|---|---|---|---|---|\n",
       "| 2013                | 11                  |  1                  | 1004                |  951                |  13                 | 1225                | 1207                |  18                 | UA                  |  406                | N446UA              | EWR                 | DEN                 | 225                 | 1605                |  9                  | 51                  | 2013-11-01 09:00:00 | \n",
       "| 2013                | 12                  | 11                  | 1750                | 1800                | -10                 | 2000                | 1935                |  25                 | MQ                  | 3486                | N814MQ              | LGA                 | BNA                 | 153                 |  764                | 18                  |  0                  | 2013-12-11 18:00:00 | \n",
       "| 2013                |  5                  | 20                  |  654                |  700                |  -6                 |  844                |  906                | -22                 | EV                  | 4535                | N12163              | EWR                 | MSP                 | 139                 | 1008                |  7                  |  0                  | 2013-05-20 07:00:00 | \n",
       "| 2013                |  4                  |  2                  |  630                |  633                |  -3                 |  739                |  745                |  -6                 | EV                  | 4241                | N14180              | EWR                 | DCA                 |  45                 |  199                |  6                  | 33                  | 2013-04-02 06:00:00 | \n",
       "| 2013                |  3                  | 16                  |  826                |  827                |  -1                 | 1216                | 1216                |   0                 | B6                  |  403                | N590JB              | JFK                 | SJU                 | 189                 | 1598                |  8                  | 27                  | 2013-03-16 08:00:00 | \n",
       "| 2013                |  7                  | 19                  | 2219                | 2142                |  37                 | 2333                | 2259                |  34                 | EV                  | 3832                | N15973              | EWR                 | DCA                 |  40                 |  199                | 21                  | 42                  | 2013-07-19 21:00:00 | \n",
       "| 2013                |  1                  | 11                  | 1411                | 1420                |  -9                 | 1602                | 1620                | -18                 | MQ                  | 4588                | N3AEMQ              | LGA                 | MSP                 | 150                 | 1020                | 14                  | 20                  | 2013-01-11 14:00:00 | \n",
       "| 2013                |  6                  |  5                  | 1411                | 1415                |  -4                 | 1505                | 1525                | -20                 | EV                  | 3843                | N29906              | EWR                 | MHT                 |  39                 |  209                | 14                  | 15                  | 2013-06-05 14:00:00 | \n",
       "| 2013                | 11                  |  3                  | 2103                | 2059                |   4                 | 2340                | 2348                |  -8                 | UA                  |  475                | N425UA              | EWR                 | IAH                 | 186                 | 1400                | 20                  | 59                  | 2013-11-03 20:00:00 | \n",
       "| 2013                |  9                  | 28                  | 1910                | 1905                |   5                 | 2046                | 2058                | -12                 | 9E                  | 3433                | N903XJ              | JFK                 | PIT                 |  59                 |  340                | 19                  |  5                  | 2013-09-28 19:00:00 | \n",
       "| 2013                |  2                  | 14                  | 1520                | 1450                |  30                 | 1658                | 1640                |  18                 | MQ                  | 4403                | N806MQ              | JFK                 | RDU                 |  74                 |  427                | 14                  | 50                  | 2013-02-14 14:00:00 | \n",
       "| 2013                |  8                  | 11                  | 1807                | 1710                |  57                 | 2119                | 2015                |  64                 | AA                  |  181                | N336AA              | JFK                 | LAX                 | 343                 | 2475                | 17                  | 10                  | 2013-08-11 17:00:00 | \n",
       "| 2013                |  4                  | 10                  | 1825                | 1817                |   8                 | 2059                | 2045                |  14                 | DL                  |  926                | N338NB              | EWR                 | ATL                 | 116                 |  746                | 18                  | 17                  | 2013-04-10 18:00:00 | \n",
       "| 2013                |  6                  | 19                  |  747                |  755                |  -8                 |  931                |  955                | -24                 | MQ                  | 3478                | N720MQ              | LGA                 | DTW                 |  84                 |  502                |  7                  | 55                  | 2013-06-19 07:00:00 | \n",
       "| 2013                |  6                  | 20                  | 1457                | 1500                |  -3                 | 1615                | 1622                |  -7                 | US                  | 2179                | N721UW              | LGA                 | DCA                 |  47                 |  214                | 15                  |  0                  | 2013-06-20 15:00:00 | \n",
       "| 2013                |  7                  |  9                  |  829                |  830                |  -1                 | 1108                | 1125                | -17                 | UA                  | 1401                | N39416              | EWR                 | MIA                 | 139                 | 1085                |  8                  | 30                  | 2013-07-09 08:00:00 | \n",
       "| 2013                |  1                  | 29                  | 1804                | 1805                |  -1                 | 1935                | 1935                |   0                 | WN                  |  389                | N297WN              | LGA                 | MDW                 | 132                 |  725                | 18                  |  5                  | 2013-01-29 18:00:00 | \n",
       "\n",
       "\n"
      ],
      "text/plain": [
       "   year month day dep_time sched_dep_time dep_delay arr_time sched_arr_time\n",
       "1  2013 11     1  1004      951            13       1225     1207          \n",
       "2  2013 12    11  1750     1800           -10       2000     1935          \n",
       "3  2013  5    20   654      700            -6        844      906          \n",
       "4  2013  4     2   630      633            -3        739      745          \n",
       "5  2013  3    16   826      827            -1       1216     1216          \n",
       "6  2013  7    19  2219     2142            37       2333     2259          \n",
       "7  2013  1    11  1411     1420            -9       1602     1620          \n",
       "8  2013  6     5  1411     1415            -4       1505     1525          \n",
       "9  2013 11     3  2103     2059             4       2340     2348          \n",
       "10 2013  9    28  1910     1905             5       2046     2058          \n",
       "11 2013  2    14  1520     1450            30       1658     1640          \n",
       "12 2013  8    11  1807     1710            57       2119     2015          \n",
       "13 2013  4    10  1825     1817             8       2059     2045          \n",
       "14 2013  6    19   747      755            -8        931      955          \n",
       "15 2013  6    20  1457     1500            -3       1615     1622          \n",
       "16 2013  7     9   829      830            -1       1108     1125          \n",
       "17 2013  1    29  1804     1805            -1       1935     1935          \n",
       "   arr_delay carrier flight tailnum origin dest air_time distance hour minute\n",
       "1   18       UA       406   N446UA  EWR    DEN  225      1605      9   51    \n",
       "2   25       MQ      3486   N814MQ  LGA    BNA  153       764     18    0    \n",
       "3  -22       EV      4535   N12163  EWR    MSP  139      1008      7    0    \n",
       "4   -6       EV      4241   N14180  EWR    DCA   45       199      6   33    \n",
       "5    0       B6       403   N590JB  JFK    SJU  189      1598      8   27    \n",
       "6   34       EV      3832   N15973  EWR    DCA   40       199     21   42    \n",
       "7  -18       MQ      4588   N3AEMQ  LGA    MSP  150      1020     14   20    \n",
       "8  -20       EV      3843   N29906  EWR    MHT   39       209     14   15    \n",
       "9   -8       UA       475   N425UA  EWR    IAH  186      1400     20   59    \n",
       "10 -12       9E      3433   N903XJ  JFK    PIT   59       340     19    5    \n",
       "11  18       MQ      4403   N806MQ  JFK    RDU   74       427     14   50    \n",
       "12  64       AA       181   N336AA  JFK    LAX  343      2475     17   10    \n",
       "13  14       DL       926   N338NB  EWR    ATL  116       746     18   17    \n",
       "14 -24       MQ      3478   N720MQ  LGA    DTW   84       502      7   55    \n",
       "15  -7       US      2179   N721UW  LGA    DCA   47       214     15    0    \n",
       "16 -17       UA      1401   N39416  EWR    MIA  139      1085      8   30    \n",
       "17   0       WN       389   N297WN  LGA    MDW  132       725     18    5    \n",
       "   time_hour          \n",
       "1  2013-11-01 09:00:00\n",
       "2  2013-12-11 18:00:00\n",
       "3  2013-05-20 07:00:00\n",
       "4  2013-04-02 06:00:00\n",
       "5  2013-03-16 08:00:00\n",
       "6  2013-07-19 21:00:00\n",
       "7  2013-01-11 14:00:00\n",
       "8  2013-06-05 14:00:00\n",
       "9  2013-11-03 20:00:00\n",
       "10 2013-09-28 19:00:00\n",
       "11 2013-02-14 14:00:00\n",
       "12 2013-08-11 17:00:00\n",
       "13 2013-04-10 18:00:00\n",
       "14 2013-06-19 07:00:00\n",
       "15 2013-06-20 15:00:00\n",
       "16 2013-07-09 08:00:00\n",
       "17 2013-01-29 18:00:00"
      ]
     },
     "metadata": {},
     "output_type": "display_data"
    }
   ],
   "source": [
    "# .005% der Daten\n",
    "sample_frac(flights,0.00005) # Für Bootstrapping nutze replace=TRUE"
   ]
  },
  {
   "cell_type": "markdown",
   "metadata": {},
   "source": [
    "# Zusammenfassung\n",
    "\n",
    "Hoffentlich konntest du die Nutzung von `dplyr()` nachvollziehen und dir so viel Zeit sparen! Denke an `help()`, um weitere Informationen zu erhalten oder schaue in die [Dokumentation](https://cran.r-project.org/web/packages/dplyr/dplyr.pdf)."
   ]
  }
 ],
 "metadata": {
  "kernelspec": {
   "display_name": "R",
   "language": "R",
   "name": "ir"
  },
  "language_info": {
   "codemirror_mode": "r",
   "file_extension": ".r",
   "mimetype": "text/x-r-source",
   "name": "R",
   "pygments_lexer": "r",
   "version": "3.4.2"
  }
 },
 "nbformat": 4,
 "nbformat_minor": 1
}
