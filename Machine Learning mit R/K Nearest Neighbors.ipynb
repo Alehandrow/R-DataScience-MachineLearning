{
 "cells": [
  {
   "cell_type": "markdown",
   "metadata": {},
   "source": [
    "# K Nearest Neighbors\n",
    "\n",
    "Dieses Notebook dient als Code Referenz zur Video-Lektion über die \"K Nearest Neighbors\" (K Nächsten Nachbarn). Der Code wurde aus dem ISLR Buch adoptiert."
   ]
  },
  {
   "cell_type": "markdown",
   "metadata": {},
   "source": [
    "## Die Daten laden\n",
    "\n",
    "Wir werden das ISLR Package verwenden, um Daten zu erhalten. Du kannst es ggf. noch downloaden. Denke auf jeden Fall daran, die Library aufzurufen."
   ]
  },
  {
   "cell_type": "code",
   "execution_count": 1,
   "metadata": {
    "collapsed": true
   },
   "outputs": [],
   "source": [
    "# install.packages('ISLR')"
   ]
  },
  {
   "cell_type": "code",
   "execution_count": 2,
   "metadata": {
    "collapsed": true
   },
   "outputs": [],
   "source": [
    "library(ISLR)"
   ]
  },
  {
   "cell_type": "markdown",
   "metadata": {},
   "source": [
    "Wir werden den KNN Ansatz auf den \"Caravan\" Datensatz anwenden. Dieser ist Teil der ISLR Library. Dieser Datensatz schließt 85 Eigenschaften für insgesamt 8.522 Individuen ein. Sie geben demographische Daten an. Die Ergebnisvariable ist `Purchase`, was angibt, ob ein Individuum eine Versicherung für seinen Wohnwagen gekauft hat oder nicht. In diesem Datensatz haben nur 6% der Leute eine solche Versicherung gekauft.\n",
    "\n",
    "Schauen wir uns die Struktur an:"
   ]
  },
  {
   "cell_type": "code",
   "execution_count": 3,
   "metadata": {},
   "outputs": [
    {
     "name": "stdout",
     "output_type": "stream",
     "text": [
      "'data.frame':\t5822 obs. of  86 variables:\n",
      " $ MOSTYPE : num  33 37 37 9 40 23 39 33 33 11 ...\n",
      " $ MAANTHUI: num  1 1 1 1 1 1 2 1 1 2 ...\n",
      " $ MGEMOMV : num  3 2 2 3 4 2 3 2 2 3 ...\n",
      " $ MGEMLEEF: num  2 2 2 3 2 1 2 3 4 3 ...\n",
      " $ MOSHOOFD: num  8 8 8 3 10 5 9 8 8 3 ...\n",
      " $ MGODRK  : num  0 1 0 2 1 0 2 0 0 3 ...\n",
      " $ MGODPR  : num  5 4 4 3 4 5 2 7 1 5 ...\n",
      " $ MGODOV  : num  1 1 2 2 1 0 0 0 3 0 ...\n",
      " $ MGODGE  : num  3 4 4 4 4 5 5 2 6 2 ...\n",
      " $ MRELGE  : num  7 6 3 5 7 0 7 7 6 7 ...\n",
      " $ MRELSA  : num  0 2 2 2 1 6 2 2 0 0 ...\n",
      " $ MRELOV  : num  2 2 4 2 2 3 0 0 3 2 ...\n",
      " $ MFALLEEN: num  1 0 4 2 2 3 0 0 3 2 ...\n",
      " $ MFGEKIND: num  2 4 4 3 4 5 3 5 3 2 ...\n",
      " $ MFWEKIND: num  6 5 2 4 4 2 6 4 3 6 ...\n",
      " $ MOPLHOOG: num  1 0 0 3 5 0 0 0 0 0 ...\n",
      " $ MOPLMIDD: num  2 5 5 4 4 5 4 3 1 4 ...\n",
      " $ MOPLLAAG: num  7 4 4 2 0 4 5 6 8 5 ...\n",
      " $ MBERHOOG: num  1 0 0 4 0 2 0 2 1 2 ...\n",
      " $ MBERZELF: num  0 0 0 0 5 0 0 0 1 0 ...\n",
      " $ MBERBOER: num  1 0 0 0 4 0 0 0 0 0 ...\n",
      " $ MBERMIDD: num  2 5 7 3 0 4 4 2 1 3 ...\n",
      " $ MBERARBG: num  5 0 0 1 0 2 1 5 8 3 ...\n",
      " $ MBERARBO: num  2 4 2 2 0 2 5 2 1 3 ...\n",
      " $ MSKA    : num  1 0 0 3 9 2 0 2 1 1 ...\n",
      " $ MSKB1   : num  1 2 5 2 0 2 1 1 1 2 ...\n",
      " $ MSKB2   : num  2 3 0 1 0 2 4 2 0 1 ...\n",
      " $ MSKC    : num  6 5 4 4 0 4 5 5 8 4 ...\n",
      " $ MSKD    : num  1 0 0 0 0 2 0 2 1 2 ...\n",
      " $ MHHUUR  : num  1 2 7 5 4 9 6 0 9 0 ...\n",
      " $ MHKOOP  : num  8 7 2 4 5 0 3 9 0 9 ...\n",
      " $ MAUT1   : num  8 7 7 9 6 5 8 4 5 6 ...\n",
      " $ MAUT2   : num  0 1 0 0 2 3 0 4 2 1 ...\n",
      " $ MAUT0   : num  1 2 2 0 1 3 1 2 3 2 ...\n",
      " $ MZFONDS : num  8 6 9 7 5 9 9 6 7 6 ...\n",
      " $ MZPART  : num  1 3 0 2 4 0 0 3 2 3 ...\n",
      " $ MINKM30 : num  0 2 4 1 0 5 4 2 7 2 ...\n",
      " $ MINK3045: num  4 0 5 5 0 2 3 5 2 3 ...\n",
      " $ MINK4575: num  5 5 0 3 9 3 3 3 1 3 ...\n",
      " $ MINK7512: num  0 2 0 0 0 0 0 0 0 1 ...\n",
      " $ MINK123M: num  0 0 0 0 0 0 0 0 0 0 ...\n",
      " $ MINKGEM : num  4 5 3 4 6 3 3 3 2 4 ...\n",
      " $ MKOOPKLA: num  3 4 4 4 3 3 5 3 3 7 ...\n",
      " $ PWAPART : num  0 2 2 0 0 0 0 0 0 2 ...\n",
      " $ PWABEDR : num  0 0 0 0 0 0 0 0 0 0 ...\n",
      " $ PWALAND : num  0 0 0 0 0 0 0 0 0 0 ...\n",
      " $ PPERSAUT: num  6 0 6 6 0 6 6 0 5 0 ...\n",
      " $ PBESAUT : num  0 0 0 0 0 0 0 0 0 0 ...\n",
      " $ PMOTSCO : num  0 0 0 0 0 0 0 0 0 0 ...\n",
      " $ PVRAAUT : num  0 0 0 0 0 0 0 0 0 0 ...\n",
      " $ PAANHANG: num  0 0 0 0 0 0 0 0 0 0 ...\n",
      " $ PTRACTOR: num  0 0 0 0 0 0 0 0 0 0 ...\n",
      " $ PWERKT  : num  0 0 0 0 0 0 0 0 0 0 ...\n",
      " $ PBROM   : num  0 0 0 0 0 0 0 3 0 0 ...\n",
      " $ PLEVEN  : num  0 0 0 0 0 0 0 0 0 0 ...\n",
      " $ PPERSONG: num  0 0 0 0 0 0 0 0 0 0 ...\n",
      " $ PGEZONG : num  0 0 0 0 0 0 0 0 0 0 ...\n",
      " $ PWAOREG : num  0 0 0 0 0 0 0 0 0 0 ...\n",
      " $ PBRAND  : num  5 2 2 2 6 0 0 0 0 3 ...\n",
      " $ PZEILPL : num  0 0 0 0 0 0 0 0 0 0 ...\n",
      " $ PPLEZIER: num  0 0 0 0 0 0 0 0 0 0 ...\n",
      " $ PFIETS  : num  0 0 0 0 0 0 0 0 0 0 ...\n",
      " $ PINBOED : num  0 0 0 0 0 0 0 0 0 0 ...\n",
      " $ PBYSTAND: num  0 0 0 0 0 0 0 0 0 0 ...\n",
      " $ AWAPART : num  0 2 1 0 0 0 0 0 0 1 ...\n",
      " $ AWABEDR : num  0 0 0 0 0 0 0 0 0 0 ...\n",
      " $ AWALAND : num  0 0 0 0 0 0 0 0 0 0 ...\n",
      " $ APERSAUT: num  1 0 1 1 0 1 1 0 1 0 ...\n",
      " $ ABESAUT : num  0 0 0 0 0 0 0 0 0 0 ...\n",
      " $ AMOTSCO : num  0 0 0 0 0 0 0 0 0 0 ...\n",
      " $ AVRAAUT : num  0 0 0 0 0 0 0 0 0 0 ...\n",
      " $ AAANHANG: num  0 0 0 0 0 0 0 0 0 0 ...\n",
      " $ ATRACTOR: num  0 0 0 0 0 0 0 0 0 0 ...\n",
      " $ AWERKT  : num  0 0 0 0 0 0 0 0 0 0 ...\n",
      " $ ABROM   : num  0 0 0 0 0 0 0 1 0 0 ...\n",
      " $ ALEVEN  : num  0 0 0 0 0 0 0 0 0 0 ...\n",
      " $ APERSONG: num  0 0 0 0 0 0 0 0 0 0 ...\n",
      " $ AGEZONG : num  0 0 0 0 0 0 0 0 0 0 ...\n",
      " $ AWAOREG : num  0 0 0 0 0 0 0 0 0 0 ...\n",
      " $ ABRAND  : num  1 1 1 1 1 0 0 0 0 1 ...\n",
      " $ AZEILPL : num  0 0 0 0 0 0 0 0 0 0 ...\n",
      " $ APLEZIER: num  0 0 0 0 0 0 0 0 0 0 ...\n",
      " $ AFIETS  : num  0 0 0 0 0 0 0 0 0 0 ...\n",
      " $ AINBOED : num  0 0 0 0 0 0 0 0 0 0 ...\n",
      " $ ABYSTAND: num  0 0 0 0 0 0 0 0 0 0 ...\n",
      " $ Purchase: Factor w/ 2 levels \"No\",\"Yes\": 1 1 1 1 1 1 1 1 1 1 ...\n"
     ]
    }
   ],
   "source": [
    "str(Caravan)"
   ]
  },
  {
   "cell_type": "code",
   "execution_count": 4,
   "metadata": {},
   "outputs": [
    {
     "data": {
      "text/html": [
       "<dl class=dl-horizontal>\n",
       "\t<dt>No</dt>\n",
       "\t\t<dd>5474</dd>\n",
       "\t<dt>Yes</dt>\n",
       "\t\t<dd>348</dd>\n",
       "</dl>\n"
      ],
      "text/latex": [
       "\\begin{description*}\n",
       "\\item[No] 5474\n",
       "\\item[Yes] 348\n",
       "\\end{description*}\n"
      ],
      "text/markdown": [
       "No\n",
       ":   5474Yes\n",
       ":   348\n",
       "\n"
      ],
      "text/plain": [
       "  No  Yes \n",
       "5474  348 "
      ]
     },
     "metadata": {},
     "output_type": "display_data"
    }
   ],
   "source": [
    "summary(Caravan$Purchase)"
   ]
  },
  {
   "cell_type": "markdown",
   "metadata": {},
   "source": [
    "## Daten säubern\n",
    "\n",
    "Da wir diese Daten nur als einfache Beispiel verwenden werden wir uns nicht mit dem Thema des \"Feature Engineering\" befassen. Wir sollten nur überprüfen, ob es fehlende Werte gibt."
   ]
  },
  {
   "cell_type": "code",
   "execution_count": 5,
   "metadata": {},
   "outputs": [
    {
     "data": {
      "text/html": [
       "FALSE"
      ],
      "text/latex": [
       "FALSE"
      ],
      "text/markdown": [
       "FALSE"
      ],
      "text/plain": [
       "[1] FALSE"
      ]
     },
     "metadata": {},
     "output_type": "display_data"
    }
   ],
   "source": [
    "any(is.na(Caravan))"
   ]
  },
  {
   "cell_type": "markdown",
   "metadata": {},
   "source": [
    "Sieht so aus, als stünden wir bereits gut da. Fahren wir damit fort die Variablen zu standardisieren:"
   ]
  },
  {
   "cell_type": "markdown",
   "metadata": {},
   "source": [
    "## Variablen standardisieren\n",
    "\n",
    "Da der KNN Klassifizierer die Klasse eine Testbeobachtung dadurch identifiziert, dass er überprüft, welche Beobachtungen dieser am \"nächsten\" stehen, ist die Skala der Daten wichtig. Jede Variable mit großer Skale hätte einen viel größeren Einfluss auf den Abstand zwischen den Beobachtungen. Und dadurch auch auf den KNN Klassifizierer. Wir können uns beispielhaft die Varianz zweier Features anschauen:"
   ]
  },
  {
   "cell_type": "code",
   "execution_count": 6,
   "metadata": {},
   "outputs": [
    {
     "data": {
      "text/html": [
       "165.037847395189"
      ],
      "text/latex": [
       "165.037847395189"
      ],
      "text/markdown": [
       "165.037847395189"
      ],
      "text/plain": [
       "[1] 165.0378"
      ]
     },
     "metadata": {},
     "output_type": "display_data"
    }
   ],
   "source": [
    "var(Caravan[,1])"
   ]
  },
  {
   "cell_type": "code",
   "execution_count": 7,
   "metadata": {},
   "outputs": [
    {
     "data": {
      "text/html": [
       "0.164707781931954"
      ],
      "text/latex": [
       "0.164707781931954"
      ],
      "text/markdown": [
       "0.164707781931954"
      ],
      "text/plain": [
       "[1] 0.1647078"
      ]
     },
     "metadata": {},
     "output_type": "display_data"
    }
   ],
   "source": [
    "var(Caravan[,2])"
   ]
  },
  {
   "cell_type": "markdown",
   "metadata": {},
   "source": [
    "Ganz offensichtlich unterscheiden sich die Skalen wesentlich! Wir sollten alle X Variablen standardisieren und Y (Purchase) dabei außen vor lassen. Die `Purchase` Variable ist in Spalte 86 unseres Datensatzes. Wir sollten sie in eine neue Variable speichern, da die `knn()` Funktion sie als eigenes Argument benötigt."
   ]
  },
  {
   "cell_type": "code",
   "execution_count": 8,
   "metadata": {
    "collapsed": true
   },
   "outputs": [],
   "source": [
    "# Purchase Spalte in eigener Variable speichern\n",
    "purchase <- Caravan[,86]\n",
    "\n",
    "# Den Datensatz mit scale() standardisieren\n",
    "standardized.Caravan <- scale(Caravan[,-86])"
   ]
  },
  {
   "cell_type": "markdown",
   "metadata": {},
   "source": [
    "Wir können erneut die Varianz überprüfen:"
   ]
  },
  {
   "cell_type": "code",
   "execution_count": 9,
   "metadata": {},
   "outputs": [
    {
     "data": {
      "text/html": [
       "1"
      ],
      "text/latex": [
       "1"
      ],
      "text/markdown": [
       "1"
      ],
      "text/plain": [
       "[1] 1"
      ]
     },
     "metadata": {},
     "output_type": "display_data"
    }
   ],
   "source": [
    "var(standardized.Caravan[,1])"
   ]
  },
  {
   "cell_type": "code",
   "execution_count": 10,
   "metadata": {},
   "outputs": [
    {
     "data": {
      "text/html": [
       "1"
      ],
      "text/latex": [
       "1"
      ],
      "text/markdown": [
       "1"
      ],
      "text/plain": [
       "[1] 1"
      ]
     },
     "metadata": {},
     "output_type": "display_data"
    }
   ],
   "source": [
    "var(standardized.Caravan[,2])"
   ]
  },
  {
   "cell_type": "markdown",
   "metadata": {},
   "source": [
    "Wir sehen, dass alle unabhängigen Variablen (X's) jetzt einen Durchschnitt von 1 und eine Standardabweichung von 0 haben. Damit können wir gut weiterarbeiten. Wir sollten unsere Daten jetzt in Trainings- und Testdaten aufteilen. Wir teilen dazu einfach die ersten 1000 Zeilen als Testdaten ab:"
   ]
  },
  {
   "cell_type": "code",
   "execution_count": 11,
   "metadata": {
    "collapsed": true
   },
   "outputs": [],
   "source": [
    "test.index <- 1:1000\n",
    "test.data <- standardized.Caravan[test.index,]\n",
    "test.purchase <- purchase[test.index]"
   ]
  },
  {
   "cell_type": "code",
   "execution_count": 12,
   "metadata": {
    "collapsed": true
   },
   "outputs": [],
   "source": [
    "# Rest der Daten zum Training\n",
    "train.data <- standardized.Caravan[-test.index,]\n",
    "train.purchase <- purchase[-test.index]"
   ]
  },
  {
   "cell_type": "markdown",
   "metadata": {},
   "source": [
    "## KNN nutzen\n",
    "Denke daran, dass wir ein Modell erstellen wollen, um vorherzusagen, ob jemand eine Versicherung kauft oder nicht. Wir werden die `knn()` Funktion verwenden, um dies zu tun. Und wir werden uns auf 4 der Argumente konzentrieren, die wir festlegen müssen.\n",
    "\n",
    "1. Das erste Argument ist der Dataframe, der die Trainings enthält. \n",
    "2. Danach folgt der Dataframe, der die Testdaten enthält.\n",
    "3. Das dritte Argument ist die train.purchase Spalte, die wir vorher gespeichert haben\n",
    "4. Zuletzt definieren wir k, die Anzahl an Nachbarn.\n",
    "\n",
    "Beginnen wir mit k=1. `knn()` erzeugt einen Vektor an vorhergesagten Y's."
   ]
  },
  {
   "cell_type": "code",
   "execution_count": 13,
   "metadata": {
    "collapsed": true
   },
   "outputs": [],
   "source": [
    "library(class)"
   ]
  },
  {
   "cell_type": "code",
   "execution_count": 14,
   "metadata": {},
   "outputs": [
    {
     "data": {
      "text/html": [
       "<ol class=list-inline>\n",
       "\t<li>No</li>\n",
       "\t<li>No</li>\n",
       "\t<li>No</li>\n",
       "\t<li>No</li>\n",
       "\t<li>No</li>\n",
       "\t<li>No</li>\n",
       "</ol>\n"
      ],
      "text/latex": [
       "\\begin{enumerate*}\n",
       "\\item No\n",
       "\\item No\n",
       "\\item No\n",
       "\\item No\n",
       "\\item No\n",
       "\\item No\n",
       "\\end{enumerate*}\n"
      ],
      "text/markdown": [
       "1. No\n",
       "2. No\n",
       "3. No\n",
       "4. No\n",
       "5. No\n",
       "6. No\n",
       "\n",
       "\n"
      ],
      "text/plain": [
       "[1] No No No No No No\n",
       "Levels: No Yes"
      ]
     },
     "metadata": {},
     "output_type": "display_data"
    }
   ],
   "source": [
    "set.seed(101)\n",
    "predicted.purchase <- knn(train.data,test.data,train.purchase,k=1)\n",
    "head(predicted.purchase)"
   ]
  },
  {
   "cell_type": "markdown",
   "metadata": {},
   "source": [
    "Jetzt sollten wir das Modell auswerten, das wir trainiert haben und unsere Fehleinteilung anschauen."
   ]
  },
  {
   "cell_type": "code",
   "execution_count": 15,
   "metadata": {},
   "outputs": [
    {
     "data": {
      "text/html": [
       "0.116"
      ],
      "text/latex": [
       "0.116"
      ],
      "text/markdown": [
       "0.116"
      ],
      "text/plain": [
       "[1] 0.116"
      ]
     },
     "metadata": {},
     "output_type": "display_data"
    }
   ],
   "source": [
    "mean(test.purchase != predicted.purchase)"
   ]
  },
  {
   "cell_type": "markdown",
   "metadata": {},
   "source": [
    "## Einen k Wert wählen\n",
    "\n",
    "Schauen wir uns an, was für einen anderen k-Wert passiert:"
   ]
  },
  {
   "cell_type": "code",
   "execution_count": 16,
   "metadata": {},
   "outputs": [
    {
     "data": {
      "text/html": [
       "0.073"
      ],
      "text/latex": [
       "0.073"
      ],
      "text/markdown": [
       "0.073"
      ],
      "text/plain": [
       "[1] 0.073"
      ]
     },
     "metadata": {},
     "output_type": "display_data"
    }
   ],
   "source": [
    "predicted.purchase <- knn(train.data,test.data,train.purchase,k=3)\n",
    "mean(test.purchase != predicted.purchase)"
   ]
  },
  {
   "cell_type": "markdown",
   "metadata": {},
   "source": [
    "Interessant! Unsere Fehlerrate ist gesunken. Was passiert bei k=5?"
   ]
  },
  {
   "cell_type": "code",
   "execution_count": 17,
   "metadata": {},
   "outputs": [
    {
     "data": {
      "text/html": [
       "0.066"
      ],
      "text/latex": [
       "0.066"
      ],
      "text/markdown": [
       "0.066"
      ],
      "text/plain": [
       "[1] 0.066"
      ]
     },
     "metadata": {},
     "output_type": "display_data"
    }
   ],
   "source": [
    "predicted.purchase <- knn(train.data,test.data,train.purchase,k=5)\n",
    "mean(test.purchase != predicted.purchase)"
   ]
  },
  {
   "cell_type": "markdown",
   "metadata": {},
   "source": [
    "Sollten wir hier wirklich manuell auf die Suche nach einem k-Wert gehen? Nein! Wir haben Computer und können den Prozess automatisieren. Dazu können wir eine for-Schleife verwenden.\n",
    "\n",
    "Stellen wir uns vor wir wollen k von 1 bis 100 testen. Händisch müssten wir 100 x 3 Zeilen schreiben. Mit einer Schleife brauchen wir nur 4 Zeilen."
   ]
  },
  {
   "cell_type": "code",
   "execution_count": 18,
   "metadata": {
    "collapsed": true
   },
   "outputs": [],
   "source": [
    "predicted.purchase = NULL\n",
    "error.rate = NULL\n",
    "\n",
    "for(i in 1:20){\n",
    "    set.seed(101)\n",
    "    predicted.purchase = knn(train.data,test.data,train.purchase,k=i)\n",
    "    error.rate[i] = mean(test.purchase != predicted.purchase)\n",
    "}"
   ]
  },
  {
   "cell_type": "code",
   "execution_count": 19,
   "metadata": {},
   "outputs": [
    {
     "name": "stdout",
     "output_type": "stream",
     "text": [
      " [1] 0.116 0.107 0.074 0.070 0.066 0.064 0.062 0.061 0.058 0.058 0.059 0.058\n",
      "[13] 0.059 0.059 0.059 0.059 0.059 0.059 0.059 0.059\n"
     ]
    }
   ],
   "source": [
    "print(error.rate)"
   ]
  },
  {
   "cell_type": "markdown",
   "metadata": {},
   "source": [
    "## Elbow-Methode\n",
    "Wir können die verschiedenen Errorraten für die k-Werte plotten. Wir sollten einen \"Elbow\" (dt. Ellbogen) sehen, der uns anzeigt, dass wir keine richtige Verbesserung mehr erreichen, indem wir weitere k's hinzufügen. Das ist ein guter Cut-off Punkt:"
   ]
  },
  {
   "cell_type": "code",
   "execution_count": 20,
   "metadata": {
    "collapsed": true
   },
   "outputs": [],
   "source": [
    "library(ggplot2)"
   ]
  },
  {
   "cell_type": "code",
   "execution_count": 21,
   "metadata": {
    "collapsed": true
   },
   "outputs": [],
   "source": [
    "k.values <- 1:20"
   ]
  },
  {
   "cell_type": "code",
   "execution_count": 22,
   "metadata": {
    "collapsed": true
   },
   "outputs": [],
   "source": [
    "error.df <- data.frame(error.rate,k.values)"
   ]
  },
  {
   "cell_type": "code",
   "execution_count": 23,
   "metadata": {},
   "outputs": [
    {
     "data": {
      "text/html": [
       "<table>\n",
       "<thead><tr><th scope=col>error.rate</th><th scope=col>k.values</th></tr></thead>\n",
       "<tbody>\n",
       "\t<tr><td>0.116</td><td> 1   </td></tr>\n",
       "\t<tr><td>0.107</td><td> 2   </td></tr>\n",
       "\t<tr><td>0.074</td><td> 3   </td></tr>\n",
       "\t<tr><td>0.070</td><td> 4   </td></tr>\n",
       "\t<tr><td>0.066</td><td> 5   </td></tr>\n",
       "\t<tr><td>0.064</td><td> 6   </td></tr>\n",
       "\t<tr><td>0.062</td><td> 7   </td></tr>\n",
       "\t<tr><td>0.061</td><td> 8   </td></tr>\n",
       "\t<tr><td>0.058</td><td> 9   </td></tr>\n",
       "\t<tr><td>0.058</td><td>10   </td></tr>\n",
       "\t<tr><td>0.059</td><td>11   </td></tr>\n",
       "\t<tr><td>0.058</td><td>12   </td></tr>\n",
       "\t<tr><td>0.059</td><td>13   </td></tr>\n",
       "\t<tr><td>0.059</td><td>14   </td></tr>\n",
       "\t<tr><td>0.059</td><td>15   </td></tr>\n",
       "\t<tr><td>0.059</td><td>16   </td></tr>\n",
       "\t<tr><td>0.059</td><td>17   </td></tr>\n",
       "\t<tr><td>0.059</td><td>18   </td></tr>\n",
       "\t<tr><td>0.059</td><td>19   </td></tr>\n",
       "\t<tr><td>0.059</td><td>20   </td></tr>\n",
       "</tbody>\n",
       "</table>\n"
      ],
      "text/latex": [
       "\\begin{tabular}{r|ll}\n",
       " error.rate & k.values\\\\\n",
       "\\hline\n",
       "\t 0.116 &  1   \\\\\n",
       "\t 0.107 &  2   \\\\\n",
       "\t 0.074 &  3   \\\\\n",
       "\t 0.070 &  4   \\\\\n",
       "\t 0.066 &  5   \\\\\n",
       "\t 0.064 &  6   \\\\\n",
       "\t 0.062 &  7   \\\\\n",
       "\t 0.061 &  8   \\\\\n",
       "\t 0.058 &  9   \\\\\n",
       "\t 0.058 & 10   \\\\\n",
       "\t 0.059 & 11   \\\\\n",
       "\t 0.058 & 12   \\\\\n",
       "\t 0.059 & 13   \\\\\n",
       "\t 0.059 & 14   \\\\\n",
       "\t 0.059 & 15   \\\\\n",
       "\t 0.059 & 16   \\\\\n",
       "\t 0.059 & 17   \\\\\n",
       "\t 0.059 & 18   \\\\\n",
       "\t 0.059 & 19   \\\\\n",
       "\t 0.059 & 20   \\\\\n",
       "\\end{tabular}\n"
      ],
      "text/markdown": [
       "\n",
       "error.rate | k.values | \n",
       "|---|---|---|---|---|---|---|---|---|---|---|---|---|---|---|---|---|---|---|---|\n",
       "| 0.116 |  1    | \n",
       "| 0.107 |  2    | \n",
       "| 0.074 |  3    | \n",
       "| 0.070 |  4    | \n",
       "| 0.066 |  5    | \n",
       "| 0.064 |  6    | \n",
       "| 0.062 |  7    | \n",
       "| 0.061 |  8    | \n",
       "| 0.058 |  9    | \n",
       "| 0.058 | 10    | \n",
       "| 0.059 | 11    | \n",
       "| 0.058 | 12    | \n",
       "| 0.059 | 13    | \n",
       "| 0.059 | 14    | \n",
       "| 0.059 | 15    | \n",
       "| 0.059 | 16    | \n",
       "| 0.059 | 17    | \n",
       "| 0.059 | 18    | \n",
       "| 0.059 | 19    | \n",
       "| 0.059 | 20    | \n",
       "\n",
       "\n"
      ],
      "text/plain": [
       "   error.rate k.values\n",
       "1  0.116       1      \n",
       "2  0.107       2      \n",
       "3  0.074       3      \n",
       "4  0.070       4      \n",
       "5  0.066       5      \n",
       "6  0.064       6      \n",
       "7  0.062       7      \n",
       "8  0.061       8      \n",
       "9  0.058       9      \n",
       "10 0.058      10      \n",
       "11 0.059      11      \n",
       "12 0.058      12      \n",
       "13 0.059      13      \n",
       "14 0.059      14      \n",
       "15 0.059      15      \n",
       "16 0.059      16      \n",
       "17 0.059      17      \n",
       "18 0.059      18      \n",
       "19 0.059      19      \n",
       "20 0.059      20      "
      ]
     },
     "metadata": {},
     "output_type": "display_data"
    }
   ],
   "source": [
    "error.df"
   ]
  },
  {
   "cell_type": "code",
   "execution_count": 24,
   "metadata": {},
   "outputs": [
    {
     "data": {},
     "metadata": {},
     "output_type": "display_data"
    },
    {
     "data": {
      "image/png": "[encoded data removed]",
      "text/plain": [
       "plot without title"
      ]
     },
     "metadata": {},
     "output_type": "display_data"
    }
   ],
   "source": [
    "ggplot(error.df,aes(x=k.values,y=error.rate)) + geom_point()+ geom_line(lty=\"dotted\",color='red')"
   ]
  },
  {
   "cell_type": "markdown",
   "metadata": {},
   "source": [
    "Hier sehen wir sehr schön, dass wir für k>9 keine Verbesserung mehr erhalten. Wir können diesen Wert (k=9) also für unser Modell festlegen.\n",
    "\n",
    "# Gut gemacht!"
   ]
  }
 ],
 "metadata": {
  "kernelspec": {
   "display_name": "R",
   "language": "R",
   "name": "ir"
  },
  "language_info": {
   "codemirror_mode": "r",
   "file_extension": ".r",
   "mimetype": "text/x-r-source",
   "name": "R",
   "pygments_lexer": "r",
   "version": "3.4.2"
  }
 },
 "nbformat": 4,
 "nbformat_minor": 2
}
